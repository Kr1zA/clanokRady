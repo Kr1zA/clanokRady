{
 "cells": [
  {
   "cell_type": "code",
   "execution_count": 1,
   "metadata": {
    "scrolled": true
   },
   "outputs": [
    {
     "name": "stdout",
     "output_type": "stream",
     "text": [
      "[name: \"/device:CPU:0\"\n",
      "device_type: \"CPU\"\n",
      "memory_limit: 268435456\n",
      "locality {\n",
      "}\n",
      "incarnation: 10143531145115711531\n",
      ", name: \"/device:XLA_CPU:0\"\n",
      "device_type: \"XLA_CPU\"\n",
      "memory_limit: 17179869184\n",
      "locality {\n",
      "}\n",
      "incarnation: 6155887329342937518\n",
      "physical_device_desc: \"device: XLA_CPU device\"\n",
      ", name: \"/device:GPU:0\"\n",
      "device_type: \"GPU\"\n",
      "memory_limit: 7871181620\n",
      "locality {\n",
      "  bus_id: 2\n",
      "  numa_node: 1\n",
      "  links {\n",
      "  }\n",
      "}\n",
      "incarnation: 9187330295774103686\n",
      "physical_device_desc: \"device: 0, name: GeForce GTX 1080, pci bus id: 0000:82:00.0, compute capability: 6.1\"\n",
      ", name: \"/device:XLA_GPU:0\"\n",
      "device_type: \"XLA_GPU\"\n",
      "memory_limit: 17179869184\n",
      "locality {\n",
      "}\n",
      "incarnation: 5928793501108227124\n",
      "physical_device_desc: \"device: XLA_GPU device\"\n",
      "]\n"
     ]
    }
   ],
   "source": [
    "import os\n",
    "os.environ[\"CUDA_VISIBLE_DEVICES\"] = \"0\"\n",
    "from tensorflow.python.client import device_lib\n",
    "\n",
    "print(device_lib.list_local_devices())"
   ]
  },
  {
   "cell_type": "code",
   "execution_count": 2,
   "metadata": {},
   "outputs": [],
   "source": [
    "import numpy as np\n",
    "from tensorflow.keras.models import Sequential\n",
    "from tensorflow.keras.layers import LSTM\n",
    "from tensorflow.keras.layers import Dense\n",
    "import matplotlib.pyplot as plt\n",
    "import numpy as np"
   ]
  },
  {
   "cell_type": "code",
   "execution_count": 3,
   "metadata": {},
   "outputs": [],
   "source": [
    "# convert an array of values into a dataset matrix\n",
    "def create_dataset(dataset, look_back=1):\n",
    "    dataX, dataY = [], []\n",
    "    for i in range(len(dataset) - look_back - 1):\n",
    "        a = dataset[i : (i + look_back), 0]\n",
    "        dataX.append(a)\n",
    "        dataY.append(dataset[i + look_back, 0])\n",
    "    return np.array(dataX), np.array(dataY)"
   ]
  },
  {
   "cell_type": "code",
   "execution_count": 4,
   "metadata": {},
   "outputs": [
    {
     "name": "stdout",
     "output_type": "stream",
     "text": [
      "X.shape = (3122, 20, 1)\n",
      "y.shape = (3122,)\n"
     ]
    }
   ],
   "source": [
    "import numpy as np\n",
    "\n",
    "\n",
    "def create_data(dataset, start_index, end_index, history_size, target_size):\n",
    "    data = []\n",
    "    labels = []\n",
    "\n",
    "    start_index = start_index + history_size\n",
    "    if end_index is None:\n",
    "        end_index = len(dataset) - target_size\n",
    "\n",
    "    for i in range(start_index, end_index):\n",
    "        indices = range(i - history_size, i)\n",
    "        # Reshape data from (history_size,) to (history_size, 1)\n",
    "        data.append(np.reshape(dataset[indices], (history_size, 1)))\n",
    "        labels.append(dataset[i + target_size])\n",
    "    return np.array(data), np.array(labels)"
   ]
  },
  {
   "cell_type": "code",
   "execution_count": 5,
   "metadata": {},
   "outputs": [],
   "source": [
    "X.shape = (3122, 20, 1)\n",
    "y.shape = (3122,)"
   ]
  },
  {
   "cell_type": "code",
   "execution_count": 6,
   "metadata": {},
   "outputs": [
    {
     "name": "stdout",
     "output_type": "stream",
     "text": [
      "WARNING:tensorflow:From /home/richard_stana/.conda/envs/testtf15/lib/python3.6/site-packages/tensorflow_core/python/ops/resource_variable_ops.py:1630: calling BaseResourceVariable.__init__ (from tensorflow.python.ops.resource_variable_ops) with constraint is deprecated and will be removed in a future version.\n",
      "Instructions for updating:\n",
      "If using Keras pass *_constraint arguments to layers.\n",
      "WARNING:tensorflow:From /home/richard_stana/.conda/envs/testtf15/lib/python3.6/site-packages/tensorflow_core/python/ops/math_grad.py:1424: where (from tensorflow.python.ops.array_ops) is deprecated and will be removed in a future version.\n",
      "Instructions for updating:\n",
      "Use tf.where in 2.0, which has the same broadcast rule as np.where\n",
      "Train on 3122 samples\n",
      "Epoch 1/20\n",
      "3122/3122 [==============================] - 5s 2ms/sample - loss: 0.5557\n",
      "Epoch 2/20\n",
      "3122/3122 [==============================] - 3s 940us/sample - loss: 0.1825\n",
      "Epoch 3/20\n",
      "3122/3122 [==============================] - 3s 952us/sample - loss: 0.0277\n",
      "Epoch 4/20\n",
      "3122/3122 [==============================] - 3s 942us/sample - loss: 0.0100\n",
      "Epoch 5/20\n",
      "3122/3122 [==============================] - 3s 962us/sample - loss: 0.0052\n",
      "Epoch 6/20\n",
      "3122/3122 [==============================] - 3s 981us/sample - loss: 0.0026\n",
      "Epoch 7/20\n",
      "3122/3122 [==============================] - 3s 983us/sample - loss: 0.0014\n",
      "Epoch 8/20\n",
      "3122/3122 [==============================] - 3s 961us/sample - loss: 9.0987e-04\n",
      "Epoch 9/20\n",
      "3122/3122 [==============================] - 3s 971us/sample - loss: 6.4898e-04\n",
      "Epoch 10/20\n",
      "3122/3122 [==============================] - 3s 956us/sample - loss: 5.0704e-04\n",
      "Epoch 11/20\n",
      "3122/3122 [==============================] - 3s 962us/sample - loss: 4.0255e-04\n",
      "Epoch 12/20\n",
      "3122/3122 [==============================] - 3s 984us/sample - loss: 3.2400e-04\n",
      "Epoch 13/20\n",
      "3122/3122 [==============================] - 3s 951us/sample - loss: 2.6285e-04\n",
      "Epoch 14/20\n",
      "3122/3122 [==============================] - 3s 967us/sample - loss: 2.1932e-04\n",
      "Epoch 15/20\n",
      "3122/3122 [==============================] - 3s 970us/sample - loss: 1.8537e-04\n",
      "Epoch 16/20\n",
      "3122/3122 [==============================] - 3s 966us/sample - loss: 1.6192e-04\n",
      "Epoch 17/20\n",
      "3122/3122 [==============================] - 3s 980us/sample - loss: 1.3926e-04\n",
      "Epoch 18/20\n",
      "3122/3122 [==============================] - 3s 1ms/sample - loss: 1.2346e-04\n",
      "Epoch 19/20\n",
      "3122/3122 [==============================] - 3s 975us/sample - loss: 1.1089e-04\n",
      "Epoch 20/20\n",
      "3122/3122 [==============================] - 3s 998us/sample - loss: 9.5686e-05\n"
     ]
    },
    {
     "data": {
      "image/png": "[encoded data removed]",
      "text/plain": [
       "<Figure size 432x288 with 1 Axes>"
      ]
     },
     "metadata": {
      "needs_background": "light"
     },
     "output_type": "display_data"
    }
   ],
   "source": [
    "history = model.fit(X, y, epochs=20, verbose=1)\n",
    "plt.plot(history.history['loss'], label=\"loss\")\n",
    "plt.legend(loc=\"upper right\")\n",
    "plt.show()"
   ]
  },
  {
   "cell_type": "code",
   "execution_count": 7,
   "metadata": {},
   "outputs": [
    {
     "data": {
      "image/png": "[encoded data removed]",
      "text/plain": [
       "<Figure size 432x288 with 1 Axes>"
      ]
     },
     "metadata": {
      "needs_background": "light"
     },
     "output_type": "display_data"
    }
   ],
   "source": [
    "test_xaxis = np.arange(0, 10*np.pi, 0.1)\n",
    "def test_function(x):\n",
    "    return np.cos(x)\n",
    "calc_y = test_function(test_xaxis)\n",
    "# start with initial n values, rest will be predicted\n",
    "test_y = calc_y[:n_steps]\n",
    "results = []\n",
    "for i in range( len(test_xaxis) - n_steps ):\n",
    "    net_input = test_y[i : i + n_steps]\n",
    "    net_input = net_input.reshape((1, n_steps, n_features))\n",
    "    y = model.predict(net_input, verbose=0)\n",
    "    test_y = np.append(test_y, y)\n",
    "plt.plot(test_xaxis[n_steps:], test_y[n_steps:], label=\"predicitons\")\n",
    "plt.plot(test_xaxis, calc_y, label=\"ground truth\")\n",
    "plt.plot(test_xaxis[:n_steps], test_y[:n_steps], label=\"initial sequence\", color=\"red\")\n",
    "plt.legend(loc='upper left')\n",
    "plt.ylim(-2, 2)\n",
    "plt.show()"
   ]
  },
  {
   "cell_type": "code",
   "execution_count": null,
   "metadata": {},
   "outputs": [],
   "source": []
  },
  {
   "cell_type": "code",
   "execution_count": null,
   "metadata": {},
   "outputs": [],
   "source": []
  },
  {
   "cell_type": "code",
   "execution_count": null,
   "metadata": {},
   "outputs": [],
   "source": []
  },
  {
   "cell_type": "code",
   "execution_count": 3,
   "metadata": {
    "scrolled": true
   },
   "outputs": [
    {
     "data": {
      "application/javascript": [
       "\n",
       "            setTimeout(function() {\n",
       "                var nbb_cell_id = 3;\n",
       "                var nbb_formatted_code = \"# convert an array of values into a dataset matrix\\ndef create_dataset(dataset, look_back=1):\\n    dataX, dataY = [], []\\n    for i in range(len(dataset) - look_back - 1):\\n        a = dataset[i : (i + look_back), 0]\\n        dataX.append(a)\\n        dataY.append(dataset[i + look_back, 0])\\n    return np.array(dataX), np.array(dataY)\";\n",
       "                var nbb_cells = Jupyter.notebook.get_cells();\n",
       "                for (var i = 0; i < nbb_cells.length; ++i) {\n",
       "                    if (nbb_cells[i].input_prompt_number == nbb_cell_id) {\n",
       "                        nbb_cells[i].set_text(nbb_formatted_code);\n",
       "                        break;\n",
       "                    }\n",
       "                }\n",
       "            }, 500);\n",
       "            "
      ],
      "text/plain": [
       "<IPython.core.display.Javascript object>"
      ]
     },
     "metadata": {},
     "output_type": "display_data"
    }
   ],
   "source": [
    "# convert an array of values into a dataset matrix\n",
    "def create_dataset(dataset, look_back=1):\n",
    "    dataX, dataY = [], []\n",
    "    for i in range(len(dataset) - look_back - 1):\n",
    "        a = dataset[i : (i + look_back), 0]\n",
    "        dataX.append(a)\n",
    "        dataY.append(dataset[i + look_back, 0])\n",
    "    return np.array(dataX), np.array(dataY)"
   ]
  },
  {
   "cell_type": "code",
   "execution_count": 4,
   "metadata": {
    "scrolled": true
   },
   "outputs": [
    {
     "data": {
      "application/javascript": [
       "\n",
       "            setTimeout(function() {\n",
       "                var nbb_cell_id = 4;\n",
       "                var nbb_formatted_code = \"import numpy as np\\n\\n\\ndef create_data(dataset, start_index, end_index, history_size, target_size):\\n    data = []\\n    labels = []\\n\\n    start_index = start_index + history_size\\n    if end_index is None:\\n        end_index = len(dataset) - target_size\\n\\n    for i in range(start_index, end_index):\\n        indices = range(i - history_size, i)\\n        # Reshape data from (history_size,) to (history_size, 1)\\n        data.append(np.reshape(dataset[indices], (history_size, 1)))\\n        labels.append(dataset[i + target_size])\\n    return np.array(data), np.array(labels)\";\n",
       "                var nbb_cells = Jupyter.notebook.get_cells();\n",
       "                for (var i = 0; i < nbb_cells.length; ++i) {\n",
       "                    if (nbb_cells[i].input_prompt_number == nbb_cell_id) {\n",
       "                        nbb_cells[i].set_text(nbb_formatted_code);\n",
       "                        break;\n",
       "                    }\n",
       "                }\n",
       "            }, 500);\n",
       "            "
      ],
      "text/plain": [
       "<IPython.core.display.Javascript object>"
      ]
     },
     "metadata": {},
     "output_type": "display_data"
    }
   ],
   "source": [
    "import numpy as np\n",
    "\n",
    "\n",
    "def create_data(dataset, start_index, end_index, history_size, target_size):\n",
    "    data = []\n",
    "    labels = []\n",
    "\n",
    "    start_index = start_index + history_size\n",
    "    if end_index is None:\n",
    "        end_index = len(dataset) - target_size\n",
    "\n",
    "    for i in range(start_index, end_index):\n",
    "        indices = range(i - history_size, i)\n",
    "        # Reshape data from (history_size,) to (history_size, 1)\n",
    "        data.append(np.reshape(dataset[indices], (history_size, 1)))\n",
    "        labels.append(dataset[i + target_size])\n",
    "    return np.array(data), np.array(labels)"
   ]
  }
 ],
 "metadata": {
  "kernelspec": {
   "display_name": "testtf15",
   "language": "python",
   "name": "testtf15"
  },
  "language_info": {
   "codemirror_mode": {
    "name": "ipython",
    "version": 3
   },
   "file_extension": ".py",
   "mimetype": "text/x-python",
   "name": "python",
   "nbconvert_exporter": "python",
   "pygments_lexer": "ipython3",
   "version": "3.6.10"
  }
 },
 "nbformat": 4,
 "nbformat_minor": 4
}
