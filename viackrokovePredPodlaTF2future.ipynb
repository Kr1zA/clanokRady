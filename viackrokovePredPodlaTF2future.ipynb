{
 "cells": [
  {
   "cell_type": "code",
   "execution_count": 1,
   "metadata": {},
   "outputs": [
    {
     "name": "stdout",
     "output_type": "stream",
     "text": [
      "[name: \"/device:CPU:0\"\n",
      "device_type: \"CPU\"\n",
      "memory_limit: 268435456\n",
      "locality {\n",
      "}\n",
      "incarnation: 11499330319457711075\n",
      ", name: \"/device:XLA_CPU:0\"\n",
      "device_type: \"XLA_CPU\"\n",
      "memory_limit: 17179869184\n",
      "locality {\n",
      "}\n",
      "incarnation: 3773146268730385567\n",
      "physical_device_desc: \"device: XLA_CPU device\"\n",
      ", name: \"/device:XLA_GPU:0\"\n",
      "device_type: \"XLA_GPU\"\n",
      "memory_limit: 17179869184\n",
      "locality {\n",
      "}\n",
      "incarnation: 6085567027121119798\n",
      "physical_device_desc: \"device: XLA_GPU device\"\n",
      ", name: \"/device:GPU:0\"\n",
      "device_type: \"GPU\"\n",
      "memory_limit: 6504995904\n",
      "locality {\n",
      "  bus_id: 2\n",
      "  numa_node: 1\n",
      "  links {\n",
      "  }\n",
      "}\n",
      "incarnation: 10435110862049709616\n",
      "physical_device_desc: \"device: 0, name: GeForce GTX 1080, pci bus id: 0000:83:00.0, compute capability: 6.1\"\n",
      "]\n"
     ]
    }
   ],
   "source": [
    "import predspracovanie\n",
    "\n",
    "import os\n",
    "import datetime\n",
    "\n",
    "import numpy as np\n",
    "import pandas as pd\n",
    "import seaborn as sns\n",
    "import tensorflow as tf\n",
    "from tensorflow import keras\n",
    "from tensorflow.keras import layers\n",
    "\n",
    "import pickle\n",
    "\n",
    "import copy\n",
    "\n",
    "import tensorflow.keras.backend as backend\n",
    "\n",
    "from tensorflow.keras.regularizers import l2\n",
    "\n",
    "import os\n",
    "\n",
    "# os.environ[\"CUDA_DEVICE_ORDER\"] = \"GPU\"  # see issue #152\n",
    "os.environ[\"CUDA_VISIBLE_DEVICES\"] = \"2\"\n",
    "\n",
    "from tensorflow.python.client import device_lib\n",
    "\n",
    "print(device_lib.list_local_devices())\n",
    "\n",
    "import os\n",
    "import datetime\n",
    "\n",
    "import wandb\n",
    "from wandb.keras import WandbCallback\n"
   ]
  },
  {
   "cell_type": "code",
   "execution_count": 2,
   "metadata": {},
   "outputs": [],
   "source": [
    "items = [\n",
    "    '30m-item56', \n",
    "         '30m-item57', '30m-item58', '30m-item59', '30m-item61', '30m-item62', '30m-item66', '30m-item67', '30m-item69', '30m-item71', '30m-item72', '30m-item73', '30m-item75',\n",
    "    '30m-item76', \n",
    "    '30m-item77'\n",
    "        ]\n",
    "df = pickle.load( open( \"/home/richard_stana/programing/clanok/data/picklnute/30min.p\", \"rb\" ) )\n",
    "# df = predspracovanie.make_dataset(df)\n",
    "df = df.drop([\"30m-item60\", \"30m-item63\", \"30m-item64\", \"30m-item65\", \"30m-item68\", \"30m-item70\", \"30m-item74\"], axis=1)\n",
    "# df = df[actual_item]\n",
    "# predspracovanie.draw(df, datum_alebo_cisla=\"cislo\", y1_orig=df[actual_item])"
   ]
  },
  {
   "cell_type": "code",
   "execution_count": 3,
   "metadata": {},
   "outputs": [],
   "source": [
    "# train_df = df[76:44000]\n",
    "# val_df = df[44001:46655]\n",
    "# test_df = df[46800:52389]\n",
    "train_df = df[27:15549]\n",
    "train1_df = df[15602:17160]\n",
    "val_df = df[17160-144-1:17460]\n",
    "# test_df = df[46800:52389]"
   ]
  },
  {
   "cell_type": "code",
   "execution_count": 4,
   "metadata": {},
   "outputs": [],
   "source": [
    "train_df_orig = train_df.copy()\n",
    "train_df = predspracovanie.create_log_difference(train_df)\n",
    "train1_df_orig = train1_df.copy()\n",
    "train1_df = predspracovanie.create_log_difference(train1_df)\n",
    "val_df_orig = val_df.copy()\n",
    "val_df = predspracovanie.create_log_difference(val_df)\n",
    "# test_df_orig = test_df.copy()\n",
    "# test_df = predspracovanie.create_log_difference(test_df)"
   ]
  },
  {
   "cell_type": "code",
   "execution_count": 5,
   "metadata": {},
   "outputs": [],
   "source": [
    "n_inputs = 144\n",
    "n_outputs = 2"
   ]
  },
  {
   "cell_type": "code",
   "execution_count": 6,
   "metadata": {},
   "outputs": [],
   "source": [
    "def compile_and_fit(projekt, model, nazov_modelu, train_x, train_y, train_x1, train_y1, val_x, val_y, compile=False, epochs=200):\n",
    "    wandb.init(project=projekt, name=nazov_modelu + str(n_outputs))\n",
    "\n",
    "    model_checkpoint_callback = tf.keras.callbacks.ModelCheckpoint(\n",
    "        filepath=\"models_clanok/\" + nazov_modelu + \"future\" + str(n_outputs) + \".hdf5\",\n",
    "        #     save_weights_only=True,\n",
    "        monitor='val_mae',\n",
    "        mode='min',\n",
    "        save_best_only=True)\n",
    "    model_checkpoint_callback1 = tf.keras.callbacks.ModelCheckpoint(\n",
    "        filepath=\"models_clanok/\" + nazov_modelu + \"future\" + str(n_outputs) + \"1.hdf5\",\n",
    "        #     save_weights_only=True,\n",
    "        monitor='val_mae',\n",
    "        mode='min',\n",
    "        save_best_only=True)\n",
    "\n",
    "    if compile:\n",
    "        model.compile(loss='mse',\n",
    "                    optimizer=tf.optimizers.Adam(),\n",
    "                    metrics='mae')\n",
    "\n",
    "    history = model.fit(x=np.array(train_x).reshape((-1,n_inputs,1)),\n",
    "                      y=np.array(train_y).reshape((-1,n_outputs)),\n",
    "                      epochs=epochs,\n",
    "                      validation_data=(np.array(val_x).reshape((-1,n_inputs,1)), np.array(val_y).reshape((-1,n_outputs))),\n",
    "                      batch_size=128,\n",
    "                      callbacks=[model_checkpoint_callback, \n",
    "                                     WandbCallback()\n",
    "                                ])\n",
    "    history = model.fit(x=np.array(train_x).reshape((-1,n_inputs,1)),\n",
    "                      y=np.array(train_y).reshape((-1,n_outputs)),\n",
    "                      epochs=epochs,\n",
    "                      validation_data=(np.array(val_x).reshape((-1,n_inputs,1)), np.array(val_y).reshape((-1,n_outputs))),\n",
    "                      batch_size=128,\n",
    "                      callbacks=[model_checkpoint_callback1, \n",
    "                                     WandbCallback()\n",
    "                                ])\n",
    "    return history"
   ]
  },
  {
   "cell_type": "code",
   "execution_count": 7,
   "metadata": {},
   "outputs": [],
   "source": [
    "lstm_input = keras.Input(\n",
    "    shape=(n_inputs, 1), name=\"lstm_input\"\n",
    ")  \n",
    "lstm = layers.LSTM(512, return_sequences=True)(lstm_input)\n",
    "lstm = layers.LSTM(512, return_sequences=True)(lstm)\n",
    "lstm = layers.LSTM(512, return_sequences=False)(lstm)\n",
    "lstm_output = layers.Dense(units=n_outputs)(lstm)"
   ]
  },
  {
   "cell_type": "code",
   "execution_count": 8,
   "metadata": {},
   "outputs": [],
   "source": [
    "model_lstm = keras.Model(\n",
    "    inputs=[lstm_input],\n",
    "    outputs=[lstm_output],\n",
    ")"
   ]
  },
  {
   "cell_type": "code",
   "execution_count": 9,
   "metadata": {},
   "outputs": [],
   "source": [
    "cnn_input = keras.Input(\n",
    "    shape=(n_inputs, 1), name=\"cnn_input\"\n",
    ")  \n",
    "cnn = layers.Conv1D(filters=256,\n",
    "                           kernel_size=(7,),\n",
    "                           activation='relu',\n",
    "                           padding=\"same\")(cnn_input)\n",
    "cnn = layers.Conv1D(filters=256,\n",
    "                           kernel_size=(7,),\n",
    "                           activation='relu',\n",
    "                           padding=\"same\")(cnn)\n",
    "cnn = layers.Conv1D(filters=256,\n",
    "                           kernel_size=(7,),\n",
    "                           activation='relu',\n",
    "                           padding=\"same\")(cnn)\n",
    "flat = layers.Flatten()(cnn)\n",
    "dense = layers.Dense(units=64, activation='relu')(flat)\n",
    "cnn_output = layers.Dense(units=n_outputs)(dense)\n"
   ]
  },
  {
   "cell_type": "code",
   "execution_count": 10,
   "metadata": {},
   "outputs": [],
   "source": [
    "model_cnn = keras.Model(\n",
    "    inputs=[cnn_input],\n",
    "    outputs=[cnn_output],\n",
    ")"
   ]
  },
  {
   "cell_type": "code",
   "execution_count": 11,
   "metadata": {},
   "outputs": [],
   "source": [
    "dobra_cnn_input = keras.Input(\n",
    "    shape=(n_inputs, 1), name=\"dobra_cnn_input\"\n",
    ")  \n",
    "dobra_cnn = layers.Conv1D(filters=256,\n",
    "                           kernel_size=(7,),\n",
    "                           activation='relu',\n",
    "                           padding=\"same\")(dobra_cnn_input)\n",
    "dobra_cnn = layers.Conv1D(filters=128,\n",
    "                           kernel_size=(5,),\n",
    "                           activation='relu',\n",
    "                           padding=\"same\")(dobra_cnn)\n",
    "dobra_cnn = layers.Conv1D(filters=64,\n",
    "                           kernel_size=(3,),\n",
    "                           activation='relu',\n",
    "                           padding=\"same\")(dobra_cnn)\n",
    "dobra_flat = layers.Flatten()(dobra_cnn)\n",
    "dobra_dense = layers.Dense(units=64, activation='relu')(dobra_flat)\n",
    "dobra_cnn_output = layers.Dense(units=n_outputs)(dobra_dense)\n"
   ]
  },
  {
   "cell_type": "code",
   "execution_count": 12,
   "metadata": {},
   "outputs": [],
   "source": [
    "dobra_model_cnn = keras.Model(\n",
    "    inputs=[dobra_cnn_input],\n",
    "    outputs=[dobra_cnn_output],\n",
    ")"
   ]
  },
  {
   "cell_type": "code",
   "execution_count": 13,
   "metadata": {},
   "outputs": [
    {
     "name": "stdout",
     "output_type": "stream",
     "text": [
      "Model: \"functional_5\"\n",
      "_________________________________________________________________\n",
      "Layer (type)                 Output Shape              Param #   \n",
      "=================================================================\n",
      "dobra_cnn_input (InputLayer) [(None, 144, 1)]          0         \n",
      "_________________________________________________________________\n",
      "conv1d_3 (Conv1D)            (None, 144, 256)          2048      \n",
      "_________________________________________________________________\n",
      "conv1d_4 (Conv1D)            (None, 144, 128)          163968    \n",
      "_________________________________________________________________\n",
      "conv1d_5 (Conv1D)            (None, 144, 64)           24640     \n",
      "_________________________________________________________________\n",
      "flatten_1 (Flatten)          (None, 9216)              0         \n",
      "_________________________________________________________________\n",
      "dense_3 (Dense)              (None, 64)                589888    \n",
      "_________________________________________________________________\n",
      "dense_4 (Dense)              (None, 2)                 130       \n",
      "=================================================================\n",
      "Total params: 780,674\n",
      "Trainable params: 780,674\n",
      "Non-trainable params: 0\n",
      "_________________________________________________________________\n"
     ]
    }
   ],
   "source": [
    "dobra_model_cnn.summary()"
   ]
  },
  {
   "cell_type": "code",
   "execution_count": 14,
   "metadata": {},
   "outputs": [],
   "source": [
    "down_up_cnn_input = keras.Input(\n",
    "    shape=(n_inputs, 1), name=\"down_up_cnn_input\"\n",
    ")  \n",
    "down_up_cnn = layers.Conv1D(filters=256,\n",
    "                           kernel_size=(7,),\n",
    "                           activation='relu',\n",
    "                           padding=\"same\")(down_up_cnn_input)\n",
    "down_up_cnn = layers.Conv1D(filters=128,\n",
    "                           kernel_size=(5,),\n",
    "                           activation='relu',\n",
    "                           padding=\"same\")(down_up_cnn)\n",
    "down_up_flat = layers.Flatten()(down_up_cnn)\n",
    "down_up_dense = layers.Dense(units=1, activation='sigmoid')(down_up_flat)\n",
    "down_up_dense = layers.Dense(units=144*64, input_dim=128)(down_up_dense)\n",
    "down_up_reshape = layers.Reshape((144, 64))(down_up_dense)\n",
    "down_up_cnn = layers.Conv1DTranspose(filters=128,\n",
    "                           kernel_size=(5,),\n",
    "                           activation='relu',\n",
    "                           padding=\"same\")(down_up_reshape)\n",
    "down_up_cnn = layers.Conv1DTranspose(filters=256,\n",
    "                           kernel_size=(7,),\n",
    "                           activation='relu',\n",
    "                           padding=\"same\")(down_up_cnn)\n",
    "down_up_flat = layers.Flatten()(down_up_cnn)\n",
    "# down_up_dense = layers.Dense(units=64, activation='relu')(down_up_flat)\n",
    "down_up_cnn_output = layers.Dense(units=n_outputs)(down_up_flat)"
   ]
  },
  {
   "cell_type": "code",
   "execution_count": 15,
   "metadata": {},
   "outputs": [],
   "source": [
    "down_up_model_cnn = keras.Model(\n",
    "    inputs=[down_up_cnn_input],\n",
    "    outputs=[down_up_cnn_output],\n",
    ")"
   ]
  },
  {
   "cell_type": "code",
   "execution_count": 16,
   "metadata": {},
   "outputs": [
    {
     "name": "stdout",
     "output_type": "stream",
     "text": [
      "Model: \"functional_7\"\n",
      "_________________________________________________________________\n",
      "Layer (type)                 Output Shape              Param #   \n",
      "=================================================================\n",
      "down_up_cnn_input (InputLaye [(None, 144, 1)]          0         \n",
      "_________________________________________________________________\n",
      "conv1d_6 (Conv1D)            (None, 144, 256)          2048      \n",
      "_________________________________________________________________\n",
      "conv1d_7 (Conv1D)            (None, 144, 128)          163968    \n",
      "_________________________________________________________________\n",
      "flatten_2 (Flatten)          (None, 18432)             0         \n",
      "_________________________________________________________________\n",
      "dense_5 (Dense)              (None, 1)                 18433     \n",
      "_________________________________________________________________\n",
      "dense_6 (Dense)              (None, 9216)              18432     \n",
      "_________________________________________________________________\n",
      "reshape (Reshape)            (None, 144, 64)           0         \n",
      "_________________________________________________________________\n",
      "conv1d_transpose (Conv1DTran (None, 144, 128)          41088     \n",
      "_________________________________________________________________\n",
      "conv1d_transpose_1 (Conv1DTr (None, 144, 256)          229632    \n",
      "_________________________________________________________________\n",
      "flatten_3 (Flatten)          (None, 36864)             0         \n",
      "_________________________________________________________________\n",
      "dense_7 (Dense)              (None, 2)                 73730     \n",
      "=================================================================\n",
      "Total params: 547,331\n",
      "Trainable params: 547,331\n",
      "Non-trainable params: 0\n",
      "_________________________________________________________________\n"
     ]
    }
   ],
   "source": [
    "down_up_model_cnn.summary()"
   ]
  },
  {
   "cell_type": "code",
   "execution_count": 17,
   "metadata": {},
   "outputs": [],
   "source": [
    "by_lstm_input = keras.Input(\n",
    "    shape=(n_inputs, 1), name=\"lstm_input\"\n",
    ")  \n",
    "by_lstm = layers.Bidirectional(tf.keras.layers.LSTM(128, return_sequences=True, dropout=0.75, kernel_regularizer=l2(0.01), recurrent_regularizer=l2(0.01), bias_regularizer=l2(0.01)))(by_lstm_input)\n",
    "by_lstm = layers.Bidirectional(tf.keras.layers.LSTM(128, return_sequences=True, dropout=0.75, kernel_regularizer=l2(0.01), recurrent_regularizer=l2(0.01), bias_regularizer=l2(0.01)))(by_lstm)\n",
    "by_lstm = layers.Bidirectional(tf.keras.layers.LSTM(128, return_sequences=False, dropout=0.75, kernel_regularizer=l2(0.01), recurrent_regularizer=l2(0.01), bias_regularizer=l2(0.01)))(by_lstm)\n",
    "by_lstm_output = layers.Dense(units=n_outputs)(by_lstm)"
   ]
  },
  {
   "cell_type": "code",
   "execution_count": 18,
   "metadata": {},
   "outputs": [],
   "source": [
    "by_lstm_model = keras.Model(\n",
    "    inputs=[by_lstm_input],\n",
    "    outputs=[by_lstm_output],\n",
    ")"
   ]
  },
  {
   "cell_type": "code",
   "execution_count": 19,
   "metadata": {},
   "outputs": [],
   "source": [
    "gru_input = keras.Input(\n",
    "    shape=(n_inputs, 1), name=\"gru_input\"\n",
    ")  \n",
    "gru = layers.GRU(256, return_sequences=True, dropout=0.75, kernel_regularizer=l2(0.01), recurrent_regularizer=l2(0.01), bias_regularizer=l2(0.01))(gru_input)\n",
    "gru = layers.GRU(256, return_sequences=True, dropout=0.75, kernel_regularizer=l2(0.01), recurrent_regularizer=l2(0.01), bias_regularizer=l2(0.01))(gru)\n",
    "gru = layers.GRU(256, return_sequences=True, dropout=0.75, kernel_regularizer=l2(0.01), recurrent_regularizer=l2(0.01), bias_regularizer=l2(0.01))(gru)\n",
    "simpleRRN = tf.keras.layers.SimpleRNN(128, dropout=0.75, kernel_regularizer=l2(0.01), recurrent_regularizer=l2(0.01), bias_regularizer=l2(0.01))(gru)\n",
    "gru_output = layers.Dense(units=n_outputs)(simpleRRN)"
   ]
  },
  {
   "cell_type": "code",
   "execution_count": 20,
   "metadata": {},
   "outputs": [],
   "source": [
    "gru_model = keras.Model(\n",
    "    inputs=[gru_input],\n",
    "    outputs=[gru_output],\n",
    ")"
   ]
  },
  {
   "cell_type": "code",
   "execution_count": 21,
   "metadata": {},
   "outputs": [],
   "source": [
    "encoder_inputs = keras.Input(\n",
    "    shape=(n_inputs, 1), name=\"encoder_inputs\"\n",
    ")  \n",
    "encoder_l1 = layers.LSTM(512, return_state=True)\n",
    "encoder_outputs1 = encoder_l1(encoder_inputs)\n",
    "encoder_states1 = encoder_outputs1[1:]\n",
    "decoder_inputs = layers.RepeatVector(n_outputs)(encoder_outputs1[0])\n",
    "decoder_l1 = layers.LSTM(512, return_sequences=True)(decoder_inputs,initial_state = encoder_states1)\n",
    "decoder_outputs1 = layers.TimeDistributed(layers.Dense(1))(decoder_l1)"
   ]
  },
  {
   "cell_type": "code",
   "execution_count": 22,
   "metadata": {},
   "outputs": [
    {
     "name": "stdout",
     "output_type": "stream",
     "text": [
      "Model: \"functional_13\"\n",
      "__________________________________________________________________________________________________\n",
      "Layer (type)                    Output Shape         Param #     Connected to                     \n",
      "==================================================================================================\n",
      "encoder_inputs (InputLayer)     [(None, 144, 1)]     0                                            \n",
      "__________________________________________________________________________________________________\n",
      "lstm_6 (LSTM)                   [(None, 512), (None, 1052672     encoder_inputs[0][0]             \n",
      "__________________________________________________________________________________________________\n",
      "repeat_vector (RepeatVector)    (None, 2, 512)       0           lstm_6[0][0]                     \n",
      "__________________________________________________________________________________________________\n",
      "lstm_7 (LSTM)                   (None, 2, 512)       2099200     repeat_vector[0][0]              \n",
      "                                                                 lstm_6[0][1]                     \n",
      "                                                                 lstm_6[0][2]                     \n",
      "__________________________________________________________________________________________________\n",
      "time_distributed (TimeDistribut (None, 2, 1)         513         lstm_7[0][0]                     \n",
      "==================================================================================================\n",
      "Total params: 3,152,385\n",
      "Trainable params: 3,152,385\n",
      "Non-trainable params: 0\n",
      "__________________________________________________________________________________________________\n"
     ]
    }
   ],
   "source": [
    "model_e1d1 = keras.Model(\n",
    "    inputs=[encoder_inputs],\n",
    "    outputs=[decoder_outputs1]\n",
    ")\n",
    "model_e1d1.summary()"
   ]
  },
  {
   "cell_type": "code",
   "execution_count": 23,
   "metadata": {},
   "outputs": [],
   "source": [
    "dense_input = keras.Input(\n",
    "    shape=(n_inputs), name=\"dense_input\"\n",
    ")  \n",
    "dense = layers.Dense(units=1024, activation='relu')(dense_input)\n",
    "dense = layers.Dense(units=512, activation='relu')(dense)\n",
    "dense = layers.Dense(units=256, activation='relu')(dense)\n",
    "dense = layers.Dense(units=128, activation='relu')(dense)\n",
    "dense_output = layers.Dense(units=n_outputs)(dense)"
   ]
  },
  {
   "cell_type": "code",
   "execution_count": 24,
   "metadata": {},
   "outputs": [
    {
     "name": "stdout",
     "output_type": "stream",
     "text": [
      "Model: \"functional_15\"\n",
      "_________________________________________________________________\n",
      "Layer (type)                 Output Shape              Param #   \n",
      "=================================================================\n",
      "dense_input (InputLayer)     [(None, 144)]             0         \n",
      "_________________________________________________________________\n",
      "dense_11 (Dense)             (None, 1024)              148480    \n",
      "_________________________________________________________________\n",
      "dense_12 (Dense)             (None, 512)               524800    \n",
      "_________________________________________________________________\n",
      "dense_13 (Dense)             (None, 256)               131328    \n",
      "_________________________________________________________________\n",
      "dense_14 (Dense)             (None, 128)               32896     \n",
      "_________________________________________________________________\n",
      "dense_15 (Dense)             (None, 2)                 258       \n",
      "=================================================================\n",
      "Total params: 837,762\n",
      "Trainable params: 837,762\n",
      "Non-trainable params: 0\n",
      "_________________________________________________________________\n"
     ]
    }
   ],
   "source": [
    "model_dense = keras.Model(\n",
    "    inputs=[dense_input],\n",
    "    outputs=[dense_output]\n",
    ")\n",
    "model_dense.summary()"
   ]
  },
  {
   "cell_type": "code",
   "execution_count": null,
   "metadata": {},
   "outputs": [],
   "source": []
  },
  {
   "cell_type": "code",
   "execution_count": null,
   "metadata": {
    "scrolled": true
   },
   "outputs": [
    {
     "name": "stderr",
     "output_type": "stream",
     "text": [
      "Failed to query for notebook name, you can set it manually with the WANDB_NOTEBOOK_NAME environment variable\n",
      "\u001b[34m\u001b[1mwandb\u001b[0m: Currently logged in as: \u001b[33mkriza\u001b[0m (use `wandb login --relogin` to force relogin)\n",
      "\u001b[34m\u001b[1mwandb\u001b[0m: wandb version 0.10.15 is available!  To upgrade, please run:\n",
      "\u001b[34m\u001b[1mwandb\u001b[0m:  $ pip install wandb --upgrade\n"
     ]
    },
    {
     "data": {
      "text/html": [
       "\n",
       "                Tracking run with wandb version 0.10.14<br/>\n",
       "                Syncing run <strong style=\"color:#cdcd00\">lstm-30m-item562</strong> to <a href=\"https://wandb.ai\" target=\"_blank\">Weights & Biases</a> <a href=\"https://docs.wandb.com/integrations/jupyter.html\" target=\"_blank\">(Documentation)</a>.<br/>\n",
       "                Project page: <a href=\"https://wandb.ai/kriza/30m-item56\" target=\"_blank\">https://wandb.ai/kriza/30m-item56</a><br/>\n",
       "                Run page: <a href=\"https://wandb.ai/kriza/30m-item56/runs/2vpgp3c9\" target=\"_blank\">https://wandb.ai/kriza/30m-item56/runs/2vpgp3c9</a><br/>\n",
       "                Run data is saved locally in <code>/home/richard_stana/programing/clanok/code/wandb/run-20210126_101959-2vpgp3c9</code><br/><br/>\n",
       "            "
      ],
      "text/plain": [
       "<IPython.core.display.HTML object>"
      ]
     },
     "metadata": {},
     "output_type": "display_data"
    },
    {
     "name": "stdout",
     "output_type": "stream",
     "text": [
      "Epoch 1/20\n",
      "121/121 [==============================] - 18s 151ms/step - loss: 0.0271 - mae: 0.0696 - val_loss: 0.0070 - val_mae: 0.0560\n",
      "Epoch 2/20\n",
      "121/121 [==============================] - 17s 143ms/step - loss: 0.0269 - mae: 0.0690 - val_loss: 0.0071 - val_mae: 0.0566\n",
      "Epoch 3/20\n",
      "121/121 [==============================] - 17s 143ms/step - loss: 0.0270 - mae: 0.0716 - val_loss: 0.0077 - val_mae: 0.0595\n",
      "Epoch 4/20\n",
      "121/121 [==============================] - 17s 144ms/step - loss: 0.0260 - mae: 0.0706 - val_loss: 0.0076 - val_mae: 0.0593\n",
      "Epoch 5/20\n",
      "121/121 [==============================] - 18s 145ms/step - loss: 0.0251 - mae: 0.0704 - val_loss: 0.0075 - val_mae: 0.0592\n",
      "Epoch 6/20\n",
      "121/121 [==============================] - 18s 151ms/step - loss: 0.0197 - mae: 0.0704 - val_loss: 0.0070 - val_mae: 0.0561\n",
      "Epoch 7/20\n",
      "121/121 [==============================] - 19s 157ms/step - loss: 0.0229 - mae: 0.0710 - val_loss: 0.0069 - val_mae: 0.0555\n",
      "Epoch 8/20\n",
      "121/121 [==============================] - 19s 157ms/step - loss: 0.0155 - mae: 0.0670 - val_loss: 0.0068 - val_mae: 0.0551\n",
      "Epoch 9/20\n",
      "121/121 [==============================] - 19s 155ms/step - loss: 0.0142 - mae: 0.0670 - val_loss: 0.0072 - val_mae: 0.0566\n",
      "Epoch 10/20\n",
      "121/121 [==============================] - 19s 155ms/step - loss: 0.0138 - mae: 0.0650 - val_loss: 0.0069 - val_mae: 0.0560\n",
      "Epoch 11/20\n",
      "121/121 [==============================] - 19s 158ms/step - loss: 0.0131 - mae: 0.0644 - val_loss: 0.0065 - val_mae: 0.0530\n",
      "Epoch 12/20\n",
      "121/121 [==============================] - 19s 156ms/step - loss: 0.0128 - mae: 0.0637 - val_loss: 0.0065 - val_mae: 0.0524\n",
      "Epoch 13/20\n",
      "121/121 [==============================] - 19s 155ms/step - loss: 0.0125 - mae: 0.0634 - val_loss: 0.0065 - val_mae: 0.0525\n",
      "Epoch 14/20\n",
      "121/121 [==============================] - 19s 155ms/step - loss: 0.0124 - mae: 0.0632 - val_loss: 0.0066 - val_mae: 0.0531\n",
      "Epoch 15/20\n",
      "121/121 [==============================] - 19s 155ms/step - loss: 0.0123 - mae: 0.0631 - val_loss: 0.0065 - val_mae: 0.0526\n",
      "Epoch 16/20\n",
      "121/121 [==============================] - 19s 155ms/step - loss: 0.0122 - mae: 0.0628 - val_loss: 0.0066 - val_mae: 0.0529\n",
      "Epoch 17/20\n",
      "121/121 [==============================] - 19s 155ms/step - loss: 0.0121 - mae: 0.0630 - val_loss: 0.0065 - val_mae: 0.0531\n",
      "Epoch 18/20\n",
      "121/121 [==============================] - 19s 155ms/step - loss: 0.0121 - mae: 0.0632 - val_loss: 0.0066 - val_mae: 0.0535\n",
      "Epoch 19/20\n",
      "121/121 [==============================] - 19s 156ms/step - loss: 0.0119 - mae: 0.0629 - val_loss: 0.0064 - val_mae: 0.0524\n",
      "Epoch 20/20\n",
      "121/121 [==============================] - 19s 155ms/step - loss: 0.0118 - mae: 0.0631 - val_loss: 0.0067 - val_mae: 0.0536\n",
      "Epoch 1/20\n",
      "121/121 [==============================] - 19s 156ms/step - loss: 0.0117 - mae: 0.0631 - val_loss: 0.0065 - val_mae: 0.0518\n",
      "Epoch 2/20\n",
      "121/121 [==============================] - 19s 155ms/step - loss: 0.0117 - mae: 0.0633 - val_loss: 0.0068 - val_mae: 0.0539\n",
      "Epoch 3/20\n",
      "121/121 [==============================] - 19s 155ms/step - loss: 0.0117 - mae: 0.0636 - val_loss: 0.0065 - val_mae: 0.0528\n",
      "Epoch 4/20\n",
      "121/121 [==============================] - 19s 156ms/step - loss: 0.0443 - mae: 0.1012 - val_loss: 0.0073 - val_mae: 0.0574\n",
      "Epoch 5/20\n",
      "121/121 [==============================] - 19s 156ms/step - loss: 0.0273 - mae: 0.0707 - val_loss: 0.0072 - val_mae: 0.0567\n",
      "Epoch 6/20\n",
      "121/121 [==============================] - 19s 156ms/step - loss: 0.0272 - mae: 0.0703 - val_loss: 0.0074 - val_mae: 0.0578\n",
      "Epoch 7/20\n",
      "121/121 [==============================] - 19s 156ms/step - loss: 0.0272 - mae: 0.0702 - val_loss: 0.0072 - val_mae: 0.0572\n",
      "Epoch 8/20\n",
      "121/121 [==============================] - 19s 156ms/step - loss: 0.0273 - mae: 0.0704 - val_loss: 0.0071 - val_mae: 0.0564\n",
      "Epoch 9/20\n",
      "121/121 [==============================] - 19s 156ms/step - loss: 0.0272 - mae: 0.0701 - val_loss: 0.0071 - val_mae: 0.0564\n",
      "Epoch 10/20\n",
      "121/121 [==============================] - 19s 156ms/step - loss: 0.0271 - mae: 0.0698 - val_loss: 0.0072 - val_mae: 0.0573\n",
      "Epoch 11/20\n",
      "121/121 [==============================] - 19s 156ms/step - loss: 0.0272 - mae: 0.0700 - val_loss: 0.0080 - val_mae: 0.0618\n",
      "Epoch 12/20\n",
      "121/121 [==============================] - 19s 156ms/step - loss: 0.0273 - mae: 0.0712 - val_loss: 0.0074 - val_mae: 0.0581\n",
      "Epoch 13/20\n",
      "121/121 [==============================] - 19s 156ms/step - loss: 0.0271 - mae: 0.0698 - val_loss: 0.0071 - val_mae: 0.0566\n",
      "Epoch 14/20\n",
      "121/121 [==============================] - 19s 156ms/step - loss: 0.0271 - mae: 0.0699 - val_loss: 0.0073 - val_mae: 0.0574\n",
      "Epoch 15/20\n",
      "121/121 [==============================] - 19s 156ms/step - loss: 0.0272 - mae: 0.0701 - val_loss: 0.0072 - val_mae: 0.0569\n",
      "Epoch 16/20\n",
      "121/121 [==============================] - 19s 156ms/step - loss: 0.0272 - mae: 0.0707 - val_loss: 0.0076 - val_mae: 0.0587\n",
      "Epoch 17/20\n",
      "121/121 [==============================] - 19s 156ms/step - loss: 0.0272 - mae: 0.0701 - val_loss: 0.0072 - val_mae: 0.0572\n",
      "Epoch 18/20\n",
      "121/121 [==============================] - 19s 156ms/step - loss: 0.0271 - mae: 0.0698 - val_loss: 0.0071 - val_mae: 0.0563\n",
      "Epoch 19/20\n",
      "121/121 [==============================] - 19s 156ms/step - loss: 0.0272 - mae: 0.0698 - val_loss: 0.0078 - val_mae: 0.0606\n",
      "Epoch 20/20\n",
      "121/121 [==============================] - 19s 156ms/step - loss: 0.0273 - mae: 0.0709 - val_loss: 0.0072 - val_mae: 0.0568\n"
     ]
    },
    {
     "data": {
      "text/html": [
       "Finishing last run (ID:2vpgp3c9) before initializing another..."
      ],
      "text/plain": [
       "<IPython.core.display.HTML object>"
      ]
     },
     "metadata": {},
     "output_type": "display_data"
    },
    {
     "data": {
      "text/html": [
       "<br/>Waiting for W&B process to finish, PID 17812<br/>Program ended successfully."
      ],
      "text/plain": [
       "<IPython.core.display.HTML object>"
      ]
     },
     "metadata": {},
     "output_type": "display_data"
    },
    {
     "data": {
      "text/html": [
       "Find user logs for this run at: <code>/home/richard_stana/programing/clanok/code/wandb/run-20210126_101959-2vpgp3c9/logs/debug.log</code>"
      ],
      "text/plain": [
       "<IPython.core.display.HTML object>"
      ]
     },
     "metadata": {},
     "output_type": "display_data"
    },
    {
     "data": {
      "text/html": [
       "Find internal logs for this run at: <code>/home/richard_stana/programing/clanok/code/wandb/run-20210126_101959-2vpgp3c9/logs/debug-internal.log</code>"
      ],
      "text/plain": [
       "<IPython.core.display.HTML object>"
      ]
     },
     "metadata": {},
     "output_type": "display_data"
    },
    {
     "data": {
      "text/html": [
       "<h3>Run summary:</h3><br/><style>\n",
       "    table.wandb td:nth-child(1) { padding: 0 10px; text-align: right }\n",
       "    </style><table class=\"wandb\">\n",
       "<tr><td>epoch</td><td>19</td></tr><tr><td>loss</td><td>0.02734</td></tr><tr><td>mae</td><td>0.07094</td></tr><tr><td>val_loss</td><td>0.00721</td></tr><tr><td>val_mae</td><td>0.05677</td></tr><tr><td>_step</td><td>39</td></tr><tr><td>_runtime</td><td>763</td></tr><tr><td>_timestamp</td><td>1611657162</td></tr><tr><td>best_val_loss</td><td>0.00643</td></tr><tr><td>best_epoch</td><td>18</td></tr></table>"
      ],
      "text/plain": [
       "<IPython.core.display.HTML object>"
      ]
     },
     "metadata": {},
     "output_type": "display_data"
    },
    {
     "data": {
      "text/html": [
       "<h3>Run history:</h3><br/><style>\n",
       "    table.wandb td:nth-child(1) { padding: 0 10px; text-align: right }\n",
       "    </style><table class=\"wandb\">\n",
       "<tr><td>epoch</td><td>▁▁▂▂▂▃▃▄▄▄▅▅▅▆▆▇▇▇██▁▁▂▂▂▃▃▄▄▄▅▅▅▆▆▇▇▇██</td></tr><tr><td>loss</td><td>▄▄▄▄▄▃▃▂▂▁▁▁▁▁▁▁▁▁▁▁▁▁▁█▄▄▄▄▄▄▄▄▄▄▄▄▄▄▄▄</td></tr><tr><td>mae</td><td>▂▂▃▂▂▂▂▂▂▁▁▁▁▁▁▁▁▁▁▁▁▁▁█▂▂▂▂▂▂▂▃▂▂▂▂▂▂▂▂</td></tr><tr><td>val_loss</td><td>▄▄▇▆▆▄▃▃▅▃▂▁▁▂▁▂▁▂▁▂▁▃▂▅▄▅▅▄▄▅█▆▄▅▄▆▅▄▇▅</td></tr><tr><td>val_mae</td><td>▄▄▆▆▆▄▄▃▄▄▂▁▁▂▂▂▂▂▁▂▁▂▂▅▄▅▅▄▄▅█▅▄▅▅▆▅▄▇▄</td></tr><tr><td>_step</td><td>▁▁▁▂▂▂▂▂▂▃▃▃▃▃▄▄▄▄▄▄▅▅▅▅▅▅▆▆▆▆▆▇▇▇▇▇▇███</td></tr><tr><td>_runtime</td><td>▁▁▁▁▂▂▂▂▂▃▃▃▃▃▃▄▄▄▄▄▅▅▅▅▅▅▆▆▆▆▆▇▇▇▇▇▇███</td></tr><tr><td>_timestamp</td><td>▁▁▁▁▂▂▂▂▂▃▃▃▃▃▃▄▄▄▄▄▅▅▅▅▅▅▆▆▆▆▆▇▇▇▇▇▇███</td></tr></table><br/>"
      ],
      "text/plain": [
       "<IPython.core.display.HTML object>"
      ]
     },
     "metadata": {},
     "output_type": "display_data"
    },
    {
     "data": {
      "text/html": [
       "Synced 5 W&B file(s), 1 media file(s), 0 artifact file(s) and 1 other file(s)"
      ],
      "text/plain": [
       "<IPython.core.display.HTML object>"
      ]
     },
     "metadata": {},
     "output_type": "display_data"
    },
    {
     "data": {
      "text/html": [
       "\n",
       "                    <br/>Synced <strong style=\"color:#cdcd00\">lstm-30m-item562</strong>: <a href=\"https://wandb.ai/kriza/30m-item56/runs/2vpgp3c9\" target=\"_blank\">https://wandb.ai/kriza/30m-item56/runs/2vpgp3c9</a><br/>\n",
       "                "
      ],
      "text/plain": [
       "<IPython.core.display.HTML object>"
      ]
     },
     "metadata": {},
     "output_type": "display_data"
    },
    {
     "data": {
      "text/html": [
       "...Successfully finished last run (ID:2vpgp3c9). Initializing new run:<br/><br/>"
      ],
      "text/plain": [
       "<IPython.core.display.HTML object>"
      ]
     },
     "metadata": {},
     "output_type": "display_data"
    },
    {
     "name": "stderr",
     "output_type": "stream",
     "text": [
      "\u001b[34m\u001b[1mwandb\u001b[0m: wandb version 0.10.15 is available!  To upgrade, please run:\n",
      "\u001b[34m\u001b[1mwandb\u001b[0m:  $ pip install wandb --upgrade\n"
     ]
    },
    {
     "data": {
      "text/html": [
       "\n",
       "                Tracking run with wandb version 0.10.14<br/>\n",
       "                Syncing run <strong style=\"color:#cdcd00\">cnn-30m-item562</strong> to <a href=\"https://wandb.ai\" target=\"_blank\">Weights & Biases</a> <a href=\"https://docs.wandb.com/integrations/jupyter.html\" target=\"_blank\">(Documentation)</a>.<br/>\n",
       "                Project page: <a href=\"https://wandb.ai/kriza/30m-item56\" target=\"_blank\">https://wandb.ai/kriza/30m-item56</a><br/>\n",
       "                Run page: <a href=\"https://wandb.ai/kriza/30m-item56/runs/m4xt2po5\" target=\"_blank\">https://wandb.ai/kriza/30m-item56/runs/m4xt2po5</a><br/>\n",
       "                Run data is saved locally in <code>/home/richard_stana/programing/clanok/code/wandb/run-20210126_103242-m4xt2po5</code><br/><br/>\n",
       "            "
      ],
      "text/plain": [
       "<IPython.core.display.HTML object>"
      ]
     },
     "metadata": {},
     "output_type": "display_data"
    },
    {
     "name": "stdout",
     "output_type": "stream",
     "text": [
      "Epoch 1/20\n",
      "121/121 [==============================] - 3s 27ms/step - loss: 0.0270 - mae: 0.0693 - val_loss: 0.0071 - val_mae: 0.0563\n",
      "Epoch 2/20\n",
      "121/121 [==============================] - 3s 25ms/step - loss: 0.0264 - mae: 0.0691 - val_loss: 0.0071 - val_mae: 0.0562\n",
      "Epoch 3/20\n",
      "121/121 [==============================] - 3s 24ms/step - loss: 0.0270 - mae: 0.0689 - val_loss: 0.0071 - val_mae: 0.0562\n",
      "Epoch 4/20\n",
      "121/121 [==============================] - 3s 23ms/step - loss: 0.0270 - mae: 0.0689 - val_loss: 0.0071 - val_mae: 0.0562\n",
      "Epoch 5/20\n",
      "121/121 [==============================] - 3s 23ms/step - loss: 0.0270 - mae: 0.0689 - val_loss: 0.0071 - val_mae: 0.0562\n",
      "Epoch 6/20\n",
      "121/121 [==============================] - 3s 23ms/step - loss: 0.0270 - mae: 0.0690 - val_loss: 0.0071 - val_mae: 0.0562\n",
      "Epoch 7/20\n",
      "121/121 [==============================] - 3s 23ms/step - loss: 0.0270 - mae: 0.0689 - val_loss: 0.0071 - val_mae: 0.0562\n",
      "Epoch 8/20\n",
      "121/121 [==============================] - 3s 23ms/step - loss: 0.0270 - mae: 0.0690 - val_loss: 0.0071 - val_mae: 0.0562\n",
      "Epoch 9/20\n",
      "121/121 [==============================] - 3s 23ms/step - loss: 0.0270 - mae: 0.0689 - val_loss: 0.0071 - val_mae: 0.0562\n",
      "Epoch 10/20\n",
      "121/121 [==============================] - 3s 23ms/step - loss: 0.0270 - mae: 0.0690 - val_loss: 0.0071 - val_mae: 0.0562\n",
      "Epoch 11/20\n",
      "121/121 [==============================] - 3s 23ms/step - loss: 0.0270 - mae: 0.0690 - val_loss: 0.0071 - val_mae: 0.0562\n",
      "Epoch 12/20\n",
      "121/121 [==============================] - 3s 23ms/step - loss: 0.0270 - mae: 0.0689 - val_loss: 0.0071 - val_mae: 0.0562\n",
      "Epoch 13/20\n",
      "121/121 [==============================] - 3s 23ms/step - loss: 0.0270 - mae: 0.0689 - val_loss: 0.0071 - val_mae: 0.0562\n",
      "Epoch 14/20\n",
      "121/121 [==============================] - 3s 23ms/step - loss: 0.0270 - mae: 0.0689 - val_loss: 0.0071 - val_mae: 0.0562\n",
      "Epoch 15/20\n",
      "121/121 [==============================] - 3s 23ms/step - loss: 0.0270 - mae: 0.0690 - val_loss: 0.0071 - val_mae: 0.0562\n",
      "Epoch 16/20\n",
      "121/121 [==============================] - 3s 23ms/step - loss: 0.0270 - mae: 0.0690 - val_loss: 0.0071 - val_mae: 0.0562\n",
      "Epoch 17/20\n",
      "121/121 [==============================] - 3s 23ms/step - loss: 0.0270 - mae: 0.0690 - val_loss: 0.0071 - val_mae: 0.0562\n",
      "Epoch 18/20\n",
      "121/121 [==============================] - 3s 23ms/step - loss: 0.0270 - mae: 0.0689 - val_loss: 0.0071 - val_mae: 0.0562\n",
      "Epoch 19/20\n",
      "121/121 [==============================] - 3s 23ms/step - loss: 0.0270 - mae: 0.0689 - val_loss: 0.0071 - val_mae: 0.0562\n",
      "Epoch 20/20\n",
      "121/121 [==============================] - 3s 23ms/step - loss: 0.0270 - mae: 0.0690 - val_loss: 0.0071 - val_mae: 0.0562\n",
      "Epoch 1/20\n",
      "121/121 [==============================] - 3s 24ms/step - loss: 0.0270 - mae: 0.0689 - val_loss: 0.0071 - val_mae: 0.0562\n",
      "Epoch 2/20\n",
      "121/121 [==============================] - 3s 23ms/step - loss: 0.0270 - mae: 0.0690 - val_loss: 0.0071 - val_mae: 0.0562\n",
      "Epoch 3/20\n",
      "121/121 [==============================] - 3s 24ms/step - loss: 0.0270 - mae: 0.0690 - val_loss: 0.0071 - val_mae: 0.0562\n",
      "Epoch 4/20\n",
      "121/121 [==============================] - 3s 24ms/step - loss: 0.0270 - mae: 0.0689 - val_loss: 0.0071 - val_mae: 0.0562\n",
      "Epoch 5/20\n",
      "121/121 [==============================] - ETA: 0s - loss: 0.0270 - mae: 0.0689- ETA: 2s - loss: 0.0140 - mae: 0.0 - ETA: 2s - loss: 0.0319 - mae: 0.068 - ETA: 2s - loss: 0.0291 - mae: 0 - ETA: 1s  - 3s 23ms/step - loss: 0.0270 - mae: 0.0689 - val_loss: 0.0071 - val_mae: 0.0562\n",
      "Epoch 6/20\n",
      "121/121 [==============================] - 3s 23ms/step - loss: 0.0270 - mae: 0.0689 - val_loss: 0.0071 - val_mae: 0.0562\n",
      "Epoch 7/20\n",
      "121/121 [==============================] - 3s 23ms/step - loss: 0.0270 - mae: 0.0690 - val_loss: 0.0071 - val_mae: 0.0563\n",
      "Epoch 8/20\n",
      "121/121 [==============================] - 3s 23ms/step - loss: 0.0270 - mae: 0.0690 - val_loss: 0.0071 - val_mae: 0.0562\n",
      "Epoch 9/20\n",
      "121/121 [==============================] - 3s 23ms/step - loss: 0.0270 - mae: 0.0690 - val_loss: 0.0071 - val_mae: 0.0562\n",
      "Epoch 10/20\n",
      "121/121 [==============================] - 3s 23ms/step - loss: 0.0270 - mae: 0.0689 - val_loss: 0.0071 - val_mae: 0.0562\n",
      "Epoch 11/20\n",
      "121/121 [==============================] - 3s 24ms/step - loss: 0.0270 - mae: 0.0689 - val_loss: 0.0071 - val_mae: 0.0562\n",
      "Epoch 12/20\n",
      "121/121 [==============================] - 3s 23ms/step - loss: 0.0270 - mae: 0.0689 - val_loss: 0.0071 - val_mae: 0.0562\n",
      "Epoch 13/20\n",
      "121/121 [==============================] - 3s 23ms/step - loss: 0.0270 - mae: 0.0689 - val_loss: 0.0071 - val_mae: 0.0562\n",
      "Epoch 14/20\n",
      "121/121 [==============================] - 3s 23ms/step - loss: 0.0270 - mae: 0.0690 - val_loss: 0.0071 - val_mae: 0.0562\n",
      "Epoch 15/20\n",
      "121/121 [==============================] - 3s 23ms/step - loss: 0.0270 - mae: 0.0689 - val_loss: 0.0071 - val_mae: 0.0562\n",
      "Epoch 16/20\n",
      "121/121 [==============================] - 3s 23ms/step - loss: 0.0270 - mae: 0.0690 - val_loss: 0.0071 - val_mae: 0.0562\n",
      "Epoch 17/20\n",
      "121/121 [==============================] - 3s 23ms/step - loss: 0.0270 - mae: 0.0689 - val_loss: 0.0071 - val_mae: 0.0562\n",
      "Epoch 18/20\n",
      "121/121 [==============================] - 3s 23ms/step - loss: 0.0270 - mae: 0.0689 - val_loss: 0.0071 - val_mae: 0.0562\n",
      "Epoch 19/20\n",
      "121/121 [==============================] - 3s 23ms/step - loss: 0.0270 - mae: 0.0690 - val_loss: 0.0071 - val_mae: 0.0562\n",
      "Epoch 20/20\n",
      "121/121 [==============================] - 3s 23ms/step - loss: 0.0270 - mae: 0.0689 - val_loss: 0.0071 - val_mae: 0.0562\n"
     ]
    },
    {
     "data": {
      "text/html": [
       "Finishing last run (ID:m4xt2po5) before initializing another..."
      ],
      "text/plain": [
       "<IPython.core.display.HTML object>"
      ]
     },
     "metadata": {},
     "output_type": "display_data"
    },
    {
     "data": {
      "text/html": [
       "<br/>Waiting for W&B process to finish, PID 20329<br/>Program ended successfully."
      ],
      "text/plain": [
       "<IPython.core.display.HTML object>"
      ]
     },
     "metadata": {},
     "output_type": "display_data"
    },
    {
     "data": {
      "text/html": [
       "Find user logs for this run at: <code>/home/richard_stana/programing/clanok/code/wandb/run-20210126_103242-m4xt2po5/logs/debug.log</code>"
      ],
      "text/plain": [
       "<IPython.core.display.HTML object>"
      ]
     },
     "metadata": {},
     "output_type": "display_data"
    },
    {
     "data": {
      "text/html": [
       "Find internal logs for this run at: <code>/home/richard_stana/programing/clanok/code/wandb/run-20210126_103242-m4xt2po5/logs/debug-internal.log</code>"
      ],
      "text/plain": [
       "<IPython.core.display.HTML object>"
      ]
     },
     "metadata": {},
     "output_type": "display_data"
    },
    {
     "data": {
      "text/html": [
       "<h3>Run summary:</h3><br/><style>\n",
       "    table.wandb td:nth-child(1) { padding: 0 10px; text-align: right }\n",
       "    </style><table class=\"wandb\">\n",
       "<tr><td>epoch</td><td>19</td></tr><tr><td>loss</td><td>0.02698</td></tr><tr><td>mae</td><td>0.06894</td></tr><tr><td>val_loss</td><td>0.00707</td></tr><tr><td>val_mae</td><td>0.05618</td></tr><tr><td>_step</td><td>39</td></tr><tr><td>_runtime</td><td>119</td></tr><tr><td>_timestamp</td><td>1611657286</td></tr><tr><td>best_val_loss</td><td>0.00706</td></tr><tr><td>best_epoch</td><td>1</td></tr></table>"
      ],
      "text/plain": [
       "<IPython.core.display.HTML object>"
      ]
     },
     "metadata": {},
     "output_type": "display_data"
    },
    {
     "data": {
      "text/html": [
       "<h3>Run history:</h3><br/><style>\n",
       "    table.wandb td:nth-child(1) { padding: 0 10px; text-align: right }\n",
       "    </style><table class=\"wandb\">\n",
       "<tr><td>epoch</td><td>▁▁▂▂▂▃▃▄▄▄▅▅▅▆▆▇▇▇██▁▁▂▂▂▃▃▄▄▄▅▅▅▆▆▇▇▇██</td></tr><tr><td>loss</td><td>█▁▇▇▇▇▇▇▇▇▇▇▇▇▇▇▇▇▇▇▇▇▇▇▇▇▇▇▇▇▇▇▇▇▇▇▇▇▇▇</td></tr><tr><td>mae</td><td>█▄▁▁▁▂▁▂▂▂▂▂▁▁▂▂▂▁▂▂▁▂▂▁▁▁▂▂▂▁▁▁▁▂▁▂▁▁▂▁</td></tr><tr><td>val_loss</td><td>█▁▃█▁▃█▄▂▃▁▇▂▄▂▂▆▂▇█▇▇▄▄▃▃▃▇▄▁▃▅▂▇▁▁▅▂▂▂</td></tr><tr><td>val_mae</td><td>█▂▁▃▃▂▃▃▁▂▁▂▁▄▁▁▂▁▄▃▂▂▂▁▁▂▆▃▂▂▁▅▁▃▂▂▂▂▁▁</td></tr><tr><td>_step</td><td>▁▁▁▂▂▂▂▂▂▃▃▃▃▃▄▄▄▄▄▄▅▅▅▅▅▅▆▆▆▆▆▇▇▇▇▇▇███</td></tr><tr><td>_runtime</td><td>▁▁▁▂▂▂▂▂▂▃▃▃▃▃▄▄▄▄▄▄▅▅▅▅▅▆▆▆▆▆▆▇▇▇▇▇▇███</td></tr><tr><td>_timestamp</td><td>▁▁▁▂▂▂▂▂▂▃▃▃▃▃▄▄▄▄▄▄▅▅▅▅▅▆▆▆▆▆▆▇▇▇▇▇▇███</td></tr></table><br/>"
      ],
      "text/plain": [
       "<IPython.core.display.HTML object>"
      ]
     },
     "metadata": {},
     "output_type": "display_data"
    },
    {
     "data": {
      "text/html": [
       "Synced 5 W&B file(s), 1 media file(s), 0 artifact file(s) and 1 other file(s)"
      ],
      "text/plain": [
       "<IPython.core.display.HTML object>"
      ]
     },
     "metadata": {},
     "output_type": "display_data"
    },
    {
     "data": {
      "text/html": [
       "\n",
       "                    <br/>Synced <strong style=\"color:#cdcd00\">cnn-30m-item562</strong>: <a href=\"https://wandb.ai/kriza/30m-item56/runs/m4xt2po5\" target=\"_blank\">https://wandb.ai/kriza/30m-item56/runs/m4xt2po5</a><br/>\n",
       "                "
      ],
      "text/plain": [
       "<IPython.core.display.HTML object>"
      ]
     },
     "metadata": {},
     "output_type": "display_data"
    },
    {
     "data": {
      "text/html": [
       "...Successfully finished last run (ID:m4xt2po5). Initializing new run:<br/><br/>"
      ],
      "text/plain": [
       "<IPython.core.display.HTML object>"
      ]
     },
     "metadata": {},
     "output_type": "display_data"
    },
    {
     "name": "stderr",
     "output_type": "stream",
     "text": [
      "\u001b[34m\u001b[1mwandb\u001b[0m: wandb version 0.10.15 is available!  To upgrade, please run:\n",
      "\u001b[34m\u001b[1mwandb\u001b[0m:  $ pip install wandb --upgrade\n"
     ]
    },
    {
     "data": {
      "text/html": [
       "\n",
       "                Tracking run with wandb version 0.10.14<br/>\n",
       "                Syncing run <strong style=\"color:#cdcd00\">dobra_cnn-30m-item562</strong> to <a href=\"https://wandb.ai\" target=\"_blank\">Weights & Biases</a> <a href=\"https://docs.wandb.com/integrations/jupyter.html\" target=\"_blank\">(Documentation)</a>.<br/>\n",
       "                Project page: <a href=\"https://wandb.ai/kriza/30m-item56\" target=\"_blank\">https://wandb.ai/kriza/30m-item56</a><br/>\n",
       "                Run page: <a href=\"https://wandb.ai/kriza/30m-item56/runs/3bp1xzil\" target=\"_blank\">https://wandb.ai/kriza/30m-item56/runs/3bp1xzil</a><br/>\n",
       "                Run data is saved locally in <code>/home/richard_stana/programing/clanok/code/wandb/run-20210126_103446-3bp1xzil</code><br/><br/>\n",
       "            "
      ],
      "text/plain": [
       "<IPython.core.display.HTML object>"
      ]
     },
     "metadata": {},
     "output_type": "display_data"
    },
    {
     "name": "stdout",
     "output_type": "stream",
     "text": [
      "Epoch 1/20\n",
      "121/121 [==============================] - 1s 12ms/step - loss: 0.0268 - mae: 0.0695 - val_loss: 0.0071 - val_mae: 0.0562\n",
      "Epoch 2/20\n",
      "121/121 [==============================] - 1s 10ms/step - loss: 0.0220 - mae: 0.0694 - val_loss: 0.0071 - val_mae: 0.0563\n",
      "Epoch 3/20\n",
      "121/121 [==============================] - 1s 10ms/step - loss: 0.0174 - mae: 0.0684 - val_loss: 0.0071 - val_mae: 0.0563\n",
      "Epoch 4/20\n",
      "121/121 [==============================] - 1s 10ms/step - loss: 0.0166 - mae: 0.0683 - val_loss: 0.0071 - val_mae: 0.0565\n",
      "Epoch 5/20\n",
      "121/121 [==============================] - 1s 10ms/step - loss: 0.0146 - mae: 0.0679 - val_loss: 0.0071 - val_mae: 0.0566\n",
      "Epoch 6/20\n",
      "121/121 [==============================] - 1s 10ms/step - loss: 0.0203 - mae: 0.0687 - val_loss: 0.0071 - val_mae: 0.0563\n",
      "Epoch 7/20\n",
      "121/121 [==============================] - 1s 10ms/step - loss: 0.0206 - mae: 0.0687 - val_loss: 0.0071 - val_mae: 0.0562\n",
      "Epoch 8/20\n",
      "121/121 [==============================] - 1s 10ms/step - loss: 0.0141 - mae: 0.0675 - val_loss: 0.0071 - val_mae: 0.0564\n",
      "Epoch 9/20\n",
      "121/121 [==============================] - 1s 10ms/step - loss: 0.0134 - mae: 0.0671 - val_loss: 0.0072 - val_mae: 0.0570\n",
      "Epoch 10/20\n",
      "121/121 [==============================] - 1s 10ms/step - loss: 0.0131 - mae: 0.0671 - val_loss: 0.0071 - val_mae: 0.0563\n",
      "Epoch 11/20\n",
      "121/121 [==============================] - 1s 10ms/step - loss: 0.0126 - mae: 0.0665 - val_loss: 0.0072 - val_mae: 0.0566\n",
      "Epoch 12/20\n",
      "121/121 [==============================] - 1s 10ms/step - loss: 0.0127 - mae: 0.0664 - val_loss: 0.0074 - val_mae: 0.0572\n",
      "Epoch 13/20\n",
      "121/121 [==============================] - 1s 10ms/step - loss: 0.0133 - mae: 0.0665 - val_loss: 0.0074 - val_mae: 0.0572\n",
      "Epoch 14/20\n",
      "121/121 [==============================] - 1s 10ms/step - loss: 0.0126 - mae: 0.0661 - val_loss: 0.0072 - val_mae: 0.0566\n",
      "Epoch 15/20\n",
      "121/121 [==============================] - 1s 11ms/step - loss: 0.0122 - mae: 0.0655 - val_loss: 0.0070 - val_mae: 0.0563\n",
      "Epoch 16/20\n",
      "121/121 [==============================] - 1s 11ms/step - loss: 0.0124 - mae: 0.0650 - val_loss: 0.0070 - val_mae: 0.0558\n",
      "Epoch 17/20\n",
      "121/121 [==============================] - 1s 11ms/step - loss: 0.0110 - mae: 0.0640 - val_loss: 0.0068 - val_mae: 0.0547\n",
      "Epoch 18/20\n",
      "121/121 [==============================] - 1s 11ms/step - loss: 0.0104 - mae: 0.0629 - val_loss: 0.0065 - val_mae: 0.0533\n",
      "Epoch 19/20\n",
      "121/121 [==============================] - 1s 10ms/step - loss: 0.0100 - mae: 0.0619 - val_loss: 0.0068 - val_mae: 0.0548\n",
      "Epoch 20/20\n",
      "121/121 [==============================] - 1s 11ms/step - loss: 0.0094 - mae: 0.0610 - val_loss: 0.0064 - val_mae: 0.0526\n",
      "Epoch 1/20\n",
      "121/121 [==============================] - 1s 10ms/step - loss: 0.0092 - mae: 0.0604 - val_loss: 0.0068 - val_mae: 0.0545\n",
      "Epoch 2/20\n",
      "121/121 [==============================] - 1s 10ms/step - loss: 0.0092 - mae: 0.0598 - val_loss: 0.0068 - val_mae: 0.0547\n",
      "Epoch 3/20\n",
      "121/121 [==============================] - 1s 10ms/step - loss: 0.0096 - mae: 0.0598 - val_loss: 0.0069 - val_mae: 0.0548\n",
      "Epoch 4/20\n",
      "121/121 [==============================] - 1s 10ms/step - loss: 0.0091 - mae: 0.0593 - val_loss: 0.0069 - val_mae: 0.0551\n",
      "Epoch 5/20\n",
      "121/121 [==============================] - 1s 10ms/step - loss: 0.0094 - mae: 0.0596 - val_loss: 0.0069 - val_mae: 0.0554\n",
      "Epoch 6/20\n",
      "121/121 [==============================] - 1s 10ms/step - loss: 0.0087 - mae: 0.0584 - val_loss: 0.0069 - val_mae: 0.0548\n",
      "Epoch 7/20\n",
      "121/121 [==============================] - 1s 11ms/step - loss: 0.0092 - mae: 0.0589 - val_loss: 0.0067 - val_mae: 0.0540\n",
      "Epoch 8/20\n",
      "121/121 [==============================] - 1s 11ms/step - loss: 0.0108 - mae: 0.0605 - val_loss: 0.0065 - val_mae: 0.0533\n",
      "Epoch 9/20\n",
      "121/121 [==============================] - 1s 10ms/step - loss: 0.0098 - mae: 0.0593 - val_loss: 0.0070 - val_mae: 0.0560\n",
      "Epoch 10/20\n",
      "121/121 [==============================] - 1s 10ms/step - loss: 0.0081 - mae: 0.0573 - val_loss: 0.0073 - val_mae: 0.0560\n",
      "Epoch 11/20\n",
      "121/121 [==============================] - 1s 10ms/step - loss: 0.0090 - mae: 0.0571 - val_loss: 0.0070 - val_mae: 0.0554\n",
      "Epoch 12/20\n",
      "121/121 [==============================] - 1s 10ms/step - loss: 0.0081 - mae: 0.0563 - val_loss: 0.0068 - val_mae: 0.0549\n",
      "Epoch 13/20\n",
      "121/121 [==============================] - 1s 10ms/step - loss: 0.0075 - mae: 0.0554 - val_loss: 0.0071 - val_mae: 0.0563\n",
      "Epoch 14/20\n",
      "121/121 [==============================] - 1s 10ms/step - loss: 0.0076 - mae: 0.0547 - val_loss: 0.0076 - val_mae: 0.0578\n",
      "Epoch 15/20\n",
      "121/121 [==============================] - 1s 10ms/step - loss: 0.0076 - mae: 0.0574 - val_loss: 0.0069 - val_mae: 0.0556\n",
      "Epoch 16/20\n",
      "121/121 [==============================] - 1s 10ms/step - loss: 0.0070 - mae: 0.0548 - val_loss: 0.0072 - val_mae: 0.0566\n",
      "Epoch 17/20\n",
      "121/121 [==============================] - 1s 10ms/step - loss: 0.0079 - mae: 0.0556 - val_loss: 0.0075 - val_mae: 0.0572\n",
      "Epoch 18/20\n",
      "121/121 [==============================] - 1s 10ms/step - loss: 0.0082 - mae: 0.0549 - val_loss: 0.0077 - val_mae: 0.0571\n",
      "Epoch 19/20\n",
      "121/121 [==============================] - 1s 10ms/step - loss: 0.0073 - mae: 0.0537 - val_loss: 0.0078 - val_mae: 0.0585\n",
      "Epoch 20/20\n",
      "121/121 [==============================] - 1s 10ms/step - loss: 0.0067 - mae: 0.0527 - val_loss: 0.0077 - val_mae: 0.0577\n"
     ]
    },
    {
     "data": {
      "text/html": [
       "Finishing last run (ID:3bp1xzil) before initializing another..."
      ],
      "text/plain": [
       "<IPython.core.display.HTML object>"
      ]
     },
     "metadata": {},
     "output_type": "display_data"
    },
    {
     "data": {
      "text/html": [
       "<br/>Waiting for W&B process to finish, PID 20860<br/>Program ended successfully."
      ],
      "text/plain": [
       "<IPython.core.display.HTML object>"
      ]
     },
     "metadata": {},
     "output_type": "display_data"
    },
    {
     "data": {
      "text/html": [
       "Find user logs for this run at: <code>/home/richard_stana/programing/clanok/code/wandb/run-20210126_103446-3bp1xzil/logs/debug.log</code>"
      ],
      "text/plain": [
       "<IPython.core.display.HTML object>"
      ]
     },
     "metadata": {},
     "output_type": "display_data"
    },
    {
     "data": {
      "text/html": [
       "Find internal logs for this run at: <code>/home/richard_stana/programing/clanok/code/wandb/run-20210126_103446-3bp1xzil/logs/debug-internal.log</code>"
      ],
      "text/plain": [
       "<IPython.core.display.HTML object>"
      ]
     },
     "metadata": {},
     "output_type": "display_data"
    },
    {
     "data": {
      "text/html": [
       "<h3>Run summary:</h3><br/><style>\n",
       "    table.wandb td:nth-child(1) { padding: 0 10px; text-align: right }\n",
       "    </style><table class=\"wandb\">\n",
       "<tr><td>epoch</td><td>19</td></tr><tr><td>loss</td><td>0.00674</td></tr><tr><td>mae</td><td>0.0527</td></tr><tr><td>val_loss</td><td>0.00768</td></tr><tr><td>val_mae</td><td>0.05774</td></tr><tr><td>_step</td><td>39</td></tr><tr><td>_runtime</td><td>56</td></tr><tr><td>_timestamp</td><td>1611657348</td></tr><tr><td>best_val_loss</td><td>0.00641</td></tr><tr><td>best_epoch</td><td>19</td></tr></table>"
      ],
      "text/plain": [
       "<IPython.core.display.HTML object>"
      ]
     },
     "metadata": {},
     "output_type": "display_data"
    },
    {
     "data": {
      "text/html": [
       "<h3>Run history:</h3><br/><style>\n",
       "    table.wandb td:nth-child(1) { padding: 0 10px; text-align: right }\n",
       "    </style><table class=\"wandb\">\n",
       "<tr><td>epoch</td><td>▁▁▂▂▂▃▃▄▄▄▅▅▅▆▆▇▇▇██▁▁▂▂▂▃▃▄▄▄▅▅▅▆▆▇▇▇██</td></tr><tr><td>loss</td><td>█▆▅▄▄▆▆▄▃▃▃▃▃▃▃▃▃▂▂▂▂▂▂▂▂▂▂▂▂▁▂▁▁▁▁▁▁▂▁▁</td></tr><tr><td>mae</td><td>███▇▇██▇▇▇▇▇▇▇▆▆▆▅▅▄▄▄▄▄▄▃▄▄▄▃▃▃▂▂▃▂▂▂▁▁</td></tr><tr><td>val_loss</td><td>▄▄▅▅▅▅▄▅▅▅▅▆▆▅▄▄▃▂▃▁▃▃▃▄▄▄▂▁▄▅▄▃▅▇▄▅▇▇██</td></tr><tr><td>val_mae</td><td>▅▅▅▆▆▅▅▆▆▅▆▆▇▆▅▅▃▂▄▁▃▄▄▄▄▄▃▂▅▅▄▄▅▇▅▆▇▆█▇</td></tr><tr><td>_step</td><td>▁▁▁▂▂▂▂▂▂▃▃▃▃▃▄▄▄▄▄▄▅▅▅▅▅▅▆▆▆▆▆▇▇▇▇▇▇███</td></tr><tr><td>_runtime</td><td>▁▁▁▁▂▂▂▂▂▃▃▃▃▃▃▄▄▄▄▄▅▅▅▅▅▅▆▆▆▆▆▇▇▇▇▇▇███</td></tr><tr><td>_timestamp</td><td>▁▁▁▁▂▂▂▂▂▃▃▃▃▃▃▄▄▄▄▄▅▅▅▅▅▅▆▆▆▆▆▇▇▇▇▇▇███</td></tr></table><br/>"
      ],
      "text/plain": [
       "<IPython.core.display.HTML object>"
      ]
     },
     "metadata": {},
     "output_type": "display_data"
    },
    {
     "data": {
      "text/html": [
       "Synced 5 W&B file(s), 1 media file(s), 0 artifact file(s) and 1 other file(s)"
      ],
      "text/plain": [
       "<IPython.core.display.HTML object>"
      ]
     },
     "metadata": {},
     "output_type": "display_data"
    },
    {
     "data": {
      "text/html": [
       "\n",
       "                    <br/>Synced <strong style=\"color:#cdcd00\">dobra_cnn-30m-item562</strong>: <a href=\"https://wandb.ai/kriza/30m-item56/runs/3bp1xzil\" target=\"_blank\">https://wandb.ai/kriza/30m-item56/runs/3bp1xzil</a><br/>\n",
       "                "
      ],
      "text/plain": [
       "<IPython.core.display.HTML object>"
      ]
     },
     "metadata": {},
     "output_type": "display_data"
    },
    {
     "data": {
      "text/html": [
       "...Successfully finished last run (ID:3bp1xzil). Initializing new run:<br/><br/>"
      ],
      "text/plain": [
       "<IPython.core.display.HTML object>"
      ]
     },
     "metadata": {},
     "output_type": "display_data"
    },
    {
     "name": "stderr",
     "output_type": "stream",
     "text": [
      "\u001b[34m\u001b[1mwandb\u001b[0m: wandb version 0.10.15 is available!  To upgrade, please run:\n",
      "\u001b[34m\u001b[1mwandb\u001b[0m:  $ pip install wandb --upgrade\n"
     ]
    },
    {
     "data": {
      "text/html": [
       "\n",
       "                Tracking run with wandb version 0.10.14<br/>\n",
       "                Syncing run <strong style=\"color:#cdcd00\">lstm-30m-item572</strong> to <a href=\"https://wandb.ai\" target=\"_blank\">Weights & Biases</a> <a href=\"https://docs.wandb.com/integrations/jupyter.html\" target=\"_blank\">(Documentation)</a>.<br/>\n",
       "                Project page: <a href=\"https://wandb.ai/kriza/30m-item57\" target=\"_blank\">https://wandb.ai/kriza/30m-item57</a><br/>\n",
       "                Run page: <a href=\"https://wandb.ai/kriza/30m-item57/runs/1vt2n49j\" target=\"_blank\">https://wandb.ai/kriza/30m-item57/runs/1vt2n49j</a><br/>\n",
       "                Run data is saved locally in <code>/home/richard_stana/programing/clanok/code/wandb/run-20210126_103550-1vt2n49j</code><br/><br/>\n",
       "            "
      ],
      "text/plain": [
       "<IPython.core.display.HTML object>"
      ]
     },
     "metadata": {},
     "output_type": "display_data"
    },
    {
     "name": "stdout",
     "output_type": "stream",
     "text": [
      "Epoch 1/20\n",
      "121/121 [==============================] - 20s 165ms/step - loss: 0.0243 - mae: 0.0584 - val_loss: 0.0049 - val_mae: 0.0464\n",
      "Epoch 2/20\n",
      "121/121 [==============================] - 19s 156ms/step - loss: 0.0244 - mae: 0.0589 - val_loss: 0.0053 - val_mae: 0.0496\n",
      "Epoch 3/20\n",
      "121/121 [==============================] - 19s 156ms/step - loss: 0.0244 - mae: 0.0587 - val_loss: 0.0050 - val_mae: 0.0475\n",
      "Epoch 4/20\n",
      "121/121 [==============================] - 19s 156ms/step - loss: 0.0243 - mae: 0.0584 - val_loss: 0.0049 - val_mae: 0.0467\n",
      "Epoch 5/20\n",
      "121/121 [==============================] - 19s 156ms/step - loss: 0.0243 - mae: 0.0583 - val_loss: 0.0051 - val_mae: 0.0489\n",
      "Epoch 6/20\n",
      "121/121 [==============================] - 19s 156ms/step - loss: 0.0244 - mae: 0.0587 - val_loss: 0.0050 - val_mae: 0.0471\n",
      "Epoch 7/20\n",
      "121/121 [==============================] - 19s 156ms/step - loss: 0.0244 - mae: 0.0587 - val_loss: 0.0049 - val_mae: 0.0467\n",
      "Epoch 8/20\n",
      "121/121 [==============================] - 19s 156ms/step - loss: 0.0243 - mae: 0.0581 - val_loss: 0.0050 - val_mae: 0.0481\n",
      "Epoch 9/20\n",
      "121/121 [==============================] - 19s 156ms/step - loss: 0.0243 - mae: 0.0581 - val_loss: 0.0049 - val_mae: 0.0472\n",
      "Epoch 10/20\n",
      "121/121 [==============================] - 19s 156ms/step - loss: 0.0243 - mae: 0.0581 - val_loss: 0.0052 - val_mae: 0.0496\n",
      "Epoch 11/20\n",
      "121/121 [==============================] - 19s 156ms/step - loss: 0.0243 - mae: 0.0588 - val_loss: 0.0050 - val_mae: 0.0481\n",
      "Epoch 12/20\n",
      "121/121 [==============================] - 19s 156ms/step - loss: 0.0243 - mae: 0.0579 - val_loss: 0.0049 - val_mae: 0.0472\n",
      "Epoch 13/20\n",
      "121/121 [==============================] - 19s 156ms/step - loss: 0.0243 - mae: 0.0582 - val_loss: 0.0050 - val_mae: 0.0483\n",
      "Epoch 14/20\n",
      "121/121 [==============================] - 19s 157ms/step - loss: 0.0242 - mae: 0.0578 - val_loss: 0.0049 - val_mae: 0.0466\n",
      "Epoch 15/20\n",
      "121/121 [==============================] - 19s 156ms/step - loss: 0.0243 - mae: 0.0584 - val_loss: 0.0058 - val_mae: 0.0538\n",
      "Epoch 16/20\n",
      "121/121 [==============================] - 19s 156ms/step - loss: 0.0244 - mae: 0.0591 - val_loss: 0.0049 - val_mae: 0.0467\n",
      "Epoch 17/20\n",
      "121/121 [==============================] - 19s 158ms/step - loss: 0.0242 - mae: 0.0580 - val_loss: 0.0049 - val_mae: 0.0463\n",
      "Epoch 18/20\n",
      "121/121 [==============================] - 19s 156ms/step - loss: 0.0243 - mae: 0.0583 - val_loss: 0.0049 - val_mae: 0.0464\n",
      "Epoch 19/20\n",
      "121/121 [==============================] - 19s 156ms/step - loss: 0.0243 - mae: 0.0586 - val_loss: 0.0049 - val_mae: 0.0466\n",
      "Epoch 20/20\n",
      "121/121 [==============================] - 19s 156ms/step - loss: 0.0243 - mae: 0.0580 - val_loss: 0.0050 - val_mae: 0.0474\n",
      "Epoch 1/20\n",
      "121/121 [==============================] - 19s 157ms/step - loss: 0.0244 - mae: 0.0587 - val_loss: 0.0050 - val_mae: 0.0470\n",
      "Epoch 2/20\n",
      "121/121 [==============================] - 19s 156ms/step - loss: 0.0243 - mae: 0.0587 - val_loss: 0.0051 - val_mae: 0.0485\n",
      "Epoch 3/20\n",
      "121/121 [==============================] - 19s 156ms/step - loss: 0.0243 - mae: 0.0580 - val_loss: 0.0049 - val_mae: 0.0472\n",
      "Epoch 4/20\n",
      "121/121 [==============================] - 19s 156ms/step - loss: 0.0243 - mae: 0.0583 - val_loss: 0.0051 - val_mae: 0.0474\n",
      "Epoch 5/20\n",
      "121/121 [==============================] - 19s 156ms/step - loss: 0.0244 - mae: 0.0588 - val_loss: 0.0054 - val_mae: 0.0510\n",
      "Epoch 6/20\n",
      "121/121 [==============================] - 19s 157ms/step - loss: 0.0243 - mae: 0.0581 - val_loss: 0.0049 - val_mae: 0.0467\n",
      "Epoch 7/20\n",
      "121/121 [==============================] - 19s 158ms/step - loss: 0.0243 - mae: 0.0582 - val_loss: 0.0049 - val_mae: 0.0466\n",
      "Epoch 8/20\n",
      "121/121 [==============================] - 19s 156ms/step - loss: 0.0243 - mae: 0.0580 - val_loss: 0.0050 - val_mae: 0.0482\n",
      "Epoch 9/20\n",
      "121/121 [==============================] - 19s 156ms/step - loss: 0.0243 - mae: 0.0583 - val_loss: 0.0049 - val_mae: 0.0467\n",
      "Epoch 10/20\n",
      "121/121 [==============================] - 19s 158ms/step - loss: 0.0243 - mae: 0.0586 - val_loss: 0.0049 - val_mae: 0.0465\n",
      "Epoch 11/20\n",
      "121/121 [==============================] - 19s 156ms/step - loss: 0.0243 - mae: 0.0583 - val_loss: 0.0049 - val_mae: 0.0470\n",
      "Epoch 12/20\n",
      "121/121 [==============================] - 19s 156ms/step - loss: 0.0243 - mae: 0.0581 - val_loss: 0.0051 - val_mae: 0.0475\n",
      "Epoch 13/20\n",
      "121/121 [==============================] - 19s 157ms/step - loss: 0.0243 - mae: 0.0579 - val_loss: 0.0049 - val_mae: 0.0462\n",
      "Epoch 14/20\n",
      "121/121 [==============================] - 19s 156ms/step - loss: 0.0243 - mae: 0.0580 - val_loss: 0.0049 - val_mae: 0.0468\n",
      "Epoch 15/20\n",
      "121/121 [==============================] - 19s 156ms/step - loss: 0.0243 - mae: 0.0583 - val_loss: 0.0050 - val_mae: 0.0469\n",
      "Epoch 16/20\n",
      "121/121 [==============================] - 19s 156ms/step - loss: 0.0243 - mae: 0.0583 - val_loss: 0.0049 - val_mae: 0.0471\n",
      "Epoch 17/20\n",
      "121/121 [==============================] - 19s 156ms/step - loss: 0.0243 - mae: 0.0579 - val_loss: 0.0050 - val_mae: 0.0472\n",
      "Epoch 18/20\n",
      "121/121 [==============================] - 19s 156ms/step - loss: 0.0243 - mae: 0.0583 - val_loss: 0.0049 - val_mae: 0.0465\n",
      "Epoch 19/20\n",
      "121/121 [==============================] - 19s 156ms/step - loss: 0.0243 - mae: 0.0583 - val_loss: 0.0049 - val_mae: 0.0463\n",
      "Epoch 20/20\n",
      "121/121 [==============================] - 19s 156ms/step - loss: 0.0243 - mae: 0.0582 - val_loss: 0.0049 - val_mae: 0.0474\n"
     ]
    },
    {
     "data": {
      "text/html": [
       "Finishing last run (ID:1vt2n49j) before initializing another..."
      ],
      "text/plain": [
       "<IPython.core.display.HTML object>"
      ]
     },
     "metadata": {},
     "output_type": "display_data"
    },
    {
     "data": {
      "text/html": [
       "<br/>Waiting for W&B process to finish, PID 21215<br/>Program ended successfully."
      ],
      "text/plain": [
       "<IPython.core.display.HTML object>"
      ]
     },
     "metadata": {},
     "output_type": "display_data"
    },
    {
     "data": {
      "text/html": [
       "Find user logs for this run at: <code>/home/richard_stana/programing/clanok/code/wandb/run-20210126_103550-1vt2n49j/logs/debug.log</code>"
      ],
      "text/plain": [
       "<IPython.core.display.HTML object>"
      ]
     },
     "metadata": {},
     "output_type": "display_data"
    },
    {
     "data": {
      "text/html": [
       "Find internal logs for this run at: <code>/home/richard_stana/programing/clanok/code/wandb/run-20210126_103550-1vt2n49j/logs/debug-internal.log</code>"
      ],
      "text/plain": [
       "<IPython.core.display.HTML object>"
      ]
     },
     "metadata": {},
     "output_type": "display_data"
    },
    {
     "data": {
      "text/html": [
       "<h3>Run summary:</h3><br/><style>\n",
       "    table.wandb td:nth-child(1) { padding: 0 10px; text-align: right }\n",
       "    </style><table class=\"wandb\">\n",
       "<tr><td>epoch</td><td>19</td></tr><tr><td>loss</td><td>0.0243</td></tr><tr><td>mae</td><td>0.05819</td></tr><tr><td>val_loss</td><td>0.00494</td></tr><tr><td>val_mae</td><td>0.04744</td></tr><tr><td>_step</td><td>39</td></tr><tr><td>_runtime</td><td>771</td></tr><tr><td>_timestamp</td><td>1611658125</td></tr><tr><td>best_val_loss</td><td>0.00487</td></tr><tr><td>best_epoch</td><td>0</td></tr></table>"
      ],
      "text/plain": [
       "<IPython.core.display.HTML object>"
      ]
     },
     "metadata": {},
     "output_type": "display_data"
    },
    {
     "data": {
      "text/html": [
       "<h3>Run history:</h3><br/><style>\n",
       "    table.wandb td:nth-child(1) { padding: 0 10px; text-align: right }\n",
       "    </style><table class=\"wandb\">\n",
       "<tr><td>epoch</td><td>▁▁▂▂▂▃▃▄▄▄▅▅▅▆▆▇▇▇██▁▁▂▂▂▃▃▄▄▄▅▅▅▆▆▇▇▇██</td></tr><tr><td>loss</td><td>▅▇█▄▅▇▇▃▃▃▆▂▄▁▅▇▁▅▆▃▇▅▃▄█▄▃▄▄▆▄▃▂▁▅▄▁▃▄▄</td></tr><tr><td>mae</td><td>▄▇▆▄▄▆▆▂▂▃▇▁▃▁▄█▂▃▅▂▆▆▂▃▇▂▃▂▄▅▃▂▂▂▃▃▂▃▄▃</td></tr><tr><td>val_loss</td><td>▁▄▂▁▃▂▂▂▁▄▂▁▂▂█▁▁▁▁▂▂▃▂▂▅▁▁▂▁▁▁▂▁▁▂▁▂▁▁▂</td></tr><tr><td>val_mae</td><td>▁▄▂▁▃▂▁▃▂▄▃▂▃▁█▁▁▁▁▂▂▃▂▂▅▁▁▃▁▁▂▂▁▁▂▂▂▁▁▂</td></tr><tr><td>_step</td><td>▁▁▁▂▂▂▂▂▂▃▃▃▃▃▄▄▄▄▄▄▅▅▅▅▅▅▆▆▆▆▆▇▇▇▇▇▇███</td></tr><tr><td>_runtime</td><td>▁▁▁▂▂▂▂▂▂▃▃▃▃▃▄▄▄▄▄▄▅▅▅▅▅▅▆▆▆▆▆▇▇▇▇▇▇███</td></tr><tr><td>_timestamp</td><td>▁▁▁▂▂▂▂▂▂▃▃▃▃▃▄▄▄▄▄▄▅▅▅▅▅▅▆▆▆▆▆▇▇▇▇▇▇███</td></tr></table><br/>"
      ],
      "text/plain": [
       "<IPython.core.display.HTML object>"
      ]
     },
     "metadata": {},
     "output_type": "display_data"
    },
    {
     "data": {
      "text/html": [
       "Synced 5 W&B file(s), 1 media file(s), 0 artifact file(s) and 1 other file(s)"
      ],
      "text/plain": [
       "<IPython.core.display.HTML object>"
      ]
     },
     "metadata": {},
     "output_type": "display_data"
    },
    {
     "data": {
      "text/html": [
       "\n",
       "                    <br/>Synced <strong style=\"color:#cdcd00\">lstm-30m-item572</strong>: <a href=\"https://wandb.ai/kriza/30m-item57/runs/1vt2n49j\" target=\"_blank\">https://wandb.ai/kriza/30m-item57/runs/1vt2n49j</a><br/>\n",
       "                "
      ],
      "text/plain": [
       "<IPython.core.display.HTML object>"
      ]
     },
     "metadata": {},
     "output_type": "display_data"
    },
    {
     "data": {
      "text/html": [
       "...Successfully finished last run (ID:1vt2n49j). Initializing new run:<br/><br/>"
      ],
      "text/plain": [
       "<IPython.core.display.HTML object>"
      ]
     },
     "metadata": {},
     "output_type": "display_data"
    },
    {
     "name": "stderr",
     "output_type": "stream",
     "text": [
      "\u001b[34m\u001b[1mwandb\u001b[0m: wandb version 0.10.15 is available!  To upgrade, please run:\n",
      "\u001b[34m\u001b[1mwandb\u001b[0m:  $ pip install wandb --upgrade\n"
     ]
    },
    {
     "data": {
      "text/html": [
       "\n",
       "                Tracking run with wandb version 0.10.14<br/>\n",
       "                Syncing run <strong style=\"color:#cdcd00\">cnn-30m-item572</strong> to <a href=\"https://wandb.ai\" target=\"_blank\">Weights & Biases</a> <a href=\"https://docs.wandb.com/integrations/jupyter.html\" target=\"_blank\">(Documentation)</a>.<br/>\n",
       "                Project page: <a href=\"https://wandb.ai/kriza/30m-item57\" target=\"_blank\">https://wandb.ai/kriza/30m-item57</a><br/>\n",
       "                Run page: <a href=\"https://wandb.ai/kriza/30m-item57/runs/1hww0w9s\" target=\"_blank\">https://wandb.ai/kriza/30m-item57/runs/1hww0w9s</a><br/>\n",
       "                Run data is saved locally in <code>/home/richard_stana/programing/clanok/code/wandb/run-20210126_104845-1hww0w9s</code><br/><br/>\n",
       "            "
      ],
      "text/plain": [
       "<IPython.core.display.HTML object>"
      ]
     },
     "metadata": {},
     "output_type": "display_data"
    },
    {
     "name": "stdout",
     "output_type": "stream",
     "text": [
      "Epoch 1/20\n",
      "121/121 [==============================] - 3s 26ms/step - loss: 0.0242 - mae: 0.0572 - val_loss: 0.0049 - val_mae: 0.0463\n",
      "Epoch 2/20\n",
      "121/121 [==============================] - 3s 23ms/step - loss: 0.0242 - mae: 0.0572 - val_loss: 0.0049 - val_mae: 0.0464\n",
      "Epoch 3/20\n",
      "121/121 [==============================] - 3s 24ms/step - loss: 0.0242 - mae: 0.0572 - val_loss: 0.0049 - val_mae: 0.0463\n",
      "Epoch 4/20\n",
      "121/121 [==============================] - 3s 23ms/step - loss: 0.0242 - mae: 0.0572 - val_loss: 0.0049 - val_mae: 0.0465\n",
      "Epoch 5/20\n",
      "121/121 [==============================] - 3s 23ms/step - loss: 0.0242 - mae: 0.0572 - val_loss: 0.0049 - val_mae: 0.0463\n",
      "Epoch 6/20\n",
      "121/121 [==============================] - 3s 23ms/step - loss: 0.0242 - mae: 0.0572 - val_loss: 0.0049 - val_mae: 0.0467\n",
      "Epoch 7/20\n",
      "121/121 [==============================] - 3s 23ms/step - loss: 0.0242 - mae: 0.0572 - val_loss: 0.0049 - val_mae: 0.0463\n",
      "Epoch 8/20\n",
      "121/121 [==============================] - 3s 23ms/step - loss: 0.0242 - mae: 0.0572 - val_loss: 0.0049 - val_mae: 0.0464\n",
      "Epoch 9/20\n",
      "121/121 [==============================] - 3s 24ms/step - loss: 0.0242 - mae: 0.0572 - val_loss: 0.0049 - val_mae: 0.0463\n",
      "Epoch 10/20\n",
      "121/121 [==============================] - 3s 24ms/step - loss: 0.0242 - mae: 0.0572 - val_loss: 0.0049 - val_mae: 0.0463\n",
      "Epoch 11/20\n",
      "121/121 [==============================] - 3s 23ms/step - loss: 0.0242 - mae: 0.0572 - val_loss: 0.0049 - val_mae: 0.0464.0235 - mae:\n",
      "Epoch 12/20\n",
      "121/121 [==============================] - 3s 23ms/step - loss: 0.0242 - mae: 0.0572 - val_loss: 0.0049 - val_mae: 0.0465\n",
      "Epoch 13/20\n",
      "121/121 [==============================] - 3s 24ms/step - loss: 0.0242 - mae: 0.0572 - val_loss: 0.0049 - val_mae: 0.0463\n",
      "Epoch 14/20\n",
      "121/121 [==============================] - 3s 23ms/step - loss: 0.0242 - mae: 0.0572 - val_loss: 0.0049 - val_mae: 0.0463\n",
      "Epoch 15/20\n",
      "121/121 [==============================] - ETA: 0s - loss: 0.0242 - mae: 0.057 - 3s 24ms/step - loss: 0.0242 - mae: 0.0572 - val_loss: 0.0049 - val_mae: 0.0462\n",
      "Epoch 16/20\n",
      "121/121 [==============================] - 3s 23ms/step - loss: 0.0242 - mae: 0.0572 - val_loss: 0.0049 - val_mae: 0.0463\n",
      "Epoch 17/20\n",
      "121/121 [==============================] - 3s 23ms/step - loss: 0.0242 - mae: 0.0572 - val_loss: 0.0049 - val_mae: 0.0466\n",
      "Epoch 18/20\n",
      "121/121 [==============================] - 3s 24ms/step - loss: 0.0242 - mae: 0.0572 - val_loss: 0.0049 - val_mae: 0.0463\n",
      "Epoch 19/20\n",
      "121/121 [==============================] - 3s 23ms/step - loss: 0.0242 - mae: 0.0572 - val_loss: 0.0049 - val_mae: 0.0463\n",
      "Epoch 20/20\n",
      "121/121 [==============================] - 3s 23ms/step - loss: 0.0242 - mae: 0.0572 - val_loss: 0.0049 - val_mae: 0.0464\n",
      "Epoch 1/20\n",
      "121/121 [==============================] - 3s 23ms/step - loss: 0.0242 - mae: 0.0572 - val_loss: 0.0049 - val_mae: 0.0464 1s - loss: 0.0228 - mae: 0.0 - ETA: 1s - loss: 0.\n",
      "Epoch 2/20\n",
      "121/121 [==============================] - 3s 23ms/step - loss: 0.0242 - mae: 0.0572 - val_loss: 0.0049 - val_mae: 0.0463\n",
      "Epoch 3/20\n",
      "121/121 [==============================] - 3s 23ms/step - loss: 0.0242 - mae: 0.0572 - val_loss: 0.0049 - val_mae: 0.0464\n",
      "Epoch 4/20\n",
      "121/121 [==============================] - 3s 23ms/step - loss: 0.0242 - mae: 0.0572 - val_loss: 0.0049 - val_mae: 0.0463\n",
      "Epoch 5/20\n",
      "121/121 [==============================] - 3s 24ms/step - loss: 0.0242 - mae: 0.0572 - val_loss: 0.0049 - val_mae: 0.0463\n",
      "Epoch 6/20\n",
      "121/121 [==============================] - 3s 23ms/step - loss: 0.0242 - mae: 0.0572 - val_loss: 0.0049 - val_mae: 0.0463\n",
      "Epoch 7/20\n",
      "121/121 [==============================] - 3s 23ms/step - loss: 0.0242 - mae: 0.0573 - val_loss: 0.0049 - val_mae: 0.0463\n",
      "Epoch 8/20\n",
      "121/121 [==============================] - 3s 23ms/step - loss: 0.0242 - mae: 0.0572 - val_loss: 0.0049 - val_mae: 0.0464\n",
      "Epoch 9/20\n",
      "121/121 [==============================] - 3s 24ms/step - loss: 0.0242 - mae: 0.0572 - val_loss: 0.0049 - val_mae: 0.0464\n",
      "Epoch 10/20\n",
      "121/121 [==============================] - 3s 24ms/step - loss: 0.0242 - mae: 0.0572 - val_loss: 0.0049 - val_mae: 0.0462\n",
      "Epoch 11/20\n",
      "121/121 [==============================] - 3s 23ms/step - loss: 0.0242 - mae: 0.0572 - val_loss: 0.0049 - val_mae: 0.0463\n",
      "Epoch 12/20\n",
      "121/121 [==============================] - 3s 23ms/step - loss: 0.0242 - mae: 0.0572 - val_loss: 0.0049 - val_mae: 0.0462\n",
      "Epoch 13/20\n",
      "121/121 [==============================] - 3s 23ms/step - loss: 0.0242 - mae: 0.0572 - val_loss: 0.0049 - val_mae: 0.0464\n",
      "Epoch 14/20\n",
      "121/121 [==============================] - 3s 23ms/step - loss: 0.0242 - mae: 0.0572 - val_loss: 0.0049 - val_mae: 0.0464\n",
      "Epoch 15/20\n",
      "121/121 [==============================] - 3s 23ms/step - loss: 0.0242 - mae: 0.0572 - val_loss: 0.0049 - val_mae: 0.0463\n",
      "Epoch 16/20\n",
      "121/121 [==============================] - 3s 24ms/step - loss: 0.0242 - mae: 0.0572 - val_loss: 0.0049 - val_mae: 0.0462\n",
      "Epoch 17/20\n",
      "121/121 [==============================] - 3s 23ms/step - loss: 0.0242 - mae: 0.0572 - val_loss: 0.0049 - val_mae: 0.0462\n",
      "Epoch 18/20\n",
      "121/121 [==============================] - 3s 23ms/step - loss: 0.0242 - mae: 0.0573 - val_loss: 0.0049 - val_mae: 0.0463\n",
      "Epoch 19/20\n",
      "121/121 [==============================] - 3s 24ms/step - loss: 0.0242 - mae: 0.0572 - val_loss: 0.0049 - val_mae: 0.0463\n",
      "Epoch 20/20\n",
      "121/121 [==============================] - 3s 23ms/step - loss: 0.0242 - mae: 0.0572 - val_loss: 0.0049 - val_mae: 0.0464\n"
     ]
    },
    {
     "data": {
      "text/html": [
       "Finishing last run (ID:1hww0w9s) before initializing another..."
      ],
      "text/plain": [
       "<IPython.core.display.HTML object>"
      ]
     },
     "metadata": {},
     "output_type": "display_data"
    },
    {
     "data": {
      "text/html": [
       "<br/>Waiting for W&B process to finish, PID 23756<br/>Program ended successfully."
      ],
      "text/plain": [
       "<IPython.core.display.HTML object>"
      ]
     },
     "metadata": {},
     "output_type": "display_data"
    },
    {
     "data": {
      "text/html": [
       "Find user logs for this run at: <code>/home/richard_stana/programing/clanok/code/wandb/run-20210126_104845-1hww0w9s/logs/debug.log</code>"
      ],
      "text/plain": [
       "<IPython.core.display.HTML object>"
      ]
     },
     "metadata": {},
     "output_type": "display_data"
    },
    {
     "data": {
      "text/html": [
       "Find internal logs for this run at: <code>/home/richard_stana/programing/clanok/code/wandb/run-20210126_104845-1hww0w9s/logs/debug-internal.log</code>"
      ],
      "text/plain": [
       "<IPython.core.display.HTML object>"
      ]
     },
     "metadata": {},
     "output_type": "display_data"
    },
    {
     "data": {
      "text/html": [
       "<h3>Run summary:</h3><br/><style>\n",
       "    table.wandb td:nth-child(1) { padding: 0 10px; text-align: right }\n",
       "    </style><table class=\"wandb\">\n",
       "<tr><td>epoch</td><td>19</td></tr><tr><td>loss</td><td>0.02416</td></tr><tr><td>mae</td><td>0.05724</td></tr><tr><td>val_loss</td><td>0.00489</td></tr><tr><td>val_mae</td><td>0.04638</td></tr><tr><td>_step</td><td>39</td></tr><tr><td>_runtime</td><td>119</td></tr><tr><td>_timestamp</td><td>1611658250</td></tr><tr><td>best_val_loss</td><td>0.00487</td></tr><tr><td>best_epoch</td><td>18</td></tr></table>"
      ],
      "text/plain": [
       "<IPython.core.display.HTML object>"
      ]
     },
     "metadata": {},
     "output_type": "display_data"
    },
    {
     "data": {
      "text/html": [
       "<h3>Run history:</h3><br/><style>\n",
       "    table.wandb td:nth-child(1) { padding: 0 10px; text-align: right }\n",
       "    </style><table class=\"wandb\">\n",
       "<tr><td>epoch</td><td>▁▁▂▂▂▃▃▄▄▄▅▅▅▆▆▇▇▇██▁▁▂▂▂▃▃▄▄▄▅▅▅▆▆▇▇▇██</td></tr><tr><td>loss</td><td>▅▄▅▂▄█▅▄▅▅▃▃▄▄▅▃▅▆▄▄▃▃▅▅▃▄█▅▅▄▅▅▃▇▆▆▅▆▄▁</td></tr><tr><td>mae</td><td>▃▄▄▄▅▅▃▄▅▃▄▃▃▃▄▂▂▄▅▃▁▂▃▃▃▃█▃▄▂▂▃▂▅▄▅▂▆▁▅</td></tr><tr><td>val_loss</td><td>▂▂▁▂▄█▃▃▁▁▄▂▃▃▁▁▃▁▃▂▁▁▂▂▃▁▁▅▁▂▁▁▁▂▁▂▃▁▁▅</td></tr><tr><td>val_mae</td><td>▂▃▂▅▂█▃▄▂▂▄▅▁▂▁▁▇▂▃▃▃▃▄▃▂▂▂▄▃▁▂▁▃▄▂▁▁▃▂▃</td></tr><tr><td>_step</td><td>▁▁▁▂▂▂▂▂▂▃▃▃▃▃▄▄▄▄▄▄▅▅▅▅▅▅▆▆▆▆▆▇▇▇▇▇▇███</td></tr><tr><td>_runtime</td><td>▁▁▁▂▂▂▂▂▂▃▃▃▃▃▃▄▄▄▄▄▅▅▅▅▅▅▆▆▆▆▆▇▇▇▇▇▇███</td></tr><tr><td>_timestamp</td><td>▁▁▁▂▂▂▂▂▂▃▃▃▃▃▃▄▄▄▄▄▅▅▅▅▅▅▆▆▆▆▆▇▇▇▇▇▇███</td></tr></table><br/>"
      ],
      "text/plain": [
       "<IPython.core.display.HTML object>"
      ]
     },
     "metadata": {},
     "output_type": "display_data"
    },
    {
     "data": {
      "text/html": [
       "Synced 5 W&B file(s), 1 media file(s), 0 artifact file(s) and 1 other file(s)"
      ],
      "text/plain": [
       "<IPython.core.display.HTML object>"
      ]
     },
     "metadata": {},
     "output_type": "display_data"
    },
    {
     "data": {
      "text/html": [
       "\n",
       "                    <br/>Synced <strong style=\"color:#cdcd00\">cnn-30m-item572</strong>: <a href=\"https://wandb.ai/kriza/30m-item57/runs/1hww0w9s\" target=\"_blank\">https://wandb.ai/kriza/30m-item57/runs/1hww0w9s</a><br/>\n",
       "                "
      ],
      "text/plain": [
       "<IPython.core.display.HTML object>"
      ]
     },
     "metadata": {},
     "output_type": "display_data"
    },
    {
     "data": {
      "text/html": [
       "...Successfully finished last run (ID:1hww0w9s). Initializing new run:<br/><br/>"
      ],
      "text/plain": [
       "<IPython.core.display.HTML object>"
      ]
     },
     "metadata": {},
     "output_type": "display_data"
    },
    {
     "name": "stderr",
     "output_type": "stream",
     "text": [
      "\u001b[34m\u001b[1mwandb\u001b[0m: wandb version 0.10.15 is available!  To upgrade, please run:\n",
      "\u001b[34m\u001b[1mwandb\u001b[0m:  $ pip install wandb --upgrade\n"
     ]
    },
    {
     "data": {
      "text/html": [
       "\n",
       "                Tracking run with wandb version 0.10.14<br/>\n",
       "                Syncing run <strong style=\"color:#cdcd00\">dobra_cnn-30m-item572</strong> to <a href=\"https://wandb.ai\" target=\"_blank\">Weights & Biases</a> <a href=\"https://docs.wandb.com/integrations/jupyter.html\" target=\"_blank\">(Documentation)</a>.<br/>\n",
       "                Project page: <a href=\"https://wandb.ai/kriza/30m-item57\" target=\"_blank\">https://wandb.ai/kriza/30m-item57</a><br/>\n",
       "                Run page: <a href=\"https://wandb.ai/kriza/30m-item57/runs/2rapnl9j\" target=\"_blank\">https://wandb.ai/kriza/30m-item57/runs/2rapnl9j</a><br/>\n",
       "                Run data is saved locally in <code>/home/richard_stana/programing/clanok/code/wandb/run-20210126_105050-2rapnl9j</code><br/><br/>\n",
       "            "
      ],
      "text/plain": [
       "<IPython.core.display.HTML object>"
      ]
     },
     "metadata": {},
     "output_type": "display_data"
    },
    {
     "name": "stdout",
     "output_type": "stream",
     "text": [
      "Epoch 1/20\n",
      "121/121 [==============================] - 1s 12ms/step - loss: 0.0078 - mae: 0.0527 - val_loss: 0.0046 - val_mae: 0.0440\n",
      "Epoch 2/20\n",
      "121/121 [==============================] - 1s 11ms/step - loss: 0.0073 - mae: 0.0511 - val_loss: 0.0045 - val_mae: 0.0429\n",
      "Epoch 3/20\n",
      "121/121 [==============================] - 1s 10ms/step - loss: 0.0065 - mae: 0.0497 - val_loss: 0.0045 - val_mae: 0.0434\n",
      "Epoch 4/20\n",
      "121/121 [==============================] - 1s 11ms/step - loss: 0.0066 - mae: 0.0495 - val_loss: 0.0043 - val_mae: 0.0424\n",
      "Epoch 5/20\n",
      "121/121 [==============================] - 1s 10ms/step - loss: 0.0068 - mae: 0.0490 - val_loss: 0.0045 - val_mae: 0.0431\n",
      "Epoch 6/20\n",
      "121/121 [==============================] - 1s 10ms/step - loss: 0.0059 - mae: 0.0480 - val_loss: 0.0045 - val_mae: 0.0434\n",
      "Epoch 7/20\n",
      "121/121 [==============================] - 1s 11ms/step - loss: 0.0059 - mae: 0.0473 - val_loss: 0.0043 - val_mae: 0.0421\n",
      "Epoch 8/20\n",
      "121/121 [==============================] - 1s 10ms/step - loss: 0.0056 - mae: 0.0469 - val_loss: 0.0044 - val_mae: 0.0422\n",
      "Epoch 9/20\n",
      "121/121 [==============================] - 1s 10ms/step - loss: 0.0057 - mae: 0.0465 - val_loss: 0.0045 - val_mae: 0.0434\n",
      "Epoch 10/20\n",
      "121/121 [==============================] - 1s 10ms/step - loss: 0.0071 - mae: 0.0473 - val_loss: 0.0045 - val_mae: 0.0439\n",
      "Epoch 11/20\n",
      "121/121 [==============================] - 1s 10ms/step - loss: 0.0059 - mae: 0.0465 - val_loss: 0.0044 - val_mae: 0.0430\n",
      "Epoch 12/20\n",
      "121/121 [==============================] - 1s 10ms/step - loss: 0.0055 - mae: 0.0459 - val_loss: 0.0044 - val_mae: 0.0427\n",
      "Epoch 13/20\n",
      "121/121 [==============================] - 1s 10ms/step - loss: 0.0054 - mae: 0.0450 - val_loss: 0.0044 - val_mae: 0.0428\n",
      "Epoch 14/20\n",
      "121/121 [==============================] - 1s 10ms/step - loss: 0.0057 - mae: 0.0447 - val_loss: 0.0047 - val_mae: 0.0445\n",
      "Epoch 15/20\n",
      "121/121 [==============================] - 1s 10ms/step - loss: 0.0052 - mae: 0.0442 - val_loss: 0.0045 - val_mae: 0.0438\n",
      "Epoch 16/20\n",
      "121/121 [==============================] - 1s 10ms/step - loss: 0.0047 - mae: 0.0429 - val_loss: 0.0046 - val_mae: 0.0442\n",
      "Epoch 17/20\n",
      "121/121 [==============================] - 1s 10ms/step - loss: 0.0047 - mae: 0.0427 - val_loss: 0.0045 - val_mae: 0.0437\n",
      "Epoch 18/20\n",
      "121/121 [==============================] - 1s 10ms/step - loss: 0.0047 - mae: 0.0423 - val_loss: 0.0047 - val_mae: 0.0451\n",
      "Epoch 19/20\n",
      "121/121 [==============================] - 1s 10ms/step - loss: 0.0045 - mae: 0.0419 - val_loss: 0.0047 - val_mae: 0.0448\n",
      "Epoch 20/20\n",
      "121/121 [==============================] - 1s 10ms/step - loss: 0.0044 - mae: 0.0415 - val_loss: 0.0048 - val_mae: 0.0461\n",
      "Epoch 1/20\n",
      "121/121 [==============================] - 1s 11ms/step - loss: 0.0044 - mae: 0.0414 - val_loss: 0.0049 - val_mae: 0.0468\n",
      "Epoch 2/20\n",
      "121/121 [==============================] - 1s 10ms/step - loss: 0.0042 - mae: 0.0407 - val_loss: 0.0051 - val_mae: 0.0477\n",
      "Epoch 3/20\n",
      "121/121 [==============================] - 1s 11ms/step - loss: 0.0044 - mae: 0.0412 - val_loss: 0.0047 - val_mae: 0.0447\n",
      "Epoch 4/20\n",
      "121/121 [==============================] - 1s 10ms/step - loss: 0.0043 - mae: 0.0408 - val_loss: 0.0049 - val_mae: 0.0463\n",
      "Epoch 5/20\n",
      "121/121 [==============================] - 1s 10ms/step - loss: 0.0041 - mae: 0.0403 - val_loss: 0.0047 - val_mae: 0.0458\n",
      "Epoch 6/20\n",
      "121/121 [==============================] - 1s 10ms/step - loss: 0.0041 - mae: 0.0399 - val_loss: 0.0048 - val_mae: 0.0464\n",
      "Epoch 7/20\n",
      "121/121 [==============================] - 1s 10ms/step - loss: 0.0043 - mae: 0.0399 - val_loss: 0.0049 - val_mae: 0.0464\n",
      "Epoch 8/20\n",
      "121/121 [==============================] - 1s 10ms/step - loss: 0.0043 - mae: 0.0398 - val_loss: 0.0048 - val_mae: 0.0456\n",
      "Epoch 9/20\n",
      "121/121 [==============================] - 1s 10ms/step - loss: 0.0041 - mae: 0.0396 - val_loss: 0.0050 - val_mae: 0.0474\n",
      "Epoch 10/20\n",
      "121/121 [==============================] - 1s 10ms/step - loss: 0.0039 - mae: 0.0380 - val_loss: 0.0051 - val_mae: 0.0481\n",
      "Epoch 11/20\n",
      "121/121 [==============================] - 1s 10ms/step - loss: 0.0040 - mae: 0.0385 - val_loss: 0.0050 - val_mae: 0.0477\n",
      "Epoch 12/20\n",
      "121/121 [==============================] - 1s 10ms/step - loss: 0.0040 - mae: 0.0388 - val_loss: 0.0052 - val_mae: 0.0493\n",
      "Epoch 13/20\n",
      "121/121 [==============================] - 1s 10ms/step - loss: 0.0040 - mae: 0.0382 - val_loss: 0.0050 - val_mae: 0.0477\n",
      "Epoch 14/20\n",
      "121/121 [==============================] - 1s 10ms/step - loss: 0.0035 - mae: 0.0367 - val_loss: 0.0050 - val_mae: 0.0473\n",
      "Epoch 15/20\n",
      "121/121 [==============================] - 1s 10ms/step - loss: 0.0033 - mae: 0.0359 - val_loss: 0.0052 - val_mae: 0.0484\n",
      "Epoch 16/20\n",
      "121/121 [==============================] - 1s 10ms/step - loss: 0.0032 - mae: 0.0354 - val_loss: 0.0053 - val_mae: 0.0493\n",
      "Epoch 17/20\n",
      "121/121 [==============================] - 1s 10ms/step - loss: 0.0033 - mae: 0.0359 - val_loss: 0.0051 - val_mae: 0.0485\n",
      "Epoch 18/20\n",
      "121/121 [==============================] - 1s 10ms/step - loss: 0.0033 - mae: 0.0350 - val_loss: 0.0052 - val_mae: 0.0490\n",
      "Epoch 19/20\n",
      "121/121 [==============================] - 1s 10ms/step - loss: 0.0030 - mae: 0.0343 - val_loss: 0.0054 - val_mae: 0.0501\n",
      "Epoch 20/20\n",
      "121/121 [==============================] - 1s 10ms/step - loss: 0.0032 - mae: 0.0345 - val_loss: 0.0053 - val_mae: 0.0486\n"
     ]
    },
    {
     "data": {
      "text/html": [
       "Finishing last run (ID:2rapnl9j) before initializing another..."
      ],
      "text/plain": [
       "<IPython.core.display.HTML object>"
      ]
     },
     "metadata": {},
     "output_type": "display_data"
    },
    {
     "data": {
      "text/html": [
       "<br/>Waiting for W&B process to finish, PID 24284<br/>Program ended successfully."
      ],
      "text/plain": [
       "<IPython.core.display.HTML object>"
      ]
     },
     "metadata": {},
     "output_type": "display_data"
    },
    {
     "data": {
      "text/html": [
       "Find user logs for this run at: <code>/home/richard_stana/programing/clanok/code/wandb/run-20210126_105050-2rapnl9j/logs/debug.log</code>"
      ],
      "text/plain": [
       "<IPython.core.display.HTML object>"
      ]
     },
     "metadata": {},
     "output_type": "display_data"
    },
    {
     "data": {
      "text/html": [
       "Find internal logs for this run at: <code>/home/richard_stana/programing/clanok/code/wandb/run-20210126_105050-2rapnl9j/logs/debug-internal.log</code>"
      ],
      "text/plain": [
       "<IPython.core.display.HTML object>"
      ]
     },
     "metadata": {},
     "output_type": "display_data"
    },
    {
     "data": {
      "text/html": [
       "<h3>Run summary:</h3><br/><style>\n",
       "    table.wandb td:nth-child(1) { padding: 0 10px; text-align: right }\n",
       "    </style><table class=\"wandb\">\n",
       "<tr><td>epoch</td><td>19</td></tr><tr><td>loss</td><td>0.00316</td></tr><tr><td>mae</td><td>0.03445</td></tr><tr><td>val_loss</td><td>0.00525</td></tr><tr><td>val_mae</td><td>0.04865</td></tr><tr><td>_step</td><td>39</td></tr><tr><td>_runtime</td><td>56</td></tr><tr><td>_timestamp</td><td>1611658310</td></tr><tr><td>best_val_loss</td><td>0.00434</td></tr><tr><td>best_epoch</td><td>6</td></tr></table>"
      ],
      "text/plain": [
       "<IPython.core.display.HTML object>"
      ]
     },
     "metadata": {},
     "output_type": "display_data"
    },
    {
     "data": {
      "text/html": [
       "<h3>Run history:</h3><br/><style>\n",
       "    table.wandb td:nth-child(1) { padding: 0 10px; text-align: right }\n",
       "    </style><table class=\"wandb\">\n",
       "<tr><td>epoch</td><td>▁▁▂▂▂▃▃▄▄▄▅▅▅▆▆▇▇▇██▁▁▂▂▂▃▃▄▄▄▅▅▅▆▆▇▇▇██</td></tr><tr><td>loss</td><td>█▇▆▆▇▅▅▅▅▇▅▅▅▅▄▄▃▃▃▃▃▃▃▃▃▃▃▃▃▂▂▂▂▂▁▁▁▁▁▁</td></tr><tr><td>mae</td><td>█▇▇▇▇▆▆▆▆▆▆▅▅▅▅▄▄▄▄▄▄▃▄▄▃▃▃▃▃▂▃▃▂▂▂▁▂▁▁▁</td></tr><tr><td>val_loss</td><td>▃▂▂▁▂▂▁▁▂▂▂▂▂▃▂▃▂▄▃▄▅▆▃▅▄▄▅▄▆▆▅▇▆▅▇█▆▇█▇</td></tr><tr><td>val_mae</td><td>▃▂▂▁▂▂▁▁▂▃▂▂▂▃▃▃▂▄▃▅▅▆▃▅▄▅▅▄▆▆▆▇▆▆▇▇▇▇█▇</td></tr><tr><td>_step</td><td>▁▁▁▂▂▂▂▂▂▃▃▃▃▃▄▄▄▄▄▄▅▅▅▅▅▅▆▆▆▆▆▇▇▇▇▇▇███</td></tr><tr><td>_runtime</td><td>▁▁▁▂▂▂▂▂▂▃▃▃▃▃▃▄▄▄▄▄▅▅▅▅▅▆▆▆▆▆▆▇▇▇▇▇▇███</td></tr><tr><td>_timestamp</td><td>▁▁▁▂▂▂▂▂▂▃▃▃▃▃▃▄▄▄▄▄▅▅▅▅▅▆▆▆▆▆▆▇▇▇▇▇▇███</td></tr></table><br/>"
      ],
      "text/plain": [
       "<IPython.core.display.HTML object>"
      ]
     },
     "metadata": {},
     "output_type": "display_data"
    },
    {
     "data": {
      "text/html": [
       "Synced 5 W&B file(s), 1 media file(s), 0 artifact file(s) and 1 other file(s)"
      ],
      "text/plain": [
       "<IPython.core.display.HTML object>"
      ]
     },
     "metadata": {},
     "output_type": "display_data"
    },
    {
     "data": {
      "text/html": [
       "\n",
       "                    <br/>Synced <strong style=\"color:#cdcd00\">dobra_cnn-30m-item572</strong>: <a href=\"https://wandb.ai/kriza/30m-item57/runs/2rapnl9j\" target=\"_blank\">https://wandb.ai/kriza/30m-item57/runs/2rapnl9j</a><br/>\n",
       "                "
      ],
      "text/plain": [
       "<IPython.core.display.HTML object>"
      ]
     },
     "metadata": {},
     "output_type": "display_data"
    },
    {
     "data": {
      "text/html": [
       "...Successfully finished last run (ID:2rapnl9j). Initializing new run:<br/><br/>"
      ],
      "text/plain": [
       "<IPython.core.display.HTML object>"
      ]
     },
     "metadata": {},
     "output_type": "display_data"
    },
    {
     "name": "stderr",
     "output_type": "stream",
     "text": [
      "\u001b[34m\u001b[1mwandb\u001b[0m: wandb version 0.10.15 is available!  To upgrade, please run:\n",
      "\u001b[34m\u001b[1mwandb\u001b[0m:  $ pip install wandb --upgrade\n"
     ]
    },
    {
     "data": {
      "text/html": [
       "\n",
       "                Tracking run with wandb version 0.10.14<br/>\n",
       "                Syncing run <strong style=\"color:#cdcd00\">lstm-30m-item582</strong> to <a href=\"https://wandb.ai\" target=\"_blank\">Weights & Biases</a> <a href=\"https://docs.wandb.com/integrations/jupyter.html\" target=\"_blank\">(Documentation)</a>.<br/>\n",
       "                Project page: <a href=\"https://wandb.ai/kriza/30m-item58\" target=\"_blank\">https://wandb.ai/kriza/30m-item58</a><br/>\n",
       "                Run page: <a href=\"https://wandb.ai/kriza/30m-item58/runs/17hark8a\" target=\"_blank\">https://wandb.ai/kriza/30m-item58/runs/17hark8a</a><br/>\n",
       "                Run data is saved locally in <code>/home/richard_stana/programing/clanok/code/wandb/run-20210126_105152-17hark8a</code><br/><br/>\n",
       "            "
      ],
      "text/plain": [
       "<IPython.core.display.HTML object>"
      ]
     },
     "metadata": {},
     "output_type": "display_data"
    },
    {
     "name": "stdout",
     "output_type": "stream",
     "text": [
      "Epoch 1/20\n",
      "121/121 [==============================] - 20s 165ms/step - loss: 0.0286 - mae: 0.0710 - val_loss: 0.0072 - val_mae: 0.0570\n",
      "Epoch 2/20\n",
      "121/121 [==============================] - 19s 156ms/step - loss: 0.0286 - mae: 0.0707 - val_loss: 0.0073 - val_mae: 0.0571\n",
      "Epoch 3/20\n",
      "121/121 [==============================] - 19s 159ms/step - loss: 0.0286 - mae: 0.0709 - val_loss: 0.0071 - val_mae: 0.0564\n",
      "Epoch 4/20\n",
      "121/121 [==============================] - 19s 156ms/step - loss: 0.0286 - mae: 0.0707 - val_loss: 0.0073 - val_mae: 0.0573\n",
      "Epoch 5/20\n",
      "121/121 [==============================] - 19s 156ms/step - loss: 0.0285 - mae: 0.0705 - val_loss: 0.0074 - val_mae: 0.0578\n",
      "Epoch 6/20\n",
      "121/121 [==============================] - 19s 157ms/step - loss: 0.0286 - mae: 0.0705 - val_loss: 0.0073 - val_mae: 0.0574\n",
      "Epoch 7/20\n",
      "121/121 [==============================] - 19s 157ms/step - loss: 0.0286 - mae: 0.0706 - val_loss: 0.0072 - val_mae: 0.0572\n",
      "Epoch 8/20\n",
      "121/121 [==============================] - 19s 157ms/step - loss: 0.0286 - mae: 0.0703 - val_loss: 0.0072 - val_mae: 0.0569\n",
      "Epoch 9/20\n",
      "121/121 [==============================] - 19s 156ms/step - loss: 0.0287 - mae: 0.0713 - val_loss: 0.0074 - val_mae: 0.0578\n",
      "Epoch 10/20\n",
      "121/121 [==============================] - 19s 156ms/step - loss: 0.0286 - mae: 0.0707 - val_loss: 0.0071 - val_mae: 0.0566\n",
      "Epoch 11/20\n",
      "121/121 [==============================] - 19s 156ms/step - loss: 0.0286 - mae: 0.0707 - val_loss: 0.0072 - val_mae: 0.0571\n",
      "Epoch 12/20\n",
      "121/121 [==============================] - 19s 156ms/step - loss: 0.0286 - mae: 0.0706 - val_loss: 0.0071 - val_mae: 0.0566\n",
      "Epoch 13/20\n",
      "121/121 [==============================] - 19s 156ms/step - loss: 0.0286 - mae: 0.0704 - val_loss: 0.0077 - val_mae: 0.0594\n",
      "Epoch 14/20\n",
      "121/121 [==============================] - 19s 156ms/step - loss: 0.0287 - mae: 0.0713 - val_loss: 0.0071 - val_mae: 0.0564\n",
      "Epoch 15/20\n",
      "121/121 [==============================] - 19s 156ms/step - loss: 0.0286 - mae: 0.0708 - val_loss: 0.0072 - val_mae: 0.0570\n",
      "Epoch 16/20\n",
      "121/121 [==============================] - 19s 156ms/step - loss: 0.0286 - mae: 0.0706 - val_loss: 0.0076 - val_mae: 0.0588\n",
      "Epoch 17/20\n",
      "121/121 [==============================] - 19s 156ms/step - loss: 0.0286 - mae: 0.0705 - val_loss: 0.0071 - val_mae: 0.0566\n",
      "Epoch 18/20\n",
      "121/121 [==============================] - 19s 156ms/step - loss: 0.0285 - mae: 0.0702 - val_loss: 0.0071 - val_mae: 0.0565\n",
      "Epoch 19/20\n",
      "121/121 [==============================] - 19s 156ms/step - loss: 0.0286 - mae: 0.0707 - val_loss: 0.0076 - val_mae: 0.0595\n",
      "Epoch 20/20\n",
      "121/121 [==============================] - 19s 156ms/step - loss: 0.0286 - mae: 0.0709 - val_loss: 0.0071 - val_mae: 0.0565\n",
      "Epoch 1/20\n",
      "121/121 [==============================] - 19s 158ms/step - loss: 0.0285 - mae: 0.0703 - val_loss: 0.0071 - val_mae: 0.0566\n",
      "Epoch 2/20\n",
      "121/121 [==============================] - 19s 156ms/step - loss: 0.0286 - mae: 0.0706 - val_loss: 0.0071 - val_mae: 0.0566\n",
      "Epoch 3/20\n",
      "121/121 [==============================] - 19s 157ms/step - loss: 0.0286 - mae: 0.0708 - val_loss: 0.0071 - val_mae: 0.0568\n",
      "Epoch 4/20\n",
      "121/121 [==============================] - 19s 157ms/step - loss: 0.0286 - mae: 0.0708 - val_loss: 0.0073 - val_mae: 0.0574\n",
      "Epoch 5/20\n",
      "121/121 [==============================] - 19s 157ms/step - loss: 0.0286 - mae: 0.0708 - val_loss: 0.0071 - val_mae: 0.0567\n",
      "Epoch 6/20\n",
      "121/121 [==============================] - 19s 156ms/step - loss: 0.0286 - mae: 0.0704 - val_loss: 0.0076 - val_mae: 0.0590\n",
      "Epoch 7/20\n",
      "121/121 [==============================] - 19s 157ms/step - loss: 0.0286 - mae: 0.0704 - val_loss: 0.0076 - val_mae: 0.0590\n",
      "Epoch 8/20\n",
      "121/121 [==============================] - 19s 158ms/step - loss: 0.0286 - mae: 0.0705 - val_loss: 0.0071 - val_mae: 0.0565\n",
      "Epoch 9/20\n",
      "121/121 [==============================] - 19s 158ms/step - loss: 0.0286 - mae: 0.0705 - val_loss: 0.0071 - val_mae: 0.0563\n",
      "Epoch 10/20\n",
      "121/121 [==============================] - 19s 157ms/step - loss: 0.0286 - mae: 0.0708 - val_loss: 0.0071 - val_mae: 0.0564\n",
      "Epoch 11/20\n",
      "121/121 [==============================] - 19s 159ms/step - loss: 0.0285 - mae: 0.0703 - val_loss: 0.0071 - val_mae: 0.0563\n",
      "Epoch 12/20\n",
      "121/121 [==============================] - 19s 157ms/step - loss: 0.0286 - mae: 0.0705 - val_loss: 0.0074 - val_mae: 0.0585\n",
      "Epoch 13/20\n",
      "121/121 [==============================] - 19s 156ms/step - loss: 0.0286 - mae: 0.0709 - val_loss: 0.0072 - val_mae: 0.0570\n",
      "Epoch 14/20\n",
      "121/121 [==============================] - 19s 156ms/step - loss: 0.0286 - mae: 0.0709 - val_loss: 0.0071 - val_mae: 0.0563\n",
      "Epoch 15/20\n",
      "121/121 [==============================] - 19s 156ms/step - loss: 0.0287 - mae: 0.0710 - val_loss: 0.0072 - val_mae: 0.0571\n",
      "Epoch 16/20\n",
      "121/121 [==============================] - 19s 156ms/step - loss: 0.0286 - mae: 0.0710 - val_loss: 0.0072 - val_mae: 0.0569\n",
      "Epoch 17/20\n",
      "121/121 [==============================] - 19s 156ms/step - loss: 0.0286 - mae: 0.0706 - val_loss: 0.0072 - val_mae: 0.0573\n",
      "Epoch 18/20\n",
      "121/121 [==============================] - 19s 156ms/step - loss: 0.0286 - mae: 0.0707 - val_loss: 0.0071 - val_mae: 0.0563\n",
      "Epoch 19/20\n",
      "121/121 [==============================] - 19s 156ms/step - loss: 0.0286 - mae: 0.0704 - val_loss: 0.0071 - val_mae: 0.0563\n",
      "Epoch 20/20\n",
      "121/121 [==============================] - 19s 156ms/step - loss: 0.0286 - mae: 0.0706 - val_loss: 0.0073 - val_mae: 0.0575\n"
     ]
    },
    {
     "data": {
      "text/html": [
       "Finishing last run (ID:17hark8a) before initializing another..."
      ],
      "text/plain": [
       "<IPython.core.display.HTML object>"
      ]
     },
     "metadata": {},
     "output_type": "display_data"
    },
    {
     "data": {
      "text/html": [
       "<br/>Waiting for W&B process to finish, PID 24639<br/>Program ended successfully."
      ],
      "text/plain": [
       "<IPython.core.display.HTML object>"
      ]
     },
     "metadata": {},
     "output_type": "display_data"
    },
    {
     "data": {
      "text/html": [
       "Find user logs for this run at: <code>/home/richard_stana/programing/clanok/code/wandb/run-20210126_105152-17hark8a/logs/debug.log</code>"
      ],
      "text/plain": [
       "<IPython.core.display.HTML object>"
      ]
     },
     "metadata": {},
     "output_type": "display_data"
    },
    {
     "data": {
      "text/html": [
       "Find internal logs for this run at: <code>/home/richard_stana/programing/clanok/code/wandb/run-20210126_105152-17hark8a/logs/debug-internal.log</code>"
      ],
      "text/plain": [
       "<IPython.core.display.HTML object>"
      ]
     },
     "metadata": {},
     "output_type": "display_data"
    },
    {
     "data": {
      "text/html": [
       "<h3>Run summary:</h3><br/><style>\n",
       "    table.wandb td:nth-child(1) { padding: 0 10px; text-align: right }\n",
       "    </style><table class=\"wandb\">\n",
       "<tr><td>epoch</td><td>19</td></tr><tr><td>loss</td><td>0.02859</td></tr><tr><td>mae</td><td>0.07063</td></tr><tr><td>val_loss</td><td>0.00727</td></tr><tr><td>val_mae</td><td>0.05754</td></tr><tr><td>_step</td><td>39</td></tr><tr><td>_runtime</td><td>773</td></tr><tr><td>_timestamp</td><td>1611659088</td></tr><tr><td>best_val_loss</td><td>0.00706</td></tr><tr><td>best_epoch</td><td>10</td></tr></table>"
      ],
      "text/plain": [
       "<IPython.core.display.HTML object>"
      ]
     },
     "metadata": {},
     "output_type": "display_data"
    },
    {
     "data": {
      "text/html": [
       "<h3>Run history:</h3><br/><style>\n",
       "    table.wandb td:nth-child(1) { padding: 0 10px; text-align: right }\n",
       "    </style><table class=\"wandb\">\n",
       "<tr><td>epoch</td><td>▁▁▂▂▂▃▃▄▄▄▅▅▅▆▆▇▇▇██▁▁▂▂▂▃▃▄▄▄▅▅▅▆▆▇▇▇██</td></tr><tr><td>loss</td><td>▄▅▅▃▂▅▃▃▇▃▃▃▂█▅▂▂▁▄▅▁▄▅▅▄▂▂▂▂▄▁▂▅▅▆▅▃▃▃▃</td></tr><tr><td>mae</td><td>▆▄▅▄▃▃▃▂█▄▄▄▂█▅▃▃▁▄▆▂▄▅▅▅▂▂▃▃▅▁▃▅▅▆▆▃▄▂▄</td></tr><tr><td>val_loss</td><td>▂▃▁▃▄▄▃▂▄▂▃▂█▁▂▇▂▂▇▂▂▁▂▄▂▇▇▁▁▁▁▅▂▁▃▂▃▁▁▃</td></tr><tr><td>val_mae</td><td>▃▃▁▃▄▄▃▂▄▂▃▂█▁▃▇▂▂█▂▂▂▂▄▂▇▇▂▁▁▁▆▃▁▃▃▃▁▁▄</td></tr><tr><td>_step</td><td>▁▁▁▂▂▂▂▂▂▃▃▃▃▃▄▄▄▄▄▄▅▅▅▅▅▅▆▆▆▆▆▇▇▇▇▇▇███</td></tr><tr><td>_runtime</td><td>▁▁▁▂▂▂▂▂▂▃▃▃▃▃▄▄▄▄▄▄▅▅▅▅▅▅▆▆▆▆▆▇▇▇▇▇▇███</td></tr><tr><td>_timestamp</td><td>▁▁▁▂▂▂▂▂▂▃▃▃▃▃▄▄▄▄▄▄▅▅▅▅▅▅▆▆▆▆▆▇▇▇▇▇▇███</td></tr></table><br/>"
      ],
      "text/plain": [
       "<IPython.core.display.HTML object>"
      ]
     },
     "metadata": {},
     "output_type": "display_data"
    },
    {
     "data": {
      "text/html": [
       "Synced 5 W&B file(s), 1 media file(s), 0 artifact file(s) and 1 other file(s)"
      ],
      "text/plain": [
       "<IPython.core.display.HTML object>"
      ]
     },
     "metadata": {},
     "output_type": "display_data"
    },
    {
     "data": {
      "text/html": [
       "\n",
       "                    <br/>Synced <strong style=\"color:#cdcd00\">lstm-30m-item582</strong>: <a href=\"https://wandb.ai/kriza/30m-item58/runs/17hark8a\" target=\"_blank\">https://wandb.ai/kriza/30m-item58/runs/17hark8a</a><br/>\n",
       "                "
      ],
      "text/plain": [
       "<IPython.core.display.HTML object>"
      ]
     },
     "metadata": {},
     "output_type": "display_data"
    },
    {
     "data": {
      "text/html": [
       "...Successfully finished last run (ID:17hark8a). Initializing new run:<br/><br/>"
      ],
      "text/plain": [
       "<IPython.core.display.HTML object>"
      ]
     },
     "metadata": {},
     "output_type": "display_data"
    },
    {
     "name": "stderr",
     "output_type": "stream",
     "text": [
      "\u001b[34m\u001b[1mwandb\u001b[0m: wandb version 0.10.15 is available!  To upgrade, please run:\n",
      "\u001b[34m\u001b[1mwandb\u001b[0m:  $ pip install wandb --upgrade\n"
     ]
    },
    {
     "data": {
      "text/html": [
       "\n",
       "                Tracking run with wandb version 0.10.14<br/>\n",
       "                Syncing run <strong style=\"color:#cdcd00\">cnn-30m-item582</strong> to <a href=\"https://wandb.ai\" target=\"_blank\">Weights & Biases</a> <a href=\"https://docs.wandb.com/integrations/jupyter.html\" target=\"_blank\">(Documentation)</a>.<br/>\n",
       "                Project page: <a href=\"https://wandb.ai/kriza/30m-item58\" target=\"_blank\">https://wandb.ai/kriza/30m-item58</a><br/>\n",
       "                Run page: <a href=\"https://wandb.ai/kriza/30m-item58/runs/333ogtn5\" target=\"_blank\">https://wandb.ai/kriza/30m-item58/runs/333ogtn5</a><br/>\n",
       "                Run data is saved locally in <code>/home/richard_stana/programing/clanok/code/wandb/run-20210126_110448-333ogtn5</code><br/><br/>\n",
       "            "
      ],
      "text/plain": [
       "<IPython.core.display.HTML object>"
      ]
     },
     "metadata": {},
     "output_type": "display_data"
    },
    {
     "name": "stdout",
     "output_type": "stream",
     "text": [
      "Epoch 1/20\n",
      "121/121 [==============================] - 3s 25ms/step - loss: 0.0284 - mae: 0.0698 - val_loss: 0.0070 - val_mae: 0.0562\n",
      "Epoch 2/20\n",
      "121/121 [==============================] - 3s 23ms/step - loss: 0.0285 - mae: 0.0698 - val_loss: 0.0070 - val_mae: 0.0563\n",
      "Epoch 3/20\n",
      "121/121 [==============================] - 3s 24ms/step - loss: 0.0285 - mae: 0.0698 - val_loss: 0.0070 - val_mae: 0.0562\n",
      "Epoch 4/20\n",
      "121/121 [==============================] - 3s 23ms/step - loss: 0.0284 - mae: 0.0698 - val_loss: 0.0071 - val_mae: 0.0562\n",
      "Epoch 5/20\n",
      "121/121 [==============================] - 3s 23ms/step - loss: 0.0285 - mae: 0.0698 - val_loss: 0.0070 - val_mae: 0.0562\n",
      "Epoch 6/20\n",
      "121/121 [==============================] - 3s 23ms/step - loss: 0.0284 - mae: 0.0698 - val_loss: 0.0070 - val_mae: 0.0562\n",
      "Epoch 7/20\n",
      "121/121 [==============================] - 3s 23ms/step - loss: 0.0285 - mae: 0.0698 - val_loss: 0.0071 - val_mae: 0.0562\n",
      "Epoch 8/20\n",
      "121/121 [==============================] - 3s 23ms/step - loss: 0.0285 - mae: 0.0698 - val_loss: 0.0070 - val_mae: 0.0562\n",
      "Epoch 9/20\n",
      "121/121 [==============================] - 3s 23ms/step - loss: 0.0285 - mae: 0.0698 - val_loss: 0.0070 - val_mae: 0.0562\n",
      "Epoch 10/20\n",
      "121/121 [==============================] - 3s 23ms/step - loss: 0.0284 - mae: 0.0698 - val_loss: 0.0070 - val_mae: 0.0562\n",
      "Epoch 11/20\n",
      "121/121 [==============================] - 3s 23ms/step - loss: 0.0284 - mae: 0.0698 - val_loss: 0.0071 - val_mae: 0.0562\n",
      "Epoch 12/20\n",
      "121/121 [==============================] - 3s 23ms/step - loss: 0.0285 - mae: 0.0698 - val_loss: 0.0070 - val_mae: 0.0562\n",
      "Epoch 13/20\n",
      "121/121 [==============================] - 3s 24ms/step - loss: 0.0284 - mae: 0.0698 - val_loss: 0.0070 - val_mae: 0.0562\n",
      "Epoch 14/20\n",
      "121/121 [==============================] - 3s 23ms/step - loss: 0.0284 - mae: 0.0698 - val_loss: 0.0070 - val_mae: 0.0562\n",
      "Epoch 15/20\n",
      "121/121 [==============================] - 3s 23ms/step - loss: 0.0284 - mae: 0.0699 - val_loss: 0.0071 - val_mae: 0.0563\n",
      "Epoch 16/20\n",
      "121/121 [==============================] - 3s 23ms/step - loss: 0.0285 - mae: 0.0698 - val_loss: 0.0071 - val_mae: 0.0562\n",
      "Epoch 17/20\n",
      "121/121 [==============================] - 3s 23ms/step - loss: 0.0285 - mae: 0.0698 - val_loss: 0.0071 - val_mae: 0.0562\n",
      "Epoch 18/20\n",
      "121/121 [==============================] - 3s 23ms/step - loss: 0.0285 - mae: 0.0698 - val_loss: 0.0070 - val_mae: 0.0562\n",
      "Epoch 19/20\n",
      "121/121 [==============================] - 3s 23ms/step - loss: 0.0284 - mae: 0.0698 - val_loss: 0.0071 - val_mae: 0.0562\n",
      "Epoch 20/20\n",
      "121/121 [==============================] - 3s 23ms/step - loss: 0.0285 - mae: 0.0698 - val_loss: 0.0070 - val_mae: 0.0562\n",
      "Epoch 1/20\n",
      "121/121 [==============================] - 3s 23ms/step - loss: 0.0284 - mae: 0.0698 - val_loss: 0.0070 - val_mae: 0.0562\n",
      "Epoch 2/20\n",
      "121/121 [==============================] - 3s 23ms/step - loss: 0.0284 - mae: 0.0698 - val_loss: 0.0071 - val_mae: 0.0563\n",
      "Epoch 3/20\n",
      "121/121 [==============================] - 3s 23ms/step - loss: 0.0284 - mae: 0.0698 - val_loss: 0.0071 - val_mae: 0.0562\n",
      "Epoch 4/20\n",
      "121/121 [==============================] - 3s 23ms/step - loss: 0.0285 - mae: 0.0698 - val_loss: 0.0070 - val_mae: 0.0562\n",
      "Epoch 5/20\n",
      "121/121 [==============================] - 3s 23ms/step - loss: 0.0284 - mae: 0.0698 - val_loss: 0.0070 - val_mae: 0.0562\n",
      "Epoch 6/20\n",
      "121/121 [==============================] - 3s 23ms/step - loss: 0.0284 - mae: 0.0698 - val_loss: 0.0071 - val_mae: 0.0562\n",
      "Epoch 7/20\n",
      "121/121 [==============================] - 3s 23ms/step - loss: 0.0285 - mae: 0.0698 - val_loss: 0.0070 - val_mae: 0.0562\n",
      "Epoch 8/20\n",
      "121/121 [==============================] - 3s 23ms/step - loss: 0.0284 - mae: 0.0698 - val_loss: 0.0071 - val_mae: 0.0562\n",
      "Epoch 9/20\n",
      "121/121 [==============================] - 3s 23ms/step - loss: 0.0284 - mae: 0.0698 - val_loss: 0.0071 - val_mae: 0.0562\n",
      "Epoch 10/20\n",
      "121/121 [==============================] - 3s 23ms/step - loss: 0.0284 - mae: 0.0698 - val_loss: 0.0070 - val_mae: 0.0562\n",
      "Epoch 11/20\n",
      "121/121 [==============================] - 3s 23ms/step - loss: 0.0284 - mae: 0.0698 - val_loss: 0.0070 - val_mae: 0.0562\n",
      "Epoch 12/20\n",
      "121/121 [==============================] - 3s 23ms/step - loss: 0.0284 - mae: 0.0698 - val_loss: 0.0071 - val_mae: 0.0562\n",
      "Epoch 13/20\n",
      "121/121 [==============================] - 3s 23ms/step - loss: 0.0285 - mae: 0.0698 - val_loss: 0.0070 - val_mae: 0.0562\n",
      "Epoch 14/20\n",
      "121/121 [==============================] - 3s 23ms/step - loss: 0.0284 - mae: 0.0698 - val_loss: 0.0071 - val_mae: 0.0563\n",
      "Epoch 15/20\n",
      "121/121 [==============================] - 3s 23ms/step - loss: 0.0284 - mae: 0.0698 - val_loss: 0.0070 - val_mae: 0.0562\n",
      "Epoch 16/20\n",
      "121/121 [==============================] - 3s 23ms/step - loss: 0.0284 - mae: 0.0699 - val_loss: 0.0071 - val_mae: 0.0562\n",
      "Epoch 17/20\n",
      "121/121 [==============================] - 3s 23ms/step - loss: 0.0284 - mae: 0.0698 - val_loss: 0.0070 - val_mae: 0.0562\n",
      "Epoch 18/20\n",
      "121/121 [==============================] - 3s 23ms/step - loss: 0.0284 - mae: 0.0698 - val_loss: 0.0070 - val_mae: 0.0562\n",
      "Epoch 19/20\n",
      "121/121 [==============================] - 3s 23ms/step - loss: 0.0284 - mae: 0.0698 - val_loss: 0.0071 - val_mae: 0.0562\n",
      "Epoch 20/20\n",
      "121/121 [==============================] - 3s 23ms/step - loss: 0.0284 - mae: 0.0698 - val_loss: 0.0070 - val_mae: 0.0562\n"
     ]
    },
    {
     "data": {
      "text/html": [
       "Finishing last run (ID:333ogtn5) before initializing another..."
      ],
      "text/plain": [
       "<IPython.core.display.HTML object>"
      ]
     },
     "metadata": {},
     "output_type": "display_data"
    },
    {
     "data": {
      "text/html": [
       "<br/>Waiting for W&B process to finish, PID 27127<br/>Program ended successfully."
      ],
      "text/plain": [
       "<IPython.core.display.HTML object>"
      ]
     },
     "metadata": {},
     "output_type": "display_data"
    },
    {
     "data": {
      "text/html": [
       "Find user logs for this run at: <code>/home/richard_stana/programing/clanok/code/wandb/run-20210126_110448-333ogtn5/logs/debug.log</code>"
      ],
      "text/plain": [
       "<IPython.core.display.HTML object>"
      ]
     },
     "metadata": {},
     "output_type": "display_data"
    },
    {
     "data": {
      "text/html": [
       "Find internal logs for this run at: <code>/home/richard_stana/programing/clanok/code/wandb/run-20210126_110448-333ogtn5/logs/debug-internal.log</code>"
      ],
      "text/plain": [
       "<IPython.core.display.HTML object>"
      ]
     },
     "metadata": {},
     "output_type": "display_data"
    },
    {
     "data": {
      "text/html": [
       "<h3>Run summary:</h3><br/><style>\n",
       "    table.wandb td:nth-child(1) { padding: 0 10px; text-align: right }\n",
       "    </style><table class=\"wandb\">\n",
       "<tr><td>epoch</td><td>19</td></tr><tr><td>loss</td><td>0.02845</td></tr><tr><td>mae</td><td>0.06981</td></tr><tr><td>val_loss</td><td>0.00705</td></tr><tr><td>val_mae</td><td>0.05622</td></tr><tr><td>_step</td><td>39</td></tr><tr><td>_runtime</td><td>118</td></tr><tr><td>_timestamp</td><td>1611659212</td></tr><tr><td>best_val_loss</td><td>0.00704</td></tr><tr><td>best_epoch</td><td>12</td></tr></table>"
      ],
      "text/plain": [
       "<IPython.core.display.HTML object>"
      ]
     },
     "metadata": {},
     "output_type": "display_data"
    },
    {
     "data": {
      "text/html": [
       "<h3>Run history:</h3><br/><style>\n",
       "    table.wandb td:nth-child(1) { padding: 0 10px; text-align: right }\n",
       "    </style><table class=\"wandb\">\n",
       "<tr><td>epoch</td><td>▁▁▂▂▂▃▃▄▄▄▅▅▅▆▆▇▇▇██▁▁▂▂▂▃▃▄▄▄▅▅▅▆▆▇▇▇██</td></tr><tr><td>loss</td><td>▄▅▇▂▅▃▅▆▅▂▃▆▃▂▂▆▇▇▃▆▃▄▄▇▄▂█▄▂▂▁▅▇▂▄▃▄▄▂▄</td></tr><tr><td>mae</td><td>▃▃▃▂▅▃▃▃▂▃▂▄▃▁█▄▄▄▄▄▃▄▃▄▅▃▄▄▃▄▂▃▄▃▂█▃▄▃▄</td></tr><tr><td>val_loss</td><td>▁▃▂▅▃▂▆▂▂▁▅▃▁▃█▄▄▁▅▁▃█▅▂▁▅▃▆▄▄▃▅▃█▃▆▃▂▅▃</td></tr><tr><td>val_mae</td><td>▂▆▁▅▃▂▅▁▄▂▄▂▄▃█▄▃▃▄▃▂▇▅▃▃▄▂▅▅▃▅▄▃▇▃▄▄▃▄▄</td></tr><tr><td>_step</td><td>▁▁▁▂▂▂▂▂▂▃▃▃▃▃▄▄▄▄▄▄▅▅▅▅▅▅▆▆▆▆▆▇▇▇▇▇▇███</td></tr><tr><td>_runtime</td><td>▁▁▁▂▂▂▂▂▂▃▃▃▃▃▄▄▄▄▄▄▅▅▅▅▅▆▆▆▆▆▆▇▇▇▇▇▇███</td></tr><tr><td>_timestamp</td><td>▁▁▁▂▂▂▂▂▂▃▃▃▃▃▄▄▄▄▄▄▅▅▅▅▅▆▆▆▆▆▆▇▇▇▇▇▇███</td></tr></table><br/>"
      ],
      "text/plain": [
       "<IPython.core.display.HTML object>"
      ]
     },
     "metadata": {},
     "output_type": "display_data"
    },
    {
     "data": {
      "text/html": [
       "Synced 5 W&B file(s), 1 media file(s), 0 artifact file(s) and 1 other file(s)"
      ],
      "text/plain": [
       "<IPython.core.display.HTML object>"
      ]
     },
     "metadata": {},
     "output_type": "display_data"
    },
    {
     "data": {
      "text/html": [
       "\n",
       "                    <br/>Synced <strong style=\"color:#cdcd00\">cnn-30m-item582</strong>: <a href=\"https://wandb.ai/kriza/30m-item58/runs/333ogtn5\" target=\"_blank\">https://wandb.ai/kriza/30m-item58/runs/333ogtn5</a><br/>\n",
       "                "
      ],
      "text/plain": [
       "<IPython.core.display.HTML object>"
      ]
     },
     "metadata": {},
     "output_type": "display_data"
    },
    {
     "data": {
      "text/html": [
       "...Successfully finished last run (ID:333ogtn5). Initializing new run:<br/><br/>"
      ],
      "text/plain": [
       "<IPython.core.display.HTML object>"
      ]
     },
     "metadata": {},
     "output_type": "display_data"
    },
    {
     "name": "stderr",
     "output_type": "stream",
     "text": [
      "\u001b[34m\u001b[1mwandb\u001b[0m: wandb version 0.10.15 is available!  To upgrade, please run:\n",
      "\u001b[34m\u001b[1mwandb\u001b[0m:  $ pip install wandb --upgrade\n"
     ]
    },
    {
     "data": {
      "text/html": [
       "\n",
       "                Tracking run with wandb version 0.10.14<br/>\n",
       "                Syncing run <strong style=\"color:#cdcd00\">dobra_cnn-30m-item582</strong> to <a href=\"https://wandb.ai\" target=\"_blank\">Weights & Biases</a> <a href=\"https://docs.wandb.com/integrations/jupyter.html\" target=\"_blank\">(Documentation)</a>.<br/>\n",
       "                Project page: <a href=\"https://wandb.ai/kriza/30m-item58\" target=\"_blank\">https://wandb.ai/kriza/30m-item58</a><br/>\n",
       "                Run page: <a href=\"https://wandb.ai/kriza/30m-item58/runs/2ndbqnfg\" target=\"_blank\">https://wandb.ai/kriza/30m-item58/runs/2ndbqnfg</a><br/>\n",
       "                Run data is saved locally in <code>/home/richard_stana/programing/clanok/code/wandb/run-20210126_110652-2ndbqnfg</code><br/><br/>\n",
       "            "
      ],
      "text/plain": [
       "<IPython.core.display.HTML object>"
      ]
     },
     "metadata": {},
     "output_type": "display_data"
    },
    {
     "name": "stdout",
     "output_type": "stream",
     "text": [
      "Epoch 1/20\n",
      "121/121 [==============================] - 1s 12ms/step - loss: 0.0083 - mae: 0.0596 - val_loss: 0.0077 - val_mae: 0.0589\n",
      "Epoch 2/20\n",
      "121/121 [==============================] - 1s 11ms/step - loss: 0.0071 - mae: 0.0551 - val_loss: 0.0070 - val_mae: 0.0558\n",
      "Epoch 3/20\n",
      "121/121 [==============================] - 1s 10ms/step - loss: 0.0064 - mae: 0.0523 - val_loss: 0.0082 - val_mae: 0.0603\n",
      "Epoch 4/20\n",
      "121/121 [==============================] - 1s 10ms/step - loss: 0.0068 - mae: 0.0520 - val_loss: 0.0079 - val_mae: 0.0595\n",
      "Epoch 5/20\n",
      "121/121 [==============================] - 1s 10ms/step - loss: 0.0065 - mae: 0.0503 - val_loss: 0.0081 - val_mae: 0.0611\n",
      "Epoch 6/20\n",
      "121/121 [==============================] - 1s 10ms/step - loss: 0.0056 - mae: 0.0487 - val_loss: 0.0080 - val_mae: 0.0611\n",
      "Epoch 7/20\n",
      "121/121 [==============================] - 1s 10ms/step - loss: 0.0052 - mae: 0.0468 - val_loss: 0.0078 - val_mae: 0.0602\n",
      "Epoch 8/20\n",
      "121/121 [==============================] - 1s 10ms/step - loss: 0.0050 - mae: 0.0463 - val_loss: 0.0083 - val_mae: 0.0618\n",
      "Epoch 9/20\n",
      "121/121 [==============================] - 1s 10ms/step - loss: 0.0048 - mae: 0.0448 - val_loss: 0.0085 - val_mae: 0.0625\n",
      "Epoch 10/20\n",
      "121/121 [==============================] - 1s 10ms/step - loss: 0.0046 - mae: 0.0439 - val_loss: 0.0087 - val_mae: 0.0636\n",
      "Epoch 11/20\n",
      "121/121 [==============================] - 1s 10ms/step - loss: 0.0046 - mae: 0.0436 - val_loss: 0.0087 - val_mae: 0.0644\n",
      "Epoch 12/20\n",
      "121/121 [==============================] - 1s 10ms/step - loss: 0.0048 - mae: 0.0439 - val_loss: 0.0078 - val_mae: 0.0605\n",
      "Epoch 13/20\n",
      "121/121 [==============================] - 1s 10ms/step - loss: 0.0049 - mae: 0.0441 - val_loss: 0.0079 - val_mae: 0.0602\n",
      "Epoch 14/20\n",
      "121/121 [==============================] - 1s 10ms/step - loss: 0.0054 - mae: 0.0449 - val_loss: 0.0084 - val_mae: 0.0631\n",
      "Epoch 15/20\n",
      "121/121 [==============================] - 1s 10ms/step - loss: 0.0047 - mae: 0.0437 - val_loss: 0.0094 - val_mae: 0.0667\n",
      "Epoch 16/20\n",
      "121/121 [==============================] - 1s 10ms/step - loss: 0.0050 - mae: 0.0437 - val_loss: 0.0091 - val_mae: 0.0656\n",
      "Epoch 17/20\n",
      "121/121 [==============================] - 1s 10ms/step - loss: 0.0044 - mae: 0.0416 - val_loss: 0.0087 - val_mae: 0.0643\n",
      "Epoch 18/20\n",
      "121/121 [==============================] - 1s 10ms/step - loss: 0.0039 - mae: 0.0398 - val_loss: 0.0084 - val_mae: 0.0632\n",
      "Epoch 19/20\n",
      "121/121 [==============================] - 1s 10ms/step - loss: 0.0049 - mae: 0.0419 - val_loss: 0.0089 - val_mae: 0.0645\n",
      "Epoch 20/20\n",
      "121/121 [==============================] - 1s 10ms/step - loss: 0.0046 - mae: 0.0414 - val_loss: 0.0088 - val_mae: 0.0643\n",
      "Epoch 1/20\n",
      "121/121 [==============================] - 1s 11ms/step - loss: 0.0038 - mae: 0.0392 - val_loss: 0.0090 - val_mae: 0.0647\n",
      "Epoch 2/20\n",
      "121/121 [==============================] - 1s 11ms/step - loss: 0.0036 - mae: 0.0379 - val_loss: 0.0086 - val_mae: 0.0641\n",
      "Epoch 3/20\n",
      "121/121 [==============================] - 1s 10ms/step - loss: 0.0034 - mae: 0.0368 - val_loss: 0.0092 - val_mae: 0.0661\n",
      "Epoch 4/20\n",
      "121/121 [==============================] - 1s 10ms/step - loss: 0.0033 - mae: 0.0360 - val_loss: 0.0088 - val_mae: 0.0643\n",
      "Epoch 5/20\n",
      "121/121 [==============================] - 1s 10ms/step - loss: 0.0032 - mae: 0.0357 - val_loss: 0.0091 - val_mae: 0.0666\n",
      "Epoch 6/20\n",
      "121/121 [==============================] - 1s 10ms/step - loss: 0.0034 - mae: 0.0359 - val_loss: 0.0091 - val_mae: 0.0664\n",
      "Epoch 7/20\n",
      "121/121 [==============================] - 1s 10ms/step - loss: 0.0033 - mae: 0.0357 - val_loss: 0.0092 - val_mae: 0.0663\n",
      "Epoch 8/20\n",
      "121/121 [==============================] - 1s 10ms/step - loss: 0.0032 - mae: 0.0353 - val_loss: 0.0091 - val_mae: 0.0671\n",
      "Epoch 9/20\n",
      "121/121 [==============================] - 1s 10ms/step - loss: 0.0033 - mae: 0.0353 - val_loss: 0.0085 - val_mae: 0.0643\n",
      "Epoch 10/20\n",
      "121/121 [==============================] - 1s 11ms/step - loss: 0.0033 - mae: 0.0354 - val_loss: 0.0088 - val_mae: 0.0654\n",
      "Epoch 11/20\n",
      "121/121 [==============================] - 1s 10ms/step - loss: 0.0037 - mae: 0.0359 - val_loss: 0.0090 - val_mae: 0.0676\n",
      "Epoch 12/20\n",
      "121/121 [==============================] - 1s 10ms/step - loss: 0.0034 - mae: 0.0354 - val_loss: 0.0092 - val_mae: 0.0675\n",
      "Epoch 13/20\n",
      "121/121 [==============================] - 1s 10ms/step - loss: 0.0029 - mae: 0.0327 - val_loss: 0.0088 - val_mae: 0.0657\n",
      "Epoch 14/20\n",
      "121/121 [==============================] - 1s 10ms/step - loss: 0.0027 - mae: 0.0317 - val_loss: 0.0091 - val_mae: 0.0676\n",
      "Epoch 15/20\n",
      "121/121 [==============================] - 1s 10ms/step - loss: 0.0025 - mae: 0.0306 - val_loss: 0.0092 - val_mae: 0.0674\n",
      "Epoch 16/20\n",
      "121/121 [==============================] - 1s 10ms/step - loss: 0.0026 - mae: 0.0306 - val_loss: 0.0094 - val_mae: 0.0687\n",
      "Epoch 17/20\n",
      "121/121 [==============================] - 1s 10ms/step - loss: 0.0026 - mae: 0.0307 - val_loss: 0.0095 - val_mae: 0.0693\n",
      "Epoch 18/20\n",
      "121/121 [==============================] - 1s 11ms/step - loss: 0.0027 - mae: 0.0316 - val_loss: 0.0092 - val_mae: 0.0682\n",
      "Epoch 19/20\n",
      "121/121 [==============================] - 1s 10ms/step - loss: 0.0027 - mae: 0.0311 - val_loss: 0.0091 - val_mae: 0.0675\n",
      "Epoch 20/20\n",
      "121/121 [==============================] - 1s 10ms/step - loss: 0.0029 - mae: 0.0318 - val_loss: 0.0096 - val_mae: 0.0694\n"
     ]
    },
    {
     "data": {
      "text/html": [
       "Finishing last run (ID:2ndbqnfg) before initializing another..."
      ],
      "text/plain": [
       "<IPython.core.display.HTML object>"
      ]
     },
     "metadata": {},
     "output_type": "display_data"
    },
    {
     "data": {
      "text/html": [
       "<br/>Waiting for W&B process to finish, PID 27713<br/>Program ended successfully."
      ],
      "text/plain": [
       "<IPython.core.display.HTML object>"
      ]
     },
     "metadata": {},
     "output_type": "display_data"
    },
    {
     "data": {
      "text/html": [
       "Find user logs for this run at: <code>/home/richard_stana/programing/clanok/code/wandb/run-20210126_110652-2ndbqnfg/logs/debug.log</code>"
      ],
      "text/plain": [
       "<IPython.core.display.HTML object>"
      ]
     },
     "metadata": {},
     "output_type": "display_data"
    },
    {
     "data": {
      "text/html": [
       "Find internal logs for this run at: <code>/home/richard_stana/programing/clanok/code/wandb/run-20210126_110652-2ndbqnfg/logs/debug-internal.log</code>"
      ],
      "text/plain": [
       "<IPython.core.display.HTML object>"
      ]
     },
     "metadata": {},
     "output_type": "display_data"
    },
    {
     "data": {
      "text/html": [
       "<h3>Run summary:</h3><br/><style>\n",
       "    table.wandb td:nth-child(1) { padding: 0 10px; text-align: right }\n",
       "    </style><table class=\"wandb\">\n",
       "<tr><td>epoch</td><td>19</td></tr><tr><td>loss</td><td>0.00289</td></tr><tr><td>mae</td><td>0.0318</td></tr><tr><td>val_loss</td><td>0.00964</td></tr><tr><td>val_mae</td><td>0.06943</td></tr><tr><td>_step</td><td>39</td></tr><tr><td>_runtime</td><td>56</td></tr><tr><td>_timestamp</td><td>1611659272</td></tr><tr><td>best_val_loss</td><td>0.00702</td></tr><tr><td>best_epoch</td><td>1</td></tr></table>"
      ],
      "text/plain": [
       "<IPython.core.display.HTML object>"
      ]
     },
     "metadata": {},
     "output_type": "display_data"
    },
    {
     "data": {
      "text/html": [
       "<h3>Run history:</h3><br/><style>\n",
       "    table.wandb td:nth-child(1) { padding: 0 10px; text-align: right }\n",
       "    </style><table class=\"wandb\">\n",
       "<tr><td>epoch</td><td>▁▁▂▂▂▃▃▄▄▄▅▅▅▆▆▇▇▇██▁▁▂▂▂▃▃▄▄▄▅▅▅▆▆▇▇▇██</td></tr><tr><td>loss</td><td>█▆▆▆▆▅▄▄▄▄▃▄▄▄▄▄▃▃▄▃▃▂▂▂▂▂▂▂▂▂▂▂▁▁▁▁▁▁▁▁</td></tr><tr><td>mae</td><td>█▇▆▆▆▅▅▅▄▄▄▄▄▄▄▄▄▃▄▄▃▃▃▂▂▂▂▂▂▂▂▂▂▁▁▁▁▁▁▁</td></tr><tr><td>val_loss</td><td>▃▁▄▃▄▄▃▄▅▆▅▃▃▅▇▇▆▅▆▆▆▅▇▆▇▇▇▆▅▆▆▇▆▇▇▇█▇▆█</td></tr><tr><td>val_mae</td><td>▃▁▃▃▄▄▃▄▄▅▅▃▃▅▇▆▅▅▅▅▆▅▆▅▇▆▆▇▅▆▇▇▆▇▇██▇▇█</td></tr><tr><td>_step</td><td>▁▁▁▂▂▂▂▂▂▃▃▃▃▃▄▄▄▄▄▄▅▅▅▅▅▅▆▆▆▆▆▇▇▇▇▇▇███</td></tr><tr><td>_runtime</td><td>▁▁▁▂▂▂▂▂▂▃▃▃▃▃▃▄▄▄▄▄▅▅▅▅▅▆▆▆▆▆▆▇▇▇▇▇▇███</td></tr><tr><td>_timestamp</td><td>▁▁▁▂▂▂▂▂▂▃▃▃▃▃▃▄▄▄▄▄▅▅▅▅▅▆▆▆▆▆▆▇▇▇▇▇▇███</td></tr></table><br/>"
      ],
      "text/plain": [
       "<IPython.core.display.HTML object>"
      ]
     },
     "metadata": {},
     "output_type": "display_data"
    },
    {
     "data": {
      "text/html": [
       "Synced 5 W&B file(s), 1 media file(s), 0 artifact file(s) and 1 other file(s)"
      ],
      "text/plain": [
       "<IPython.core.display.HTML object>"
      ]
     },
     "metadata": {},
     "output_type": "display_data"
    },
    {
     "data": {
      "text/html": [
       "\n",
       "                    <br/>Synced <strong style=\"color:#cdcd00\">dobra_cnn-30m-item582</strong>: <a href=\"https://wandb.ai/kriza/30m-item58/runs/2ndbqnfg\" target=\"_blank\">https://wandb.ai/kriza/30m-item58/runs/2ndbqnfg</a><br/>\n",
       "                "
      ],
      "text/plain": [
       "<IPython.core.display.HTML object>"
      ]
     },
     "metadata": {},
     "output_type": "display_data"
    },
    {
     "data": {
      "text/html": [
       "...Successfully finished last run (ID:2ndbqnfg). Initializing new run:<br/><br/>"
      ],
      "text/plain": [
       "<IPython.core.display.HTML object>"
      ]
     },
     "metadata": {},
     "output_type": "display_data"
    },
    {
     "name": "stderr",
     "output_type": "stream",
     "text": [
      "\u001b[34m\u001b[1mwandb\u001b[0m: wandb version 0.10.15 is available!  To upgrade, please run:\n",
      "\u001b[34m\u001b[1mwandb\u001b[0m:  $ pip install wandb --upgrade\n"
     ]
    },
    {
     "data": {
      "text/html": [
       "\n",
       "                Tracking run with wandb version 0.10.14<br/>\n",
       "                Syncing run <strong style=\"color:#cdcd00\">lstm-30m-item592</strong> to <a href=\"https://wandb.ai\" target=\"_blank\">Weights & Biases</a> <a href=\"https://docs.wandb.com/integrations/jupyter.html\" target=\"_blank\">(Documentation)</a>.<br/>\n",
       "                Project page: <a href=\"https://wandb.ai/kriza/30m-item59\" target=\"_blank\">https://wandb.ai/kriza/30m-item59</a><br/>\n",
       "                Run page: <a href=\"https://wandb.ai/kriza/30m-item59/runs/kluut7qh\" target=\"_blank\">https://wandb.ai/kriza/30m-item59/runs/kluut7qh</a><br/>\n",
       "                Run data is saved locally in <code>/home/richard_stana/programing/clanok/code/wandb/run-20210126_110754-kluut7qh</code><br/><br/>\n",
       "            "
      ],
      "text/plain": [
       "<IPython.core.display.HTML object>"
      ]
     },
     "metadata": {},
     "output_type": "display_data"
    },
    {
     "name": "stdout",
     "output_type": "stream",
     "text": [
      "Epoch 1/20\n",
      "121/121 [==============================] - 20s 165ms/step - loss: 0.0432 - mae: 0.0632 - val_loss: 0.0080 - val_mae: 0.0579\n",
      "Epoch 2/20\n",
      "121/121 [==============================] - 19s 156ms/step - loss: 0.0430 - mae: 0.0628 - val_loss: 0.0084 - val_mae: 0.0609\n",
      "Epoch 3/20\n",
      "121/121 [==============================] - 19s 156ms/step - loss: 0.0431 - mae: 0.0626 - val_loss: 0.0082 - val_mae: 0.0588\n",
      "Epoch 4/20\n",
      "121/121 [==============================] - 19s 159ms/step - loss: 0.0432 - mae: 0.0640 - val_loss: 0.0080 - val_mae: 0.0574\n",
      "Epoch 5/20\n",
      "121/121 [==============================] - 19s 156ms/step - loss: 0.0432 - mae: 0.0631 - val_loss: 0.0084 - val_mae: 0.0604\n",
      "Epoch 6/20\n",
      "121/121 [==============================] - 19s 156ms/step - loss: 0.0432 - mae: 0.0641 - val_loss: 0.0080 - val_mae: 0.0579\n",
      "Epoch 7/20\n",
      "121/121 [==============================] - 19s 157ms/step - loss: 0.0431 - mae: 0.0628 - val_loss: 0.0080 - val_mae: 0.0575\n",
      "Epoch 8/20\n",
      "121/121 [==============================] - 19s 156ms/step - loss: 0.0431 - mae: 0.0627 - val_loss: 0.0080 - val_mae: 0.0581\n",
      "Epoch 9/20\n",
      "121/121 [==============================] - 19s 156ms/step - loss: 0.0431 - mae: 0.0629 - val_loss: 0.0085 - val_mae: 0.0603\n",
      "Epoch 10/20\n",
      "121/121 [==============================] - 19s 156ms/step - loss: 0.0432 - mae: 0.0635 - val_loss: 0.0080 - val_mae: 0.0580\n",
      "Epoch 11/20\n",
      "121/121 [==============================] - 19s 156ms/step - loss: 0.0431 - mae: 0.0628 - val_loss: 0.0080 - val_mae: 0.0577\n",
      "Epoch 12/20\n",
      "121/121 [==============================] - 19s 156ms/step - loss: 0.0431 - mae: 0.0631 - val_loss: 0.0084 - val_mae: 0.0597\n",
      "Epoch 13/20\n",
      "121/121 [==============================] - 19s 156ms/step - loss: 0.0431 - mae: 0.0631 - val_loss: 0.0082 - val_mae: 0.0594\n",
      "Epoch 14/20\n",
      "121/121 [==============================] - 19s 156ms/step - loss: 0.0432 - mae: 0.0631 - val_loss: 0.0083 - val_mae: 0.0597\n",
      "Epoch 15/20\n",
      "121/121 [==============================] - 19s 156ms/step - loss: 0.0433 - mae: 0.0641 - val_loss: 0.0081 - val_mae: 0.0589\n",
      "Epoch 16/20\n",
      "121/121 [==============================] - 19s 156ms/step - loss: 0.0432 - mae: 0.0631 - val_loss: 0.0081 - val_mae: 0.0581\n",
      "Epoch 17/20\n",
      "121/121 [==============================] - 19s 156ms/step - loss: 0.0431 - mae: 0.0632 - val_loss: 0.0085 - val_mae: 0.0603\n",
      "Epoch 18/20\n",
      "121/121 [==============================] - 19s 156ms/step - loss: 0.0431 - mae: 0.0629 - val_loss: 0.0080 - val_mae: 0.0576\n",
      "Epoch 19/20\n",
      "121/121 [==============================] - 19s 156ms/step - loss: 0.0431 - mae: 0.0628 - val_loss: 0.0080 - val_mae: 0.0575\n",
      "Epoch 20/20\n",
      "121/121 [==============================] - 19s 156ms/step - loss: 0.0432 - mae: 0.0635 - val_loss: 0.0081 - val_mae: 0.0578\n",
      "Epoch 1/20\n",
      "121/121 [==============================] - 19s 157ms/step - loss: 0.0431 - mae: 0.0628 - val_loss: 0.0080 - val_mae: 0.0576\n",
      "Epoch 2/20\n",
      "121/121 [==============================] - 19s 155ms/step - loss: 0.0431 - mae: 0.0631 - val_loss: 0.0081 - val_mae: 0.0586\n",
      "Epoch 3/20\n",
      "121/121 [==============================] - 19s 156ms/step - loss: 0.0431 - mae: 0.0629 - val_loss: 0.0082 - val_mae: 0.0592\n",
      "Epoch 4/20\n",
      "121/121 [==============================] - 19s 155ms/step - loss: 0.0431 - mae: 0.0634 - val_loss: 0.0086 - val_mae: 0.0618\n",
      "Epoch 5/20\n",
      "121/121 [==============================] - 19s 156ms/step - loss: 0.0430 - mae: 0.0626 - val_loss: 0.0080 - val_mae: 0.0577\n",
      "Epoch 6/20\n",
      "121/121 [==============================] - 19s 156ms/step - loss: 0.0432 - mae: 0.0631 - val_loss: 0.0080 - val_mae: 0.0578\n",
      "Epoch 7/20\n",
      "121/121 [==============================] - 19s 156ms/step - loss: 0.0431 - mae: 0.0629 - val_loss: 0.0080 - val_mae: 0.0577\n",
      "Epoch 8/20\n",
      "121/121 [==============================] - 19s 156ms/step - loss: 0.0431 - mae: 0.0626 - val_loss: 0.0081 - val_mae: 0.0580\n",
      "Epoch 9/20\n",
      "121/121 [==============================] - 19s 156ms/step - loss: 0.0431 - mae: 0.0632 - val_loss: 0.0081 - val_mae: 0.0586\n",
      "Epoch 10/20\n",
      "121/121 [==============================] - 19s 156ms/step - loss: 0.0432 - mae: 0.0636 - val_loss: 0.0082 - val_mae: 0.0593\n",
      "Epoch 11/20\n",
      "121/121 [==============================] - 19s 156ms/step - loss: 0.0431 - mae: 0.0627 - val_loss: 0.0080 - val_mae: 0.0577\n",
      "Epoch 12/20\n",
      "121/121 [==============================] - 19s 158ms/step - loss: 0.0431 - mae: 0.0627 - val_loss: 0.0080 - val_mae: 0.0576\n",
      "Epoch 13/20\n",
      "121/121 [==============================] - 19s 156ms/step - loss: 0.0431 - mae: 0.0627 - val_loss: 0.0082 - val_mae: 0.0583\n",
      "Epoch 14/20\n",
      "121/121 [==============================] - 19s 156ms/step - loss: 0.0431 - mae: 0.0629 - val_loss: 0.0082 - val_mae: 0.0589\n",
      "Epoch 15/20\n",
      "121/121 [==============================] - 19s 156ms/step - loss: 0.0432 - mae: 0.0634 - val_loss: 0.0081 - val_mae: 0.0579\n",
      "Epoch 16/20\n",
      "121/121 [==============================] - 19s 156ms/step - loss: 0.0431 - mae: 0.0628 - val_loss: 0.0082 - val_mae: 0.0593\n",
      "Epoch 17/20\n",
      "121/121 [==============================] - 19s 157ms/step - loss: 0.0431 - mae: 0.0631 - val_loss: 0.0080 - val_mae: 0.0575\n",
      "Epoch 18/20\n",
      "121/121 [==============================] - 19s 156ms/step - loss: 0.0432 - mae: 0.0637 - val_loss: 0.0080 - val_mae: 0.0576\n",
      "Epoch 19/20\n",
      "121/121 [==============================] - 19s 156ms/step - loss: 0.0432 - mae: 0.0632 - val_loss: 0.0081 - val_mae: 0.0580\n",
      "Epoch 20/20\n",
      "121/121 [==============================] - 19s 156ms/step - loss: 0.0432 - mae: 0.0638 - val_loss: 0.0080 - val_mae: 0.0579\n"
     ]
    },
    {
     "data": {
      "text/html": [
       "Finishing last run (ID:kluut7qh) before initializing another..."
      ],
      "text/plain": [
       "<IPython.core.display.HTML object>"
      ]
     },
     "metadata": {},
     "output_type": "display_data"
    },
    {
     "data": {
      "text/html": [
       "<br/>Waiting for W&B process to finish, PID 28053<br/>Program ended successfully."
      ],
      "text/plain": [
       "<IPython.core.display.HTML object>"
      ]
     },
     "metadata": {},
     "output_type": "display_data"
    },
    {
     "data": {
      "text/html": [
       "Find user logs for this run at: <code>/home/richard_stana/programing/clanok/code/wandb/run-20210126_110754-kluut7qh/logs/debug.log</code>"
      ],
      "text/plain": [
       "<IPython.core.display.HTML object>"
      ]
     },
     "metadata": {},
     "output_type": "display_data"
    },
    {
     "data": {
      "text/html": [
       "Find internal logs for this run at: <code>/home/richard_stana/programing/clanok/code/wandb/run-20210126_110754-kluut7qh/logs/debug-internal.log</code>"
      ],
      "text/plain": [
       "<IPython.core.display.HTML object>"
      ]
     },
     "metadata": {},
     "output_type": "display_data"
    },
    {
     "data": {
      "text/html": [
       "<h3>Run summary:</h3><br/><style>\n",
       "    table.wandb td:nth-child(1) { padding: 0 10px; text-align: right }\n",
       "    </style><table class=\"wandb\">\n",
       "<tr><td>epoch</td><td>19</td></tr><tr><td>loss</td><td>0.04324</td></tr><tr><td>mae</td><td>0.06376</td></tr><tr><td>val_loss</td><td>0.008</td></tr><tr><td>val_mae</td><td>0.05787</td></tr><tr><td>_step</td><td>39</td></tr><tr><td>_runtime</td><td>772</td></tr><tr><td>_timestamp</td><td>1611660049</td></tr><tr><td>best_val_loss</td><td>0.00797</td></tr><tr><td>best_epoch</td><td>11</td></tr></table>"
      ],
      "text/plain": [
       "<IPython.core.display.HTML object>"
      ]
     },
     "metadata": {},
     "output_type": "display_data"
    },
    {
     "data": {
      "text/html": [
       "<h3>Run history:</h3><br/><style>\n",
       "    table.wandb td:nth-child(1) { padding: 0 10px; text-align: right }\n",
       "    </style><table class=\"wandb\">\n",
       "<tr><td>epoch</td><td>▁▁▂▂▂▃▃▄▄▄▅▅▅▆▆▇▇▇██▁▁▂▂▂▃▃▄▄▄▅▅▅▆▆▇▇▇██</td></tr><tr><td>loss</td><td>▆▁▁▇▅▇▂▁▃▅▃▄▃▅█▅▂▄▂▅▃▄▃▄▁▅▄▃▄▇▂▄▃▃▆▃▄▆▅█</td></tr><tr><td>mae</td><td>▄▂▁█▃█▂▁▂▅▂▃▃▃█▃▄▂▂▅▂▃▂▅▁▃▂▁▄▆▂▂▁▂▅▂▃▆▄▆</td></tr><tr><td>val_loss</td><td>▂▆▄▁▆▂▁▂▇▂▁▅▄▄▃▂▇▁▁▂▂▃▄█▁▁▁▃▂▄▂▁▃▄▂▄▁▁▃▁</td></tr><tr><td>val_mae</td><td>▂▆▃▁▆▂▁▂▆▂▁▅▄▅▃▂▆▁▁▂▁▃▄█▁▂▁▂▃▄▁▁▂▃▂▄▁▁▂▂</td></tr><tr><td>_step</td><td>▁▁▁▂▂▂▂▂▂▃▃▃▃▃▄▄▄▄▄▄▅▅▅▅▅▅▆▆▆▆▆▇▇▇▇▇▇███</td></tr><tr><td>_runtime</td><td>▁▁▁▂▂▂▂▂▂▃▃▃▃▃▄▄▄▄▄▄▅▅▅▅▅▅▆▆▆▆▆▇▇▇▇▇▇███</td></tr><tr><td>_timestamp</td><td>▁▁▁▂▂▂▂▂▂▃▃▃▃▃▄▄▄▄▄▄▅▅▅▅▅▅▆▆▆▆▆▇▇▇▇▇▇███</td></tr></table><br/>"
      ],
      "text/plain": [
       "<IPython.core.display.HTML object>"
      ]
     },
     "metadata": {},
     "output_type": "display_data"
    },
    {
     "data": {
      "text/html": [
       "Synced 5 W&B file(s), 1 media file(s), 0 artifact file(s) and 1 other file(s)"
      ],
      "text/plain": [
       "<IPython.core.display.HTML object>"
      ]
     },
     "metadata": {},
     "output_type": "display_data"
    },
    {
     "data": {
      "text/html": [
       "\n",
       "                    <br/>Synced <strong style=\"color:#cdcd00\">lstm-30m-item592</strong>: <a href=\"https://wandb.ai/kriza/30m-item59/runs/kluut7qh\" target=\"_blank\">https://wandb.ai/kriza/30m-item59/runs/kluut7qh</a><br/>\n",
       "                "
      ],
      "text/plain": [
       "<IPython.core.display.HTML object>"
      ]
     },
     "metadata": {},
     "output_type": "display_data"
    },
    {
     "data": {
      "text/html": [
       "...Successfully finished last run (ID:kluut7qh). Initializing new run:<br/><br/>"
      ],
      "text/plain": [
       "<IPython.core.display.HTML object>"
      ]
     },
     "metadata": {},
     "output_type": "display_data"
    },
    {
     "name": "stderr",
     "output_type": "stream",
     "text": [
      "\u001b[34m\u001b[1mwandb\u001b[0m: wandb version 0.10.15 is available!  To upgrade, please run:\n",
      "\u001b[34m\u001b[1mwandb\u001b[0m:  $ pip install wandb --upgrade\n"
     ]
    },
    {
     "data": {
      "text/html": [
       "\n",
       "                Tracking run with wandb version 0.10.14<br/>\n",
       "                Syncing run <strong style=\"color:#cdcd00\">cnn-30m-item592</strong> to <a href=\"https://wandb.ai\" target=\"_blank\">Weights & Biases</a> <a href=\"https://docs.wandb.com/integrations/jupyter.html\" target=\"_blank\">(Documentation)</a>.<br/>\n",
       "                Project page: <a href=\"https://wandb.ai/kriza/30m-item59\" target=\"_blank\">https://wandb.ai/kriza/30m-item59</a><br/>\n",
       "                Run page: <a href=\"https://wandb.ai/kriza/30m-item59/runs/96gn62ca\" target=\"_blank\">https://wandb.ai/kriza/30m-item59/runs/96gn62ca</a><br/>\n",
       "                Run data is saved locally in <code>/home/richard_stana/programing/clanok/code/wandb/run-20210126_112049-96gn62ca</code><br/><br/>\n",
       "            "
      ],
      "text/plain": [
       "<IPython.core.display.HTML object>"
      ]
     },
     "metadata": {},
     "output_type": "display_data"
    },
    {
     "name": "stdout",
     "output_type": "stream",
     "text": [
      "Epoch 1/20\n",
      "121/121 [==============================] - 3s 26ms/step - loss: 0.0430 - mae: 0.0619 - val_loss: 0.0080 - val_mae: 0.0574\n",
      "Epoch 2/20\n",
      "121/121 [==============================] - 3s 25ms/step - loss: 0.0430 - mae: 0.0619 - val_loss: 0.0080 - val_mae: 0.0574\n",
      "Epoch 3/20\n",
      "121/121 [==============================] - 3s 25ms/step - loss: 0.0429 - mae: 0.0618 - val_loss: 0.0080 - val_mae: 0.0574\n",
      "Epoch 4/20\n",
      "121/121 [==============================] - 3s 23ms/step - loss: 0.0429 - mae: 0.0619 - val_loss: 0.0080 - val_mae: 0.0575\n",
      "Epoch 5/20\n",
      "121/121 [==============================] - 3s 25ms/step - loss: 0.0429 - mae: 0.0618 - val_loss: 0.0080 - val_mae: 0.0574\n",
      "Epoch 6/20\n",
      "121/121 [==============================] - 3s 24ms/step - loss: 0.0430 - mae: 0.0618 - val_loss: 0.0080 - val_mae: 0.0575\n",
      "Epoch 7/20\n",
      "121/121 [==============================] - ETA: 0s - loss: 0.0430 - mae: 0.061 - 3s 23ms/step - loss: 0.0430 - mae: 0.0619 - val_loss: 0.0080 - val_mae: 0.0575\n",
      "Epoch 8/20\n",
      "121/121 [==============================] - 3s 24ms/step - loss: 0.0430 - mae: 0.0618 - val_loss: 0.0080 - val_mae: 0.0574\n",
      "Epoch 9/20\n",
      "121/121 [==============================] - 3s 23ms/step - loss: 0.0430 - mae: 0.0618 - val_loss: 0.0080 - val_mae: 0.0574\n",
      "Epoch 10/20\n",
      "121/121 [==============================] - 3s 23ms/step - loss: 0.0429 - mae: 0.0618 - val_loss: 0.0080 - val_mae: 0.0575\n",
      "Epoch 11/20\n",
      "121/121 [==============================] - 3s 23ms/step - loss: 0.0430 - mae: 0.0619 - val_loss: 0.0080 - val_mae: 0.0575\n",
      "Epoch 12/20\n",
      "121/121 [==============================] - 3s 23ms/step - loss: 0.0429 - mae: 0.0619 - val_loss: 0.0080 - val_mae: 0.0575\n",
      "Epoch 13/20\n",
      "121/121 [==============================] - 3s 24ms/step - loss: 0.0430 - mae: 0.0619 - val_loss: 0.0080 - val_mae: 0.0575\n",
      "Epoch 14/20\n",
      "121/121 [==============================] - 3s 23ms/step - loss: 0.0429 - mae: 0.0619 - val_loss: 0.0080 - val_mae: 0.0575\n",
      "Epoch 15/20\n",
      "121/121 [==============================] - 3s 23ms/step - loss: 0.0430 - mae: 0.0619 - val_loss: 0.0080 - val_mae: 0.0574\n",
      "Epoch 16/20\n",
      "121/121 [==============================] - 3s 23ms/step - loss: 0.0430 - mae: 0.0619 - val_loss: 0.0080 - val_mae: 0.0575\n",
      "Epoch 17/20\n",
      "121/121 [==============================] - 3s 23ms/step - loss: 0.0429 - mae: 0.0619 - val_loss: 0.0080 - val_mae: 0.0574\n",
      "Epoch 18/20\n",
      "121/121 [==============================] - 3s 24ms/step - loss: 0.0430 - mae: 0.0619 - val_loss: 0.0080 - val_mae: 0.0575\n",
      "Epoch 19/20\n",
      "121/121 [==============================] - 3s 23ms/step - loss: 0.0430 - mae: 0.0618 - val_loss: 0.0080 - val_mae: 0.0575\n",
      "Epoch 20/20\n",
      "121/121 [==============================] - 3s 23ms/step - loss: 0.0429 - mae: 0.0618 - val_loss: 0.0080 - val_mae: 0.0575\n",
      "Epoch 1/20\n",
      "121/121 [==============================] - 3s 24ms/step - loss: 0.0430 - mae: 0.0618 - val_loss: 0.0080 - val_mae: 0.0575\n",
      "Epoch 2/20\n",
      "121/121 [==============================] - 3s 24ms/step - loss: 0.0430 - mae: 0.0618 - val_loss: 0.0080 - val_mae: 0.0574\n",
      "Epoch 3/20\n",
      "121/121 [==============================] - 3s 24ms/step - loss: 0.0430 - mae: 0.0618 - val_loss: 0.0080 - val_mae: 0.0574\n",
      "Epoch 4/20\n",
      "121/121 [==============================] - 3s 24ms/step - loss: 0.0430 - mae: 0.0618 - val_loss: 0.0080 - val_mae: 0.0574\n",
      "Epoch 5/20\n",
      "121/121 [==============================] - 3s 23ms/step - loss: 0.0430 - mae: 0.0619 - val_loss: 0.0080 - val_mae: 0.0575\n",
      "Epoch 6/20\n",
      "121/121 [==============================] - 3s 23ms/step - loss: 0.0429 - mae: 0.0619 - val_loss: 0.0080 - val_mae: 0.0575\n",
      "Epoch 7/20\n",
      "121/121 [==============================] - 3s 23ms/step - loss: 0.0429 - mae: 0.0619 - val_loss: 0.0080 - val_mae: 0.0575\n",
      "Epoch 8/20\n",
      "121/121 [==============================] - 3s 23ms/step - loss: 0.0430 - mae: 0.0618 - val_loss: 0.0080 - val_mae: 0.0574\n",
      "Epoch 9/20\n",
      "121/121 [==============================] - 3s 23ms/step - loss: 0.0430 - mae: 0.0619 - val_loss: 0.0080 - val_mae: 0.0574\n",
      "Epoch 10/20\n",
      "121/121 [==============================] - 3s 23ms/step - loss: 0.0430 - mae: 0.0619 - val_loss: 0.0080 - val_mae: 0.0574\n",
      "Epoch 11/20\n",
      "121/121 [==============================] - 3s 23ms/step - loss: 0.0430 - mae: 0.0618 - val_loss: 0.0080 - val_mae: 0.0575\n",
      "Epoch 12/20\n",
      "121/121 [==============================] - 3s 23ms/step - loss: 0.0430 - mae: 0.0618 - val_loss: 0.0080 - val_mae: 0.0574\n",
      "Epoch 13/20\n",
      "121/121 [==============================] - 3s 23ms/step - loss: 0.0430 - mae: 0.0618 - val_loss: 0.0080 - val_mae: 0.0574\n",
      "Epoch 14/20\n",
      "121/121 [==============================] - 3s 23ms/step - loss: 0.0430 - mae: 0.0618 - val_loss: 0.0080 - val_mae: 0.0575\n",
      "Epoch 15/20\n",
      "121/121 [==============================] - 3s 23ms/step - loss: 0.0430 - mae: 0.0618 - val_loss: 0.0080 - val_mae: 0.0575\n",
      "Epoch 16/20\n",
      "121/121 [==============================] - 3s 23ms/step - loss: 0.0430 - mae: 0.0619 - val_loss: 0.0080 - val_mae: 0.0574\n",
      "Epoch 17/20\n",
      "121/121 [==============================] - 3s 23ms/step - loss: 0.0430 - mae: 0.0619 - val_loss: 0.0080 - val_mae: 0.0574\n",
      "Epoch 18/20\n",
      "121/121 [==============================] - 3s 24ms/step - loss: 0.0430 - mae: 0.0619 - val_loss: 0.0080 - val_mae: 0.0574\n",
      "Epoch 19/20\n",
      "121/121 [==============================] - 3s 23ms/step - loss: 0.0430 - mae: 0.0619 - val_loss: 0.0080 - val_mae: 0.0575\n",
      "Epoch 20/20\n",
      "121/121 [==============================] - 3s 23ms/step - loss: 0.0430 - mae: 0.0619 - val_loss: 0.0080 - val_mae: 0.0574\n"
     ]
    },
    {
     "data": {
      "text/html": [
       "Finishing last run (ID:96gn62ca) before initializing another..."
      ],
      "text/plain": [
       "<IPython.core.display.HTML object>"
      ]
     },
     "metadata": {},
     "output_type": "display_data"
    },
    {
     "data": {
      "text/html": [
       "<br/>Waiting for W&B process to finish, PID 30609<br/>Program ended successfully."
      ],
      "text/plain": [
       "<IPython.core.display.HTML object>"
      ]
     },
     "metadata": {},
     "output_type": "display_data"
    },
    {
     "data": {
      "text/html": [
       "Find user logs for this run at: <code>/home/richard_stana/programing/clanok/code/wandb/run-20210126_112049-96gn62ca/logs/debug.log</code>"
      ],
      "text/plain": [
       "<IPython.core.display.HTML object>"
      ]
     },
     "metadata": {},
     "output_type": "display_data"
    },
    {
     "data": {
      "text/html": [
       "Find internal logs for this run at: <code>/home/richard_stana/programing/clanok/code/wandb/run-20210126_112049-96gn62ca/logs/debug-internal.log</code>"
      ],
      "text/plain": [
       "<IPython.core.display.HTML object>"
      ]
     },
     "metadata": {},
     "output_type": "display_data"
    },
    {
     "data": {
      "text/html": [
       "<h3>Run summary:</h3><br/><style>\n",
       "    table.wandb td:nth-child(1) { padding: 0 10px; text-align: right }\n",
       "    </style><table class=\"wandb\">\n",
       "<tr><td>epoch</td><td>19</td></tr><tr><td>loss</td><td>0.04295</td></tr><tr><td>mae</td><td>0.06186</td></tr><tr><td>val_loss</td><td>0.00797</td></tr><tr><td>val_mae</td><td>0.05742</td></tr><tr><td>_step</td><td>39</td></tr><tr><td>_runtime</td><td>119</td></tr><tr><td>_timestamp</td><td>1611660172</td></tr><tr><td>best_val_loss</td><td>0.00797</td></tr><tr><td>best_epoch</td><td>17</td></tr></table>"
      ],
      "text/plain": [
       "<IPython.core.display.HTML object>"
      ]
     },
     "metadata": {},
     "output_type": "display_data"
    },
    {
     "data": {
      "text/html": [
       "<h3>Run history:</h3><br/><style>\n",
       "    table.wandb td:nth-child(1) { padding: 0 10px; text-align: right }\n",
       "    </style><table class=\"wandb\">\n",
       "<tr><td>epoch</td><td>▁▁▂▂▂▃▃▄▄▄▅▅▅▆▆▇▇▇██▁▁▂▂▂▃▃▄▄▄▅▅▅▆▆▇▇▇██</td></tr><tr><td>loss</td><td>█▃▂▂▃▃▄▆▃▂▄▂▃▁▅▆▃▆▆▁▄▄▆▅▃▂▁▃▄▄▃▃▄▃▄▃▄█▅▄</td></tr><tr><td>mae</td><td>▅▄▂▃▁▂▇▂▂▂▃▅▅▃▃▅▅▆▂▂▃▂▂▂▅█▃▂▄▃▃▂▁▂▂▃▄▅▆▃</td></tr><tr><td>val_loss</td><td>▃▂▂▄▁▁▂▂▂▃▅▃▁▅▁▁▂▁▁▅▂▂▁▂█▁▅▁▄▂▃▂▁▄▁▃▅▂▂▁</td></tr><tr><td>val_mae</td><td>▃▂▂▄▂▅▇▁▁▆▄▅▃▇▃▆▃▄▄▄▄▂▂▂█▅▄▃▂▂▄▂▂▆▅▂▃▁▇▂</td></tr><tr><td>_step</td><td>▁▁▁▂▂▂▂▂▂▃▃▃▃▃▄▄▄▄▄▄▅▅▅▅▅▅▆▆▆▆▆▇▇▇▇▇▇███</td></tr><tr><td>_runtime</td><td>▁▁▁▂▂▂▂▂▂▃▃▃▃▃▃▄▄▄▄▄▅▅▅▅▅▆▆▆▆▆▆▇▇▇▇▇▇███</td></tr><tr><td>_timestamp</td><td>▁▁▁▂▂▂▂▂▂▃▃▃▃▃▃▄▄▄▄▄▅▅▅▅▅▆▆▆▆▆▆▇▇▇▇▇▇███</td></tr></table><br/>"
      ],
      "text/plain": [
       "<IPython.core.display.HTML object>"
      ]
     },
     "metadata": {},
     "output_type": "display_data"
    },
    {
     "data": {
      "text/html": [
       "Synced 5 W&B file(s), 1 media file(s), 0 artifact file(s) and 1 other file(s)"
      ],
      "text/plain": [
       "<IPython.core.display.HTML object>"
      ]
     },
     "metadata": {},
     "output_type": "display_data"
    },
    {
     "data": {
      "text/html": [
       "\n",
       "                    <br/>Synced <strong style=\"color:#cdcd00\">cnn-30m-item592</strong>: <a href=\"https://wandb.ai/kriza/30m-item59/runs/96gn62ca\" target=\"_blank\">https://wandb.ai/kriza/30m-item59/runs/96gn62ca</a><br/>\n",
       "                "
      ],
      "text/plain": [
       "<IPython.core.display.HTML object>"
      ]
     },
     "metadata": {},
     "output_type": "display_data"
    },
    {
     "data": {
      "text/html": [
       "...Successfully finished last run (ID:96gn62ca). Initializing new run:<br/><br/>"
      ],
      "text/plain": [
       "<IPython.core.display.HTML object>"
      ]
     },
     "metadata": {},
     "output_type": "display_data"
    },
    {
     "name": "stderr",
     "output_type": "stream",
     "text": [
      "\u001b[34m\u001b[1mwandb\u001b[0m: wandb version 0.10.15 is available!  To upgrade, please run:\n",
      "\u001b[34m\u001b[1mwandb\u001b[0m:  $ pip install wandb --upgrade\n"
     ]
    },
    {
     "data": {
      "text/html": [
       "\n",
       "                Tracking run with wandb version 0.10.14<br/>\n",
       "                Syncing run <strong style=\"color:#cdcd00\">dobra_cnn-30m-item592</strong> to <a href=\"https://wandb.ai\" target=\"_blank\">Weights & Biases</a> <a href=\"https://docs.wandb.com/integrations/jupyter.html\" target=\"_blank\">(Documentation)</a>.<br/>\n",
       "                Project page: <a href=\"https://wandb.ai/kriza/30m-item59\" target=\"_blank\">https://wandb.ai/kriza/30m-item59</a><br/>\n",
       "                Run page: <a href=\"https://wandb.ai/kriza/30m-item59/runs/3sa51cya\" target=\"_blank\">https://wandb.ai/kriza/30m-item59/runs/3sa51cya</a><br/>\n",
       "                Run data is saved locally in <code>/home/richard_stana/programing/clanok/code/wandb/run-20210126_112252-3sa51cya</code><br/><br/>\n",
       "            "
      ],
      "text/plain": [
       "<IPython.core.display.HTML object>"
      ]
     },
     "metadata": {},
     "output_type": "display_data"
    },
    {
     "name": "stdout",
     "output_type": "stream",
     "text": [
      "Epoch 1/20\n",
      "121/121 [==============================] - 1s 12ms/step - loss: 0.0115 - mae: 0.0548 - val_loss: 0.0085 - val_mae: 0.0620\n",
      "Epoch 2/20\n",
      "121/121 [==============================] - 1s 11ms/step - loss: 0.0071 - mae: 0.0487 - val_loss: 0.0081 - val_mae: 0.0595\n",
      "Epoch 3/20\n",
      "121/121 [==============================] - 1s 10ms/step - loss: 0.0054 - mae: 0.0452 - val_loss: 0.0081 - val_mae: 0.0595\n",
      "Epoch 4/20\n",
      "121/121 [==============================] - 1s 10ms/step - loss: 0.0046 - mae: 0.0432 - val_loss: 0.0082 - val_mae: 0.0602\n",
      "Epoch 5/20\n",
      "121/121 [==============================] - 1s 10ms/step - loss: 0.0041 - mae: 0.0411 - val_loss: 0.0082 - val_mae: 0.0599\n",
      "Epoch 6/20\n",
      "121/121 [==============================] - 1s 10ms/step - loss: 0.0039 - mae: 0.0401 - val_loss: 0.0085 - val_mae: 0.0619\n",
      "Epoch 7/20\n",
      "121/121 [==============================] - 1s 10ms/step - loss: 0.0036 - mae: 0.0392 - val_loss: 0.0081 - val_mae: 0.0598\n",
      "Epoch 8/20\n",
      "121/121 [==============================] - 1s 10ms/step - loss: 0.0040 - mae: 0.0397 - val_loss: 0.0084 - val_mae: 0.0612\n",
      "Epoch 9/20\n",
      "121/121 [==============================] - 1s 10ms/step - loss: 0.0044 - mae: 0.0393 - val_loss: 0.0085 - val_mae: 0.0617\n",
      "Epoch 10/20\n",
      "121/121 [==============================] - 1s 10ms/step - loss: 0.0032 - mae: 0.0364 - val_loss: 0.0087 - val_mae: 0.0615\n",
      "Epoch 11/20\n",
      "121/121 [==============================] - 1s 10ms/step - loss: 0.0037 - mae: 0.0373 - val_loss: 0.0098 - val_mae: 0.0674\n",
      "Epoch 12/20\n",
      "121/121 [==============================] - 1s 11ms/step - loss: 0.0169 - mae: 0.0577 - val_loss: 0.0076 - val_mae: 0.0581\n",
      "Epoch 13/20\n",
      "121/121 [==============================] - 1s 10ms/step - loss: 0.0053 - mae: 0.0459 - val_loss: 0.0082 - val_mae: 0.0611\n",
      "Epoch 14/20\n",
      "121/121 [==============================] - 1s 10ms/step - loss: 0.0034 - mae: 0.0392 - val_loss: 0.0082 - val_mae: 0.0607A: 0s - loss:\n",
      "Epoch 15/20\n",
      "121/121 [==============================] - 1s 10ms/step - loss: 0.0028 - mae: 0.0359 - val_loss: 0.0082 - val_mae: 0.0608\n",
      "Epoch 16/20\n",
      "121/121 [==============================] - 1s 10ms/step - loss: 0.0026 - mae: 0.0341 - val_loss: 0.0084 - val_mae: 0.0617\n",
      "Epoch 17/20\n",
      "121/121 [==============================] - 1s 10ms/step - loss: 0.0024 - mae: 0.0328 - val_loss: 0.0085 - val_mae: 0.0620\n",
      "Epoch 18/20\n",
      "121/121 [==============================] - 1s 10ms/step - loss: 0.0023 - mae: 0.0318 - val_loss: 0.0085 - val_mae: 0.0620\n",
      "Epoch 19/20\n",
      "121/121 [==============================] - 1s 10ms/step - loss: 0.0023 - mae: 0.0312 - val_loss: 0.0088 - val_mae: 0.0634\n",
      "Epoch 20/20\n",
      "121/121 [==============================] - 1s 10ms/step - loss: 0.0022 - mae: 0.0307 - val_loss: 0.0087 - val_mae: 0.0635\n",
      "Epoch 1/20\n",
      "121/121 [==============================] - 1s 11ms/step - loss: 0.0022 - mae: 0.0303 - val_loss: 0.0087 - val_mae: 0.0635\n",
      "Epoch 2/20\n",
      "121/121 [==============================] - 1s 10ms/step - loss: 0.0022 - mae: 0.0301 - val_loss: 0.0088 - val_mae: 0.0634\n",
      "Epoch 3/20\n",
      "121/121 [==============================] - 1s 10ms/step - loss: 0.0023 - mae: 0.0302 - val_loss: 0.0088 - val_mae: 0.0637\n",
      "Epoch 4/20\n",
      "121/121 [==============================] - 1s 10ms/step - loss: 0.0023 - mae: 0.0301 - val_loss: 0.0087 - val_mae: 0.0636\n",
      "Epoch 5/20\n",
      "121/121 [==============================] - 1s 10ms/step - loss: 0.0026 - mae: 0.0308 - val_loss: 0.0093 - val_mae: 0.0662\n",
      "Epoch 6/20\n",
      "121/121 [==============================] - 1s 10ms/step - loss: 0.0037 - mae: 0.0344 - val_loss: 0.0088 - val_mae: 0.0638\n",
      "Epoch 7/20\n",
      "121/121 [==============================] - 1s 11ms/step - loss: 0.0026 - mae: 0.0313 - val_loss: 0.0086 - val_mae: 0.0630\n",
      "Epoch 8/20\n",
      "121/121 [==============================] - 1s 11ms/step - loss: 0.0023 - mae: 0.0298 - val_loss: 0.0086 - val_mae: 0.0629\n",
      "Epoch 9/20\n",
      "121/121 [==============================] - 1s 10ms/step - loss: 0.0020 - mae: 0.0286 - val_loss: 0.0086 - val_mae: 0.0636\n",
      "Epoch 10/20\n",
      "121/121 [==============================] - 1s 10ms/step - loss: 0.0019 - mae: 0.0278 - val_loss: 0.0088 - val_mae: 0.0642\n",
      "Epoch 11/20\n",
      "121/121 [==============================] - 1s 10ms/step - loss: 0.0020 - mae: 0.0277 - val_loss: 0.0087 - val_mae: 0.0638\n",
      "Epoch 12/20\n",
      "121/121 [==============================] - 1s 10ms/step - loss: 0.0020 - mae: 0.0279 - val_loss: 0.0088 - val_mae: 0.0639\n",
      "Epoch 13/20\n",
      "121/121 [==============================] - 1s 10ms/step - loss: 0.0020 - mae: 0.0277 - val_loss: 0.0089 - val_mae: 0.0646\n",
      "Epoch 14/20\n",
      "121/121 [==============================] - 1s 10ms/step - loss: 0.0021 - mae: 0.0278 - val_loss: 0.0090 - val_mae: 0.0650\n",
      "Epoch 15/20\n",
      "121/121 [==============================] - 1s 10ms/step - loss: 0.0020 - mae: 0.0276 - val_loss: 0.0090 - val_mae: 0.0650\n",
      "Epoch 16/20\n",
      "121/121 [==============================] - ETA: 0s - loss: 0.0021 - mae: 0.027 - 1s 10ms/step - loss: 0.0021 - mae: 0.0273 - val_loss: 0.0091 - val_mae: 0.0651\n",
      "Epoch 17/20\n",
      "121/121 [==============================] - 1s 10ms/step - loss: 0.0026 - mae: 0.0295 - val_loss: 0.0090 - val_mae: 0.0649\n",
      "Epoch 18/20\n",
      "121/121 [==============================] - 1s 10ms/step - loss: 0.0032 - mae: 0.0303 - val_loss: 0.0093 - val_mae: 0.0654\n",
      "Epoch 19/20\n",
      "121/121 [==============================] - 1s 10ms/step - loss: 0.0025 - mae: 0.0299 - val_loss: 0.0091 - val_mae: 0.0657\n",
      "Epoch 20/20\n",
      "121/121 [==============================] - 1s 10ms/step - loss: 0.0029 - mae: 0.0308 - val_loss: 0.0090 - val_mae: 0.0641\n"
     ]
    },
    {
     "data": {
      "text/html": [
       "Finishing last run (ID:3sa51cya) before initializing another..."
      ],
      "text/plain": [
       "<IPython.core.display.HTML object>"
      ]
     },
     "metadata": {},
     "output_type": "display_data"
    },
    {
     "data": {
      "text/html": [
       "<br/>Waiting for W&B process to finish, PID 31142<br/>Program ended successfully."
      ],
      "text/plain": [
       "<IPython.core.display.HTML object>"
      ]
     },
     "metadata": {},
     "output_type": "display_data"
    },
    {
     "data": {
      "text/html": [
       "Find user logs for this run at: <code>/home/richard_stana/programing/clanok/code/wandb/run-20210126_112252-3sa51cya/logs/debug.log</code>"
      ],
      "text/plain": [
       "<IPython.core.display.HTML object>"
      ]
     },
     "metadata": {},
     "output_type": "display_data"
    },
    {
     "data": {
      "text/html": [
       "Find internal logs for this run at: <code>/home/richard_stana/programing/clanok/code/wandb/run-20210126_112252-3sa51cya/logs/debug-internal.log</code>"
      ],
      "text/plain": [
       "<IPython.core.display.HTML object>"
      ]
     },
     "metadata": {},
     "output_type": "display_data"
    },
    {
     "data": {
      "text/html": [
       "<h3>Run summary:</h3><br/><style>\n",
       "    table.wandb td:nth-child(1) { padding: 0 10px; text-align: right }\n",
       "    </style><table class=\"wandb\">\n",
       "<tr><td>epoch</td><td>19</td></tr><tr><td>loss</td><td>0.00293</td></tr><tr><td>mae</td><td>0.03076</td></tr><tr><td>val_loss</td><td>0.00904</td></tr><tr><td>val_mae</td><td>0.0641</td></tr><tr><td>_step</td><td>39</td></tr><tr><td>_runtime</td><td>56</td></tr><tr><td>_timestamp</td><td>1611660232</td></tr><tr><td>best_val_loss</td><td>0.00764</td></tr><tr><td>best_epoch</td><td>11</td></tr></table>"
      ],
      "text/plain": [
       "<IPython.core.display.HTML object>"
      ]
     },
     "metadata": {},
     "output_type": "display_data"
    },
    {
     "data": {
      "text/html": [
       "<h3>Run history:</h3><br/><style>\n",
       "    table.wandb td:nth-child(1) { padding: 0 10px; text-align: right }\n",
       "    </style><table class=\"wandb\">\n",
       "<tr><td>epoch</td><td>▁▁▂▂▂▃▃▄▄▄▅▅▅▆▆▇▇▇██▁▁▂▂▂▃▃▄▄▄▅▅▅▆▆▇▇▇██</td></tr><tr><td>loss</td><td>▅▃▃▂▂▂▂▂▂▂▂█▃▂▁▁▁▁▁▁▁▁▁▁▁▂▁▁▁▁▁▁▁▁▁▁▁▂▁▁</td></tr><tr><td>mae</td><td>▇▆▅▅▄▄▄▄▄▃▃█▅▄▃▃▂▂▂▂▂▂▂▂▂▃▂▂▁▁▁▁▁▁▁▁▂▂▂▂</td></tr><tr><td>val_loss</td><td>▄▂▂▃▃▄▃▄▄▄█▁▃▃▃▄▄▄▅▄▅▅▅▄▇▅▄▄▄▅▄▅▅▅▅▆▅▆▆▆</td></tr><tr><td>val_mae</td><td>▄▂▂▃▂▄▂▃▄▄█▁▃▃▃▄▄▄▅▅▅▅▅▅▇▅▅▅▅▆▅▅▆▆▆▆▆▇▇▆</td></tr><tr><td>_step</td><td>▁▁▁▂▂▂▂▂▂▃▃▃▃▃▄▄▄▄▄▄▅▅▅▅▅▅▆▆▆▆▆▇▇▇▇▇▇███</td></tr><tr><td>_runtime</td><td>▁▁▁▂▂▂▂▂▂▃▃▃▃▃▃▄▄▄▄▄▅▅▅▅▅▆▆▆▆▆▆▆▇▇▇▇▇███</td></tr><tr><td>_timestamp</td><td>▁▁▁▂▂▂▂▂▂▃▃▃▃▃▃▄▄▄▄▄▅▅▅▅▅▆▆▆▆▆▆▆▇▇▇▇▇███</td></tr></table><br/>"
      ],
      "text/plain": [
       "<IPython.core.display.HTML object>"
      ]
     },
     "metadata": {},
     "output_type": "display_data"
    },
    {
     "data": {
      "text/html": [
       "Synced 5 W&B file(s), 1 media file(s), 0 artifact file(s) and 1 other file(s)"
      ],
      "text/plain": [
       "<IPython.core.display.HTML object>"
      ]
     },
     "metadata": {},
     "output_type": "display_data"
    },
    {
     "data": {
      "text/html": [
       "\n",
       "                    <br/>Synced <strong style=\"color:#cdcd00\">dobra_cnn-30m-item592</strong>: <a href=\"https://wandb.ai/kriza/30m-item59/runs/3sa51cya\" target=\"_blank\">https://wandb.ai/kriza/30m-item59/runs/3sa51cya</a><br/>\n",
       "                "
      ],
      "text/plain": [
       "<IPython.core.display.HTML object>"
      ]
     },
     "metadata": {},
     "output_type": "display_data"
    },
    {
     "data": {
      "text/html": [
       "...Successfully finished last run (ID:3sa51cya). Initializing new run:<br/><br/>"
      ],
      "text/plain": [
       "<IPython.core.display.HTML object>"
      ]
     },
     "metadata": {},
     "output_type": "display_data"
    },
    {
     "name": "stderr",
     "output_type": "stream",
     "text": [
      "\u001b[34m\u001b[1mwandb\u001b[0m: wandb version 0.10.15 is available!  To upgrade, please run:\n",
      "\u001b[34m\u001b[1mwandb\u001b[0m:  $ pip install wandb --upgrade\n"
     ]
    },
    {
     "data": {
      "text/html": [
       "\n",
       "                Tracking run with wandb version 0.10.14<br/>\n",
       "                Syncing run <strong style=\"color:#cdcd00\">lstm-30m-item612</strong> to <a href=\"https://wandb.ai\" target=\"_blank\">Weights & Biases</a> <a href=\"https://docs.wandb.com/integrations/jupyter.html\" target=\"_blank\">(Documentation)</a>.<br/>\n",
       "                Project page: <a href=\"https://wandb.ai/kriza/30m-item61\" target=\"_blank\">https://wandb.ai/kriza/30m-item61</a><br/>\n",
       "                Run page: <a href=\"https://wandb.ai/kriza/30m-item61/runs/522t81lt\" target=\"_blank\">https://wandb.ai/kriza/30m-item61/runs/522t81lt</a><br/>\n",
       "                Run data is saved locally in <code>/home/richard_stana/programing/clanok/code/wandb/run-20210126_112353-522t81lt</code><br/><br/>\n",
       "            "
      ],
      "text/plain": [
       "<IPython.core.display.HTML object>"
      ]
     },
     "metadata": {},
     "output_type": "display_data"
    },
    {
     "name": "stdout",
     "output_type": "stream",
     "text": [
      "Epoch 1/20\n",
      "121/121 [==============================] - 20s 165ms/step - loss: 0.0185 - mae: 0.0680 - val_loss: 0.0199 - val_mae: 0.0635\n",
      "Epoch 2/20\n",
      "121/121 [==============================] - 19s 156ms/step - loss: 0.0183 - mae: 0.0668 - val_loss: 0.0202 - val_mae: 0.0667\n",
      "Epoch 3/20\n",
      "121/121 [==============================] - 19s 157ms/step - loss: 0.0184 - mae: 0.0673 - val_loss: 0.0201 - val_mae: 0.0671\n",
      "Epoch 4/20\n",
      "121/121 [==============================] - 19s 156ms/step - loss: 0.0184 - mae: 0.0674 - val_loss: 0.0200 - val_mae: 0.0638\n",
      "Epoch 5/20\n",
      "121/121 [==============================] - 19s 157ms/step - loss: 0.0184 - mae: 0.0673 - val_loss: 0.0200 - val_mae: 0.0651\n",
      "Epoch 6/20\n",
      "121/121 [==============================] - 19s 157ms/step - loss: 0.0183 - mae: 0.0673 - val_loss: 0.0201 - val_mae: 0.0652\n",
      "Epoch 7/20\n",
      "121/121 [==============================] - 19s 157ms/step - loss: 0.0184 - mae: 0.0675 - val_loss: 0.0205 - val_mae: 0.0708\n",
      "Epoch 8/20\n",
      "121/121 [==============================] - 19s 158ms/step - loss: 0.0185 - mae: 0.0677 - val_loss: 0.0198 - val_mae: 0.0638\n",
      "Epoch 9/20\n",
      "121/121 [==============================] - 19s 157ms/step - loss: 0.0184 - mae: 0.0674 - val_loss: 0.0199 - val_mae: 0.0647\n",
      "Epoch 10/20\n",
      "121/121 [==============================] - 19s 157ms/step - loss: 0.0184 - mae: 0.0673 - val_loss: 0.0199 - val_mae: 0.0637\n",
      "Epoch 11/20\n",
      "121/121 [==============================] - 19s 156ms/step - loss: 0.0184 - mae: 0.0674 - val_loss: 0.0199 - val_mae: 0.0638\n",
      "Epoch 12/20\n",
      "121/121 [==============================] - 19s 156ms/step - loss: 0.0183 - mae: 0.0671 - val_loss: 0.0200 - val_mae: 0.0644\n",
      "Epoch 13/20\n",
      "121/121 [==============================] - 19s 156ms/step - loss: 0.0183 - mae: 0.0671 - val_loss: 0.0200 - val_mae: 0.0639\n",
      "Epoch 14/20\n",
      "121/121 [==============================] - 19s 156ms/step - loss: 0.0184 - mae: 0.0677 - val_loss: 0.0204 - val_mae: 0.0695\n",
      "Epoch 15/20\n",
      "121/121 [==============================] - 19s 156ms/step - loss: 0.0185 - mae: 0.0681 - val_loss: 0.0199 - val_mae: 0.0654\n",
      "Epoch 16/20\n",
      "121/121 [==============================] - 19s 156ms/step - loss: 0.0184 - mae: 0.0672 - val_loss: 0.0199 - val_mae: 0.0654\n",
      "Epoch 17/20\n",
      "121/121 [==============================] - 19s 156ms/step - loss: 0.0184 - mae: 0.0673 - val_loss: 0.0200 - val_mae: 0.0641\n",
      "Epoch 18/20\n",
      "121/121 [==============================] - 19s 156ms/step - loss: 0.0184 - mae: 0.0671 - val_loss: 0.0199 - val_mae: 0.0638\n",
      "Epoch 19/20\n",
      "121/121 [==============================] - 19s 156ms/step - loss: 0.0183 - mae: 0.0672 - val_loss: 0.0199 - val_mae: 0.0648\n",
      "Epoch 20/20\n",
      "121/121 [==============================] - 19s 156ms/step - loss: 0.0183 - mae: 0.0671 - val_loss: 0.0200 - val_mae: 0.0642\n",
      "Epoch 1/20\n",
      "121/121 [==============================] - 20s 162ms/step - loss: 0.0183 - mae: 0.0671 - val_loss: 0.0199 - val_mae: 0.0643\n",
      "Epoch 2/20\n",
      "121/121 [==============================] - 19s 159ms/step - loss: 0.0183 - mae: 0.0672 - val_loss: 0.0198 - val_mae: 0.0637\n",
      "Epoch 3/20\n",
      "121/121 [==============================] - 19s 158ms/step - loss: 0.0184 - mae: 0.0675 - val_loss: 0.0199 - val_mae: 0.0637\n",
      "Epoch 4/20\n",
      "121/121 [==============================] - 19s 157ms/step - loss: 0.0184 - mae: 0.0673 - val_loss: 0.0199 - val_mae: 0.0641\n",
      "Epoch 5/20\n",
      "121/121 [==============================] - 19s 157ms/step - loss: 0.0184 - mae: 0.0673 - val_loss: 0.0200 - val_mae: 0.0644\n",
      "Epoch 6/20\n",
      "121/121 [==============================] - 19s 157ms/step - loss: 0.0183 - mae: 0.0673 - val_loss: 0.0204 - val_mae: 0.0686\n",
      "Epoch 7/20\n",
      "121/121 [==============================] - 19s 157ms/step - loss: 0.0184 - mae: 0.0672 - val_loss: 0.0199 - val_mae: 0.0651\n",
      "Epoch 8/20\n",
      "121/121 [==============================] - 19s 156ms/step - loss: 0.0183 - mae: 0.0670 - val_loss: 0.0201 - val_mae: 0.0676\n",
      "Epoch 9/20\n",
      "121/121 [==============================] - 19s 157ms/step - loss: 0.0184 - mae: 0.0673 - val_loss: 0.0201 - val_mae: 0.0653\n",
      "Epoch 10/20\n",
      "121/121 [==============================] - 19s 156ms/step - loss: 0.0184 - mae: 0.0676 - val_loss: 0.0199 - val_mae: 0.0639\n",
      "Epoch 11/20\n",
      "121/121 [==============================] - 19s 156ms/step - loss: 0.0184 - mae: 0.0677 - val_loss: 0.0199 - val_mae: 0.0640\n",
      "Epoch 12/20\n",
      "121/121 [==============================] - 19s 156ms/step - loss: 0.0183 - mae: 0.0670 - val_loss: 0.0199 - val_mae: 0.0646\n",
      "Epoch 13/20\n",
      "121/121 [==============================] - 19s 156ms/step - loss: 0.0184 - mae: 0.0674 - val_loss: 0.0201 - val_mae: 0.0648\n",
      "Epoch 14/20\n",
      "121/121 [==============================] - 19s 156ms/step - loss: 0.0183 - mae: 0.0670 - val_loss: 0.0198 - val_mae: 0.0639\n",
      "Epoch 15/20\n",
      "121/121 [==============================] - 19s 156ms/step - loss: 0.0184 - mae: 0.0674 - val_loss: 0.0199 - val_mae: 0.0638\n",
      "Epoch 16/20\n",
      "121/121 [==============================] - 19s 156ms/step - loss: 0.0184 - mae: 0.0674 - val_loss: 0.0199 - val_mae: 0.0639\n",
      "Epoch 17/20\n",
      "121/121 [==============================] - 19s 158ms/step - loss: 0.0184 - mae: 0.0675 - val_loss: 0.0199 - val_mae: 0.0636\n",
      "Epoch 18/20\n",
      "121/121 [==============================] - 19s 156ms/step - loss: 0.0184 - mae: 0.0674 - val_loss: 0.0200 - val_mae: 0.0639\n",
      "Epoch 19/20\n",
      "121/121 [==============================] - 19s 156ms/step - loss: 0.0184 - mae: 0.0675 - val_loss: 0.0199 - val_mae: 0.0643\n",
      "Epoch 20/20\n",
      "121/121 [==============================] - 19s 156ms/step - loss: 0.0184 - mae: 0.0672 - val_loss: 0.0201 - val_mae: 0.0657\n"
     ]
    },
    {
     "data": {
      "text/html": [
       "Finishing last run (ID:522t81lt) before initializing another..."
      ],
      "text/plain": [
       "<IPython.core.display.HTML object>"
      ]
     },
     "metadata": {},
     "output_type": "display_data"
    },
    {
     "data": {
      "text/html": [
       "<br/>Waiting for W&B process to finish, PID 31483<br/>Program ended successfully."
      ],
      "text/plain": [
       "<IPython.core.display.HTML object>"
      ]
     },
     "metadata": {},
     "output_type": "display_data"
    },
    {
     "data": {
      "text/html": [
       "Find user logs for this run at: <code>/home/richard_stana/programing/clanok/code/wandb/run-20210126_112353-522t81lt/logs/debug.log</code>"
      ],
      "text/plain": [
       "<IPython.core.display.HTML object>"
      ]
     },
     "metadata": {},
     "output_type": "display_data"
    },
    {
     "data": {
      "text/html": [
       "Find internal logs for this run at: <code>/home/richard_stana/programing/clanok/code/wandb/run-20210126_112353-522t81lt/logs/debug-internal.log</code>"
      ],
      "text/plain": [
       "<IPython.core.display.HTML object>"
      ]
     },
     "metadata": {},
     "output_type": "display_data"
    },
    {
     "data": {
      "text/html": [
       "<h3>Run summary:</h3><br/><style>\n",
       "    table.wandb td:nth-child(1) { padding: 0 10px; text-align: right }\n",
       "    </style><table class=\"wandb\">\n",
       "<tr><td>epoch</td><td>19</td></tr><tr><td>loss</td><td>0.01836</td></tr><tr><td>mae</td><td>0.06723</td></tr><tr><td>val_loss</td><td>0.02008</td></tr><tr><td>val_mae</td><td>0.06568</td></tr><tr><td>_step</td><td>39</td></tr><tr><td>_runtime</td><td>774</td></tr><tr><td>_timestamp</td><td>1611661011</td></tr><tr><td>best_val_loss</td><td>0.01984</td></tr><tr><td>best_epoch</td><td>1</td></tr></table>"
      ],
      "text/plain": [
       "<IPython.core.display.HTML object>"
      ]
     },
     "metadata": {},
     "output_type": "display_data"
    },
    {
     "data": {
      "text/html": [
       "<h3>Run history:</h3><br/><style>\n",
       "    table.wandb td:nth-child(1) { padding: 0 10px; text-align: right }\n",
       "    </style><table class=\"wandb\">\n",
       "<tr><td>epoch</td><td>▁▁▂▂▂▃▃▄▄▄▅▅▅▆▆▇▇▇██▁▁▂▂▂▃▃▄▄▄▅▅▅▆▆▇▇▇██</td></tr><tr><td>loss</td><td>▇▁▃▄▃▂▅▇▄▄▄▂▂▆█▃▄▃▃▂▃▃▅▄▄▂▄▂▄▅▅▂▃▂▄▃▄▄▅▃</td></tr><tr><td>mae</td><td>▇▁▃▄▃▃▅▆▄▄▄▂▃▆█▃▃▂▃▃▃▃▅▃▃▄▃▂▄▅▆▂▄▂▄▄▄▄▅▃</td></tr><tr><td>val_loss</td><td>▂▅▄▂▃▄█▁▂▂▁▃▂▆▂▂▂▂▂▂▁▁▂▂▃▇▂▄▄▂▂▂▄▁▂▂▁▂▁▃</td></tr><tr><td>val_mae</td><td>▁▄▄▁▃▃█▁▂▁▁▂▁▇▃▃▂▁▂▂▂▁▁▂▂▆▃▅▃▁▁▂▂▁▁▁▁▁▂▃</td></tr><tr><td>_step</td><td>▁▁▁▂▂▂▂▂▂▃▃▃▃▃▄▄▄▄▄▄▅▅▅▅▅▅▆▆▆▆▆▇▇▇▇▇▇███</td></tr><tr><td>_runtime</td><td>▁▁▁▂▂▂▂▂▂▃▃▃▃▃▄▄▄▄▄▄▅▅▅▅▅▅▆▆▆▆▆▇▇▇▇▇▇███</td></tr><tr><td>_timestamp</td><td>▁▁▁▂▂▂▂▂▂▃▃▃▃▃▄▄▄▄▄▄▅▅▅▅▅▅▆▆▆▆▆▇▇▇▇▇▇███</td></tr></table><br/>"
      ],
      "text/plain": [
       "<IPython.core.display.HTML object>"
      ]
     },
     "metadata": {},
     "output_type": "display_data"
    },
    {
     "data": {
      "text/html": [
       "Synced 5 W&B file(s), 1 media file(s), 0 artifact file(s) and 1 other file(s)"
      ],
      "text/plain": [
       "<IPython.core.display.HTML object>"
      ]
     },
     "metadata": {},
     "output_type": "display_data"
    },
    {
     "data": {
      "text/html": [
       "\n",
       "                    <br/>Synced <strong style=\"color:#cdcd00\">lstm-30m-item612</strong>: <a href=\"https://wandb.ai/kriza/30m-item61/runs/522t81lt\" target=\"_blank\">https://wandb.ai/kriza/30m-item61/runs/522t81lt</a><br/>\n",
       "                "
      ],
      "text/plain": [
       "<IPython.core.display.HTML object>"
      ]
     },
     "metadata": {},
     "output_type": "display_data"
    },
    {
     "data": {
      "text/html": [
       "...Successfully finished last run (ID:522t81lt). Initializing new run:<br/><br/>"
      ],
      "text/plain": [
       "<IPython.core.display.HTML object>"
      ]
     },
     "metadata": {},
     "output_type": "display_data"
    },
    {
     "name": "stderr",
     "output_type": "stream",
     "text": [
      "\u001b[34m\u001b[1mwandb\u001b[0m: wandb version 0.10.15 is available!  To upgrade, please run:\n",
      "\u001b[34m\u001b[1mwandb\u001b[0m:  $ pip install wandb --upgrade\n"
     ]
    },
    {
     "data": {
      "text/html": [
       "\n",
       "                Tracking run with wandb version 0.10.14<br/>\n",
       "                Syncing run <strong style=\"color:#cdcd00\">cnn-30m-item612</strong> to <a href=\"https://wandb.ai\" target=\"_blank\">Weights & Biases</a> <a href=\"https://docs.wandb.com/integrations/jupyter.html\" target=\"_blank\">(Documentation)</a>.<br/>\n",
       "                Project page: <a href=\"https://wandb.ai/kriza/30m-item61\" target=\"_blank\">https://wandb.ai/kriza/30m-item61</a><br/>\n",
       "                Run page: <a href=\"https://wandb.ai/kriza/30m-item61/runs/wnej8onl\" target=\"_blank\">https://wandb.ai/kriza/30m-item61/runs/wnej8onl</a><br/>\n",
       "                Run data is saved locally in <code>/home/richard_stana/programing/clanok/code/wandb/run-20210126_113651-wnej8onl</code><br/><br/>\n",
       "            "
      ],
      "text/plain": [
       "<IPython.core.display.HTML object>"
      ]
     },
     "metadata": {},
     "output_type": "display_data"
    },
    {
     "name": "stdout",
     "output_type": "stream",
     "text": [
      "Epoch 1/20\n",
      "121/121 [==============================] - 3s 25ms/step - loss: 0.0183 - mae: 0.0666 - val_loss: 0.0198 - val_mae: 0.0635\n",
      "Epoch 2/20\n",
      "121/121 [==============================] - 3s 23ms/step - loss: 0.0183 - mae: 0.0666 - val_loss: 0.0199 - val_mae: 0.0636\n",
      "Epoch 3/20\n",
      "121/121 [==============================] - 3s 24ms/step - loss: 0.0183 - mae: 0.0666 - val_loss: 0.0199 - val_mae: 0.0635\n",
      "Epoch 4/20\n",
      "121/121 [==============================] - 3s 24ms/step - loss: 0.0183 - mae: 0.0666 - val_loss: 0.0199 - val_mae: 0.0635\n",
      "Epoch 5/20\n",
      "121/121 [==============================] - 3s 23ms/step - loss: 0.0183 - mae: 0.0666 - val_loss: 0.0199 - val_mae: 0.0635\n",
      "Epoch 6/20\n",
      "121/121 [==============================] - 3s 23ms/step - loss: 0.0182 - mae: 0.0666 - val_loss: 0.0198 - val_mae: 0.0635\n",
      "Epoch 7/20\n",
      "121/121 [==============================] - 3s 24ms/step - loss: 0.0183 - mae: 0.0666 - val_loss: 0.0199 - val_mae: 0.0634\n",
      "Epoch 8/20\n",
      "121/121 [==============================] - 3s 24ms/step - loss: 0.0183 - mae: 0.0666 - val_loss: 0.0198 - val_mae: 0.0636\n",
      "Epoch 9/20\n",
      "121/121 [==============================] - 3s 23ms/step - loss: 0.0183 - mae: 0.0666 - val_loss: 0.0199 - val_mae: 0.0635\n",
      "Epoch 10/20\n",
      "121/121 [==============================] - 3s 23ms/step - loss: 0.0183 - mae: 0.0665 - val_loss: 0.0199 - val_mae: 0.0635\n",
      "Epoch 11/20\n",
      "121/121 [==============================] - 3s 23ms/step - loss: 0.0183 - mae: 0.0666 - val_loss: 0.0199 - val_mae: 0.0635\n",
      "Epoch 12/20\n",
      "121/121 [==============================] - 3s 23ms/step - loss: 0.0183 - mae: 0.0665 - val_loss: 0.0199 - val_mae: 0.0635\n",
      "Epoch 13/20\n",
      "121/121 [==============================] - 3s 23ms/step - loss: 0.0183 - mae: 0.0666 - val_loss: 0.0198 - val_mae: 0.0636\n",
      "Epoch 14/20\n",
      "121/121 [==============================] - 3s 24ms/step - loss: 0.0183 - mae: 0.0666 - val_loss: 0.0199 - val_mae: 0.0634\n",
      "Epoch 15/20\n",
      "121/121 [==============================] - 3s 23ms/step - loss: 0.0183 - mae: 0.0665 - val_loss: 0.0199 - val_mae: 0.0635\n",
      "Epoch 16/20\n",
      "121/121 [==============================] - 3s 23ms/step - loss: 0.0183 - mae: 0.0666 - val_loss: 0.0198 - val_mae: 0.0636\n",
      "Epoch 17/20\n",
      "121/121 [==============================] - 3s 23ms/step - loss: 0.0183 - mae: 0.0666 - val_loss: 0.0199 - val_mae: 0.0636\n",
      "Epoch 18/20\n",
      "121/121 [==============================] - 3s 23ms/step - loss: 0.0183 - mae: 0.0666 - val_loss: 0.0199 - val_mae: 0.0635\n",
      "Epoch 19/20\n",
      "121/121 [==============================] - 3s 23ms/step - loss: 0.0182 - mae: 0.0665 - val_loss: 0.0199 - val_mae: 0.0634\n",
      "Epoch 20/20\n",
      "121/121 [==============================] - 3s 23ms/step - loss: 0.0183 - mae: 0.0666 - val_loss: 0.0199 - val_mae: 0.0635\n",
      "Epoch 1/20\n",
      "121/121 [==============================] - 3s 23ms/step - loss: 0.0183 - mae: 0.0665 - val_loss: 0.0199 - val_mae: 0.0635\n",
      "Epoch 2/20\n",
      "121/121 [==============================] - 3s 23ms/step - loss: 0.0183 - mae: 0.0666 - val_loss: 0.0199 - val_mae: 0.0635\n",
      "Epoch 3/20\n",
      "121/121 [==============================] - 3s 23ms/step - loss: 0.0183 - mae: 0.0666 - val_loss: 0.0199 - val_mae: 0.0636\n",
      "Epoch 4/20\n",
      "121/121 [==============================] - 3s 23ms/step - loss: 0.0182 - mae: 0.0666 - val_loss: 0.0199 - val_mae: 0.0635\n",
      "Epoch 5/20\n",
      "121/121 [==============================] - 3s 23ms/step - loss: 0.0183 - mae: 0.0666 - val_loss: 0.0199 - val_mae: 0.0635\n",
      "Epoch 6/20\n",
      "121/121 [==============================] - 3s 23ms/step - loss: 0.0183 - mae: 0.0666 - val_loss: 0.0199 - val_mae: 0.0635\n",
      "Epoch 7/20\n",
      "121/121 [==============================] - 3s 24ms/step - loss: 0.0183 - mae: 0.0666 - val_loss: 0.0199 - val_mae: 0.0634\n",
      "Epoch 8/20\n",
      "121/121 [==============================] - 3s 23ms/step - loss: 0.0183 - mae: 0.0666 - val_loss: 0.0199 - val_mae: 0.0635\n",
      "Epoch 9/20\n",
      "121/121 [==============================] - 3s 23ms/step - loss: 0.0182 - mae: 0.0665 - val_loss: 0.0199 - val_mae: 0.0635\n",
      "Epoch 10/20\n",
      "121/121 [==============================] - 3s 23ms/step - loss: 0.0182 - mae: 0.0666 - val_loss: 0.0199 - val_mae: 0.0635\n",
      "Epoch 11/20\n",
      "121/121 [==============================] - 3s 24ms/step - loss: 0.0183 - mae: 0.0665 - val_loss: 0.0199 - val_mae: 0.0634\n",
      "Epoch 12/20\n",
      "121/121 [==============================] - 3s 23ms/step - loss: 0.0183 - mae: 0.0666 - val_loss: 0.0199 - val_mae: 0.0634\n",
      "Epoch 13/20\n",
      "121/121 [==============================] - 3s 23ms/step - loss: 0.0182 - mae: 0.0666 - val_loss: 0.0199 - val_mae: 0.0635\n",
      "Epoch 14/20\n",
      "121/121 [==============================] - 3s 23ms/step - loss: 0.0183 - mae: 0.0666 - val_loss: 0.0199 - val_mae: 0.0635\n",
      "Epoch 15/20\n",
      "121/121 [==============================] - 3s 24ms/step - loss: 0.0183 - mae: 0.0666 - val_loss: 0.0198 - val_mae: 0.0636\n",
      "Epoch 16/20\n",
      "121/121 [==============================] - 3s 23ms/step - loss: 0.0183 - mae: 0.0666 - val_loss: 0.0198 - val_mae: 0.0635\n",
      "Epoch 17/20\n",
      "121/121 [==============================] - 3s 23ms/step - loss: 0.0183 - mae: 0.0666 - val_loss: 0.0199 - val_mae: 0.0635\n",
      "Epoch 18/20\n",
      "121/121 [==============================] - 3s 24ms/step - loss: 0.0183 - mae: 0.0666 - val_loss: 0.0199 - val_mae: 0.0634\n",
      "Epoch 19/20\n",
      "121/121 [==============================] - 3s 23ms/step - loss: 0.0183 - mae: 0.0666 - val_loss: 0.0199 - val_mae: 0.0635\n",
      "Epoch 20/20\n",
      "121/121 [==============================] - 3s 23ms/step - loss: 0.0183 - mae: 0.0665 - val_loss: 0.0199 - val_mae: 0.0635\n"
     ]
    },
    {
     "data": {
      "text/html": [
       "Finishing last run (ID:wnej8onl) before initializing another..."
      ],
      "text/plain": [
       "<IPython.core.display.HTML object>"
      ]
     },
     "metadata": {},
     "output_type": "display_data"
    },
    {
     "data": {
      "text/html": [
       "<br/>Waiting for W&B process to finish, PID 34016<br/>Program ended successfully."
      ],
      "text/plain": [
       "<IPython.core.display.HTML object>"
      ]
     },
     "metadata": {},
     "output_type": "display_data"
    },
    {
     "data": {
      "text/html": [
       "Find user logs for this run at: <code>/home/richard_stana/programing/clanok/code/wandb/run-20210126_113651-wnej8onl/logs/debug.log</code>"
      ],
      "text/plain": [
       "<IPython.core.display.HTML object>"
      ]
     },
     "metadata": {},
     "output_type": "display_data"
    },
    {
     "data": {
      "text/html": [
       "Find internal logs for this run at: <code>/home/richard_stana/programing/clanok/code/wandb/run-20210126_113651-wnej8onl/logs/debug-internal.log</code>"
      ],
      "text/plain": [
       "<IPython.core.display.HTML object>"
      ]
     },
     "metadata": {},
     "output_type": "display_data"
    },
    {
     "data": {
      "text/html": [
       "<h3>Run summary:</h3><br/><style>\n",
       "    table.wandb td:nth-child(1) { padding: 0 10px; text-align: right }\n",
       "    </style><table class=\"wandb\">\n",
       "<tr><td>epoch</td><td>19</td></tr><tr><td>loss</td><td>0.01825</td></tr><tr><td>mae</td><td>0.06654</td></tr><tr><td>val_loss</td><td>0.01986</td></tr><tr><td>val_mae</td><td>0.06346</td></tr><tr><td>_step</td><td>39</td></tr><tr><td>_runtime</td><td>118</td></tr><tr><td>_timestamp</td><td>1611661135</td></tr><tr><td>best_val_loss</td><td>0.01984</td></tr><tr><td>best_epoch</td><td>14</td></tr></table>"
      ],
      "text/plain": [
       "<IPython.core.display.HTML object>"
      ]
     },
     "metadata": {},
     "output_type": "display_data"
    },
    {
     "data": {
      "text/html": [
       "<h3>Run history:</h3><br/><style>\n",
       "    table.wandb td:nth-child(1) { padding: 0 10px; text-align: right }\n",
       "    </style><table class=\"wandb\">\n",
       "<tr><td>epoch</td><td>▁▁▂▂▂▃▃▄▄▄▅▅▅▆▆▇▇▇██▁▁▂▂▂▃▃▄▄▄▅▅▅▆▆▇▇▇██</td></tr><tr><td>loss</td><td>▄▂▄▂▃▂▆▄▅▅▄▄▅█▄▃▅▂▂▅▂▇▄▁▄▄▂▃▂▂▃▅▁▄▄▅▄▅▄▃</td></tr><tr><td>mae</td><td>▄▅▄▅▃▄▃▃▅▂▃▁▆▇▂▂▇█▂▃▁▃▃▃▄▃▃▂▂▅▂▅▄▄█▃▂▄▃▁</td></tr><tr><td>val_loss</td><td>▁█▃▃▅▁▄▁▅▆▂▅▁▃▆▁▃▂▅▄▆▂▄▂▄▃▅▄▆▆▄▃▆▄▁▁▂▄▃▃</td></tr><tr><td>val_mae</td><td>▅█▃▂▃▆▂▇▅▄▄▄▇▁▂▇▆▄▂▂▂▄▇▅▂▂▂▄▂▄▁▂▃▅█▅▂▁▃▂</td></tr><tr><td>_step</td><td>▁▁▁▂▂▂▂▂▂▃▃▃▃▃▄▄▄▄▄▄▅▅▅▅▅▅▆▆▆▆▆▇▇▇▇▇▇███</td></tr><tr><td>_runtime</td><td>▁▁▁▂▂▂▂▂▂▃▃▃▃▃▃▄▄▄▄▄▅▅▅▅▅▅▆▆▆▆▆▇▇▇▇▇▇███</td></tr><tr><td>_timestamp</td><td>▁▁▁▂▂▂▂▂▂▃▃▃▃▃▃▄▄▄▄▄▅▅▅▅▅▅▆▆▆▆▆▇▇▇▇▇▇███</td></tr></table><br/>"
      ],
      "text/plain": [
       "<IPython.core.display.HTML object>"
      ]
     },
     "metadata": {},
     "output_type": "display_data"
    },
    {
     "data": {
      "text/html": [
       "Synced 5 W&B file(s), 1 media file(s), 0 artifact file(s) and 1 other file(s)"
      ],
      "text/plain": [
       "<IPython.core.display.HTML object>"
      ]
     },
     "metadata": {},
     "output_type": "display_data"
    },
    {
     "data": {
      "text/html": [
       "\n",
       "                    <br/>Synced <strong style=\"color:#cdcd00\">cnn-30m-item612</strong>: <a href=\"https://wandb.ai/kriza/30m-item61/runs/wnej8onl\" target=\"_blank\">https://wandb.ai/kriza/30m-item61/runs/wnej8onl</a><br/>\n",
       "                "
      ],
      "text/plain": [
       "<IPython.core.display.HTML object>"
      ]
     },
     "metadata": {},
     "output_type": "display_data"
    },
    {
     "data": {
      "text/html": [
       "...Successfully finished last run (ID:wnej8onl). Initializing new run:<br/><br/>"
      ],
      "text/plain": [
       "<IPython.core.display.HTML object>"
      ]
     },
     "metadata": {},
     "output_type": "display_data"
    },
    {
     "name": "stderr",
     "output_type": "stream",
     "text": [
      "\u001b[34m\u001b[1mwandb\u001b[0m: wandb version 0.10.15 is available!  To upgrade, please run:\n",
      "\u001b[34m\u001b[1mwandb\u001b[0m:  $ pip install wandb --upgrade\n"
     ]
    },
    {
     "data": {
      "text/html": [
       "\n",
       "                Tracking run with wandb version 0.10.14<br/>\n",
       "                Syncing run <strong style=\"color:#cdcd00\">dobra_cnn-30m-item612</strong> to <a href=\"https://wandb.ai\" target=\"_blank\">Weights & Biases</a> <a href=\"https://docs.wandb.com/integrations/jupyter.html\" target=\"_blank\">(Documentation)</a>.<br/>\n",
       "                Project page: <a href=\"https://wandb.ai/kriza/30m-item61\" target=\"_blank\">https://wandb.ai/kriza/30m-item61</a><br/>\n",
       "                Run page: <a href=\"https://wandb.ai/kriza/30m-item61/runs/39ufsjc4\" target=\"_blank\">https://wandb.ai/kriza/30m-item61/runs/39ufsjc4</a><br/>\n",
       "                Run data is saved locally in <code>/home/richard_stana/programing/clanok/code/wandb/run-20210126_113855-39ufsjc4</code><br/><br/>\n",
       "            "
      ],
      "text/plain": [
       "<IPython.core.display.HTML object>"
      ]
     },
     "metadata": {},
     "output_type": "display_data"
    },
    {
     "name": "stdout",
     "output_type": "stream",
     "text": [
      "Epoch 1/20\n",
      "121/121 [==============================] - 1s 12ms/step - loss: 0.0140 - mae: 0.0693 - val_loss: 0.0259 - val_mae: 0.0759\n",
      "Epoch 2/20\n",
      "121/121 [==============================] - 1s 11ms/step - loss: 0.0120 - mae: 0.0653 - val_loss: 0.0246 - val_mae: 0.0739\n",
      "Epoch 3/20\n",
      "121/121 [==============================] - 1s 10ms/step - loss: 0.0111 - mae: 0.0638 - val_loss: 0.0231 - val_mae: 0.0743\n",
      "Epoch 4/20\n",
      "121/121 [==============================] - 1s 10ms/step - loss: 0.0105 - mae: 0.0623 - val_loss: 0.0232 - val_mae: 0.0765\n",
      "Epoch 5/20\n",
      "121/121 [==============================] - 1s 10ms/step - loss: 0.0097 - mae: 0.0608 - val_loss: 0.0223 - val_mae: 0.0759\n",
      "Epoch 6/20\n",
      "121/121 [==============================] - 1s 10ms/step - loss: 0.0091 - mae: 0.0590 - val_loss: 0.0238 - val_mae: 0.0826\n",
      "Epoch 7/20\n",
      "121/121 [==============================] - 1s 10ms/step - loss: 0.0097 - mae: 0.0604 - val_loss: 0.0237 - val_mae: 0.0771\n",
      "Epoch 8/20\n",
      "121/121 [==============================] - 1s 10ms/step - loss: 0.0089 - mae: 0.0575 - val_loss: 0.0237 - val_mae: 0.0798\n",
      "Epoch 9/20\n",
      "121/121 [==============================] - 1s 10ms/step - loss: 0.0081 - mae: 0.0557 - val_loss: 0.0223 - val_mae: 0.0779\n",
      "Epoch 10/20\n",
      "121/121 [==============================] - 1s 10ms/step - loss: 0.0077 - mae: 0.0545 - val_loss: 0.0235 - val_mae: 0.0819\n",
      "Epoch 11/20\n",
      "121/121 [==============================] - 1s 10ms/step - loss: 0.0074 - mae: 0.0535 - val_loss: 0.0234 - val_mae: 0.0805\n",
      "Epoch 12/20\n",
      "121/121 [==============================] - 1s 10ms/step - loss: 0.0070 - mae: 0.0523 - val_loss: 0.0237 - val_mae: 0.0814\n",
      "Epoch 13/20\n",
      "121/121 [==============================] - 1s 10ms/step - loss: 0.0068 - mae: 0.0512 - val_loss: 0.0229 - val_mae: 0.0815\n",
      "Epoch 14/20\n",
      "121/121 [==============================] - 1s 10ms/step - loss: 0.0065 - mae: 0.0499 - val_loss: 0.0236 - val_mae: 0.0833\n",
      "Epoch 15/20\n",
      "121/121 [==============================] - 1s 10ms/step - loss: 0.0064 - mae: 0.0497 - val_loss: 0.0242 - val_mae: 0.0867\n",
      "Epoch 16/20\n",
      "121/121 [==============================] - 1s 10ms/step - loss: 0.0061 - mae: 0.0486 - val_loss: 0.0238 - val_mae: 0.0847\n",
      "Epoch 17/20\n",
      "121/121 [==============================] - 1s 10ms/step - loss: 0.0059 - mae: 0.0478 - val_loss: 0.0235 - val_mae: 0.0860\n",
      "Epoch 18/20\n",
      "121/121 [==============================] - 1s 10ms/step - loss: 0.0059 - mae: 0.0474 - val_loss: 0.0246 - val_mae: 0.0868\n",
      "Epoch 19/20\n",
      "121/121 [==============================] - 1s 10ms/step - loss: 0.0057 - mae: 0.0467 - val_loss: 0.0234 - val_mae: 0.0849\n",
      "Epoch 20/20\n",
      "121/121 [==============================] - 1s 10ms/step - loss: 0.0056 - mae: 0.0459 - val_loss: 0.0238 - val_mae: 0.0862\n",
      "Epoch 1/20\n",
      "121/121 [==============================] - 1s 10ms/step - loss: 0.0054 - mae: 0.0450 - val_loss: 0.0241 - val_mae: 0.0887\n",
      "Epoch 2/20\n",
      "121/121 [==============================] - 1s 10ms/step - loss: 0.0051 - mae: 0.0441 - val_loss: 0.0235 - val_mae: 0.0888\n",
      "Epoch 3/20\n",
      "121/121 [==============================] - 1s 10ms/step - loss: 0.0049 - mae: 0.0432 - val_loss: 0.0238 - val_mae: 0.0887\n",
      "Epoch 4/20\n",
      "121/121 [==============================] - 1s 10ms/step - loss: 0.0048 - mae: 0.0424 - val_loss: 0.0246 - val_mae: 0.0929\n",
      "Epoch 5/20\n",
      "121/121 [==============================] - 1s 10ms/step - loss: 0.0048 - mae: 0.0422 - val_loss: 0.0244 - val_mae: 0.0905\n",
      "Epoch 6/20\n",
      "121/121 [==============================] - 1s 10ms/step - loss: 0.0046 - mae: 0.0416 - val_loss: 0.0252 - val_mae: 0.0947\n",
      "Epoch 7/20\n",
      "121/121 [==============================] - 1s 10ms/step - loss: 0.0045 - mae: 0.0407 - val_loss: 0.0254 - val_mae: 0.0950\n",
      "Epoch 8/20\n",
      "121/121 [==============================] - 1s 10ms/step - loss: 0.0045 - mae: 0.0407 - val_loss: 0.0256 - val_mae: 0.0954\n",
      "Epoch 9/20\n",
      "121/121 [==============================] - 1s 10ms/step - loss: 0.0048 - mae: 0.0414 - val_loss: 0.0245 - val_mae: 0.0938\n",
      "Epoch 10/20\n",
      "121/121 [==============================] - 1s 10ms/step - loss: 0.0045 - mae: 0.0403 - val_loss: 0.0249 - val_mae: 0.0936\n",
      "Epoch 11/20\n",
      "121/121 [==============================] - 1s 10ms/step - loss: 0.0046 - mae: 0.0404 - val_loss: 0.0249 - val_mae: 0.0932\n",
      "Epoch 12/20\n",
      "121/121 [==============================] - 1s 10ms/step - loss: 0.0042 - mae: 0.0388 - val_loss: 0.0246 - val_mae: 0.0943\n",
      "Epoch 13/20\n",
      "121/121 [==============================] - 1s 10ms/step - loss: 0.0040 - mae: 0.0377 - val_loss: 0.0246 - val_mae: 0.0931\n",
      "Epoch 14/20\n",
      "121/121 [==============================] - 1s 10ms/step - loss: 0.0040 - mae: 0.0376 - val_loss: 0.0255 - val_mae: 0.0974\n",
      "Epoch 15/20\n",
      "121/121 [==============================] - 1s 10ms/step - loss: 0.0039 - mae: 0.0370 - val_loss: 0.0249 - val_mae: 0.0959\n",
      "Epoch 16/20\n",
      "121/121 [==============================] - 1s 10ms/step - loss: 0.0038 - mae: 0.0364 - val_loss: 0.0254 - val_mae: 0.0958\n",
      "Epoch 17/20\n",
      "121/121 [==============================] - 1s 10ms/step - loss: 0.0038 - mae: 0.0365 - val_loss: 0.0255 - val_mae: 0.0970\n",
      "Epoch 18/20\n",
      "121/121 [==============================] - 1s 10ms/step - loss: 0.0039 - mae: 0.0369 - val_loss: 0.0248 - val_mae: 0.0953\n",
      "Epoch 19/20\n",
      "121/121 [==============================] - 1s 10ms/step - loss: 0.0039 - mae: 0.0364 - val_loss: 0.0252 - val_mae: 0.0968\n",
      "Epoch 20/20\n",
      "121/121 [==============================] - 1s 10ms/step - loss: 0.0037 - mae: 0.0358 - val_loss: 0.0250 - val_mae: 0.0971\n"
     ]
    },
    {
     "data": {
      "text/html": [
       "Finishing last run (ID:39ufsjc4) before initializing another..."
      ],
      "text/plain": [
       "<IPython.core.display.HTML object>"
      ]
     },
     "metadata": {},
     "output_type": "display_data"
    },
    {
     "data": {
      "text/html": [
       "<br/>Waiting for W&B process to finish, PID 34546<br/>Program ended successfully."
      ],
      "text/plain": [
       "<IPython.core.display.HTML object>"
      ]
     },
     "metadata": {},
     "output_type": "display_data"
    },
    {
     "data": {
      "text/html": [
       "Find user logs for this run at: <code>/home/richard_stana/programing/clanok/code/wandb/run-20210126_113855-39ufsjc4/logs/debug.log</code>"
      ],
      "text/plain": [
       "<IPython.core.display.HTML object>"
      ]
     },
     "metadata": {},
     "output_type": "display_data"
    },
    {
     "data": {
      "text/html": [
       "Find internal logs for this run at: <code>/home/richard_stana/programing/clanok/code/wandb/run-20210126_113855-39ufsjc4/logs/debug-internal.log</code>"
      ],
      "text/plain": [
       "<IPython.core.display.HTML object>"
      ]
     },
     "metadata": {},
     "output_type": "display_data"
    },
    {
     "data": {
      "text/html": [
       "<h3>Run summary:</h3><br/><style>\n",
       "    table.wandb td:nth-child(1) { padding: 0 10px; text-align: right }\n",
       "    </style><table class=\"wandb\">\n",
       "<tr><td>epoch</td><td>19</td></tr><tr><td>loss</td><td>0.00375</td></tr><tr><td>mae</td><td>0.03576</td></tr><tr><td>val_loss</td><td>0.025</td></tr><tr><td>val_mae</td><td>0.0971</td></tr><tr><td>_step</td><td>39</td></tr><tr><td>_runtime</td><td>55</td></tr><tr><td>_timestamp</td><td>1611661194</td></tr><tr><td>best_val_loss</td><td>0.02227</td></tr><tr><td>best_epoch</td><td>4</td></tr></table>"
      ],
      "text/plain": [
       "<IPython.core.display.HTML object>"
      ]
     },
     "metadata": {},
     "output_type": "display_data"
    },
    {
     "data": {
      "text/html": [
       "<h3>Run history:</h3><br/><style>\n",
       "    table.wandb td:nth-child(1) { padding: 0 10px; text-align: right }\n",
       "    </style><table class=\"wandb\">\n",
       "<tr><td>epoch</td><td>▁▁▂▂▂▃▃▄▄▄▅▅▅▆▆▇▇▇██▁▁▂▂▂▃▃▄▄▄▅▅▅▆▆▇▇▇██</td></tr><tr><td>loss</td><td>█▇▆▆▅▅▅▄▄▄▄▃▃▃▃▃▂▂▂▂▂▂▂▂▂▂▂▂▂▂▂▁▁▁▁▁▁▁▁▁</td></tr><tr><td>mae</td><td>█▇▇▇▆▆▆▆▅▅▅▄▄▄▄▄▄▃▃▃▃▃▃▂▂▂▂▂▂▂▂▂▁▁▁▁▁▁▁▁</td></tr><tr><td>val_loss</td><td>█▆▃▃▁▄▄▄▁▃▃▄▂▄▅▄▃▆▃▄▅▃▄▅▅▇▇▇▅▆▆▆▆▇▆▇▇▆▇▆</td></tr><tr><td>val_mae</td><td>▂▁▁▂▂▄▂▃▂▃▃▃▃▄▅▄▅▅▄▅▅▅▅▇▆▇▇▇▇▇▇▇▇████▇██</td></tr><tr><td>_step</td><td>▁▁▁▂▂▂▂▂▂▃▃▃▃▃▄▄▄▄▄▄▅▅▅▅▅▅▆▆▆▆▆▇▇▇▇▇▇███</td></tr><tr><td>_runtime</td><td>▁▁▁▂▂▂▂▂▂▃▃▃▃▃▄▄▄▄▄▄▅▅▅▅▅▆▆▆▆▆▆▇▇▇▇▇████</td></tr><tr><td>_timestamp</td><td>▁▁▁▂▂▂▂▂▂▃▃▃▃▃▄▄▄▄▄▄▅▅▅▅▅▆▆▆▆▆▆▇▇▇▇▇████</td></tr></table><br/>"
      ],
      "text/plain": [
       "<IPython.core.display.HTML object>"
      ]
     },
     "metadata": {},
     "output_type": "display_data"
    },
    {
     "data": {
      "text/html": [
       "Synced 5 W&B file(s), 1 media file(s), 0 artifact file(s) and 1 other file(s)"
      ],
      "text/plain": [
       "<IPython.core.display.HTML object>"
      ]
     },
     "metadata": {},
     "output_type": "display_data"
    },
    {
     "data": {
      "text/html": [
       "\n",
       "                    <br/>Synced <strong style=\"color:#cdcd00\">dobra_cnn-30m-item612</strong>: <a href=\"https://wandb.ai/kriza/30m-item61/runs/39ufsjc4\" target=\"_blank\">https://wandb.ai/kriza/30m-item61/runs/39ufsjc4</a><br/>\n",
       "                "
      ],
      "text/plain": [
       "<IPython.core.display.HTML object>"
      ]
     },
     "metadata": {},
     "output_type": "display_data"
    },
    {
     "data": {
      "text/html": [
       "...Successfully finished last run (ID:39ufsjc4). Initializing new run:<br/><br/>"
      ],
      "text/plain": [
       "<IPython.core.display.HTML object>"
      ]
     },
     "metadata": {},
     "output_type": "display_data"
    },
    {
     "name": "stderr",
     "output_type": "stream",
     "text": [
      "\u001b[34m\u001b[1mwandb\u001b[0m: wandb version 0.10.15 is available!  To upgrade, please run:\n",
      "\u001b[34m\u001b[1mwandb\u001b[0m:  $ pip install wandb --upgrade\n"
     ]
    },
    {
     "data": {
      "text/html": [
       "\n",
       "                Tracking run with wandb version 0.10.14<br/>\n",
       "                Syncing run <strong style=\"color:#cdcd00\">lstm-30m-item622</strong> to <a href=\"https://wandb.ai\" target=\"_blank\">Weights & Biases</a> <a href=\"https://docs.wandb.com/integrations/jupyter.html\" target=\"_blank\">(Documentation)</a>.<br/>\n",
       "                Project page: <a href=\"https://wandb.ai/kriza/30m-item62\" target=\"_blank\">https://wandb.ai/kriza/30m-item62</a><br/>\n",
       "                Run page: <a href=\"https://wandb.ai/kriza/30m-item62/runs/2t2eipwk\" target=\"_blank\">https://wandb.ai/kriza/30m-item62/runs/2t2eipwk</a><br/>\n",
       "                Run data is saved locally in <code>/home/richard_stana/programing/clanok/code/wandb/run-20210126_113956-2t2eipwk</code><br/><br/>\n",
       "            "
      ],
      "text/plain": [
       "<IPython.core.display.HTML object>"
      ]
     },
     "metadata": {},
     "output_type": "display_data"
    },
    {
     "name": "stdout",
     "output_type": "stream",
     "text": [
      "Epoch 1/20\n",
      "121/121 [==============================] - 20s 165ms/step - loss: 1.7628 - mae: 0.9403 - val_loss: 1.6376 - val_mae: 0.9216\n",
      "Epoch 2/20\n",
      "121/121 [==============================] - 19s 157ms/step - loss: 1.7633 - mae: 0.9402 - val_loss: 1.6392 - val_mae: 0.9231\n",
      "Epoch 3/20\n",
      "121/121 [==============================] - 19s 160ms/step - loss: 1.6544 - mae: 0.9165 - val_loss: 1.4359 - val_mae: 0.8559\n",
      "Epoch 4/20\n",
      "121/121 [==============================] - 19s 160ms/step - loss: 1.5088 - mae: 0.8787 - val_loss: 1.3229 - val_mae: 0.8125\n",
      "Epoch 5/20\n",
      "121/121 [==============================] - 19s 157ms/step - loss: 1.4694 - mae: 0.8665 - val_loss: 1.3695 - val_mae: 0.8223\n",
      "Epoch 6/20\n",
      "121/121 [==============================] - 19s 156ms/step - loss: 1.4755 - mae: 0.8682 - val_loss: 1.3718 - val_mae: 0.8317\n",
      "Epoch 7/20\n",
      "121/121 [==============================] - 19s 156ms/step - loss: 1.4758 - mae: 0.8680 - val_loss: 1.3349 - val_mae: 0.8366\n",
      "Epoch 8/20\n",
      "121/121 [==============================] - 19s 157ms/step - loss: 1.4581 - mae: 0.8617 - val_loss: 1.3454 - val_mae: 0.8440\n",
      "Epoch 9/20\n",
      "121/121 [==============================] - 19s 156ms/step - loss: 1.4669 - mae: 0.8656 - val_loss: 1.3388 - val_mae: 0.8357\n",
      "Epoch 10/20\n",
      "121/121 [==============================] - 19s 156ms/step - loss: 1.4518 - mae: 0.8583 - val_loss: 1.3230 - val_mae: 0.8180\n",
      "Epoch 11/20\n",
      "121/121 [==============================] - 19s 156ms/step - loss: 1.4563 - mae: 0.8609 - val_loss: 1.3428 - val_mae: 0.8253\n",
      "Epoch 12/20\n",
      "121/121 [==============================] - 19s 156ms/step - loss: 1.4565 - mae: 0.8611 - val_loss: 1.3545 - val_mae: 0.8195\n",
      "Epoch 13/20\n",
      "121/121 [==============================] - 19s 158ms/step - loss: 1.4479 - mae: 0.8571 - val_loss: 1.3205 - val_mae: 0.8136\n",
      "Epoch 14/20\n",
      "121/121 [==============================] - 19s 158ms/step - loss: 1.4392 - mae: 0.8550 - val_loss: 1.3070 - val_mae: 0.8169\n",
      "Epoch 15/20\n",
      "121/121 [==============================] - 19s 158ms/step - loss: 1.4360 - mae: 0.8546 - val_loss: 1.3046 - val_mae: 0.8141\n",
      "Epoch 16/20\n",
      "121/121 [==============================] - 19s 156ms/step - loss: 1.4352 - mae: 0.8536 - val_loss: 1.3306 - val_mae: 0.8391\n",
      "Epoch 17/20\n",
      "121/121 [==============================] - 19s 156ms/step - loss: 1.4453 - mae: 0.8573 - val_loss: 1.3337 - val_mae: 0.8141\n",
      "Epoch 18/20\n",
      "121/121 [==============================] - 19s 156ms/step - loss: 1.4419 - mae: 0.8560 - val_loss: 1.3161 - val_mae: 0.8212\n",
      "Epoch 19/20\n",
      "121/121 [==============================] - 19s 157ms/step - loss: 1.4315 - mae: 0.8533 - val_loss: 1.3034 - val_mae: 0.8215\n",
      "Epoch 20/20\n",
      "121/121 [==============================] - 19s 158ms/step - loss: 1.4353 - mae: 0.8532 - val_loss: 1.2880 - val_mae: 0.8131\n",
      "Epoch 1/20\n",
      "121/121 [==============================] - 19s 157ms/step - loss: 1.4357 - mae: 0.8543 - val_loss: 1.3184 - val_mae: 0.8215\n",
      "Epoch 2/20\n",
      "121/121 [==============================] - 19s 157ms/step - loss: 1.4285 - mae: 0.8500 - val_loss: 1.3397 - val_mae: 0.8112\n",
      "Epoch 3/20\n",
      "121/121 [==============================] - 19s 156ms/step - loss: 1.4281 - mae: 0.8513 - val_loss: 1.3240 - val_mae: 0.8309\n",
      "Epoch 4/20\n",
      "121/121 [==============================] - 19s 156ms/step - loss: 1.4306 - mae: 0.8517 - val_loss: 1.3358 - val_mae: 0.8188\n",
      "Epoch 5/20\n",
      "121/121 [==============================] - 19s 156ms/step - loss: 1.4259 - mae: 0.8509 - val_loss: 1.3224 - val_mae: 0.8341\n",
      "Epoch 6/20\n",
      "121/121 [==============================] - 19s 157ms/step - loss: 1.4198 - mae: 0.8491 - val_loss: 1.3196 - val_mae: 0.8088\n",
      "Epoch 7/20\n",
      "121/121 [==============================] - 19s 157ms/step - loss: 1.4249 - mae: 0.8506 - val_loss: 1.3001 - val_mae: 0.8045\n",
      "Epoch 8/20\n",
      "121/121 [==============================] - 19s 156ms/step - loss: 1.4221 - mae: 0.8508 - val_loss: 1.3048 - val_mae: 0.8101\n",
      "Epoch 9/20\n",
      "121/121 [==============================] - 19s 155ms/step - loss: 1.4232 - mae: 0.8505 - val_loss: 1.3056 - val_mae: 0.8290\n",
      "Epoch 10/20\n",
      "121/121 [==============================] - 19s 155ms/step - loss: 1.4243 - mae: 0.8513 - val_loss: 1.2996 - val_mae: 0.8092\n",
      "Epoch 11/20\n",
      "121/121 [==============================] - 19s 155ms/step - loss: 1.4202 - mae: 0.8492 - val_loss: 1.3462 - val_mae: 0.8590\n",
      "Epoch 12/20\n",
      "121/121 [==============================] - 19s 155ms/step - loss: 1.4235 - mae: 0.8503 - val_loss: 1.3104 - val_mae: 0.8072\n",
      "Epoch 13/20\n",
      "121/121 [==============================] - 19s 155ms/step - loss: 1.4190 - mae: 0.8487 - val_loss: 1.3122 - val_mae: 0.8231\n",
      "Epoch 14/20\n",
      "121/121 [==============================] - 19s 155ms/step - loss: 1.4182 - mae: 0.8493 - val_loss: 1.3021 - val_mae: 0.8186\n",
      "Epoch 15/20\n",
      "121/121 [==============================] - 19s 155ms/step - loss: 1.4186 - mae: 0.8490 - val_loss: 1.2950 - val_mae: 0.8065\n",
      "Epoch 16/20\n",
      "121/121 [==============================] - 19s 156ms/step - loss: 1.4203 - mae: 0.8502 - val_loss: 1.3024 - val_mae: 0.8218\n",
      "Epoch 17/20\n",
      "121/121 [==============================] - 19s 156ms/step - loss: 1.4150 - mae: 0.8478 - val_loss: 1.2979 - val_mae: 0.8194\n",
      "Epoch 18/20\n",
      "121/121 [==============================] - 19s 156ms/step - loss: 1.4153 - mae: 0.8493 - val_loss: 1.3245 - val_mae: 0.8152\n",
      "Epoch 19/20\n",
      "121/121 [==============================] - 19s 156ms/step - loss: 1.4117 - mae: 0.8471 - val_loss: 1.3567 - val_mae: 0.8204\n",
      "Epoch 20/20\n",
      "121/121 [==============================] - 19s 156ms/step - loss: 1.4096 - mae: 0.8470 - val_loss: 1.2962 - val_mae: 0.8154\n"
     ]
    },
    {
     "data": {
      "text/html": [
       "Finishing last run (ID:2t2eipwk) before initializing another..."
      ],
      "text/plain": [
       "<IPython.core.display.HTML object>"
      ]
     },
     "metadata": {},
     "output_type": "display_data"
    },
    {
     "data": {
      "text/html": [
       "<br/>Waiting for W&B process to finish, PID 34895<br/>Program ended successfully."
      ],
      "text/plain": [
       "<IPython.core.display.HTML object>"
      ]
     },
     "metadata": {},
     "output_type": "display_data"
    },
    {
     "data": {
      "text/html": [
       "Find user logs for this run at: <code>/home/richard_stana/programing/clanok/code/wandb/run-20210126_113956-2t2eipwk/logs/debug.log</code>"
      ],
      "text/plain": [
       "<IPython.core.display.HTML object>"
      ]
     },
     "metadata": {},
     "output_type": "display_data"
    },
    {
     "data": {
      "text/html": [
       "Find internal logs for this run at: <code>/home/richard_stana/programing/clanok/code/wandb/run-20210126_113956-2t2eipwk/logs/debug-internal.log</code>"
      ],
      "text/plain": [
       "<IPython.core.display.HTML object>"
      ]
     },
     "metadata": {},
     "output_type": "display_data"
    },
    {
     "data": {
      "text/html": [
       "<h3>Run summary:</h3><br/><style>\n",
       "    table.wandb td:nth-child(1) { padding: 0 10px; text-align: right }\n",
       "    </style><table class=\"wandb\">\n",
       "<tr><td>epoch</td><td>19</td></tr><tr><td>loss</td><td>1.40962</td></tr><tr><td>mae</td><td>0.84697</td></tr><tr><td>val_loss</td><td>1.29618</td></tr><tr><td>val_mae</td><td>0.81545</td></tr><tr><td>_step</td><td>39</td></tr><tr><td>_runtime</td><td>772</td></tr><tr><td>_timestamp</td><td>1611661972</td></tr><tr><td>best_val_loss</td><td>1.28799</td></tr><tr><td>best_epoch</td><td>19</td></tr></table>"
      ],
      "text/plain": [
       "<IPython.core.display.HTML object>"
      ]
     },
     "metadata": {},
     "output_type": "display_data"
    },
    {
     "data": {
      "text/html": [
       "<h3>Run history:</h3><br/><style>\n",
       "    table.wandb td:nth-child(1) { padding: 0 10px; text-align: right }\n",
       "    </style><table class=\"wandb\">\n",
       "<tr><td>epoch</td><td>▁▁▂▂▂▃▃▄▄▄▅▅▅▆▆▇▇▇██▁▁▂▂▂▃▃▄▄▄▅▅▅▆▆▇▇▇██</td></tr><tr><td>loss</td><td>██▆▃▂▂▂▂▂▂▂▂▂▂▂▂▂▂▁▂▂▁▁▁▁▁▁▁▁▁▁▁▁▁▁▁▁▁▁▁</td></tr><tr><td>mae</td><td>██▆▃▂▃▃▂▂▂▂▂▂▂▂▁▂▂▁▁▂▁▁▁▁▁▁▁▁▁▁▁▁▁▁▁▁▁▁▁</td></tr><tr><td>val_loss</td><td>██▄▂▃▃▂▂▂▂▂▂▂▁▁▂▂▂▁▁▂▂▂▂▂▂▁▁▁▁▂▁▁▁▁▁▁▂▂▁</td></tr><tr><td>val_mae</td><td>██▄▁▂▃▃▃▃▂▂▂▂▂▂▃▂▂▂▂▂▁▃▂▃▁▁▁▂▁▄▁▂▂▁▂▂▂▂▂</td></tr><tr><td>_step</td><td>▁▁▁▂▂▂▂▂▂▃▃▃▃▃▄▄▄▄▄▄▅▅▅▅▅▅▆▆▆▆▆▇▇▇▇▇▇███</td></tr><tr><td>_runtime</td><td>▁▁▁▂▂▂▂▂▂▃▃▃▃▃▄▄▄▄▄▄▅▅▅▅▅▆▆▆▆▆▆▇▇▇▇▇▇███</td></tr><tr><td>_timestamp</td><td>▁▁▁▂▂▂▂▂▂▃▃▃▃▃▄▄▄▄▄▄▅▅▅▅▅▆▆▆▆▆▆▇▇▇▇▇▇███</td></tr></table><br/>"
      ],
      "text/plain": [
       "<IPython.core.display.HTML object>"
      ]
     },
     "metadata": {},
     "output_type": "display_data"
    },
    {
     "data": {
      "text/html": [
       "Synced 5 W&B file(s), 1 media file(s), 0 artifact file(s) and 1 other file(s)"
      ],
      "text/plain": [
       "<IPython.core.display.HTML object>"
      ]
     },
     "metadata": {},
     "output_type": "display_data"
    },
    {
     "data": {
      "text/html": [
       "\n",
       "                    <br/>Synced <strong style=\"color:#cdcd00\">lstm-30m-item622</strong>: <a href=\"https://wandb.ai/kriza/30m-item62/runs/2t2eipwk\" target=\"_blank\">https://wandb.ai/kriza/30m-item62/runs/2t2eipwk</a><br/>\n",
       "                "
      ],
      "text/plain": [
       "<IPython.core.display.HTML object>"
      ]
     },
     "metadata": {},
     "output_type": "display_data"
    },
    {
     "data": {
      "text/html": [
       "...Successfully finished last run (ID:2t2eipwk). Initializing new run:<br/><br/>"
      ],
      "text/plain": [
       "<IPython.core.display.HTML object>"
      ]
     },
     "metadata": {},
     "output_type": "display_data"
    },
    {
     "name": "stderr",
     "output_type": "stream",
     "text": [
      "\u001b[34m\u001b[1mwandb\u001b[0m: wandb version 0.10.15 is available!  To upgrade, please run:\n",
      "\u001b[34m\u001b[1mwandb\u001b[0m:  $ pip install wandb --upgrade\n"
     ]
    },
    {
     "data": {
      "text/html": [
       "\n",
       "                Tracking run with wandb version 0.10.14<br/>\n",
       "                Syncing run <strong style=\"color:#cdcd00\">cnn-30m-item622</strong> to <a href=\"https://wandb.ai\" target=\"_blank\">Weights & Biases</a> <a href=\"https://docs.wandb.com/integrations/jupyter.html\" target=\"_blank\">(Documentation)</a>.<br/>\n",
       "                Project page: <a href=\"https://wandb.ai/kriza/30m-item62\" target=\"_blank\">https://wandb.ai/kriza/30m-item62</a><br/>\n",
       "                Run page: <a href=\"https://wandb.ai/kriza/30m-item62/runs/rsd3ml9r\" target=\"_blank\">https://wandb.ai/kriza/30m-item62/runs/rsd3ml9r</a><br/>\n",
       "                Run data is saved locally in <code>/home/richard_stana/programing/clanok/code/wandb/run-20210126_115252-rsd3ml9r</code><br/><br/>\n",
       "            "
      ],
      "text/plain": [
       "<IPython.core.display.HTML object>"
      ]
     },
     "metadata": {},
     "output_type": "display_data"
    },
    {
     "name": "stdout",
     "output_type": "stream",
     "text": [
      "Epoch 1/20\n",
      "121/121 [==============================] - 3s 25ms/step - loss: 1.7620 - mae: 0.9395 - val_loss: 1.6366 - val_mae: 0.9208\n",
      "Epoch 2/20\n",
      "121/121 [==============================] - 3s 23ms/step - loss: 1.7621 - mae: 0.9395 - val_loss: 1.6366 - val_mae: 0.9208\n",
      "Epoch 3/20\n",
      "121/121 [==============================] - 3s 25ms/step - loss: 1.7620 - mae: 0.9396 - val_loss: 1.6366 - val_mae: 0.9208\n",
      "Epoch 4/20\n",
      "121/121 [==============================] - 3s 23ms/step - loss: 1.7620 - mae: 0.9395 - val_loss: 1.6366 - val_mae: 0.9208\n",
      "Epoch 5/20\n",
      "121/121 [==============================] - 3s 23ms/step - loss: 1.7620 - mae: 0.9395 - val_loss: 1.6366 - val_mae: 0.9208\n",
      "Epoch 6/20\n",
      "121/121 [==============================] - 3s 25ms/step - loss: 1.7621 - mae: 0.9396 - val_loss: 1.6366 - val_mae: 0.9208\n",
      "Epoch 7/20\n",
      "121/121 [==============================] - 3s 23ms/step - loss: 1.7621 - mae: 0.9395 - val_loss: 1.6366 - val_mae: 0.9208\n",
      "Epoch 8/20\n",
      "121/121 [==============================] - 3s 23ms/step - loss: 1.7620 - mae: 0.9395 - val_loss: 1.6366 - val_mae: 0.9208\n",
      "Epoch 9/20\n",
      "121/121 [==============================] - 3s 23ms/step - loss: 1.7620 - mae: 0.9395 - val_loss: 1.6366 - val_mae: 0.9208\n",
      "Epoch 10/20\n",
      "121/121 [==============================] - 3s 23ms/step - loss: 1.7620 - mae: 0.9395 - val_loss: 1.6366 - val_mae: 0.9208\n",
      "Epoch 11/20\n",
      "121/121 [==============================] - 3s 23ms/step - loss: 1.7621 - mae: 0.9395 - val_loss: 1.6366 - val_mae: 0.9208\n",
      "Epoch 12/20\n",
      "121/121 [==============================] - 3s 23ms/step - loss: 1.7620 - mae: 0.9395 - val_loss: 1.6367 - val_mae: 0.9209\n",
      "Epoch 13/20\n",
      "121/121 [==============================] - 3s 23ms/step - loss: 1.7620 - mae: 0.9395 - val_loss: 1.6367 - val_mae: 0.9209\n",
      "Epoch 14/20\n",
      "121/121 [==============================] - 3s 23ms/step - loss: 1.7621 - mae: 0.9395 - val_loss: 1.6367 - val_mae: 0.9208\n",
      "Epoch 15/20\n",
      "121/121 [==============================] - 3s 25ms/step - loss: 1.7621 - mae: 0.9396 - val_loss: 1.6366 - val_mae: 0.9207\n",
      "Epoch 16/20\n",
      "121/121 [==============================] - 3s 23ms/step - loss: 1.7620 - mae: 0.9395 - val_loss: 1.6367 - val_mae: 0.9208\n",
      "Epoch 17/20\n",
      "121/121 [==============================] - 3s 23ms/step - loss: 1.7621 - mae: 0.9395 - val_loss: 1.6366 - val_mae: 0.9208\n",
      "Epoch 18/20\n",
      "121/121 [==============================] - 3s 23ms/step - loss: 1.7620 - mae: 0.9395 - val_loss: 1.6366 - val_mae: 0.9208\n",
      "Epoch 19/20\n",
      "121/121 [==============================] - 3s 23ms/step - loss: 1.7620 - mae: 0.9395 - val_loss: 1.6367 - val_mae: 0.9208\n",
      "Epoch 20/20\n",
      "121/121 [==============================] - 3s 23ms/step - loss: 1.7620 - mae: 0.9395 - val_loss: 1.6367 - val_mae: 0.9209\n",
      "Epoch 1/20\n",
      "121/121 [==============================] - 3s 24ms/step - loss: 1.7620 - mae: 0.9395 - val_loss: 1.6366 - val_mae: 0.9208 1s - loss: 1.7457 - mae: 0.9 - ETA: 1s - loss: \n",
      "Epoch 2/20\n",
      "121/121 [==============================] - 3s 24ms/step - loss: 1.7620 - mae: 0.9395 - val_loss: 1.6366 - val_mae: 0.9208\n",
      "Epoch 3/20\n",
      "121/121 [==============================] - 3s 24ms/step - loss: 1.7620 - mae: 0.9395 - val_loss: 1.6366 - val_mae: 0.9208\n",
      "Epoch 4/20\n",
      "121/121 [==============================] - 3s 23ms/step - loss: 1.7620 - mae: 0.9395 - val_loss: 1.6366 - val_mae: 0.9208\n",
      "Epoch 5/20\n",
      "121/121 [==============================] - 3s 23ms/step - loss: 1.7620 - mae: 0.9395 - val_loss: 1.6367 - val_mae: 0.9209\n",
      "Epoch 6/20\n",
      "121/121 [==============================] - 3s 23ms/step - loss: 1.7621 - mae: 0.9395 - val_loss: 1.6367 - val_mae: 0.9208\n",
      "Epoch 7/20\n",
      "121/121 [==============================] - 3s 23ms/step - loss: 1.7620 - mae: 0.9395 - val_loss: 1.6366 - val_mae: 0.9208\n",
      "Epoch 8/20\n",
      "121/121 [==============================] - 3s 24ms/step - loss: 1.7620 - mae: 0.9395 - val_loss: 1.6366 - val_mae: 0.9207\n",
      "Epoch 9/20\n",
      "121/121 [==============================] - 3s 23ms/step - loss: 1.7621 - mae: 0.9395 - val_loss: 1.6366 - val_mae: 0.9208\n",
      "Epoch 10/20\n",
      "121/121 [==============================] - 3s 23ms/step - loss: 1.7621 - mae: 0.9396 - val_loss: 1.6366 - val_mae: 0.9208\n",
      "Epoch 11/20\n",
      "121/121 [==============================] - 3s 25ms/step - loss: 1.7620 - mae: 0.9395 - val_loss: 1.6366 - val_mae: 0.9207\n",
      "Epoch 12/20\n",
      "121/121 [==============================] - 3s 23ms/step - loss: 1.7620 - mae: 0.9395 - val_loss: 1.6367 - val_mae: 0.9209\n",
      "Epoch 13/20\n",
      "121/121 [==============================] - 3s 23ms/step - loss: 1.7620 - mae: 0.9395 - val_loss: 1.6366 - val_mae: 0.9208\n",
      "Epoch 14/20\n",
      "121/121 [==============================] - 3s 23ms/step - loss: 1.7620 - mae: 0.9396 - val_loss: 1.6367 - val_mae: 0.9208\n",
      "Epoch 15/20\n",
      "121/121 [==============================] - 3s 23ms/step - loss: 1.7621 - mae: 0.9396 - val_loss: 1.6367 - val_mae: 0.9209\n",
      "Epoch 16/20\n",
      "121/121 [==============================] - 3s 23ms/step - loss: 1.7620 - mae: 0.9396 - val_loss: 1.6367 - val_mae: 0.9208\n",
      "Epoch 17/20\n",
      "121/121 [==============================] - 3s 23ms/step - loss: 1.7620 - mae: 0.9395 - val_loss: 1.6366 - val_mae: 0.9208\n",
      "Epoch 18/20\n",
      "121/121 [==============================] - 3s 23ms/step - loss: 1.7620 - mae: 0.9395 - val_loss: 1.6367 - val_mae: 0.9209\n",
      "Epoch 19/20\n",
      "121/121 [==============================] - 3s 23ms/step - loss: 1.7620 - mae: 0.9395 - val_loss: 1.6366 - val_mae: 0.9208\n",
      "Epoch 20/20\n",
      "121/121 [==============================] - 3s 23ms/step - loss: 1.7620 - mae: 0.9395 - val_loss: 1.6366 - val_mae: 0.9208\n"
     ]
    },
    {
     "data": {
      "text/html": [
       "Finishing last run (ID:rsd3ml9r) before initializing another..."
      ],
      "text/plain": [
       "<IPython.core.display.HTML object>"
      ]
     },
     "metadata": {},
     "output_type": "display_data"
    },
    {
     "data": {
      "text/html": [
       "<br/>Waiting for W&B process to finish, PID 37614<br/>Program ended successfully."
      ],
      "text/plain": [
       "<IPython.core.display.HTML object>"
      ]
     },
     "metadata": {},
     "output_type": "display_data"
    },
    {
     "data": {
      "text/html": [
       "Find user logs for this run at: <code>/home/richard_stana/programing/clanok/code/wandb/run-20210126_115252-rsd3ml9r/logs/debug.log</code>"
      ],
      "text/plain": [
       "<IPython.core.display.HTML object>"
      ]
     },
     "metadata": {},
     "output_type": "display_data"
    },
    {
     "data": {
      "text/html": [
       "Find internal logs for this run at: <code>/home/richard_stana/programing/clanok/code/wandb/run-20210126_115252-rsd3ml9r/logs/debug-internal.log</code>"
      ],
      "text/plain": [
       "<IPython.core.display.HTML object>"
      ]
     },
     "metadata": {},
     "output_type": "display_data"
    },
    {
     "data": {
      "text/html": [
       "<h3>Run summary:</h3><br/><style>\n",
       "    table.wandb td:nth-child(1) { padding: 0 10px; text-align: right }\n",
       "    </style><table class=\"wandb\">\n",
       "<tr><td>epoch</td><td>19</td></tr><tr><td>loss</td><td>1.76202</td></tr><tr><td>mae</td><td>0.93951</td></tr><tr><td>val_loss</td><td>1.63662</td></tr><tr><td>val_mae</td><td>0.92078</td></tr><tr><td>_step</td><td>39</td></tr><tr><td>_runtime</td><td>119</td></tr><tr><td>_timestamp</td><td>1611662097</td></tr><tr><td>best_val_loss</td><td>1.63658</td></tr><tr><td>best_epoch</td><td>10</td></tr></table>"
      ],
      "text/plain": [
       "<IPython.core.display.HTML object>"
      ]
     },
     "metadata": {},
     "output_type": "display_data"
    },
    {
     "data": {
      "text/html": [
       "<h3>Run history:</h3><br/><style>\n",
       "    table.wandb td:nth-child(1) { padding: 0 10px; text-align: right }\n",
       "    </style><table class=\"wandb\">\n",
       "<tr><td>epoch</td><td>▁▁▂▂▂▃▃▄▄▄▅▅▅▆▆▇▇▇██▁▁▂▂▂▃▃▄▄▄▅▅▅▆▆▇▇▇██</td></tr><tr><td>loss</td><td>▁▄▂▂▃█▆▃▃▂▄▁▃▄▄▃▄▂▁▂▂▃▃▃▂▄▃▂▄▅▂▂▂▂▄▃▂▂▂▂</td></tr><tr><td>mae</td><td>▁▄▆▂▂█▅▂▁▂▃▁▁▃▇▂▂▃▂▁▃▂▅▃▃▅▄▂▄▇▃▄▁▇█▆▄▂▅▃</td></tr><tr><td>val_loss</td><td>▃▄▂▃▄▁▅▄▅▄▅▆█▅▁▇▅▅▅▇▄▃▃▅▆▆▅▃▅▃▁▆▄▆█▅▄█▃▃</td></tr><tr><td>val_mae</td><td>▄▄▃▃▄▂▅▅▆▅▆▇█▄▂▆▄▄▄▆▅▄▄▅▆▅▅▂▅▃▁▆▅▆█▅▅█▃▃</td></tr><tr><td>_step</td><td>▁▁▁▂▂▂▂▂▂▃▃▃▃▃▄▄▄▄▄▄▅▅▅▅▅▅▆▆▆▆▆▇▇▇▇▇▇███</td></tr><tr><td>_runtime</td><td>▁▁▁▂▂▂▂▂▂▃▃▃▃▃▃▄▄▄▄▄▅▅▅▅▅▅▆▆▆▆▆▇▇▇▇▇▇███</td></tr><tr><td>_timestamp</td><td>▁▁▁▂▂▂▂▂▂▃▃▃▃▃▃▄▄▄▄▄▅▅▅▅▅▅▆▆▆▆▆▇▇▇▇▇▇███</td></tr></table><br/>"
      ],
      "text/plain": [
       "<IPython.core.display.HTML object>"
      ]
     },
     "metadata": {},
     "output_type": "display_data"
    },
    {
     "data": {
      "text/html": [
       "Synced 5 W&B file(s), 1 media file(s), 0 artifact file(s) and 1 other file(s)"
      ],
      "text/plain": [
       "<IPython.core.display.HTML object>"
      ]
     },
     "metadata": {},
     "output_type": "display_data"
    },
    {
     "data": {
      "text/html": [
       "\n",
       "                    <br/>Synced <strong style=\"color:#cdcd00\">cnn-30m-item622</strong>: <a href=\"https://wandb.ai/kriza/30m-item62/runs/rsd3ml9r\" target=\"_blank\">https://wandb.ai/kriza/30m-item62/runs/rsd3ml9r</a><br/>\n",
       "                "
      ],
      "text/plain": [
       "<IPython.core.display.HTML object>"
      ]
     },
     "metadata": {},
     "output_type": "display_data"
    },
    {
     "data": {
      "text/html": [
       "...Successfully finished last run (ID:rsd3ml9r). Initializing new run:<br/><br/>"
      ],
      "text/plain": [
       "<IPython.core.display.HTML object>"
      ]
     },
     "metadata": {},
     "output_type": "display_data"
    },
    {
     "name": "stderr",
     "output_type": "stream",
     "text": [
      "\u001b[34m\u001b[1mwandb\u001b[0m: wandb version 0.10.15 is available!  To upgrade, please run:\n",
      "\u001b[34m\u001b[1mwandb\u001b[0m:  $ pip install wandb --upgrade\n"
     ]
    },
    {
     "data": {
      "text/html": [
       "\n",
       "                Tracking run with wandb version 0.10.14<br/>\n",
       "                Syncing run <strong style=\"color:#cdcd00\">dobra_cnn-30m-item622</strong> to <a href=\"https://wandb.ai\" target=\"_blank\">Weights & Biases</a> <a href=\"https://docs.wandb.com/integrations/jupyter.html\" target=\"_blank\">(Documentation)</a>.<br/>\n",
       "                Project page: <a href=\"https://wandb.ai/kriza/30m-item62\" target=\"_blank\">https://wandb.ai/kriza/30m-item62</a><br/>\n",
       "                Run page: <a href=\"https://wandb.ai/kriza/30m-item62/runs/g1y64088\" target=\"_blank\">https://wandb.ai/kriza/30m-item62/runs/g1y64088</a><br/>\n",
       "                Run data is saved locally in <code>/home/richard_stana/programing/clanok/code/wandb/run-20210126_115457-g1y64088</code><br/><br/>\n",
       "            "
      ],
      "text/plain": [
       "<IPython.core.display.HTML object>"
      ]
     },
     "metadata": {},
     "output_type": "display_data"
    },
    {
     "name": "stdout",
     "output_type": "stream",
     "text": [
      "Epoch 1/20\n",
      "121/121 [==============================] - 1s 12ms/step - loss: 1.6516 - mae: 0.9159 - val_loss: 1.3978 - val_mae: 0.8427\n",
      "Epoch 2/20\n",
      "121/121 [==============================] - 1s 10ms/step - loss: 1.4528 - mae: 0.8606 - val_loss: 1.3897 - val_mae: 0.8495\n",
      "Epoch 3/20\n",
      "121/121 [==============================] - 1s 10ms/step - loss: 1.3626 - mae: 0.8371 - val_loss: 1.3806 - val_mae: 0.8444\n",
      "Epoch 4/20\n",
      "121/121 [==============================] - 1s 10ms/step - loss: 1.2130 - mae: 0.7949 - val_loss: 1.4920 - val_mae: 0.8890\n",
      "Epoch 5/20\n",
      "121/121 [==============================] - 1s 10ms/step - loss: 0.9734 - mae: 0.7172 - val_loss: 1.5223 - val_mae: 0.9146\n",
      "Epoch 6/20\n",
      "121/121 [==============================] - 1s 10ms/step - loss: 0.7233 - mae: 0.6200 - val_loss: 1.5481 - val_mae: 0.9132\n",
      "Epoch 7/20\n",
      "121/121 [==============================] - 1s 10ms/step - loss: 0.5460 - mae: 0.5379 - val_loss: 1.6643 - val_mae: 0.9484\n",
      "Epoch 8/20\n",
      "121/121 [==============================] - 1s 10ms/step - loss: 0.4424 - mae: 0.4806 - val_loss: 1.6402 - val_mae: 0.9529\n",
      "Epoch 9/20\n",
      "121/121 [==============================] - 1s 10ms/step - loss: 0.3777 - mae: 0.4406 - val_loss: 1.6802 - val_mae: 0.9590\n",
      "Epoch 10/20\n",
      "121/121 [==============================] - 1s 10ms/step - loss: 0.3280 - mae: 0.4077 - val_loss: 1.7228 - val_mae: 0.9708\n",
      "Epoch 11/20\n",
      "121/121 [==============================] - 1s 10ms/step - loss: 0.2986 - mae: 0.3873 - val_loss: 1.7740 - val_mae: 0.9799\n",
      "Epoch 12/20\n",
      "121/121 [==============================] - 1s 10ms/step - loss: 0.2699 - mae: 0.3665 - val_loss: 1.7596 - val_mae: 0.9742\n",
      "Epoch 13/20\n",
      "121/121 [==============================] - 1s 10ms/step - loss: 0.2428 - mae: 0.3459 - val_loss: 1.7773 - val_mae: 0.9762\n",
      "Epoch 14/20\n",
      "121/121 [==============================] - 1s 10ms/step - loss: 0.2237 - mae: 0.3303 - val_loss: 1.7730 - val_mae: 0.9808\n",
      "Epoch 15/20\n",
      "121/121 [==============================] - 1s 10ms/step - loss: 0.2055 - mae: 0.3153 - val_loss: 1.7627 - val_mae: 0.9679\n",
      "Epoch 16/20\n",
      "121/121 [==============================] - 1s 10ms/step - loss: 0.2134 - mae: 0.3182 - val_loss: 1.8162 - val_mae: 0.9992\n",
      "Epoch 17/20\n",
      "121/121 [==============================] - 1s 10ms/step - loss: 0.1933 - mae: 0.3083 - val_loss: 1.7862 - val_mae: 0.9842\n",
      "Epoch 18/20\n",
      "121/121 [==============================] - 1s 10ms/step - loss: 0.1718 - mae: 0.2872 - val_loss: 1.8202 - val_mae: 0.9949\n",
      "Epoch 19/20\n",
      "121/121 [==============================] - 1s 10ms/step - loss: 0.1605 - mae: 0.2749 - val_loss: 1.8331 - val_mae: 0.9944\n",
      "Epoch 20/20\n",
      "121/121 [==============================] - 1s 11ms/step - loss: 0.1506 - mae: 0.2656 - val_loss: 1.8247 - val_mae: 1.0075\n",
      "Epoch 1/20\n",
      "121/121 [==============================] - 1s 10ms/step - loss: 0.1419 - mae: 0.2553 - val_loss: 1.7733 - val_mae: 0.9871\n",
      "Epoch 2/20\n",
      "121/121 [==============================] - 1s 10ms/step - loss: 0.1406 - mae: 0.2543 - val_loss: 1.8368 - val_mae: 1.0093\n",
      "Epoch 3/20\n",
      "121/121 [==============================] - 1s 10ms/step - loss: 0.1384 - mae: 0.2534 - val_loss: 1.8494 - val_mae: 1.0046\n",
      "Epoch 4/20\n",
      "121/121 [==============================] - 1s 10ms/step - loss: 0.1356 - mae: 0.2505 - val_loss: 1.8239 - val_mae: 1.0035\n",
      "Epoch 5/20\n",
      "121/121 [==============================] - 1s 10ms/step - loss: 0.1354 - mae: 0.2506 - val_loss: 1.8279 - val_mae: 1.0026\n",
      "Epoch 6/20\n",
      "121/121 [==============================] - 1s 11ms/step - loss: 0.1315 - mae: 0.2473 - val_loss: 1.8270 - val_mae: 1.0052\n",
      "Epoch 7/20\n",
      "121/121 [==============================] - 1s 10ms/step - loss: 0.1250 - mae: 0.2393 - val_loss: 1.8264 - val_mae: 1.0010\n",
      "Epoch 8/20\n",
      "121/121 [==============================] - 1s 10ms/step - loss: 0.1179 - mae: 0.2307 - val_loss: 1.8329 - val_mae: 1.0160\n",
      "Epoch 9/20\n",
      "121/121 [==============================] - 1s 10ms/step - loss: 0.1164 - mae: 0.2284 - val_loss: 1.8368 - val_mae: 1.0112\n",
      "Epoch 10/20\n",
      "121/121 [==============================] - 1s 10ms/step - loss: 0.1109 - mae: 0.2232 - val_loss: 1.8362 - val_mae: 1.0106\n",
      "Epoch 11/20\n",
      "121/121 [==============================] - ETA: 0s - loss: 0.1100 - mae: 0.222 - 1s 10ms/step - loss: 0.1101 - mae: 0.2223 - val_loss: 1.8131 - val_mae: 1.0036\n",
      "Epoch 12/20\n",
      "121/121 [==============================] - 1s 10ms/step - loss: 0.1067 - mae: 0.2183 - val_loss: 1.8373 - val_mae: 1.0083\n",
      "Epoch 13/20\n",
      "121/121 [==============================] - 1s 10ms/step - loss: 0.1037 - mae: 0.2143 - val_loss: 1.8657 - val_mae: 1.0164\n",
      "Epoch 14/20\n",
      "121/121 [==============================] - 1s 10ms/step - loss: 0.1010 - mae: 0.2112 - val_loss: 1.8261 - val_mae: 1.0069\n",
      "Epoch 15/20\n",
      "121/121 [==============================] - 1s 10ms/step - loss: 0.0979 - mae: 0.2063 - val_loss: 1.8369 - val_mae: 1.0119\n",
      "Epoch 16/20\n",
      "121/121 [==============================] - 1s 10ms/step - loss: 0.0967 - mae: 0.2043 - val_loss: 1.8546 - val_mae: 1.0174\n",
      "Epoch 17/20\n",
      "121/121 [==============================] - 1s 10ms/step - loss: 0.0958 - mae: 0.2042 - val_loss: 1.8601 - val_mae: 1.0163\n",
      "Epoch 18/20\n",
      "121/121 [==============================] - 1s 10ms/step - loss: 0.0928 - mae: 0.2005 - val_loss: 1.8235 - val_mae: 1.0131\n",
      "Epoch 19/20\n",
      "121/121 [==============================] - 1s 11ms/step - loss: 0.0936 - mae: 0.2014 - val_loss: 1.8542 - val_mae: 1.0235\n",
      "Epoch 20/20\n",
      "121/121 [==============================] - 1s 10ms/step - loss: 0.0912 - mae: 0.1994 - val_loss: 1.8749 - val_mae: 1.0217\n"
     ]
    },
    {
     "data": {
      "text/html": [
       "Finishing last run (ID:g1y64088) before initializing another..."
      ],
      "text/plain": [
       "<IPython.core.display.HTML object>"
      ]
     },
     "metadata": {},
     "output_type": "display_data"
    },
    {
     "data": {
      "text/html": [
       "<br/>Waiting for W&B process to finish, PID 38154<br/>Program ended successfully."
      ],
      "text/plain": [
       "<IPython.core.display.HTML object>"
      ]
     },
     "metadata": {},
     "output_type": "display_data"
    },
    {
     "data": {
      "text/html": [
       "Find user logs for this run at: <code>/home/richard_stana/programing/clanok/code/wandb/run-20210126_115457-g1y64088/logs/debug.log</code>"
      ],
      "text/plain": [
       "<IPython.core.display.HTML object>"
      ]
     },
     "metadata": {},
     "output_type": "display_data"
    },
    {
     "data": {
      "text/html": [
       "Find internal logs for this run at: <code>/home/richard_stana/programing/clanok/code/wandb/run-20210126_115457-g1y64088/logs/debug-internal.log</code>"
      ],
      "text/plain": [
       "<IPython.core.display.HTML object>"
      ]
     },
     "metadata": {},
     "output_type": "display_data"
    },
    {
     "data": {
      "text/html": [
       "<h3>Run summary:</h3><br/><style>\n",
       "    table.wandb td:nth-child(1) { padding: 0 10px; text-align: right }\n",
       "    </style><table class=\"wandb\">\n",
       "<tr><td>epoch</td><td>19</td></tr><tr><td>loss</td><td>0.09117</td></tr><tr><td>mae</td><td>0.19937</td></tr><tr><td>val_loss</td><td>1.87489</td></tr><tr><td>val_mae</td><td>1.02169</td></tr><tr><td>_step</td><td>39</td></tr><tr><td>_runtime</td><td>56</td></tr><tr><td>_timestamp</td><td>1611662157</td></tr><tr><td>best_val_loss</td><td>1.38056</td></tr><tr><td>best_epoch</td><td>2</td></tr></table>"
      ],
      "text/plain": [
       "<IPython.core.display.HTML object>"
      ]
     },
     "metadata": {},
     "output_type": "display_data"
    },
    {
     "data": {
      "text/html": [
       "<h3>Run history:</h3><br/><style>\n",
       "    table.wandb td:nth-child(1) { padding: 0 10px; text-align: right }\n",
       "    </style><table class=\"wandb\">\n",
       "<tr><td>epoch</td><td>▁▁▂▂▂▃▃▄▄▄▅▅▅▆▆▇▇▇██▁▁▂▂▂▃▃▄▄▄▅▅▅▆▆▇▇▇██</td></tr><tr><td>loss</td><td>█▇▇▆▅▄▃▃▂▂▂▂▂▂▂▂▁▁▁▁▁▁▁▁▁▁▁▁▁▁▁▁▁▁▁▁▁▁▁▁</td></tr><tr><td>mae</td><td>█▇▇▇▆▅▄▄▃▃▃▃▂▂▂▂▂▂▂▂▂▂▂▁▂▁▁▁▁▁▁▁▁▁▁▁▁▁▁▁</td></tr><tr><td>val_loss</td><td>▁▁▁▃▃▃▅▅▅▆▇▆▇▇▆▇▇▇▇▇▇▇█▇▇▇▇▇▇▇▇▇█▇▇██▇██</td></tr><tr><td>val_mae</td><td>▁▁▁▃▄▄▅▅▆▆▆▆▆▆▆▇▆▇▇▇▇▇▇▇▇▇▇███▇▇█▇██████</td></tr><tr><td>_step</td><td>▁▁▁▂▂▂▂▂▂▃▃▃▃▃▄▄▄▄▄▄▅▅▅▅▅▅▆▆▆▆▆▇▇▇▇▇▇███</td></tr><tr><td>_runtime</td><td>▁▁▁▂▂▂▂▂▂▃▃▃▃▃▃▄▄▄▄▄▅▅▅▅▅▆▆▆▆▆▆▆▇▇▇▇▇███</td></tr><tr><td>_timestamp</td><td>▁▁▁▂▂▂▂▂▂▃▃▃▃▃▃▄▄▄▄▄▅▅▅▅▅▆▆▆▆▆▆▆▇▇▇▇▇███</td></tr></table><br/>"
      ],
      "text/plain": [
       "<IPython.core.display.HTML object>"
      ]
     },
     "metadata": {},
     "output_type": "display_data"
    },
    {
     "data": {
      "text/html": [
       "Synced 5 W&B file(s), 1 media file(s), 0 artifact file(s) and 1 other file(s)"
      ],
      "text/plain": [
       "<IPython.core.display.HTML object>"
      ]
     },
     "metadata": {},
     "output_type": "display_data"
    },
    {
     "data": {
      "text/html": [
       "\n",
       "                    <br/>Synced <strong style=\"color:#cdcd00\">dobra_cnn-30m-item622</strong>: <a href=\"https://wandb.ai/kriza/30m-item62/runs/g1y64088\" target=\"_blank\">https://wandb.ai/kriza/30m-item62/runs/g1y64088</a><br/>\n",
       "                "
      ],
      "text/plain": [
       "<IPython.core.display.HTML object>"
      ]
     },
     "metadata": {},
     "output_type": "display_data"
    },
    {
     "data": {
      "text/html": [
       "...Successfully finished last run (ID:g1y64088). Initializing new run:<br/><br/>"
      ],
      "text/plain": [
       "<IPython.core.display.HTML object>"
      ]
     },
     "metadata": {},
     "output_type": "display_data"
    },
    {
     "name": "stderr",
     "output_type": "stream",
     "text": [
      "\u001b[34m\u001b[1mwandb\u001b[0m: wandb version 0.10.15 is available!  To upgrade, please run:\n",
      "\u001b[34m\u001b[1mwandb\u001b[0m:  $ pip install wandb --upgrade\n"
     ]
    },
    {
     "data": {
      "text/html": [
       "\n",
       "                Tracking run with wandb version 0.10.14<br/>\n",
       "                Syncing run <strong style=\"color:#cdcd00\">lstm-30m-item662</strong> to <a href=\"https://wandb.ai\" target=\"_blank\">Weights & Biases</a> <a href=\"https://docs.wandb.com/integrations/jupyter.html\" target=\"_blank\">(Documentation)</a>.<br/>\n",
       "                Project page: <a href=\"https://wandb.ai/kriza/30m-item66\" target=\"_blank\">https://wandb.ai/kriza/30m-item66</a><br/>\n",
       "                Run page: <a href=\"https://wandb.ai/kriza/30m-item66/runs/34z2atcw\" target=\"_blank\">https://wandb.ai/kriza/30m-item66/runs/34z2atcw</a><br/>\n",
       "                Run data is saved locally in <code>/home/richard_stana/programing/clanok/code/wandb/run-20210126_115558-34z2atcw</code><br/><br/>\n",
       "            "
      ],
      "text/plain": [
       "<IPython.core.display.HTML object>"
      ]
     },
     "metadata": {},
     "output_type": "display_data"
    },
    {
     "name": "stdout",
     "output_type": "stream",
     "text": [
      "Epoch 1/20\n",
      "121/121 [==============================] - 20s 165ms/step - loss: 0.0302 - mae: 0.1010 - val_loss: 0.0682 - val_mae: 0.1226\n",
      "Epoch 2/20\n",
      "121/121 [==============================] - 19s 157ms/step - loss: 0.0285 - mae: 0.0979 - val_loss: 0.0682 - val_mae: 0.1250\n",
      "Epoch 3/20\n",
      "121/121 [==============================] - 19s 157ms/step - loss: 0.0283 - mae: 0.0979 - val_loss: 0.0672 - val_mae: 0.1303\n",
      "Epoch 4/20\n",
      "121/121 [==============================] - 19s 159ms/step - loss: 0.0282 - mae: 0.0979 - val_loss: 0.0658 - val_mae: 0.1192\n",
      "Epoch 5/20\n",
      "121/121 [==============================] - 19s 156ms/step - loss: 0.0281 - mae: 0.0983 - val_loss: 0.0687 - val_mae: 0.1224\n",
      "Epoch 6/20\n",
      "121/121 [==============================] - 19s 159ms/step - loss: 0.0282 - mae: 0.0983 - val_loss: 0.0656 - val_mae: 0.1187\n",
      "Epoch 7/20\n",
      "121/121 [==============================] - 19s 157ms/step - loss: 0.0305 - mae: 0.1028 - val_loss: 0.0696 - val_mae: 0.1074\n",
      "Epoch 8/20\n",
      "121/121 [==============================] - 19s 156ms/step - loss: 0.0305 - mae: 0.1004 - val_loss: 0.0699 - val_mae: 0.1100\n",
      "Epoch 9/20\n",
      "121/121 [==============================] - 19s 156ms/step - loss: 0.0305 - mae: 0.1008 - val_loss: 0.0698 - val_mae: 0.1102\n",
      "Epoch 10/20\n",
      "121/121 [==============================] - 19s 156ms/step - loss: 0.0305 - mae: 0.1008 - val_loss: 0.0692 - val_mae: 0.1074\n",
      "Epoch 11/20\n",
      "121/121 [==============================] - 19s 156ms/step - loss: 0.0302 - mae: 0.1003 - val_loss: 0.0692 - val_mae: 0.1096\n",
      "Epoch 12/20\n",
      "121/121 [==============================] - 19s 156ms/step - loss: 0.0293 - mae: 0.0986 - val_loss: 0.0699 - val_mae: 0.1253\n",
      "Epoch 13/20\n",
      "121/121 [==============================] - 19s 156ms/step - loss: 0.0288 - mae: 0.0980 - val_loss: 0.0690 - val_mae: 0.1179\n",
      "Epoch 14/20\n",
      "121/121 [==============================] - 19s 156ms/step - loss: 0.0289 - mae: 0.0985 - val_loss: 0.0688 - val_mae: 0.1174\n",
      "Epoch 15/20\n",
      "121/121 [==============================] - 19s 156ms/step - loss: 0.0286 - mae: 0.0977 - val_loss: 0.0695 - val_mae: 0.1199\n",
      "Epoch 16/20\n",
      "121/121 [==============================] - 19s 156ms/step - loss: 0.0286 - mae: 0.0981 - val_loss: 0.0686 - val_mae: 0.1158\n",
      "Epoch 17/20\n",
      "121/121 [==============================] - 19s 156ms/step - loss: 0.0285 - mae: 0.0976 - val_loss: 0.0691 - val_mae: 0.1185\n",
      "Epoch 18/20\n",
      "121/121 [==============================] - 19s 156ms/step - loss: 0.0284 - mae: 0.0974 - val_loss: 0.0709 - val_mae: 0.1218\n",
      "Epoch 19/20\n",
      "121/121 [==============================] - 19s 156ms/step - loss: 0.0284 - mae: 0.0972 - val_loss: 0.0688 - val_mae: 0.1182\n",
      "Epoch 20/20\n",
      "121/121 [==============================] - 19s 156ms/step - loss: 0.0283 - mae: 0.0971 - val_loss: 0.0691 - val_mae: 0.1218\n",
      "Epoch 1/20\n",
      "121/121 [==============================] - 19s 157ms/step - loss: 0.0284 - mae: 0.0978 - val_loss: 0.0714 - val_mae: 0.1310\n",
      "Epoch 2/20\n",
      "121/121 [==============================] - 19s 157ms/step - loss: 0.0286 - mae: 0.0978 - val_loss: 0.0680 - val_mae: 0.1165\n",
      "Epoch 3/20\n",
      "121/121 [==============================] - 19s 156ms/step - loss: 0.0282 - mae: 0.0969 - val_loss: 0.0685 - val_mae: 0.1186\n",
      "Epoch 4/20\n",
      "121/121 [==============================] - 19s 156ms/step - loss: 0.0281 - mae: 0.0970 - val_loss: 0.0699 - val_mae: 0.1337\n",
      "Epoch 5/20\n",
      "121/121 [==============================] - 19s 156ms/step - loss: 0.0283 - mae: 0.0975 - val_loss: 0.0686 - val_mae: 0.1206\n",
      "Epoch 6/20\n",
      "121/121 [==============================] - 19s 156ms/step - loss: 0.0281 - mae: 0.0969 - val_loss: 0.0691 - val_mae: 0.1330\n",
      "Epoch 7/20\n",
      "121/121 [==============================] - 19s 156ms/step - loss: 0.0288 - mae: 0.0987 - val_loss: 0.0679 - val_mae: 0.1188\n",
      "Epoch 8/20\n",
      "121/121 [==============================] - 19s 158ms/step - loss: 0.0283 - mae: 0.0976 - val_loss: 0.0679 - val_mae: 0.1158\n",
      "Epoch 9/20\n",
      "121/121 [==============================] - 19s 156ms/step - loss: 0.0282 - mae: 0.0975 - val_loss: 0.0678 - val_mae: 0.1200\n",
      "Epoch 10/20\n",
      "121/121 [==============================] - 19s 156ms/step - loss: 0.0279 - mae: 0.0973 - val_loss: 0.0683 - val_mae: 0.1197\n",
      "Epoch 11/20\n",
      "121/121 [==============================] - 19s 157ms/step - loss: 0.0279 - mae: 0.0971 - val_loss: 0.0669 - val_mae: 0.1300\n",
      "Epoch 12/20\n",
      "121/121 [==============================] - 19s 156ms/step - loss: 0.0280 - mae: 0.0973 - val_loss: 0.0660 - val_mae: 0.1207\n",
      "Epoch 13/20\n",
      "121/121 [==============================] - 19s 156ms/step - loss: 0.0280 - mae: 0.0975 - val_loss: 0.0665 - val_mae: 0.1178\n",
      "Epoch 14/20\n",
      "121/121 [==============================] - 19s 157ms/step - loss: 0.0336 - mae: 0.1082 - val_loss: 0.0695 - val_mae: 0.1079\n",
      "Epoch 15/20\n",
      "121/121 [==============================] - 19s 156ms/step - loss: 0.0302 - mae: 0.1000 - val_loss: 0.0688 - val_mae: 0.1083\n",
      "Epoch 16/20\n",
      "121/121 [==============================] - 19s 156ms/step - loss: 0.0298 - mae: 0.0999 - val_loss: 0.0721 - val_mae: 0.1262\n",
      "Epoch 17/20\n",
      "121/121 [==============================] - 19s 156ms/step - loss: 0.0292 - mae: 0.0988 - val_loss: 0.0687 - val_mae: 0.1214\n",
      "Epoch 18/20\n",
      "121/121 [==============================] - 19s 156ms/step - loss: 0.0286 - mae: 0.0974 - val_loss: 0.0689 - val_mae: 0.1205\n",
      "Epoch 19/20\n",
      "121/121 [==============================] - 19s 156ms/step - loss: 0.0285 - mae: 0.0975 - val_loss: 0.0730 - val_mae: 0.1300\n",
      "Epoch 20/20\n",
      "121/121 [==============================] - 19s 156ms/step - loss: 0.0289 - mae: 0.0984 - val_loss: 0.0695 - val_mae: 0.1137\n"
     ]
    },
    {
     "data": {
      "text/html": [
       "Finishing last run (ID:34z2atcw) before initializing another..."
      ],
      "text/plain": [
       "<IPython.core.display.HTML object>"
      ]
     },
     "metadata": {},
     "output_type": "display_data"
    },
    {
     "data": {
      "text/html": [
       "<br/>Waiting for W&B process to finish, PID 38504<br/>Program ended successfully."
      ],
      "text/plain": [
       "<IPython.core.display.HTML object>"
      ]
     },
     "metadata": {},
     "output_type": "display_data"
    },
    {
     "data": {
      "text/html": [
       "Find user logs for this run at: <code>/home/richard_stana/programing/clanok/code/wandb/run-20210126_115558-34z2atcw/logs/debug.log</code>"
      ],
      "text/plain": [
       "<IPython.core.display.HTML object>"
      ]
     },
     "metadata": {},
     "output_type": "display_data"
    },
    {
     "data": {
      "text/html": [
       "Find internal logs for this run at: <code>/home/richard_stana/programing/clanok/code/wandb/run-20210126_115558-34z2atcw/logs/debug-internal.log</code>"
      ],
      "text/plain": [
       "<IPython.core.display.HTML object>"
      ]
     },
     "metadata": {},
     "output_type": "display_data"
    },
    {
     "data": {
      "text/html": [
       "<h3>Run summary:</h3><br/><style>\n",
       "    table.wandb td:nth-child(1) { padding: 0 10px; text-align: right }\n",
       "    </style><table class=\"wandb\">\n",
       "<tr><td>epoch</td><td>19</td></tr><tr><td>loss</td><td>0.02887</td></tr><tr><td>mae</td><td>0.09845</td></tr><tr><td>val_loss</td><td>0.06948</td></tr><tr><td>val_mae</td><td>0.11374</td></tr><tr><td>_step</td><td>39</td></tr><tr><td>_runtime</td><td>772</td></tr><tr><td>_timestamp</td><td>1611662934</td></tr><tr><td>best_val_loss</td><td>0.06555</td></tr><tr><td>best_epoch</td><td>5</td></tr></table>"
      ],
      "text/plain": [
       "<IPython.core.display.HTML object>"
      ]
     },
     "metadata": {},
     "output_type": "display_data"
    },
    {
     "data": {
      "text/html": [
       "<h3>Run history:</h3><br/><style>\n",
       "    table.wandb td:nth-child(1) { padding: 0 10px; text-align: right }\n",
       "    </style><table class=\"wandb\">\n",
       "<tr><td>epoch</td><td>▁▁▂▂▂▃▃▄▄▄▅▅▅▆▆▇▇▇██▁▁▂▂▂▃▃▄▄▄▅▅▅▆▆▇▇▇██</td></tr><tr><td>loss</td><td>▄▂▂▁▁▁▄▄▄▄▄▃▂▂▂▂▂▂▂▁▂▂▁▁▂▁▂▁▁▁▁▁▁█▄▃▃▂▂▂</td></tr><tr><td>mae</td><td>▄▂▂▂▂▂▅▃▃▃▃▂▂▂▂▂▁▁▁▁▂▂▁▁▁▁▂▁▁▁▁▁▁█▃▃▂▁▁▂</td></tr><tr><td>val_loss</td><td>▃▃▃▁▄▁▅▅▅▄▄▅▄▄▅▄▄▆▄▄▆▃▄▅▄▄▃▃▃▄▂▁▂▅▄▇▄▄█▅</td></tr><tr><td>val_mae</td><td>▅▆▇▄▅▄▁▂▂▁▂▆▄▄▄▃▄▅▄▅▇▃▄█▅█▄▃▄▄▇▅▄▁▁▆▅▄▇▃</td></tr><tr><td>_step</td><td>▁▁▁▂▂▂▂▂▂▃▃▃▃▃▄▄▄▄▄▄▅▅▅▅▅▅▆▆▆▆▆▇▇▇▇▇▇███</td></tr><tr><td>_runtime</td><td>▁▁▁▂▂▂▂▂▂▃▃▃▃▃▄▄▄▄▄▄▅▅▅▅▅▅▆▆▆▆▆▇▇▇▇▇▇███</td></tr><tr><td>_timestamp</td><td>▁▁▁▂▂▂▂▂▂▃▃▃▃▃▄▄▄▄▄▄▅▅▅▅▅▅▆▆▆▆▆▇▇▇▇▇▇███</td></tr></table><br/>"
      ],
      "text/plain": [
       "<IPython.core.display.HTML object>"
      ]
     },
     "metadata": {},
     "output_type": "display_data"
    },
    {
     "data": {
      "text/html": [
       "Synced 5 W&B file(s), 1 media file(s), 0 artifact file(s) and 1 other file(s)"
      ],
      "text/plain": [
       "<IPython.core.display.HTML object>"
      ]
     },
     "metadata": {},
     "output_type": "display_data"
    },
    {
     "data": {
      "text/html": [
       "\n",
       "                    <br/>Synced <strong style=\"color:#cdcd00\">lstm-30m-item662</strong>: <a href=\"https://wandb.ai/kriza/30m-item66/runs/34z2atcw\" target=\"_blank\">https://wandb.ai/kriza/30m-item66/runs/34z2atcw</a><br/>\n",
       "                "
      ],
      "text/plain": [
       "<IPython.core.display.HTML object>"
      ]
     },
     "metadata": {},
     "output_type": "display_data"
    },
    {
     "data": {
      "text/html": [
       "...Successfully finished last run (ID:34z2atcw). Initializing new run:<br/><br/>"
      ],
      "text/plain": [
       "<IPython.core.display.HTML object>"
      ]
     },
     "metadata": {},
     "output_type": "display_data"
    },
    {
     "name": "stderr",
     "output_type": "stream",
     "text": [
      "\u001b[34m\u001b[1mwandb\u001b[0m: wandb version 0.10.15 is available!  To upgrade, please run:\n",
      "\u001b[34m\u001b[1mwandb\u001b[0m:  $ pip install wandb --upgrade\n"
     ]
    },
    {
     "data": {
      "text/html": [
       "\n",
       "                Tracking run with wandb version 0.10.14<br/>\n",
       "                Syncing run <strong style=\"color:#cdcd00\">cnn-30m-item662</strong> to <a href=\"https://wandb.ai\" target=\"_blank\">Weights & Biases</a> <a href=\"https://docs.wandb.com/integrations/jupyter.html\" target=\"_blank\">(Documentation)</a>.<br/>\n",
       "                Project page: <a href=\"https://wandb.ai/kriza/30m-item66\" target=\"_blank\">https://wandb.ai/kriza/30m-item66</a><br/>\n",
       "                Run page: <a href=\"https://wandb.ai/kriza/30m-item66/runs/314h0x7v\" target=\"_blank\">https://wandb.ai/kriza/30m-item66/runs/314h0x7v</a><br/>\n",
       "                Run data is saved locally in <code>/home/richard_stana/programing/clanok/code/wandb/run-20210126_120854-314h0x7v</code><br/><br/>\n",
       "            "
      ],
      "text/plain": [
       "<IPython.core.display.HTML object>"
      ]
     },
     "metadata": {},
     "output_type": "display_data"
    },
    {
     "name": "stdout",
     "output_type": "stream",
     "text": [
      "Epoch 1/20\n",
      "121/121 [==============================] - 3s 26ms/step - loss: 0.0305 - mae: 0.1002 - val_loss: 0.0695 - val_mae: 0.1072\n",
      "Epoch 2/20\n",
      "121/121 [==============================] - 3s 24ms/step - loss: 0.0305 - mae: 0.1002 - val_loss: 0.0695 - val_mae: 0.1073\n",
      "Epoch 3/20\n",
      "121/121 [==============================] - 3s 23ms/step - loss: 0.0305 - mae: 0.1002 - val_loss: 0.0695 - val_mae: 0.1073\n",
      "Epoch 4/20\n",
      "121/121 [==============================] - 3s 24ms/step - loss: 0.0305 - mae: 0.1002 - val_loss: 0.0694 - val_mae: 0.1074\n",
      "Epoch 5/20\n",
      "121/121 [==============================] - 3s 24ms/step - loss: 0.0305 - mae: 0.1002 - val_loss: 0.0694 - val_mae: 0.1073\n",
      "Epoch 6/20\n",
      "121/121 [==============================] - 3s 24ms/step - loss: 0.0305 - mae: 0.1002 - val_loss: 0.0695 - val_mae: 0.1072\n",
      "Epoch 7/20\n",
      "121/121 [==============================] - 3s 23ms/step - loss: 0.0305 - mae: 0.1002 - val_loss: 0.0695 - val_mae: 0.1073\n",
      "Epoch 8/20\n",
      "121/121 [==============================] - 3s 23ms/step - loss: 0.0305 - mae: 0.1002 - val_loss: 0.0695 - val_mae: 0.1073\n",
      "Epoch 9/20\n",
      "121/121 [==============================] - 3s 23ms/step - loss: 0.0305 - mae: 0.1002 - val_loss: 0.0695 - val_mae: 0.1073\n",
      "Epoch 10/20\n",
      "121/121 [==============================] - 3s 23ms/step - loss: 0.0305 - mae: 0.1002 - val_loss: 0.0695 - val_mae: 0.1073\n",
      "Epoch 11/20\n",
      "121/121 [==============================] - 3s 23ms/step - loss: 0.0305 - mae: 0.1002 - val_loss: 0.0695 - val_mae: 0.1072\n",
      "Epoch 12/20\n",
      "121/121 [==============================] - 3s 23ms/step - loss: 0.0305 - mae: 0.1002 - val_loss: 0.0694 - val_mae: 0.1074\n",
      "Epoch 13/20\n",
      "121/121 [==============================] - 3s 24ms/step - loss: 0.0305 - mae: 0.1002 - val_loss: 0.0695 - val_mae: 0.1072\n",
      "Epoch 14/20\n",
      "121/121 [==============================] - 3s 23ms/step - loss: 0.0305 - mae: 0.1002 - val_loss: 0.0695 - val_mae: 0.1073\n",
      "Epoch 15/20\n",
      "121/121 [==============================] - 3s 23ms/step - loss: 0.0305 - mae: 0.1002 - val_loss: 0.0694 - val_mae: 0.1074\n",
      "Epoch 16/20\n",
      "121/121 [==============================] - 3s 23ms/step - loss: 0.0305 - mae: 0.1002 - val_loss: 0.0695 - val_mae: 0.1073\n",
      "Epoch 17/20\n",
      "121/121 [==============================] - 3s 23ms/step - loss: 0.0305 - mae: 0.1002 - val_loss: 0.0695 - val_mae: 0.1073\n",
      "Epoch 18/20\n",
      "121/121 [==============================] - 3s 23ms/step - loss: 0.0305 - mae: 0.1002 - val_loss: 0.0694 - val_mae: 0.1074\n",
      "Epoch 19/20\n",
      "121/121 [==============================] - 3s 23ms/step - loss: 0.0305 - mae: 0.1002 - val_loss: 0.0695 - val_mae: 0.1072\n",
      "Epoch 20/20\n",
      "121/121 [==============================] - 3s 23ms/step - loss: 0.0305 - mae: 0.1003 - val_loss: 0.0695 - val_mae: 0.1073\n",
      "Epoch 1/20\n",
      "121/121 [==============================] - 3s 23ms/step - loss: 0.0305 - mae: 0.1002 - val_loss: 0.0695 - val_mae: 0.10730.0328 - mae: 0.1 - ETA: 1s - loss: 0\n",
      "Epoch 2/20\n",
      "121/121 [==============================] - 3s 24ms/step - loss: 0.0305 - mae: 0.1002 - val_loss: 0.0695 - val_mae: 0.1072\n",
      "Epoch 3/20\n",
      "121/121 [==============================] - 3s 23ms/step - loss: 0.0305 - mae: 0.1002 - val_loss: 0.0694 - val_mae: 0.1075\n",
      "Epoch 4/20\n",
      "121/121 [==============================] - 3s 23ms/step - loss: 0.0305 - mae: 0.1002 - val_loss: 0.0695 - val_mae: 0.1074\n",
      "Epoch 5/20\n",
      "121/121 [==============================] - 3s 23ms/step - loss: 0.0305 - mae: 0.1002 - val_loss: 0.0695 - val_mae: 0.1073\n",
      "Epoch 6/20\n",
      "121/121 [==============================] - 3s 24ms/step - loss: 0.0305 - mae: 0.1002 - val_loss: 0.0695 - val_mae: 0.1072\n",
      "Epoch 7/20\n",
      "121/121 [==============================] - 3s 23ms/step - loss: 0.0305 - mae: 0.1002 - val_loss: 0.0695 - val_mae: 0.1074\n",
      "Epoch 8/20\n",
      "121/121 [==============================] - 3s 23ms/step - loss: 0.0304 - mae: 0.1002 - val_loss: 0.0695 - val_mae: 0.1072\n",
      "Epoch 9/20\n",
      "121/121 [==============================] - 3s 23ms/step - loss: 0.0305 - mae: 0.1002 - val_loss: 0.0695 - val_mae: 0.1073\n",
      "Epoch 10/20\n",
      "121/121 [==============================] - 3s 23ms/step - loss: 0.0305 - mae: 0.1002 - val_loss: 0.0694 - val_mae: 0.1074\n",
      "Epoch 11/20\n",
      "121/121 [==============================] - 3s 23ms/step - loss: 0.0305 - mae: 0.1002 - val_loss: 0.0695 - val_mae: 0.1075\n",
      "Epoch 12/20\n",
      "121/121 [==============================] - 3s 23ms/step - loss: 0.0305 - mae: 0.1002 - val_loss: 0.0694 - val_mae: 0.1074\n",
      "Epoch 13/20\n",
      "121/121 [==============================] - ETA: 0s - loss: 0.0305 - mae: 0.100 - 3s 23ms/step - loss: 0.0305 - mae: 0.1002 - val_loss: 0.0695 - val_mae: 0.1073\n",
      "Epoch 14/20\n",
      "121/121 [==============================] - 3s 23ms/step - loss: 0.0305 - mae: 0.1002 - val_loss: 0.0695 - val_mae: 0.1073\n",
      "Epoch 15/20\n",
      "121/121 [==============================] - 3s 23ms/step - loss: 0.0305 - mae: 0.1002 - val_loss: 0.0694 - val_mae: 0.1074\n",
      "Epoch 16/20\n",
      "121/121 [==============================] - 3s 23ms/step - loss: 0.0305 - mae: 0.1002 - val_loss: 0.0694 - val_mae: 0.1073\n",
      "Epoch 17/20\n",
      "121/121 [==============================] - 3s 23ms/step - loss: 0.0305 - mae: 0.1002 - val_loss: 0.0694 - val_mae: 0.1074\n",
      "Epoch 18/20\n",
      "121/121 [==============================] - 3s 24ms/step - loss: 0.0305 - mae: 0.1002 - val_loss: 0.0695 - val_mae: 0.1072\n",
      "Epoch 19/20\n",
      "121/121 [==============================] - 3s 23ms/step - loss: 0.0304 - mae: 0.1002 - val_loss: 0.0695 - val_mae: 0.1075\n",
      "Epoch 20/20\n",
      "121/121 [==============================] - 3s 23ms/step - loss: 0.0305 - mae: 0.1002 - val_loss: 0.0694 - val_mae: 0.1075\n"
     ]
    },
    {
     "data": {
      "text/html": [
       "Finishing last run (ID:314h0x7v) before initializing another..."
      ],
      "text/plain": [
       "<IPython.core.display.HTML object>"
      ]
     },
     "metadata": {},
     "output_type": "display_data"
    },
    {
     "data": {
      "text/html": [
       "<br/>Waiting for W&B process to finish, PID 379<br/>Program ended successfully."
      ],
      "text/plain": [
       "<IPython.core.display.HTML object>"
      ]
     },
     "metadata": {},
     "output_type": "display_data"
    },
    {
     "data": {
      "text/html": [
       "Find user logs for this run at: <code>/home/richard_stana/programing/clanok/code/wandb/run-20210126_120854-314h0x7v/logs/debug.log</code>"
      ],
      "text/plain": [
       "<IPython.core.display.HTML object>"
      ]
     },
     "metadata": {},
     "output_type": "display_data"
    },
    {
     "data": {
      "text/html": [
       "Find internal logs for this run at: <code>/home/richard_stana/programing/clanok/code/wandb/run-20210126_120854-314h0x7v/logs/debug-internal.log</code>"
      ],
      "text/plain": [
       "<IPython.core.display.HTML object>"
      ]
     },
     "metadata": {},
     "output_type": "display_data"
    },
    {
     "data": {
      "text/html": [
       "<h3>Run summary:</h3><br/><style>\n",
       "    table.wandb td:nth-child(1) { padding: 0 10px; text-align: right }\n",
       "    </style><table class=\"wandb\">\n",
       "<tr><td>epoch</td><td>19</td></tr><tr><td>loss</td><td>0.03046</td></tr><tr><td>mae</td><td>0.10021</td></tr><tr><td>val_loss</td><td>0.06944</td></tr><tr><td>val_mae</td><td>0.10747</td></tr><tr><td>_step</td><td>39</td></tr><tr><td>_runtime</td><td>119</td></tr><tr><td>_timestamp</td><td>1611663059</td></tr><tr><td>best_val_loss</td><td>0.06944</td></tr><tr><td>best_epoch</td><td>11</td></tr></table>"
      ],
      "text/plain": [
       "<IPython.core.display.HTML object>"
      ]
     },
     "metadata": {},
     "output_type": "display_data"
    },
    {
     "data": {
      "text/html": [
       "<h3>Run history:</h3><br/><style>\n",
       "    table.wandb td:nth-child(1) { padding: 0 10px; text-align: right }\n",
       "    </style><table class=\"wandb\">\n",
       "<tr><td>epoch</td><td>▁▁▂▂▂▃▃▄▄▄▅▅▅▆▆▇▇▇██▁▁▂▂▂▃▃▄▄▄▅▅▅▆▆▇▇▇██</td></tr><tr><td>loss</td><td>▄▂█▃▄▄▄▃▅▆▂▅▅▅▃▄▄▃▆▇▄▅▄▅▄▅▃▁▄▃▃▅▄▃█▃▄▃▁▇</td></tr><tr><td>mae</td><td>▅▃▄▃▃▂▃▃▃▄▅▅▃▄▃▆▃▂▃█▂▄▇▁▃▅▄▅▃▂▅▄▃▃▅▄▂▃▃▄</td></tr><tr><td>val_loss</td><td>▅▂▂▂▂▅▃▃▃▃█▁▅▃▁▅▂▁▃▃▃▄▂▃▄▆▆▄▃▁▃▁▂▃▁▂▁▅▄▁</td></tr><tr><td>val_mae</td><td>▁▄▃▇▅▁▃▂▃▄▁▆▁▄▆▄▃▅▂▃▂▁█▆▄▁▅▂▂▆█▆▃▂▇▅▆▁█▇</td></tr><tr><td>_step</td><td>▁▁▁▂▂▂▂▂▂▃▃▃▃▃▄▄▄▄▄▄▅▅▅▅▅▅▆▆▆▆▆▇▇▇▇▇▇███</td></tr><tr><td>_runtime</td><td>▁▁▁▂▂▂▂▂▂▃▃▃▃▃▃▄▄▄▄▄▅▅▅▅▅▅▆▆▆▆▆▇▇▇▇▇▇███</td></tr><tr><td>_timestamp</td><td>▁▁▁▂▂▂▂▂▂▃▃▃▃▃▃▄▄▄▄▄▅▅▅▅▅▅▆▆▆▆▆▇▇▇▇▇▇███</td></tr></table><br/>"
      ],
      "text/plain": [
       "<IPython.core.display.HTML object>"
      ]
     },
     "metadata": {},
     "output_type": "display_data"
    },
    {
     "data": {
      "text/html": [
       "Synced 5 W&B file(s), 1 media file(s), 0 artifact file(s) and 1 other file(s)"
      ],
      "text/plain": [
       "<IPython.core.display.HTML object>"
      ]
     },
     "metadata": {},
     "output_type": "display_data"
    },
    {
     "data": {
      "text/html": [
       "\n",
       "                    <br/>Synced <strong style=\"color:#cdcd00\">cnn-30m-item662</strong>: <a href=\"https://wandb.ai/kriza/30m-item66/runs/314h0x7v\" target=\"_blank\">https://wandb.ai/kriza/30m-item66/runs/314h0x7v</a><br/>\n",
       "                "
      ],
      "text/plain": [
       "<IPython.core.display.HTML object>"
      ]
     },
     "metadata": {},
     "output_type": "display_data"
    },
    {
     "data": {
      "text/html": [
       "...Successfully finished last run (ID:314h0x7v). Initializing new run:<br/><br/>"
      ],
      "text/plain": [
       "<IPython.core.display.HTML object>"
      ]
     },
     "metadata": {},
     "output_type": "display_data"
    },
    {
     "name": "stderr",
     "output_type": "stream",
     "text": [
      "\u001b[34m\u001b[1mwandb\u001b[0m: wandb version 0.10.15 is available!  To upgrade, please run:\n",
      "\u001b[34m\u001b[1mwandb\u001b[0m:  $ pip install wandb --upgrade\n"
     ]
    },
    {
     "data": {
      "text/html": [
       "\n",
       "                Tracking run with wandb version 0.10.14<br/>\n",
       "                Syncing run <strong style=\"color:#cdcd00\">dobra_cnn-30m-item662</strong> to <a href=\"https://wandb.ai\" target=\"_blank\">Weights & Biases</a> <a href=\"https://docs.wandb.com/integrations/jupyter.html\" target=\"_blank\">(Documentation)</a>.<br/>\n",
       "                Project page: <a href=\"https://wandb.ai/kriza/30m-item66\" target=\"_blank\">https://wandb.ai/kriza/30m-item66</a><br/>\n",
       "                Run page: <a href=\"https://wandb.ai/kriza/30m-item66/runs/3h11kprq\" target=\"_blank\">https://wandb.ai/kriza/30m-item66/runs/3h11kprq</a><br/>\n",
       "                Run data is saved locally in <code>/home/richard_stana/programing/clanok/code/wandb/run-20210126_121059-3h11kprq</code><br/><br/>\n",
       "            "
      ],
      "text/plain": [
       "<IPython.core.display.HTML object>"
      ]
     },
     "metadata": {},
     "output_type": "display_data"
    },
    {
     "name": "stdout",
     "output_type": "stream",
     "text": [
      "Epoch 1/20\n",
      "121/121 [==============================] - 1s 12ms/step - loss: 0.0430 - mae: 0.1365 - val_loss: 0.0895 - val_mae: 0.1752\n",
      "Epoch 2/20\n",
      "121/121 [==============================] - 1s 11ms/step - loss: 0.0230 - mae: 0.0996 - val_loss: 0.0861 - val_mae: 0.1675\n",
      "Epoch 3/20\n",
      "121/121 [==============================] - 1s 10ms/step - loss: 0.0194 - mae: 0.0927 - val_loss: 0.0871 - val_mae: 0.1734\n",
      "Epoch 4/20\n",
      "121/121 [==============================] - 1s 11ms/step - loss: 0.0176 - mae: 0.0882 - val_loss: 0.0798 - val_mae: 0.1561\n",
      "Epoch 5/20\n",
      "121/121 [==============================] - 1s 10ms/step - loss: 0.0160 - mae: 0.0840 - val_loss: 0.0808 - val_mae: 0.1601\n",
      "Epoch 6/20\n",
      "121/121 [==============================] - 1s 11ms/step - loss: 0.0151 - mae: 0.0817 - val_loss: 0.0790 - val_mae: 0.1553\n",
      "Epoch 7/20\n",
      "121/121 [==============================] - 1s 10ms/step - loss: 0.0142 - mae: 0.0792 - val_loss: 0.0801 - val_mae: 0.1534\n",
      "Epoch 8/20\n",
      "121/121 [==============================] - 1s 10ms/step - loss: 0.0133 - mae: 0.0768 - val_loss: 0.0795 - val_mae: 0.1526\n",
      "Epoch 9/20\n",
      "121/121 [==============================] - 1s 10ms/step - loss: 0.0125 - mae: 0.0744 - val_loss: 0.0841 - val_mae: 0.1603\n",
      "Epoch 10/20\n",
      "121/121 [==============================] - 1s 10ms/step - loss: 0.0119 - mae: 0.0726 - val_loss: 0.0823 - val_mae: 0.1592\n",
      "Epoch 11/20\n",
      "121/121 [==============================] - 1s 10ms/step - loss: 0.0113 - mae: 0.0711 - val_loss: 0.0826 - val_mae: 0.1606\n",
      "Epoch 12/20\n",
      "121/121 [==============================] - 1s 10ms/step - loss: 0.0107 - mae: 0.0688 - val_loss: 0.0839 - val_mae: 0.1619\n",
      "Epoch 13/20\n",
      "121/121 [==============================] - 1s 10ms/step - loss: 0.0101 - mae: 0.0674 - val_loss: 0.0835 - val_mae: 0.1626\n",
      "Epoch 14/20\n",
      "121/121 [==============================] - 1s 10ms/step - loss: 0.0097 - mae: 0.0659 - val_loss: 0.0825 - val_mae: 0.1632\n",
      "Epoch 15/20\n",
      "121/121 [==============================] - 1s 10ms/step - loss: 0.0091 - mae: 0.0642 - val_loss: 0.0831 - val_mae: 0.1599\n",
      "Epoch 16/20\n",
      "121/121 [==============================] - 1s 10ms/step - loss: 0.0087 - mae: 0.0627 - val_loss: 0.0833 - val_mae: 0.1614\n",
      "Epoch 17/20\n",
      "121/121 [==============================] - 1s 10ms/step - loss: 0.0083 - mae: 0.0608 - val_loss: 0.0845 - val_mae: 0.1670\n",
      "Epoch 18/20\n",
      "121/121 [==============================] - 1s 10ms/step - loss: 0.0080 - mae: 0.0600 - val_loss: 0.0836 - val_mae: 0.1630\n",
      "Epoch 19/20\n",
      "121/121 [==============================] - 1s 10ms/step - loss: 0.0075 - mae: 0.0581 - val_loss: 0.0855 - val_mae: 0.1663\n",
      "Epoch 20/20\n",
      "121/121 [==============================] - 1s 10ms/step - loss: 0.0072 - mae: 0.0568 - val_loss: 0.0849 - val_mae: 0.1651\n",
      "Epoch 1/20\n",
      "121/121 [==============================] - 1s 10ms/step - loss: 0.0070 - mae: 0.0559 - val_loss: 0.0883 - val_mae: 0.1687\n",
      "Epoch 2/20\n",
      "121/121 [==============================] - 1s 10ms/step - loss: 0.0066 - mae: 0.0544 - val_loss: 0.0880 - val_mae: 0.1711\n",
      "Epoch 3/20\n",
      "121/121 [==============================] - 1s 11ms/step - loss: 0.0063 - mae: 0.0532 - val_loss: 0.0877 - val_mae: 0.1670\n",
      "Epoch 4/20\n",
      "121/121 [==============================] - 1s 10ms/step - loss: 0.0060 - mae: 0.0521 - val_loss: 0.0863 - val_mae: 0.1691\n",
      "Epoch 5/20\n",
      "121/121 [==============================] - 1s 10ms/step - loss: 0.0057 - mae: 0.0506 - val_loss: 0.0941 - val_mae: 0.1784\n",
      "Epoch 6/20\n",
      "121/121 [==============================] - 1s 10ms/step - loss: 0.0056 - mae: 0.0505 - val_loss: 0.0879 - val_mae: 0.1696\n",
      "Epoch 7/20\n",
      "121/121 [==============================] - 1s 10ms/step - loss: 0.0054 - mae: 0.0498 - val_loss: 0.0898 - val_mae: 0.1739\n",
      "Epoch 8/20\n",
      "121/121 [==============================] - 1s 10ms/step - loss: 0.0051 - mae: 0.0484 - val_loss: 0.0955 - val_mae: 0.1825\n",
      "Epoch 9/20\n",
      "121/121 [==============================] - 1s 10ms/step - loss: 0.0050 - mae: 0.0476 - val_loss: 0.0916 - val_mae: 0.1800\n",
      "Epoch 10/20\n",
      "121/121 [==============================] - 1s 10ms/step - loss: 0.0049 - mae: 0.0468 - val_loss: 0.0939 - val_mae: 0.1823\n",
      "Epoch 11/20\n",
      "121/121 [==============================] - 1s 10ms/step - loss: 0.0049 - mae: 0.0467 - val_loss: 0.0929 - val_mae: 0.1784\n",
      "Epoch 12/20\n",
      "121/121 [==============================] - 1s 10ms/step - loss: 0.0045 - mae: 0.0452 - val_loss: 0.0948 - val_mae: 0.1827\n",
      "Epoch 13/20\n",
      "121/121 [==============================] - 1s 10ms/step - loss: 0.0042 - mae: 0.0439 - val_loss: 0.0913 - val_mae: 0.1772\n",
      "Epoch 14/20\n",
      "121/121 [==============================] - 1s 10ms/step - loss: 0.0041 - mae: 0.0429 - val_loss: 0.0956 - val_mae: 0.1864\n",
      "Epoch 15/20\n",
      "121/121 [==============================] - 1s 11ms/step - loss: 0.0041 - mae: 0.0428 - val_loss: 0.0937 - val_mae: 0.1818\n",
      "Epoch 16/20\n",
      "121/121 [==============================] - 1s 11ms/step - loss: 0.0040 - mae: 0.0428 - val_loss: 0.0904 - val_mae: 0.1787\n",
      "Epoch 17/20\n",
      "121/121 [==============================] - 1s 10ms/step - loss: 0.0040 - mae: 0.0428 - val_loss: 0.0944 - val_mae: 0.1840\n",
      "Epoch 18/20\n",
      "121/121 [==============================] - 1s 10ms/step - loss: 0.0038 - mae: 0.0412 - val_loss: 0.0905 - val_mae: 0.1790\n",
      "Epoch 19/20\n",
      "121/121 [==============================] - 1s 10ms/step - loss: 0.0038 - mae: 0.0414 - val_loss: 0.0969 - val_mae: 0.1857\n",
      "Epoch 20/20\n",
      "121/121 [==============================] - 1s 10ms/step - loss: 0.0037 - mae: 0.0409 - val_loss: 0.0893 - val_mae: 0.1782\n"
     ]
    },
    {
     "data": {
      "text/html": [
       "Finishing last run (ID:3h11kprq) before initializing another..."
      ],
      "text/plain": [
       "<IPython.core.display.HTML object>"
      ]
     },
     "metadata": {},
     "output_type": "display_data"
    },
    {
     "data": {
      "text/html": [
       "<br/>Waiting for W&B process to finish, PID 1037<br/>Program ended successfully."
      ],
      "text/plain": [
       "<IPython.core.display.HTML object>"
      ]
     },
     "metadata": {},
     "output_type": "display_data"
    },
    {
     "data": {
      "text/html": [
       "Find user logs for this run at: <code>/home/richard_stana/programing/clanok/code/wandb/run-20210126_121059-3h11kprq/logs/debug.log</code>"
      ],
      "text/plain": [
       "<IPython.core.display.HTML object>"
      ]
     },
     "metadata": {},
     "output_type": "display_data"
    },
    {
     "data": {
      "text/html": [
       "Find internal logs for this run at: <code>/home/richard_stana/programing/clanok/code/wandb/run-20210126_121059-3h11kprq/logs/debug-internal.log</code>"
      ],
      "text/plain": [
       "<IPython.core.display.HTML object>"
      ]
     },
     "metadata": {},
     "output_type": "display_data"
    },
    {
     "data": {
      "text/html": [
       "<h3>Run summary:</h3><br/><style>\n",
       "    table.wandb td:nth-child(1) { padding: 0 10px; text-align: right }\n",
       "    </style><table class=\"wandb\">\n",
       "<tr><td>epoch</td><td>19</td></tr><tr><td>loss</td><td>0.00371</td></tr><tr><td>mae</td><td>0.04087</td></tr><tr><td>val_loss</td><td>0.08931</td></tr><tr><td>val_mae</td><td>0.17821</td></tr><tr><td>_step</td><td>39</td></tr><tr><td>_runtime</td><td>56</td></tr><tr><td>_timestamp</td><td>1611663118</td></tr><tr><td>best_val_loss</td><td>0.07896</td></tr><tr><td>best_epoch</td><td>5</td></tr></table>"
      ],
      "text/plain": [
       "<IPython.core.display.HTML object>"
      ]
     },
     "metadata": {},
     "output_type": "display_data"
    },
    {
     "data": {
      "text/html": [
       "<h3>Run history:</h3><br/><style>\n",
       "    table.wandb td:nth-child(1) { padding: 0 10px; text-align: right }\n",
       "    </style><table class=\"wandb\">\n",
       "<tr><td>epoch</td><td>▁▁▂▂▂▃▃▄▄▄▅▅▅▆▆▇▇▇██▁▁▂▂▂▃▃▄▄▄▅▅▅▆▆▇▇▇██</td></tr><tr><td>loss</td><td>█▄▄▃▃▃▃▃▃▂▂▂▂▂▂▂▂▂▂▂▂▂▁▁▁▁▁▁▁▁▁▁▁▁▁▁▁▁▁▁</td></tr><tr><td>mae</td><td>█▅▅▄▄▄▄▄▃▃▃▃▃▃▃▃▂▂▂▂▂▂▂▂▂▂▂▂▁▁▁▁▁▁▁▁▁▁▁▁</td></tr><tr><td>val_loss</td><td>▅▄▄▁▂▁▁▁▃▂▂▃▃▂▃▃▃▃▄▃▅▅▄▄▇▄▅▇▆▇▆▇▆▇▇▅▇▆█▅</td></tr><tr><td>val_mae</td><td>▆▄▅▂▃▂▁▁▃▂▃▃▃▃▃▃▄▃▄▄▄▅▄▄▆▅▅▇▇▇▆▇▆█▇▆▇▆█▆</td></tr><tr><td>_step</td><td>▁▁▁▂▂▂▂▂▂▃▃▃▃▃▄▄▄▄▄▄▅▅▅▅▅▅▆▆▆▆▆▇▇▇▇▇▇███</td></tr><tr><td>_runtime</td><td>▁▁▁▁▂▂▂▂▂▃▃▃▃▃▃▄▄▄▄▄▅▅▅▅▅▅▆▆▆▆▆▇▇▇▇▇▇███</td></tr><tr><td>_timestamp</td><td>▁▁▁▁▂▂▂▂▂▃▃▃▃▃▃▄▄▄▄▄▅▅▅▅▅▅▆▆▆▆▆▇▇▇▇▇▇███</td></tr></table><br/>"
      ],
      "text/plain": [
       "<IPython.core.display.HTML object>"
      ]
     },
     "metadata": {},
     "output_type": "display_data"
    },
    {
     "data": {
      "text/html": [
       "Synced 5 W&B file(s), 1 media file(s), 0 artifact file(s) and 1 other file(s)"
      ],
      "text/plain": [
       "<IPython.core.display.HTML object>"
      ]
     },
     "metadata": {},
     "output_type": "display_data"
    },
    {
     "data": {
      "text/html": [
       "\n",
       "                    <br/>Synced <strong style=\"color:#cdcd00\">dobra_cnn-30m-item662</strong>: <a href=\"https://wandb.ai/kriza/30m-item66/runs/3h11kprq\" target=\"_blank\">https://wandb.ai/kriza/30m-item66/runs/3h11kprq</a><br/>\n",
       "                "
      ],
      "text/plain": [
       "<IPython.core.display.HTML object>"
      ]
     },
     "metadata": {},
     "output_type": "display_data"
    },
    {
     "data": {
      "text/html": [
       "...Successfully finished last run (ID:3h11kprq). Initializing new run:<br/><br/>"
      ],
      "text/plain": [
       "<IPython.core.display.HTML object>"
      ]
     },
     "metadata": {},
     "output_type": "display_data"
    },
    {
     "name": "stderr",
     "output_type": "stream",
     "text": [
      "\u001b[34m\u001b[1mwandb\u001b[0m: wandb version 0.10.15 is available!  To upgrade, please run:\n",
      "\u001b[34m\u001b[1mwandb\u001b[0m:  $ pip install wandb --upgrade\n"
     ]
    },
    {
     "data": {
      "text/html": [
       "\n",
       "                Tracking run with wandb version 0.10.14<br/>\n",
       "                Syncing run <strong style=\"color:#cdcd00\">lstm-30m-item672</strong> to <a href=\"https://wandb.ai\" target=\"_blank\">Weights & Biases</a> <a href=\"https://docs.wandb.com/integrations/jupyter.html\" target=\"_blank\">(Documentation)</a>.<br/>\n",
       "                Project page: <a href=\"https://wandb.ai/kriza/30m-item67\" target=\"_blank\">https://wandb.ai/kriza/30m-item67</a><br/>\n",
       "                Run page: <a href=\"https://wandb.ai/kriza/30m-item67/runs/1y3tnz1i\" target=\"_blank\">https://wandb.ai/kriza/30m-item67/runs/1y3tnz1i</a><br/>\n",
       "                Run data is saved locally in <code>/home/richard_stana/programing/clanok/code/wandb/run-20210126_121200-1y3tnz1i</code><br/><br/>\n",
       "            "
      ],
      "text/plain": [
       "<IPython.core.display.HTML object>"
      ]
     },
     "metadata": {},
     "output_type": "display_data"
    },
    {
     "name": "stdout",
     "output_type": "stream",
     "text": [
      "Epoch 1/20\n",
      "121/121 [==============================] - 20s 169ms/step - loss: 0.0281 - mae: 0.0362 - val_loss: 0.0030 - val_mae: 0.0340\n",
      "Epoch 2/20\n",
      "121/121 [==============================] - 19s 159ms/step - loss: 0.0278 - mae: 0.0358 - val_loss: 0.0025 - val_mae: 0.0266\n",
      "Epoch 3/20\n",
      "121/121 [==============================] - 19s 156ms/step - loss: 0.0275 - mae: 0.0355 - val_loss: 0.0026 - val_mae: 0.0276\n",
      "Epoch 4/20\n",
      "121/121 [==============================] - 19s 156ms/step - loss: 0.0270 - mae: 0.0360 - val_loss: 0.0025 - val_mae: 0.0270\n",
      "Epoch 5/20\n",
      "121/121 [==============================] - 19s 156ms/step - loss: 0.0263 - mae: 0.0357 - val_loss: 0.0033 - val_mae: 0.0374\n",
      "Epoch 6/20\n",
      "121/121 [==============================] - 19s 156ms/step - loss: 0.0252 - mae: 0.0364 - val_loss: 0.0031 - val_mae: 0.0339\n",
      "Epoch 7/20\n",
      "121/121 [==============================] - 19s 156ms/step - loss: 0.0246 - mae: 0.0367 - val_loss: 0.0027 - val_mae: 0.0289\n",
      "Epoch 8/20\n",
      "121/121 [==============================] - 19s 156ms/step - loss: 0.0225 - mae: 0.0377 - val_loss: 0.0039 - val_mae: 0.0433\n",
      "Epoch 9/20\n",
      "121/121 [==============================] - 19s 156ms/step - loss: 0.0196 - mae: 0.0371 - val_loss: 0.0036 - val_mae: 0.0388\n",
      "Epoch 10/20\n",
      "121/121 [==============================] - 19s 156ms/step - loss: 0.0172 - mae: 0.0366 - val_loss: 0.0027 - val_mae: 0.0302\n",
      "Epoch 11/20\n",
      "121/121 [==============================] - 19s 156ms/step - loss: 0.0142 - mae: 0.0358 - val_loss: 0.0050 - val_mae: 0.0539\n",
      "Epoch 12/20\n",
      "121/121 [==============================] - 19s 156ms/step - loss: 0.0272 - mae: 0.0526 - val_loss: 0.0029 - val_mae: 0.0315\n",
      "Epoch 13/20\n",
      "121/121 [==============================] - 19s 156ms/step - loss: 0.0256 - mae: 0.0445 - val_loss: 0.0026 - val_mae: 0.0276\n",
      "Epoch 14/20\n",
      "121/121 [==============================] - 19s 156ms/step - loss: 0.0221 - mae: 0.0425 - val_loss: 0.0033 - val_mae: 0.0363\n",
      "Epoch 15/20\n",
      "121/121 [==============================] - 19s 157ms/step - loss: 0.0190 - mae: 0.0422 - val_loss: 0.0030 - val_mae: 0.0334\n",
      "Epoch 16/20\n",
      "121/121 [==============================] - 19s 157ms/step - loss: 0.0263 - mae: 0.0402 - val_loss: 0.0030 - val_mae: 0.0329\n",
      "Epoch 17/20\n",
      "121/121 [==============================] - 19s 157ms/step - loss: 0.0284 - mae: 0.0371 - val_loss: 0.0033 - val_mae: 0.0356\n",
      "Epoch 18/20\n",
      "121/121 [==============================] - 19s 157ms/step - loss: 0.0275 - mae: 0.0438 - val_loss: 0.0026 - val_mae: 0.0285\n",
      "Epoch 19/20\n",
      "121/121 [==============================] - 19s 157ms/step - loss: 0.0211 - mae: 0.0518 - val_loss: 0.0025 - val_mae: 0.0271\n",
      "Epoch 20/20\n",
      "121/121 [==============================] - 19s 157ms/step - loss: 0.0181 - mae: 0.0426 - val_loss: 0.0030 - val_mae: 0.0328\n",
      "Epoch 1/20\n",
      "121/121 [==============================] - 19s 158ms/step - loss: 0.0152 - mae: 0.0386 - val_loss: 0.0026 - val_mae: 0.0282\n",
      "Epoch 2/20\n",
      "121/121 [==============================] - 19s 157ms/step - loss: 0.0167 - mae: 0.0403 - val_loss: 0.0028 - val_mae: 0.0304\n",
      "Epoch 3/20\n",
      "121/121 [==============================] - 19s 158ms/step - loss: 0.0140 - mae: 0.0347 - val_loss: 0.0026 - val_mae: 0.0277\n",
      "Epoch 4/20\n",
      "121/121 [==============================] - 19s 157ms/step - loss: 0.0106 - mae: 0.0333 - val_loss: 0.0026 - val_mae: 0.0288\n",
      "Epoch 5/20\n",
      "121/121 [==============================] - 19s 157ms/step - loss: 0.0102 - mae: 0.0339 - val_loss: 0.0026 - val_mae: 0.0279\n",
      "Epoch 6/20\n",
      "121/121 [==============================] - 19s 159ms/step - loss: 0.0098 - mae: 0.0343 - val_loss: 0.0025 - val_mae: 0.0265\n",
      "Epoch 7/20\n",
      "121/121 [==============================] - 19s 157ms/step - loss: 0.0093 - mae: 0.0329 - val_loss: 0.0025 - val_mae: 0.0267\n",
      "Epoch 8/20\n",
      "121/121 [==============================] - 19s 158ms/step - loss: 0.0092 - mae: 0.0338 - val_loss: 0.0025 - val_mae: 0.0263\n",
      "Epoch 9/20\n",
      "121/121 [==============================] - 19s 156ms/step - loss: 0.0089 - mae: 0.0336 - val_loss: 0.0025 - val_mae: 0.0273\n",
      "Epoch 10/20\n",
      "121/121 [==============================] - 19s 156ms/step - loss: 0.0088 - mae: 0.0332 - val_loss: 0.0025 - val_mae: 0.0271\n",
      "Epoch 11/20\n",
      "121/121 [==============================] - 19s 156ms/step - loss: 0.0086 - mae: 0.0331 - val_loss: 0.0025 - val_mae: 0.0265\n",
      "Epoch 12/20\n",
      "121/121 [==============================] - 19s 156ms/step - loss: 0.0084 - mae: 0.0327 - val_loss: 0.0026 - val_mae: 0.0283\n",
      "Epoch 13/20\n",
      "121/121 [==============================] - 19s 156ms/step - loss: 0.0083 - mae: 0.0326 - val_loss: 0.0026 - val_mae: 0.0270\n",
      "Epoch 14/20\n",
      "121/121 [==============================] - 19s 156ms/step - loss: 0.0082 - mae: 0.0326 - val_loss: 0.0026 - val_mae: 0.0291\n",
      "Epoch 15/20\n",
      "121/121 [==============================] - 19s 159ms/step - loss: 0.0083 - mae: 0.0341 - val_loss: 0.0025 - val_mae: 0.0261\n",
      "Epoch 16/20\n",
      "121/121 [==============================] - 19s 158ms/step - loss: 0.0080 - mae: 0.0320 - val_loss: 0.0025 - val_mae: 0.0262\n",
      "Epoch 17/20\n",
      "121/121 [==============================] - 19s 156ms/step - loss: 0.0084 - mae: 0.0331 - val_loss: 0.0028 - val_mae: 0.0298\n",
      "Epoch 18/20\n",
      "121/121 [==============================] - 19s 156ms/step - loss: 0.0079 - mae: 0.0326 - val_loss: 0.0026 - val_mae: 0.0277\n",
      "Epoch 19/20\n",
      "121/121 [==============================] - 19s 156ms/step - loss: 0.0080 - mae: 0.0328 - val_loss: 0.0025 - val_mae: 0.0269\n",
      "Epoch 20/20\n",
      "121/121 [==============================] - 19s 156ms/step - loss: 0.0079 - mae: 0.0322 - val_loss: 0.0025 - val_mae: 0.0265\n"
     ]
    },
    {
     "data": {
      "text/html": [
       "Finishing last run (ID:1y3tnz1i) before initializing another..."
      ],
      "text/plain": [
       "<IPython.core.display.HTML object>"
      ]
     },
     "metadata": {},
     "output_type": "display_data"
    },
    {
     "data": {
      "text/html": [
       "<br/>Waiting for W&B process to finish, PID 1392<br/>Program ended successfully."
      ],
      "text/plain": [
       "<IPython.core.display.HTML object>"
      ]
     },
     "metadata": {},
     "output_type": "display_data"
    },
    {
     "data": {
      "text/html": [
       "Find user logs for this run at: <code>/home/richard_stana/programing/clanok/code/wandb/run-20210126_121200-1y3tnz1i/logs/debug.log</code>"
      ],
      "text/plain": [
       "<IPython.core.display.HTML object>"
      ]
     },
     "metadata": {},
     "output_type": "display_data"
    },
    {
     "data": {
      "text/html": [
       "Find internal logs for this run at: <code>/home/richard_stana/programing/clanok/code/wandb/run-20210126_121200-1y3tnz1i/logs/debug-internal.log</code>"
      ],
      "text/plain": [
       "<IPython.core.display.HTML object>"
      ]
     },
     "metadata": {},
     "output_type": "display_data"
    },
    {
     "data": {
      "text/html": [
       "<h3>Run summary:</h3><br/><style>\n",
       "    table.wandb td:nth-child(1) { padding: 0 10px; text-align: right }\n",
       "    </style><table class=\"wandb\">\n",
       "<tr><td>epoch</td><td>19</td></tr><tr><td>loss</td><td>0.00788</td></tr><tr><td>mae</td><td>0.03225</td></tr><tr><td>val_loss</td><td>0.00253</td></tr><tr><td>val_mae</td><td>0.02647</td></tr><tr><td>_step</td><td>39</td></tr><tr><td>_runtime</td><td>774</td></tr><tr><td>_timestamp</td><td>1611663897</td></tr><tr><td>best_val_loss</td><td>0.00248</td></tr><tr><td>best_epoch</td><td>15</td></tr></table>"
      ],
      "text/plain": [
       "<IPython.core.display.HTML object>"
      ]
     },
     "metadata": {},
     "output_type": "display_data"
    },
    {
     "data": {
      "text/html": [
       "<h3>Run history:</h3><br/><style>\n",
       "    table.wandb td:nth-child(1) { padding: 0 10px; text-align: right }\n",
       "    </style><table class=\"wandb\">\n",
       "<tr><td>epoch</td><td>▁▁▂▂▂▃▃▄▄▄▅▅▅▆▆▇▇▇██▁▁▂▂▂▃▃▄▄▄▅▅▅▆▆▇▇▇██</td></tr><tr><td>loss</td><td>████▇▇▇▆▅▄▃█▇▆▅▇██▆▅▃▄▃▂▂▂▂▁▁▁▁▁▁▁▁▁▁▁▁▁</td></tr><tr><td>mae</td><td>▂▂▂▂▂▂▃▃▃▃▂█▅▅▄▄▃▅█▅▃▄▂▁▂▂▁▂▂▁▁▁▁▁▂▁▁▁▁▁</td></tr><tr><td>val_loss</td><td>▃▁▁▁▃▃▂▅▄▂█▂▁▃▃▃▃▁▁▂▁▂▁▁▁▁▁▁▁▁▁▁▁▁▁▁▂▁▁▁</td></tr><tr><td>val_mae</td><td>▃▁▁▁▄▃▂▅▄▂█▂▁▄▃▃▃▂▁▃▂▂▁▂▁▁▁▁▁▁▁▂▁▂▁▁▂▁▁▁</td></tr><tr><td>_step</td><td>▁▁▁▂▂▂▂▂▂▃▃▃▃▃▄▄▄▄▄▄▅▅▅▅▅▅▆▆▆▆▆▇▇▇▇▇▇███</td></tr><tr><td>_runtime</td><td>▁▁▁▂▂▂▂▂▂▃▃▃▃▃▄▄▄▄▄▄▅▅▅▅▅▅▆▆▆▆▆▇▇▇▇▇▇███</td></tr><tr><td>_timestamp</td><td>▁▁▁▂▂▂▂▂▂▃▃▃▃▃▄▄▄▄▄▄▅▅▅▅▅▅▆▆▆▆▆▇▇▇▇▇▇███</td></tr></table><br/>"
      ],
      "text/plain": [
       "<IPython.core.display.HTML object>"
      ]
     },
     "metadata": {},
     "output_type": "display_data"
    },
    {
     "data": {
      "text/html": [
       "Synced 5 W&B file(s), 1 media file(s), 0 artifact file(s) and 1 other file(s)"
      ],
      "text/plain": [
       "<IPython.core.display.HTML object>"
      ]
     },
     "metadata": {},
     "output_type": "display_data"
    },
    {
     "data": {
      "text/html": [
       "\n",
       "                    <br/>Synced <strong style=\"color:#cdcd00\">lstm-30m-item672</strong>: <a href=\"https://wandb.ai/kriza/30m-item67/runs/1y3tnz1i\" target=\"_blank\">https://wandb.ai/kriza/30m-item67/runs/1y3tnz1i</a><br/>\n",
       "                "
      ],
      "text/plain": [
       "<IPython.core.display.HTML object>"
      ]
     },
     "metadata": {},
     "output_type": "display_data"
    },
    {
     "data": {
      "text/html": [
       "...Successfully finished last run (ID:1y3tnz1i). Initializing new run:<br/><br/>"
      ],
      "text/plain": [
       "<IPython.core.display.HTML object>"
      ]
     },
     "metadata": {},
     "output_type": "display_data"
    },
    {
     "name": "stderr",
     "output_type": "stream",
     "text": [
      "\u001b[34m\u001b[1mwandb\u001b[0m: wandb version 0.10.15 is available!  To upgrade, please run:\n",
      "\u001b[34m\u001b[1mwandb\u001b[0m:  $ pip install wandb --upgrade\n"
     ]
    },
    {
     "data": {
      "text/html": [
       "\n",
       "                Tracking run with wandb version 0.10.14<br/>\n",
       "                Syncing run <strong style=\"color:#cdcd00\">cnn-30m-item672</strong> to <a href=\"https://wandb.ai\" target=\"_blank\">Weights & Biases</a> <a href=\"https://docs.wandb.com/integrations/jupyter.html\" target=\"_blank\">(Documentation)</a>.<br/>\n",
       "                Project page: <a href=\"https://wandb.ai/kriza/30m-item67\" target=\"_blank\">https://wandb.ai/kriza/30m-item67</a><br/>\n",
       "                Run page: <a href=\"https://wandb.ai/kriza/30m-item67/runs/1yu5abkx\" target=\"_blank\">https://wandb.ai/kriza/30m-item67/runs/1yu5abkx</a><br/>\n",
       "                Run data is saved locally in <code>/home/richard_stana/programing/clanok/code/wandb/run-20210126_122457-1yu5abkx</code><br/><br/>\n",
       "            "
      ],
      "text/plain": [
       "<IPython.core.display.HTML object>"
      ]
     },
     "metadata": {},
     "output_type": "display_data"
    },
    {
     "name": "stdout",
     "output_type": "stream",
     "text": [
      "Epoch 1/20\n",
      "121/121 [==============================] - 3s 25ms/step - loss: 0.0284 - mae: 0.0341 - val_loss: 0.0025 - val_mae: 0.0266\n",
      "Epoch 2/20\n",
      "121/121 [==============================] - 3s 25ms/step - loss: 0.0284 - mae: 0.0341 - val_loss: 0.0025 - val_mae: 0.0265\n",
      "Epoch 3/20\n",
      "121/121 [==============================] - 3s 25ms/step - loss: 0.0284 - mae: 0.0341 - val_loss: 0.0025 - val_mae: 0.0265\n",
      "Epoch 4/20\n",
      "121/121 [==============================] - 3s 24ms/step - loss: 0.0284 - mae: 0.0341 - val_loss: 0.0025 - val_mae: 0.0265\n",
      "Epoch 5/20\n",
      "121/121 [==============================] - 3s 23ms/step - loss: 0.0284 - mae: 0.0341 - val_loss: 0.0025 - val_mae: 0.0266\n",
      "Epoch 6/20\n",
      "121/121 [==============================] - 3s 23ms/step - loss: 0.0284 - mae: 0.0341 - val_loss: 0.0025 - val_mae: 0.0268\n",
      "Epoch 7/20\n",
      "121/121 [==============================] - 3s 23ms/step - loss: 0.0284 - mae: 0.0342 - val_loss: 0.0025 - val_mae: 0.0265\n",
      "Epoch 8/20\n",
      "121/121 [==============================] - 3s 23ms/step - loss: 0.0284 - mae: 0.0341 - val_loss: 0.0025 - val_mae: 0.0265\n",
      "Epoch 9/20\n",
      "121/121 [==============================] - 3s 23ms/step - loss: 0.0284 - mae: 0.0341 - val_loss: 0.0025 - val_mae: 0.0265\n",
      "Epoch 10/20\n",
      "121/121 [==============================] - 3s 23ms/step - loss: 0.0284 - mae: 0.0342 - val_loss: 0.0025 - val_mae: 0.0266\n",
      "Epoch 11/20\n",
      "121/121 [==============================] - 3s 23ms/step - loss: 0.0284 - mae: 0.0342 - val_loss: 0.0025 - val_mae: 0.0266\n",
      "Epoch 12/20\n",
      "121/121 [==============================] - 3s 23ms/step - loss: 0.0284 - mae: 0.0341 - val_loss: 0.0025 - val_mae: 0.0265\n",
      "Epoch 13/20\n",
      "121/121 [==============================] - 3s 23ms/step - loss: 0.0284 - mae: 0.0341 - val_loss: 0.0025 - val_mae: 0.0266\n",
      "Epoch 14/20\n",
      "121/121 [==============================] - 3s 23ms/step - loss: 0.0284 - mae: 0.0342 - val_loss: 0.0025 - val_mae: 0.0266\n",
      "Epoch 15/20\n",
      "121/121 [==============================] - 3s 24ms/step - loss: 0.0284 - mae: 0.0341 - val_loss: 0.0025 - val_mae: 0.0265\n",
      "Epoch 16/20\n",
      "121/121 [==============================] - 3s 23ms/step - loss: 0.0284 - mae: 0.0341 - val_loss: 0.0025 - val_mae: 0.0265 0.0293 - mae:\n",
      "Epoch 17/20\n",
      "121/121 [==============================] - 3s 24ms/step - loss: 0.0284 - mae: 0.0341 - val_loss: 0.0025 - val_mae: 0.0265\n",
      "Epoch 18/20\n",
      "121/121 [==============================] - 3s 23ms/step - loss: 0.0284 - mae: 0.0341 - val_loss: 0.0025 - val_mae: 0.0265\n",
      "Epoch 19/20\n",
      "121/121 [==============================] - 3s 23ms/step - loss: 0.0284 - mae: 0.0341 - val_loss: 0.0025 - val_mae: 0.0271\n",
      "Epoch 20/20\n",
      "121/121 [==============================] - 3s 23ms/step - loss: 0.0284 - mae: 0.0341 - val_loss: 0.0025 - val_mae: 0.0265\n",
      "Epoch 1/20\n",
      "121/121 [==============================] - 3s 23ms/step - loss: 0.0284 - mae: 0.0341 - val_loss: 0.0025 - val_mae: 0.0266A: 2s - loss: 0.0379 - ETA: 1s - loss:\n",
      "Epoch 2/20\n",
      "121/121 [==============================] - 3s 24ms/step - loss: 0.0284 - mae: 0.0341 - val_loss: 0.0025 - val_mae: 0.0265\n",
      "Epoch 3/20\n",
      "121/121 [==============================] - 3s 23ms/step - loss: 0.0284 - mae: 0.0341 - val_loss: 0.0025 - val_mae: 0.0268\n",
      "Epoch 4/20\n",
      "121/121 [==============================] - 3s 23ms/step - loss: 0.0284 - mae: 0.0341 - val_loss: 0.0025 - val_mae: 0.0265\n",
      "Epoch 5/20\n",
      "121/121 [==============================] - 3s 23ms/step - loss: 0.0284 - mae: 0.0342 - val_loss: 0.0025 - val_mae: 0.0266\n",
      "Epoch 6/20\n",
      "121/121 [==============================] - 3s 23ms/step - loss: 0.0284 - mae: 0.0341 - val_loss: 0.0025 - val_mae: 0.0265\n",
      "Epoch 7/20\n",
      "121/121 [==============================] - 3s 24ms/step - loss: 0.0284 - mae: 0.0341 - val_loss: 0.0025 - val_mae: 0.0265\n",
      "Epoch 8/20\n",
      "121/121 [==============================] - 3s 23ms/step - loss: 0.0284 - mae: 0.0341 - val_loss: 0.0025 - val_mae: 0.0265\n",
      "Epoch 9/20\n",
      "121/121 [==============================] - 3s 23ms/step - loss: 0.0284 - mae: 0.0341 - val_loss: 0.0025 - val_mae: 0.0265\n",
      "Epoch 10/20\n",
      "121/121 [==============================] - 3s 23ms/step - loss: 0.0284 - mae: 0.0341 - val_loss: 0.0025 - val_mae: 0.0265\n",
      "Epoch 11/20\n",
      "121/121 [==============================] - 3s 23ms/step - loss: 0.0284 - mae: 0.0341 - val_loss: 0.0025 - val_mae: 0.0265\n",
      "Epoch 12/20\n",
      "121/121 [==============================] - 3s 23ms/step - loss: 0.0284 - mae: 0.0341 - val_loss: 0.0025 - val_mae: 0.0266\n",
      "Epoch 13/20\n",
      "121/121 [==============================] - 3s 23ms/step - loss: 0.0284 - mae: 0.0341 - val_loss: 0.0025 - val_mae: 0.0265\n",
      "Epoch 14/20\n",
      "121/121 [==============================] - 3s 23ms/step - loss: 0.0284 - mae: 0.0341 - val_loss: 0.0025 - val_mae: 0.0265\n",
      "Epoch 15/20\n",
      "121/121 [==============================] - 3s 23ms/step - loss: 0.0284 - mae: 0.0341 - val_loss: 0.0025 - val_mae: 0.0265\n",
      "Epoch 16/20\n",
      "121/121 [==============================] - 3s 23ms/step - loss: 0.0284 - mae: 0.0341 - val_loss: 0.0025 - val_mae: 0.0265\n",
      "Epoch 17/20\n",
      "121/121 [==============================] - 3s 23ms/step - loss: 0.0284 - mae: 0.0341 - val_loss: 0.0025 - val_mae: 0.0267\n",
      "Epoch 18/20\n",
      "121/121 [==============================] - 3s 23ms/step - loss: 0.0284 - mae: 0.0341 - val_loss: 0.0025 - val_mae: 0.0266\n",
      "Epoch 19/20\n",
      "121/121 [==============================] - 3s 23ms/step - loss: 0.0284 - mae: 0.0341 - val_loss: 0.0025 - val_mae: 0.0266\n",
      "Epoch 20/20\n",
      "121/121 [==============================] - 3s 23ms/step - loss: 0.0284 - mae: 0.0341 - val_loss: 0.0025 - val_mae: 0.0265\n"
     ]
    },
    {
     "data": {
      "text/html": [
       "Finishing last run (ID:1yu5abkx) before initializing another..."
      ],
      "text/plain": [
       "<IPython.core.display.HTML object>"
      ]
     },
     "metadata": {},
     "output_type": "display_data"
    },
    {
     "data": {
      "text/html": [
       "<br/>Waiting for W&B process to finish, PID 4058<br/>Program ended successfully."
      ],
      "text/plain": [
       "<IPython.core.display.HTML object>"
      ]
     },
     "metadata": {},
     "output_type": "display_data"
    },
    {
     "data": {
      "text/html": [
       "Find user logs for this run at: <code>/home/richard_stana/programing/clanok/code/wandb/run-20210126_122457-1yu5abkx/logs/debug.log</code>"
      ],
      "text/plain": [
       "<IPython.core.display.HTML object>"
      ]
     },
     "metadata": {},
     "output_type": "display_data"
    },
    {
     "data": {
      "text/html": [
       "Find internal logs for this run at: <code>/home/richard_stana/programing/clanok/code/wandb/run-20210126_122457-1yu5abkx/logs/debug-internal.log</code>"
      ],
      "text/plain": [
       "<IPython.core.display.HTML object>"
      ]
     },
     "metadata": {},
     "output_type": "display_data"
    },
    {
     "data": {
      "text/html": [
       "<h3>Run summary:</h3><br/><style>\n",
       "    table.wandb td:nth-child(1) { padding: 0 10px; text-align: right }\n",
       "    </style><table class=\"wandb\">\n",
       "<tr><td>epoch</td><td>19</td></tr><tr><td>loss</td><td>0.02839</td></tr><tr><td>mae</td><td>0.03413</td></tr><tr><td>val_loss</td><td>0.0025</td></tr><tr><td>val_mae</td><td>0.02647</td></tr><tr><td>_step</td><td>39</td></tr><tr><td>_runtime</td><td>119</td></tr><tr><td>_timestamp</td><td>1611664022</td></tr><tr><td>best_val_loss</td><td>0.00249</td></tr><tr><td>best_epoch</td><td>16</td></tr></table>"
      ],
      "text/plain": [
       "<IPython.core.display.HTML object>"
      ]
     },
     "metadata": {},
     "output_type": "display_data"
    },
    {
     "data": {
      "text/html": [
       "<h3>Run history:</h3><br/><style>\n",
       "    table.wandb td:nth-child(1) { padding: 0 10px; text-align: right }\n",
       "    </style><table class=\"wandb\">\n",
       "<tr><td>epoch</td><td>▁▁▂▂▂▃▃▄▄▄▅▅▅▆▆▇▇▇██▁▁▂▂▂▃▃▄▄▄▅▅▅▆▆▇▇▇██</td></tr><tr><td>loss</td><td>▄█▆▄▁▃▆▄▅▇▅▃▄▄▄▆▄▅▃▆▂█▄▇▅▄▄▃▄▆▃▅▆▅▄▄▃▄▃▆</td></tr><tr><td>mae</td><td>▄▂▃▁▃▂▆▂▁█▆▄▂▆▂▃▄▃▄▃▂▂▂▃▇▄▁▁▂▃▁▂▄▃▂▁▂▂▂▄</td></tr><tr><td>val_loss</td><td>▅▃▁▁▃▃▃▂▂▂▂▂▅▅▂▂▁▂█▂▁▁█▂▇▁▂▃▂▁▃▂▂▁▄▂▃▃▄▃</td></tr><tr><td>val_mae</td><td>▂▁▁▁▂▅▁▁▁▂▂▁▃▃▁▂▂▁█▁▂▁▅▁▃▁▁▂▁▁▂▃▁▁▂▁▄▂▃▁</td></tr><tr><td>_step</td><td>▁▁▁▂▂▂▂▂▂▃▃▃▃▃▄▄▄▄▄▄▅▅▅▅▅▅▆▆▆▆▆▇▇▇▇▇▇███</td></tr><tr><td>_runtime</td><td>▁▁▁▂▂▂▂▂▂▃▃▃▃▃▃▄▄▄▄▄▅▅▅▅▅▆▆▆▆▆▆▇▇▇▇▇▇███</td></tr><tr><td>_timestamp</td><td>▁▁▁▂▂▂▂▂▂▃▃▃▃▃▃▄▄▄▄▄▅▅▅▅▅▆▆▆▆▆▆▇▇▇▇▇▇███</td></tr></table><br/>"
      ],
      "text/plain": [
       "<IPython.core.display.HTML object>"
      ]
     },
     "metadata": {},
     "output_type": "display_data"
    },
    {
     "data": {
      "text/html": [
       "Synced 5 W&B file(s), 1 media file(s), 0 artifact file(s) and 1 other file(s)"
      ],
      "text/plain": [
       "<IPython.core.display.HTML object>"
      ]
     },
     "metadata": {},
     "output_type": "display_data"
    },
    {
     "data": {
      "text/html": [
       "\n",
       "                    <br/>Synced <strong style=\"color:#cdcd00\">cnn-30m-item672</strong>: <a href=\"https://wandb.ai/kriza/30m-item67/runs/1yu5abkx\" target=\"_blank\">https://wandb.ai/kriza/30m-item67/runs/1yu5abkx</a><br/>\n",
       "                "
      ],
      "text/plain": [
       "<IPython.core.display.HTML object>"
      ]
     },
     "metadata": {},
     "output_type": "display_data"
    },
    {
     "data": {
      "text/html": [
       "...Successfully finished last run (ID:1yu5abkx). Initializing new run:<br/><br/>"
      ],
      "text/plain": [
       "<IPython.core.display.HTML object>"
      ]
     },
     "metadata": {},
     "output_type": "display_data"
    },
    {
     "name": "stderr",
     "output_type": "stream",
     "text": [
      "\u001b[34m\u001b[1mwandb\u001b[0m: wandb version 0.10.15 is available!  To upgrade, please run:\n",
      "\u001b[34m\u001b[1mwandb\u001b[0m:  $ pip install wandb --upgrade\n"
     ]
    },
    {
     "data": {
      "text/html": [
       "\n",
       "                Tracking run with wandb version 0.10.14<br/>\n",
       "                Syncing run <strong style=\"color:#cdcd00\">dobra_cnn-30m-item672</strong> to <a href=\"https://wandb.ai\" target=\"_blank\">Weights & Biases</a> <a href=\"https://docs.wandb.com/integrations/jupyter.html\" target=\"_blank\">(Documentation)</a>.<br/>\n",
       "                Project page: <a href=\"https://wandb.ai/kriza/30m-item67\" target=\"_blank\">https://wandb.ai/kriza/30m-item67</a><br/>\n",
       "                Run page: <a href=\"https://wandb.ai/kriza/30m-item67/runs/1pd155u5\" target=\"_blank\">https://wandb.ai/kriza/30m-item67/runs/1pd155u5</a><br/>\n",
       "                Run data is saved locally in <code>/home/richard_stana/programing/clanok/code/wandb/run-20210126_122702-1pd155u5</code><br/><br/>\n",
       "            "
      ],
      "text/plain": [
       "<IPython.core.display.HTML object>"
      ]
     },
     "metadata": {},
     "output_type": "display_data"
    },
    {
     "name": "stdout",
     "output_type": "stream",
     "text": [
      "Epoch 1/20\n",
      "121/121 [==============================] - 1s 12ms/step - loss: 0.0121 - mae: 0.0402 - val_loss: 0.0032 - val_mae: 0.0358\n",
      "Epoch 2/20\n",
      "121/121 [==============================] - 1s 11ms/step - loss: 0.0083 - mae: 0.0362 - val_loss: 0.0026 - val_mae: 0.0278\n",
      "Epoch 3/20\n",
      "121/121 [==============================] - 1s 10ms/step - loss: 0.0077 - mae: 0.0338 - val_loss: 0.0026 - val_mae: 0.0287\n",
      "Epoch 4/20\n",
      "121/121 [==============================] - 1s 11ms/step - loss: 0.0072 - mae: 0.0335 - val_loss: 0.0026 - val_mae: 0.0276\n",
      "Epoch 5/20\n",
      "121/121 [==============================] - 1s 10ms/step - loss: 0.0072 - mae: 0.0335 - val_loss: 0.0026 - val_mae: 0.0287\n",
      "Epoch 6/20\n",
      "121/121 [==============================] - 1s 10ms/step - loss: 0.0067 - mae: 0.0331 - val_loss: 0.0027 - val_mae: 0.0300\n",
      "Epoch 7/20\n",
      "121/121 [==============================] - 1s 10ms/step - loss: 0.0068 - mae: 0.0330 - val_loss: 0.0027 - val_mae: 0.0292\n",
      "Epoch 8/20\n",
      "121/121 [==============================] - 1s 10ms/step - loss: 0.0064 - mae: 0.0329 - val_loss: 0.0027 - val_mae: 0.0289\n",
      "Epoch 9/20\n",
      "121/121 [==============================] - 1s 11ms/step - loss: 0.0070 - mae: 0.0333 - val_loss: 0.0026 - val_mae: 0.0275\n",
      "Epoch 10/20\n",
      "121/121 [==============================] - 1s 10ms/step - loss: 0.0062 - mae: 0.0329 - val_loss: 0.0028 - val_mae: 0.0301\n",
      "Epoch 11/20\n",
      "121/121 [==============================] - 1s 10ms/step - loss: 0.0059 - mae: 0.0323 - val_loss: 0.0028 - val_mae: 0.0296\n",
      "Epoch 12/20\n",
      "121/121 [==============================] - 1s 10ms/step - loss: 0.0057 - mae: 0.0320 - val_loss: 0.0027 - val_mae: 0.0291\n",
      "Epoch 13/20\n",
      "121/121 [==============================] - 1s 10ms/step - loss: 0.0056 - mae: 0.0315 - val_loss: 0.0029 - val_mae: 0.0319\n",
      "Epoch 14/20\n",
      "121/121 [==============================] - 1s 10ms/step - loss: 0.0056 - mae: 0.0312 - val_loss: 0.0027 - val_mae: 0.0305\n",
      "Epoch 15/20\n",
      "121/121 [==============================] - 1s 10ms/step - loss: 0.0053 - mae: 0.0310 - val_loss: 0.0026 - val_mae: 0.0281\n",
      "Epoch 16/20\n",
      "121/121 [==============================] - 1s 10ms/step - loss: 0.0051 - mae: 0.0303 - val_loss: 0.0026 - val_mae: 0.0278\n",
      "Epoch 17/20\n",
      "121/121 [==============================] - 1s 10ms/step - loss: 0.0051 - mae: 0.0304 - val_loss: 0.0026 - val_mae: 0.0285\n",
      "Epoch 18/20\n",
      "121/121 [==============================] - 1s 10ms/step - loss: 0.0050 - mae: 0.0300 - val_loss: 0.0026 - val_mae: 0.0280\n",
      "Epoch 19/20\n",
      "121/121 [==============================] - 1s 10ms/step - loss: 0.0051 - mae: 0.0298 - val_loss: 0.0026 - val_mae: 0.0284\n",
      "Epoch 20/20\n",
      "121/121 [==============================] - 1s 10ms/step - loss: 0.0054 - mae: 0.0311 - val_loss: 0.0026 - val_mae: 0.0284\n",
      "Epoch 1/20\n",
      "121/121 [==============================] - 1s 10ms/step - loss: 0.0054 - mae: 0.0305 - val_loss: 0.0028 - val_mae: 0.0311\n",
      "Epoch 2/20\n",
      "121/121 [==============================] - 1s 11ms/step - loss: 0.0051 - mae: 0.0303 - val_loss: 0.0027 - val_mae: 0.0288\n",
      "Epoch 3/20\n",
      "121/121 [==============================] - 1s 10ms/step - loss: 0.0047 - mae: 0.0290 - val_loss: 0.0027 - val_mae: 0.0289\n",
      "Epoch 4/20\n",
      "121/121 [==============================] - 1s 10ms/step - loss: 0.0046 - mae: 0.0292 - val_loss: 0.0029 - val_mae: 0.0307\n",
      "Epoch 5/20\n",
      "121/121 [==============================] - 1s 11ms/step - loss: 0.0046 - mae: 0.0288 - val_loss: 0.0026 - val_mae: 0.0282\n",
      "Epoch 6/20\n",
      "121/121 [==============================] - 1s 10ms/step - loss: 0.0046 - mae: 0.0286 - val_loss: 0.0027 - val_mae: 0.0294\n",
      "Epoch 7/20\n",
      "121/121 [==============================] - 1s 10ms/step - loss: 0.0050 - mae: 0.0294 - val_loss: 0.0027 - val_mae: 0.0300\n",
      "Epoch 8/20\n",
      "121/121 [==============================] - 1s 10ms/step - loss: 0.0055 - mae: 0.0303 - val_loss: 0.0029 - val_mae: 0.0312\n",
      "Epoch 9/20\n",
      "121/121 [==============================] - 1s 10ms/step - loss: 0.0067 - mae: 0.0310 - val_loss: 0.0026 - val_mae: 0.0283\n",
      "Epoch 10/20\n",
      "121/121 [==============================] - 1s 11ms/step - loss: 0.0047 - mae: 0.0289 - val_loss: 0.0026 - val_mae: 0.0277\n",
      "Epoch 11/20\n",
      "121/121 [==============================] - 1s 11ms/step - loss: 0.0048 - mae: 0.0289 - val_loss: 0.0028 - val_mae: 0.0304\n",
      "Epoch 12/20\n",
      "121/121 [==============================] - 1s 11ms/step - loss: 0.0045 - mae: 0.0282 - val_loss: 0.0027 - val_mae: 0.0293\n",
      "Epoch 13/20\n",
      "121/121 [==============================] - 1s 10ms/step - loss: 0.0046 - mae: 0.0281 - val_loss: 0.0027 - val_mae: 0.0297\n",
      "Epoch 14/20\n",
      "121/121 [==============================] - 1s 11ms/step - loss: 0.0045 - mae: 0.0284 - val_loss: 0.0029 - val_mae: 0.0316\n",
      "Epoch 15/20\n",
      "121/121 [==============================] - 1s 10ms/step - loss: 0.0046 - mae: 0.0284 - val_loss: 0.0029 - val_mae: 0.0317\n",
      "Epoch 16/20\n",
      "121/121 [==============================] - 1s 11ms/step - loss: 0.0049 - mae: 0.0288 - val_loss: 0.0026 - val_mae: 0.0280\n",
      "Epoch 17/20\n",
      "121/121 [==============================] - 1s 10ms/step - loss: 0.0045 - mae: 0.0280 - val_loss: 0.0028 - val_mae: 0.0306\n",
      "Epoch 18/20\n",
      "121/121 [==============================] - 1s 10ms/step - loss: 0.0043 - mae: 0.0276 - val_loss: 0.0028 - val_mae: 0.0299\n",
      "Epoch 19/20\n",
      "121/121 [==============================] - 1s 10ms/step - loss: 0.0042 - mae: 0.0273 - val_loss: 0.0028 - val_mae: 0.0310\n",
      "Epoch 20/20\n",
      "121/121 [==============================] - 1s 10ms/step - loss: 0.0042 - mae: 0.0275 - val_loss: 0.0028 - val_mae: 0.0303\n"
     ]
    },
    {
     "data": {
      "text/html": [
       "Finishing last run (ID:1pd155u5) before initializing another..."
      ],
      "text/plain": [
       "<IPython.core.display.HTML object>"
      ]
     },
     "metadata": {},
     "output_type": "display_data"
    },
    {
     "data": {
      "text/html": [
       "<br/>Waiting for W&B process to finish, PID 4610<br/>Program ended successfully."
      ],
      "text/plain": [
       "<IPython.core.display.HTML object>"
      ]
     },
     "metadata": {},
     "output_type": "display_data"
    },
    {
     "data": {
      "text/html": [
       "Find user logs for this run at: <code>/home/richard_stana/programing/clanok/code/wandb/run-20210126_122702-1pd155u5/logs/debug.log</code>"
      ],
      "text/plain": [
       "<IPython.core.display.HTML object>"
      ]
     },
     "metadata": {},
     "output_type": "display_data"
    },
    {
     "data": {
      "text/html": [
       "Find internal logs for this run at: <code>/home/richard_stana/programing/clanok/code/wandb/run-20210126_122702-1pd155u5/logs/debug-internal.log</code>"
      ],
      "text/plain": [
       "<IPython.core.display.HTML object>"
      ]
     },
     "metadata": {},
     "output_type": "display_data"
    },
    {
     "data": {
      "text/html": [
       "<h3>Run summary:</h3><br/><style>\n",
       "    table.wandb td:nth-child(1) { padding: 0 10px; text-align: right }\n",
       "    </style><table class=\"wandb\">\n",
       "<tr><td>epoch</td><td>19</td></tr><tr><td>loss</td><td>0.0042</td></tr><tr><td>mae</td><td>0.02752</td></tr><tr><td>val_loss</td><td>0.00281</td></tr><tr><td>val_mae</td><td>0.03035</td></tr><tr><td>_step</td><td>39</td></tr><tr><td>_runtime</td><td>55</td></tr><tr><td>_timestamp</td><td>1611664081</td></tr><tr><td>best_val_loss</td><td>0.00255</td></tr><tr><td>best_epoch</td><td>15</td></tr></table>"
      ],
      "text/plain": [
       "<IPython.core.display.HTML object>"
      ]
     },
     "metadata": {},
     "output_type": "display_data"
    },
    {
     "data": {
      "text/html": [
       "<h3>Run history:</h3><br/><style>\n",
       "    table.wandb td:nth-child(1) { padding: 0 10px; text-align: right }\n",
       "    </style><table class=\"wandb\">\n",
       "<tr><td>epoch</td><td>▁▁▂▂▂▃▃▄▄▄▅▅▅▆▆▇▇▇██▁▁▂▂▂▃▃▄▄▄▅▅▅▆▆▇▇▇██</td></tr><tr><td>loss</td><td>█▅▄▄▄▃▃▃▄▃▃▂▂▂▂▂▂▂▂▂▂▂▁▁▁▁▂▂▃▁▂▁▁▁▁▂▁▁▁▁</td></tr><tr><td>mae</td><td>█▆▅▄▄▄▄▄▄▄▄▄▃▃▃▃▃▂▂▃▃▃▂▂▂▂▂▃▃▂▂▁▁▂▂▂▁▁▁▁</td></tr><tr><td>val_loss</td><td>█▁▂▁▂▂▃▂▁▃▄▃▅▃▂▁▂▂▁▂▃▂▃▅▁▃▃▆▂▁▄▃▃▅▅▁▄▄▄▄</td></tr><tr><td>val_mae</td><td>█▁▂▁▂▃▂▂▁▃▃▂▅▄▂▁▂▁▂▂▄▂▂▄▂▃▃▄▂▁▃▃▃▄▅▁▄▃▄▃</td></tr><tr><td>_step</td><td>▁▁▁▂▂▂▂▂▂▃▃▃▃▃▄▄▄▄▄▄▅▅▅▅▅▅▆▆▆▆▆▇▇▇▇▇▇███</td></tr><tr><td>_runtime</td><td>▁▁▁▂▂▂▂▂▂▃▃▃▃▃▃▄▄▄▄▄▅▅▅▅▅▅▆▆▆▆▆▇▇▇▇▇████</td></tr><tr><td>_timestamp</td><td>▁▁▁▂▂▂▂▂▂▃▃▃▃▃▃▄▄▄▄▄▅▅▅▅▅▅▆▆▆▆▆▇▇▇▇▇████</td></tr></table><br/>"
      ],
      "text/plain": [
       "<IPython.core.display.HTML object>"
      ]
     },
     "metadata": {},
     "output_type": "display_data"
    },
    {
     "data": {
      "text/html": [
       "Synced 5 W&B file(s), 1 media file(s), 0 artifact file(s) and 1 other file(s)"
      ],
      "text/plain": [
       "<IPython.core.display.HTML object>"
      ]
     },
     "metadata": {},
     "output_type": "display_data"
    },
    {
     "data": {
      "text/html": [
       "\n",
       "                    <br/>Synced <strong style=\"color:#cdcd00\">dobra_cnn-30m-item672</strong>: <a href=\"https://wandb.ai/kriza/30m-item67/runs/1pd155u5\" target=\"_blank\">https://wandb.ai/kriza/30m-item67/runs/1pd155u5</a><br/>\n",
       "                "
      ],
      "text/plain": [
       "<IPython.core.display.HTML object>"
      ]
     },
     "metadata": {},
     "output_type": "display_data"
    },
    {
     "data": {
      "text/html": [
       "...Successfully finished last run (ID:1pd155u5). Initializing new run:<br/><br/>"
      ],
      "text/plain": [
       "<IPython.core.display.HTML object>"
      ]
     },
     "metadata": {},
     "output_type": "display_data"
    },
    {
     "name": "stderr",
     "output_type": "stream",
     "text": [
      "\u001b[34m\u001b[1mwandb\u001b[0m: wandb version 0.10.15 is available!  To upgrade, please run:\n",
      "\u001b[34m\u001b[1mwandb\u001b[0m:  $ pip install wandb --upgrade\n"
     ]
    },
    {
     "data": {
      "text/html": [
       "\n",
       "                Tracking run with wandb version 0.10.14<br/>\n",
       "                Syncing run <strong style=\"color:#cdcd00\">lstm-30m-item692</strong> to <a href=\"https://wandb.ai\" target=\"_blank\">Weights & Biases</a> <a href=\"https://docs.wandb.com/integrations/jupyter.html\" target=\"_blank\">(Documentation)</a>.<br/>\n",
       "                Project page: <a href=\"https://wandb.ai/kriza/30m-item69\" target=\"_blank\">https://wandb.ai/kriza/30m-item69</a><br/>\n",
       "                Run page: <a href=\"https://wandb.ai/kriza/30m-item69/runs/1w5df0of\" target=\"_blank\">https://wandb.ai/kriza/30m-item69/runs/1w5df0of</a><br/>\n",
       "                Run data is saved locally in <code>/home/richard_stana/programing/clanok/code/wandb/run-20210126_122803-1w5df0of</code><br/><br/>\n",
       "            "
      ],
      "text/plain": [
       "<IPython.core.display.HTML object>"
      ]
     },
     "metadata": {},
     "output_type": "display_data"
    },
    {
     "name": "stdout",
     "output_type": "stream",
     "text": [
      "Epoch 1/20\n",
      "121/121 [==============================] - 20s 164ms/step - loss: 0.0466 - mae: 0.1048 - val_loss: 0.0116 - val_mae: 0.0635\n",
      "Epoch 2/20\n",
      "121/121 [==============================] - 19s 156ms/step - loss: 0.0469 - mae: 0.1043 - val_loss: 0.0151 - val_mae: 0.0720\n",
      "Epoch 3/20\n",
      "121/121 [==============================] - 19s 157ms/step - loss: 0.0392 - mae: 0.1034 - val_loss: 0.0122 - val_mae: 0.0669\n",
      "Epoch 4/20\n",
      "121/121 [==============================] - 19s 156ms/step - loss: 0.0376 - mae: 0.1015 - val_loss: 0.0121 - val_mae: 0.0655\n",
      "Epoch 5/20\n",
      "121/121 [==============================] - 19s 156ms/step - loss: 0.0365 - mae: 0.1015 - val_loss: 0.0123 - val_mae: 0.0689\n",
      "Epoch 6/20\n",
      "121/121 [==============================] - 19s 156ms/step - loss: 0.0376 - mae: 0.1030 - val_loss: 0.0126 - val_mae: 0.0725\n",
      "Epoch 7/20\n",
      "121/121 [==============================] - 19s 159ms/step - loss: 0.0463 - mae: 0.1048 - val_loss: 0.0115 - val_mae: 0.0629\n",
      "Epoch 8/20\n",
      "121/121 [==============================] - 19s 156ms/step - loss: 0.0415 - mae: 0.1031 - val_loss: 0.0120 - val_mae: 0.0685\n",
      "Epoch 9/20\n",
      "121/121 [==============================] - 19s 156ms/step - loss: 0.0381 - mae: 0.1020 - val_loss: 0.0118 - val_mae: 0.0662\n",
      "Epoch 10/20\n",
      "121/121 [==============================] - 19s 156ms/step - loss: 0.0373 - mae: 0.1019 - val_loss: 0.0126 - val_mae: 0.0733\n",
      "Epoch 11/20\n",
      "121/121 [==============================] - 19s 156ms/step - loss: 0.0476 - mae: 0.1034 - val_loss: 0.0127 - val_mae: 0.0729\n",
      "Epoch 12/20\n",
      "121/121 [==============================] - 19s 156ms/step - loss: 0.0475 - mae: 0.1031 - val_loss: 0.0169 - val_mae: 0.0827\n",
      "Epoch 13/20\n",
      "121/121 [==============================] - 19s 156ms/step - loss: 0.0477 - mae: 0.1046 - val_loss: 0.0150 - val_mae: 0.0880\n",
      "Epoch 14/20\n",
      "121/121 [==============================] - 19s 157ms/step - loss: 0.0501 - mae: 0.1045 - val_loss: 0.0116 - val_mae: 0.0659\n",
      "Epoch 15/20\n",
      "121/121 [==============================] - 19s 156ms/step - loss: 0.0471 - mae: 0.1025 - val_loss: 0.0122 - val_mae: 0.0641\n",
      "Epoch 16/20\n",
      "121/121 [==============================] - 19s 156ms/step - loss: 0.0470 - mae: 0.1027 - val_loss: 0.0126 - val_mae: 0.0723\n",
      "Epoch 17/20\n",
      "121/121 [==============================] - 19s 156ms/step - loss: 0.0471 - mae: 0.1026 - val_loss: 0.0131 - val_mae: 0.0703\n",
      "Epoch 18/20\n",
      "121/121 [==============================] - 19s 156ms/step - loss: 0.0466 - mae: 0.1021 - val_loss: 0.0121 - val_mae: 0.0658\n",
      "Epoch 19/20\n",
      "121/121 [==============================] - 19s 156ms/step - loss: 0.0466 - mae: 0.1025 - val_loss: 0.0133 - val_mae: 0.0708\n",
      "Epoch 20/20\n",
      "121/121 [==============================] - 19s 156ms/step - loss: 0.0464 - mae: 0.1027 - val_loss: 0.0127 - val_mae: 0.0655\n",
      "Epoch 1/20\n",
      "121/121 [==============================] - 19s 157ms/step - loss: 0.0403 - mae: 0.1028 - val_loss: 0.0126 - val_mae: 0.0659\n",
      "Epoch 2/20\n",
      "121/121 [==============================] - 19s 156ms/step - loss: 0.0367 - mae: 0.1013 - val_loss: 0.0125 - val_mae: 0.0683\n",
      "Epoch 3/20\n",
      "121/121 [==============================] - 19s 159ms/step - loss: 0.0391 - mae: 0.1042 - val_loss: 0.0114 - val_mae: 0.0622\n",
      "Epoch 4/20\n",
      "121/121 [==============================] - 19s 159ms/step - loss: 0.0387 - mae: 0.1029 - val_loss: 0.0112 - val_mae: 0.0619\n",
      "Epoch 5/20\n",
      "121/121 [==============================] - 19s 156ms/step - loss: 0.0445 - mae: 0.1043 - val_loss: 0.0119 - val_mae: 0.0640\n",
      "Epoch 6/20\n",
      "121/121 [==============================] - ETA: 0s - loss: 0.0461 - mae: 0.103 - 19s 156ms/step - loss: 0.0461 - mae: 0.1035 - val_loss: 0.0122 - val_mae: 0.0676\n",
      "Epoch 7/20\n",
      "121/121 [==============================] - 19s 156ms/step - loss: 0.0394 - mae: 0.1021 - val_loss: 0.0123 - val_mae: 0.0652\n",
      "Epoch 8/20\n",
      "121/121 [==============================] - 19s 156ms/step - loss: 0.0355 - mae: 0.1010 - val_loss: 0.0130 - val_mae: 0.0683\n",
      "Epoch 9/20\n",
      "121/121 [==============================] - 19s 156ms/step - loss: 0.0349 - mae: 0.0997 - val_loss: 0.0122 - val_mae: 0.0672\n",
      "Epoch 10/20\n",
      "121/121 [==============================] - 19s 156ms/step - loss: 0.0373 - mae: 0.1015 - val_loss: 0.0113 - val_mae: 0.0629\n",
      "Epoch 11/20\n",
      "121/121 [==============================] - 19s 156ms/step - loss: 0.0467 - mae: 0.1024 - val_loss: 0.0128 - val_mae: 0.0660\n",
      "Epoch 12/20\n",
      "121/121 [==============================] - 19s 156ms/step - loss: 0.0465 - mae: 0.1026 - val_loss: 0.0127 - val_mae: 0.0745\n",
      "Epoch 13/20\n",
      "121/121 [==============================] - 19s 156ms/step - loss: 0.0464 - mae: 0.1023 - val_loss: 0.0132 - val_mae: 0.0769\n",
      "Epoch 14/20\n",
      "121/121 [==============================] - 19s 156ms/step - loss: 0.0462 - mae: 0.1021 - val_loss: 0.0115 - val_mae: 0.0644\n",
      "Epoch 15/20\n",
      "121/121 [==============================] - 19s 156ms/step - loss: 0.0464 - mae: 0.1027 - val_loss: 0.0123 - val_mae: 0.0652\n",
      "Epoch 16/20\n",
      "121/121 [==============================] - 19s 156ms/step - loss: 0.0459 - mae: 0.1016 - val_loss: 0.0119 - val_mae: 0.0681\n",
      "Epoch 17/20\n",
      "121/121 [==============================] - 19s 156ms/step - loss: 0.0459 - mae: 0.1020 - val_loss: 0.0117 - val_mae: 0.0656\n",
      "Epoch 18/20\n",
      "121/121 [==============================] - 19s 156ms/step - loss: 0.0457 - mae: 0.1020 - val_loss: 0.0118 - val_mae: 0.0636\n",
      "Epoch 19/20\n",
      "121/121 [==============================] - 19s 156ms/step - loss: 0.0457 - mae: 0.1015 - val_loss: 0.0119 - val_mae: 0.0636\n",
      "Epoch 20/20\n",
      "121/121 [==============================] - 19s 156ms/step - loss: 0.0454 - mae: 0.1014 - val_loss: 0.0112 - val_mae: 0.0621\n"
     ]
    },
    {
     "data": {
      "text/html": [
       "Finishing last run (ID:1w5df0of) before initializing another..."
      ],
      "text/plain": [
       "<IPython.core.display.HTML object>"
      ]
     },
     "metadata": {},
     "output_type": "display_data"
    },
    {
     "data": {
      "text/html": [
       "<br/>Waiting for W&B process to finish, PID 4979<br/>Program ended successfully."
      ],
      "text/plain": [
       "<IPython.core.display.HTML object>"
      ]
     },
     "metadata": {},
     "output_type": "display_data"
    },
    {
     "data": {
      "text/html": [
       "Find user logs for this run at: <code>/home/richard_stana/programing/clanok/code/wandb/run-20210126_122803-1w5df0of/logs/debug.log</code>"
      ],
      "text/plain": [
       "<IPython.core.display.HTML object>"
      ]
     },
     "metadata": {},
     "output_type": "display_data"
    },
    {
     "data": {
      "text/html": [
       "Find internal logs for this run at: <code>/home/richard_stana/programing/clanok/code/wandb/run-20210126_122803-1w5df0of/logs/debug-internal.log</code>"
      ],
      "text/plain": [
       "<IPython.core.display.HTML object>"
      ]
     },
     "metadata": {},
     "output_type": "display_data"
    },
    {
     "data": {
      "text/html": [
       "<h3>Run summary:</h3><br/><style>\n",
       "    table.wandb td:nth-child(1) { padding: 0 10px; text-align: right }\n",
       "    </style><table class=\"wandb\">\n",
       "<tr><td>epoch</td><td>19</td></tr><tr><td>loss</td><td>0.04543</td></tr><tr><td>mae</td><td>0.10143</td></tr><tr><td>val_loss</td><td>0.01122</td></tr><tr><td>val_mae</td><td>0.06207</td></tr><tr><td>_step</td><td>39</td></tr><tr><td>_runtime</td><td>772</td></tr><tr><td>_timestamp</td><td>1611664861</td></tr><tr><td>best_val_loss</td><td>0.01118</td></tr><tr><td>best_epoch</td><td>3</td></tr></table>"
      ],
      "text/plain": [
       "<IPython.core.display.HTML object>"
      ]
     },
     "metadata": {},
     "output_type": "display_data"
    },
    {
     "data": {
      "text/html": [
       "<h3>Run history:</h3><br/><style>\n",
       "    table.wandb td:nth-child(1) { padding: 0 10px; text-align: right }\n",
       "    </style><table class=\"wandb\">\n",
       "<tr><td>epoch</td><td>▁▁▂▂▂▃▃▄▄▄▅▅▅▆▆▇▇▇██▁▁▂▂▂▃▃▄▄▄▅▅▅▆▆▇▇▇██</td></tr><tr><td>loss</td><td>▆▇▃▂▂▂▆▄▂▂▇▇▇█▇▇▇▆▆▆▃▂▃▃▅▆▃▁▁▂▆▆▆▆▆▆▆▆▆▆</td></tr><tr><td>mae</td><td>█▇▆▃▃▆█▆▄▄▆▆██▅▅▅▄▅▅▅▃▇▅▇▆▄▃▁▃▅▅▅▄▅▄▄▄▃▃</td></tr><tr><td>val_loss</td><td>▁▆▂▂▂▃▁▂▂▃▃█▆▂▂▃▃▂▄▃▃▃▁▁▂▂▂▃▂▁▃▃▃▁▂▂▂▂▂▁</td></tr><tr><td>val_mae</td><td>▁▄▂▂▃▄▁▃▂▄▄▇█▂▂▄▃▂▃▂▂▃▁▁▂▃▂▃▂▁▂▄▅▂▂▃▂▁▁▁</td></tr><tr><td>_step</td><td>▁▁▁▂▂▂▂▂▂▃▃▃▃▃▄▄▄▄▄▄▅▅▅▅▅▅▆▆▆▆▆▇▇▇▇▇▇███</td></tr><tr><td>_runtime</td><td>▁▁▁▂▂▂▂▂▂▃▃▃▃▃▄▄▄▄▄▄▅▅▅▅▅▅▆▆▆▆▆▇▇▇▇▇▇███</td></tr><tr><td>_timestamp</td><td>▁▁▁▂▂▂▂▂▂▃▃▃▃▃▄▄▄▄▄▄▅▅▅▅▅▅▆▆▆▆▆▇▇▇▇▇▇███</td></tr></table><br/>"
      ],
      "text/plain": [
       "<IPython.core.display.HTML object>"
      ]
     },
     "metadata": {},
     "output_type": "display_data"
    },
    {
     "data": {
      "text/html": [
       "Synced 5 W&B file(s), 1 media file(s), 0 artifact file(s) and 1 other file(s)"
      ],
      "text/plain": [
       "<IPython.core.display.HTML object>"
      ]
     },
     "metadata": {},
     "output_type": "display_data"
    },
    {
     "data": {
      "text/html": [
       "\n",
       "                    <br/>Synced <strong style=\"color:#cdcd00\">lstm-30m-item692</strong>: <a href=\"https://wandb.ai/kriza/30m-item69/runs/1w5df0of\" target=\"_blank\">https://wandb.ai/kriza/30m-item69/runs/1w5df0of</a><br/>\n",
       "                "
      ],
      "text/plain": [
       "<IPython.core.display.HTML object>"
      ]
     },
     "metadata": {},
     "output_type": "display_data"
    },
    {
     "data": {
      "text/html": [
       "...Successfully finished last run (ID:1w5df0of). Initializing new run:<br/><br/>"
      ],
      "text/plain": [
       "<IPython.core.display.HTML object>"
      ]
     },
     "metadata": {},
     "output_type": "display_data"
    },
    {
     "name": "stderr",
     "output_type": "stream",
     "text": [
      "\u001b[34m\u001b[1mwandb\u001b[0m: wandb version 0.10.15 is available!  To upgrade, please run:\n",
      "\u001b[34m\u001b[1mwandb\u001b[0m:  $ pip install wandb --upgrade\n"
     ]
    },
    {
     "data": {
      "text/html": [
       "\n",
       "                Tracking run with wandb version 0.10.14<br/>\n",
       "                Syncing run <strong style=\"color:#cdcd00\">cnn-30m-item692</strong> to <a href=\"https://wandb.ai\" target=\"_blank\">Weights & Biases</a> <a href=\"https://docs.wandb.com/integrations/jupyter.html\" target=\"_blank\">(Documentation)</a>.<br/>\n",
       "                Project page: <a href=\"https://wandb.ai/kriza/30m-item69\" target=\"_blank\">https://wandb.ai/kriza/30m-item69</a><br/>\n",
       "                Run page: <a href=\"https://wandb.ai/kriza/30m-item69/runs/k3ymkfow\" target=\"_blank\">https://wandb.ai/kriza/30m-item69/runs/k3ymkfow</a><br/>\n",
       "                Run data is saved locally in <code>/home/richard_stana/programing/clanok/code/wandb/run-20210126_124101-k3ymkfow</code><br/><br/>\n",
       "            "
      ],
      "text/plain": [
       "<IPython.core.display.HTML object>"
      ]
     },
     "metadata": {},
     "output_type": "display_data"
    },
    {
     "name": "stdout",
     "output_type": "stream",
     "text": [
      "Epoch 1/20\n",
      "121/121 [==============================] - 3s 26ms/step - loss: 0.0511 - mae: 0.1035 - val_loss: 0.0117 - val_mae: 0.0620\n",
      "Epoch 2/20\n",
      "121/121 [==============================] - 3s 25ms/step - loss: 0.0511 - mae: 0.1035 - val_loss: 0.0116 - val_mae: 0.0619\n",
      "Epoch 3/20\n",
      "121/121 [==============================] - 3s 24ms/step - loss: 0.0511 - mae: 0.1034 - val_loss: 0.0116 - val_mae: 0.0619\n",
      "Epoch 4/20\n",
      "121/121 [==============================] - 3s 24ms/step - loss: 0.0511 - mae: 0.1035 - val_loss: 0.0116 - val_mae: 0.0619\n",
      "Epoch 5/20\n",
      "121/121 [==============================] - 3s 24ms/step - loss: 0.0511 - mae: 0.1035 - val_loss: 0.0116 - val_mae: 0.0618\n",
      "Epoch 6/20\n",
      "121/121 [==============================] - 3s 23ms/step - loss: 0.0511 - mae: 0.1034 - val_loss: 0.0116 - val_mae: 0.0620\n",
      "Epoch 7/20\n",
      "121/121 [==============================] - 3s 23ms/step - loss: 0.0511 - mae: 0.1035 - val_loss: 0.0116 - val_mae: 0.0622\n",
      "Epoch 8/20\n",
      "121/121 [==============================] - 3s 23ms/step - loss: 0.0511 - mae: 0.1035 - val_loss: 0.0117 - val_mae: 0.0619\n",
      "Epoch 9/20\n",
      "121/121 [==============================] - 3s 23ms/step - loss: 0.0511 - mae: 0.1035 - val_loss: 0.0116 - val_mae: 0.0618\n",
      "Epoch 10/20\n",
      "121/121 [==============================] - 3s 23ms/step - loss: 0.0511 - mae: 0.1035 - val_loss: 0.0116 - val_mae: 0.0619\n",
      "Epoch 11/20\n",
      "121/121 [==============================] - 3s 23ms/step - loss: 0.0511 - mae: 0.1035 - val_loss: 0.0117 - val_mae: 0.0620\n",
      "Epoch 12/20\n",
      "121/121 [==============================] - 3s 23ms/step - loss: 0.0511 - mae: 0.1035 - val_loss: 0.0117 - val_mae: 0.0620\n",
      "Epoch 13/20\n",
      "121/121 [==============================] - 3s 23ms/step - loss: 0.0511 - mae: 0.1035 - val_loss: 0.0116 - val_mae: 0.0620\n",
      "Epoch 14/20\n",
      "121/121 [==============================] - 3s 23ms/step - loss: 0.0511 - mae: 0.1035 - val_loss: 0.0116 - val_mae: 0.0620\n",
      "Epoch 15/20\n",
      "121/121 [==============================] - 3s 23ms/step - loss: 0.0511 - mae: 0.1035 - val_loss: 0.0116 - val_mae: 0.0619\n",
      "Epoch 16/20\n",
      "121/121 [==============================] - 3s 24ms/step - loss: 0.0511 - mae: 0.1035 - val_loss: 0.0116 - val_mae: 0.0619\n",
      "Epoch 17/20\n",
      "121/121 [==============================] - 3s 23ms/step - loss: 0.0511 - mae: 0.1035 - val_loss: 0.0116 - val_mae: 0.0619\n",
      "Epoch 18/20\n",
      "121/121 [==============================] - 3s 23ms/step - loss: 0.0511 - mae: 0.1035 - val_loss: 0.0116 - val_mae: 0.0619\n",
      "Epoch 19/20\n",
      "121/121 [==============================] - 3s 23ms/step - loss: 0.0511 - mae: 0.1035 - val_loss: 0.0117 - val_mae: 0.0620\n",
      "Epoch 20/20\n",
      "121/121 [==============================] - 3s 23ms/step - loss: 0.0511 - mae: 0.1035 - val_loss: 0.0116 - val_mae: 0.0619\n",
      "Epoch 1/20\n",
      "121/121 [==============================] - 3s 23ms/step - loss: 0.0511 - mae: 0.1035 - val_loss: 0.0116 - val_mae: 0.0622\n",
      "Epoch 2/20\n",
      "121/121 [==============================] - 3s 24ms/step - loss: 0.0511 - mae: 0.1035 - val_loss: 0.0116 - val_mae: 0.0621\n",
      "Epoch 3/20\n",
      "121/121 [==============================] - 3s 23ms/step - loss: 0.0511 - mae: 0.1035 - val_loss: 0.0116 - val_mae: 0.0619\n",
      "Epoch 4/20\n",
      "121/121 [==============================] - 3s 24ms/step - loss: 0.0511 - mae: 0.1035 - val_loss: 0.0116 - val_mae: 0.0618\n",
      "Epoch 5/20\n",
      "121/121 [==============================] - 3s 23ms/step - loss: 0.0511 - mae: 0.1036 - val_loss: 0.0117 - val_mae: 0.0620\n",
      "Epoch 6/20\n",
      "121/121 [==============================] - 3s 23ms/step - loss: 0.0511 - mae: 0.1035 - val_loss: 0.0116 - val_mae: 0.0620\n",
      "Epoch 7/20\n",
      "121/121 [==============================] - 3s 23ms/step - loss: 0.0511 - mae: 0.1035 - val_loss: 0.0116 - val_mae: 0.0620\n",
      "Epoch 8/20\n",
      "121/121 [==============================] - 3s 23ms/step - loss: 0.0511 - mae: 0.1035 - val_loss: 0.0116 - val_mae: 0.0619\n",
      "Epoch 9/20\n",
      "121/121 [==============================] - 3s 23ms/step - loss: 0.0511 - mae: 0.1035 - val_loss: 0.0117 - val_mae: 0.0619\n",
      "Epoch 10/20\n",
      "121/121 [==============================] - 3s 23ms/step - loss: 0.0511 - mae: 0.1035 - val_loss: 0.0116 - val_mae: 0.0619\n",
      "Epoch 11/20\n",
      "121/121 [==============================] - 3s 23ms/step - loss: 0.0511 - mae: 0.1035 - val_loss: 0.0116 - val_mae: 0.0619\n",
      "Epoch 12/20\n",
      "121/121 [==============================] - 3s 23ms/step - loss: 0.0511 - mae: 0.1035 - val_loss: 0.0116 - val_mae: 0.0620\n",
      "Epoch 13/20\n",
      "121/121 [==============================] - 3s 23ms/step - loss: 0.0511 - mae: 0.1035 - val_loss: 0.0116 - val_mae: 0.0620\n",
      "Epoch 14/20\n",
      "121/121 [==============================] - 3s 23ms/step - loss: 0.0511 - mae: 0.1035 - val_loss: 0.0117 - val_mae: 0.0620\n",
      "Epoch 15/20\n",
      "121/121 [==============================] - 3s 23ms/step - loss: 0.0511 - mae: 0.1036 - val_loss: 0.0116 - val_mae: 0.0619\n",
      "Epoch 16/20\n",
      "121/121 [==============================] - 3s 23ms/step - loss: 0.0511 - mae: 0.1035 - val_loss: 0.0116 - val_mae: 0.0620\n",
      "Epoch 17/20\n",
      "121/121 [==============================] - 3s 23ms/step - loss: 0.0511 - mae: 0.1035 - val_loss: 0.0117 - val_mae: 0.0621\n",
      "Epoch 18/20\n",
      "121/121 [==============================] - 3s 23ms/step - loss: 0.0511 - mae: 0.1035 - val_loss: 0.0116 - val_mae: 0.0618\n",
      "Epoch 19/20\n",
      "121/121 [==============================] - 3s 23ms/step - loss: 0.0511 - mae: 0.1035 - val_loss: 0.0116 - val_mae: 0.0620\n",
      "Epoch 20/20\n",
      "121/121 [==============================] - 3s 23ms/step - loss: 0.0511 - mae: 0.1035 - val_loss: 0.0116 - val_mae: 0.0620\n"
     ]
    },
    {
     "data": {
      "text/html": [
       "Finishing last run (ID:k3ymkfow) before initializing another..."
      ],
      "text/plain": [
       "<IPython.core.display.HTML object>"
      ]
     },
     "metadata": {},
     "output_type": "display_data"
    },
    {
     "data": {
      "text/html": [
       "<br/>Waiting for W&B process to finish, PID 7587<br/>Program ended successfully."
      ],
      "text/plain": [
       "<IPython.core.display.HTML object>"
      ]
     },
     "metadata": {},
     "output_type": "display_data"
    },
    {
     "data": {
      "text/html": [
       "Find user logs for this run at: <code>/home/richard_stana/programing/clanok/code/wandb/run-20210126_124101-k3ymkfow/logs/debug.log</code>"
      ],
      "text/plain": [
       "<IPython.core.display.HTML object>"
      ]
     },
     "metadata": {},
     "output_type": "display_data"
    },
    {
     "data": {
      "text/html": [
       "Find internal logs for this run at: <code>/home/richard_stana/programing/clanok/code/wandb/run-20210126_124101-k3ymkfow/logs/debug-internal.log</code>"
      ],
      "text/plain": [
       "<IPython.core.display.HTML object>"
      ]
     },
     "metadata": {},
     "output_type": "display_data"
    },
    {
     "data": {
      "text/html": [
       "<h3>Run summary:</h3><br/><style>\n",
       "    table.wandb td:nth-child(1) { padding: 0 10px; text-align: right }\n",
       "    </style><table class=\"wandb\">\n",
       "<tr><td>epoch</td><td>19</td></tr><tr><td>loss</td><td>0.05114</td></tr><tr><td>mae</td><td>0.10354</td></tr><tr><td>val_loss</td><td>0.01163</td></tr><tr><td>val_mae</td><td>0.062</td></tr><tr><td>_step</td><td>39</td></tr><tr><td>_runtime</td><td>118</td></tr><tr><td>_timestamp</td><td>1611664985</td></tr><tr><td>best_val_loss</td><td>0.01163</td></tr><tr><td>best_epoch</td><td>15</td></tr></table>"
      ],
      "text/plain": [
       "<IPython.core.display.HTML object>"
      ]
     },
     "metadata": {},
     "output_type": "display_data"
    },
    {
     "data": {
      "text/html": [
       "<h3>Run history:</h3><br/><style>\n",
       "    table.wandb td:nth-child(1) { padding: 0 10px; text-align: right }\n",
       "    </style><table class=\"wandb\">\n",
       "<tr><td>epoch</td><td>▁▁▂▂▂▃▃▄▄▄▅▅▅▆▆▇▇▇██▁▁▂▂▂▃▃▄▄▄▅▅▅▆▆▇▇▇██</td></tr><tr><td>loss</td><td>▄▂▃▄▂▁▅▃█▇▄▇▇▇▃▇▄▄▅▃▃▄▇▃▂▄▃▃▃▄█▅▂▂▅▃▁▅▅▃</td></tr><tr><td>mae</td><td>▄▃▁▃▂▁▄▅▅▄▃▄▄▄▃▅▄▃▇▂▃▄▄▃█▄▄▃▃▅▄▃▂▃█▄▅▃▄▇</td></tr><tr><td>val_loss</td><td>▆▁▂▁▂▂▃▆▃▃▅▅▃▂▄▁▂▁▅▁▂▂▁▃▇▂▃▁▅▂▁▁▂█▁▁▆▂▄▁</td></tr><tr><td>val_mae</td><td>▃▃▃▂▁▄█▃▂▂▄▄▃▄▃▂▂▂▄▂▇▅▂▁▅▅▄▃▂▂▂▄▄▄▂▅▆▁▄▄</td></tr><tr><td>_step</td><td>▁▁▁▂▂▂▂▂▂▃▃▃▃▃▄▄▄▄▄▄▅▅▅▅▅▅▆▆▆▆▆▇▇▇▇▇▇███</td></tr><tr><td>_runtime</td><td>▁▁▁▂▂▂▂▂▃▃▃▃▃▃▃▄▄▄▄▄▅▅▅▅▅▆▆▆▆▆▆▇▇▇▇▇▇███</td></tr><tr><td>_timestamp</td><td>▁▁▁▂▂▂▂▂▃▃▃▃▃▃▃▄▄▄▄▄▅▅▅▅▅▆▆▆▆▆▆▇▇▇▇▇▇███</td></tr></table><br/>"
      ],
      "text/plain": [
       "<IPython.core.display.HTML object>"
      ]
     },
     "metadata": {},
     "output_type": "display_data"
    },
    {
     "data": {
      "text/html": [
       "Synced 5 W&B file(s), 1 media file(s), 0 artifact file(s) and 1 other file(s)"
      ],
      "text/plain": [
       "<IPython.core.display.HTML object>"
      ]
     },
     "metadata": {},
     "output_type": "display_data"
    },
    {
     "data": {
      "text/html": [
       "\n",
       "                    <br/>Synced <strong style=\"color:#cdcd00\">cnn-30m-item692</strong>: <a href=\"https://wandb.ai/kriza/30m-item69/runs/k3ymkfow\" target=\"_blank\">https://wandb.ai/kriza/30m-item69/runs/k3ymkfow</a><br/>\n",
       "                "
      ],
      "text/plain": [
       "<IPython.core.display.HTML object>"
      ]
     },
     "metadata": {},
     "output_type": "display_data"
    },
    {
     "data": {
      "text/html": [
       "...Successfully finished last run (ID:k3ymkfow). Initializing new run:<br/><br/>"
      ],
      "text/plain": [
       "<IPython.core.display.HTML object>"
      ]
     },
     "metadata": {},
     "output_type": "display_data"
    },
    {
     "name": "stderr",
     "output_type": "stream",
     "text": [
      "\u001b[34m\u001b[1mwandb\u001b[0m: wandb version 0.10.15 is available!  To upgrade, please run:\n",
      "\u001b[34m\u001b[1mwandb\u001b[0m:  $ pip install wandb --upgrade\n"
     ]
    },
    {
     "data": {
      "text/html": [
       "\n",
       "                Tracking run with wandb version 0.10.14<br/>\n",
       "                Syncing run <strong style=\"color:#cdcd00\">dobra_cnn-30m-item692</strong> to <a href=\"https://wandb.ai\" target=\"_blank\">Weights & Biases</a> <a href=\"https://docs.wandb.com/integrations/jupyter.html\" target=\"_blank\">(Documentation)</a>.<br/>\n",
       "                Project page: <a href=\"https://wandb.ai/kriza/30m-item69\" target=\"_blank\">https://wandb.ai/kriza/30m-item69</a><br/>\n",
       "                Run page: <a href=\"https://wandb.ai/kriza/30m-item69/runs/15af878r\" target=\"_blank\">https://wandb.ai/kriza/30m-item69/runs/15af878r</a><br/>\n",
       "                Run data is saved locally in <code>/home/richard_stana/programing/clanok/code/wandb/run-20210126_124305-15af878r</code><br/><br/>\n",
       "            "
      ],
      "text/plain": [
       "<IPython.core.display.HTML object>"
      ]
     },
     "metadata": {},
     "output_type": "display_data"
    },
    {
     "name": "stdout",
     "output_type": "stream",
     "text": [
      "Epoch 1/20\n",
      "121/121 [==============================] - 1s 12ms/step - loss: 0.0388 - mae: 0.1081 - val_loss: 0.0130 - val_mae: 0.0700\n",
      "Epoch 2/20\n",
      "121/121 [==============================] - 1s 11ms/step - loss: 0.0332 - mae: 0.1012 - val_loss: 0.0127 - val_mae: 0.0683\n",
      "Epoch 3/20\n",
      "121/121 [==============================] - 1s 10ms/step - loss: 0.0309 - mae: 0.0988 - val_loss: 0.0133 - val_mae: 0.0696\n",
      "Epoch 4/20\n",
      "121/121 [==============================] - 1s 10ms/step - loss: 0.0286 - mae: 0.0960 - val_loss: 0.0132 - val_mae: 0.0702\n",
      "Epoch 5/20\n",
      "121/121 [==============================] - 1s 10ms/step - loss: 0.0262 - mae: 0.0928 - val_loss: 0.0141 - val_mae: 0.0743\n",
      "Epoch 6/20\n",
      "121/121 [==============================] - 1s 10ms/step - loss: 0.0236 - mae: 0.0897 - val_loss: 0.0138 - val_mae: 0.0722\n",
      "Epoch 7/20\n",
      "121/121 [==============================] - 1s 10ms/step - loss: 0.0219 - mae: 0.0867 - val_loss: 0.0138 - val_mae: 0.0730\n",
      "Epoch 8/20\n",
      "121/121 [==============================] - 1s 10ms/step - loss: 0.0199 - mae: 0.0836 - val_loss: 0.0143 - val_mae: 0.0727\n",
      "Epoch 9/20\n",
      "121/121 [==============================] - 1s 10ms/step - loss: 0.0189 - mae: 0.0821 - val_loss: 0.0143 - val_mae: 0.0754\n",
      "Epoch 10/20\n",
      "121/121 [==============================] - 1s 10ms/step - loss: 0.0171 - mae: 0.0787 - val_loss: 0.0142 - val_mae: 0.0738\n",
      "Epoch 11/20\n",
      "121/121 [==============================] - 1s 10ms/step - loss: 0.0161 - mae: 0.0769 - val_loss: 0.0139 - val_mae: 0.0729\n",
      "Epoch 12/20\n",
      "121/121 [==============================] - 1s 10ms/step - loss: 0.0155 - mae: 0.0756 - val_loss: 0.0143 - val_mae: 0.0742\n",
      "Epoch 13/20\n",
      "121/121 [==============================] - 1s 10ms/step - loss: 0.0149 - mae: 0.0744 - val_loss: 0.0146 - val_mae: 0.0744\n",
      "Epoch 14/20\n",
      "121/121 [==============================] - 1s 10ms/step - loss: 0.0151 - mae: 0.0732 - val_loss: 0.0147 - val_mae: 0.0757\n",
      "Epoch 15/20\n",
      "121/121 [==============================] - 1s 10ms/step - loss: 0.0134 - mae: 0.0704 - val_loss: 0.0149 - val_mae: 0.0766\n",
      "Epoch 16/20\n",
      "121/121 [==============================] - 1s 10ms/step - loss: 0.0127 - mae: 0.0686 - val_loss: 0.0145 - val_mae: 0.0757\n",
      "Epoch 17/20\n",
      "121/121 [==============================] - 1s 10ms/step - loss: 0.0122 - mae: 0.0672 - val_loss: 0.0144 - val_mae: 0.0754\n",
      "Epoch 18/20\n",
      "121/121 [==============================] - 1s 10ms/step - loss: 0.0118 - mae: 0.0656 - val_loss: 0.0152 - val_mae: 0.0783\n",
      "Epoch 19/20\n",
      "121/121 [==============================] - 1s 10ms/step - loss: 0.0116 - mae: 0.0655 - val_loss: 0.0148 - val_mae: 0.0775\n",
      "Epoch 20/20\n",
      "121/121 [==============================] - 1s 10ms/step - loss: 0.0113 - mae: 0.0643 - val_loss: 0.0147 - val_mae: 0.0771\n",
      "Epoch 1/20\n",
      "121/121 [==============================] - 1s 10ms/step - loss: 0.0110 - mae: 0.0630 - val_loss: 0.0144 - val_mae: 0.0746\n",
      "Epoch 2/20\n",
      "121/121 [==============================] - 1s 10ms/step - loss: 0.0107 - mae: 0.0619 - val_loss: 0.0154 - val_mae: 0.0792\n",
      "Epoch 3/20\n",
      "121/121 [==============================] - 1s 11ms/step - loss: 0.0107 - mae: 0.0622 - val_loss: 0.0147 - val_mae: 0.0768\n",
      "Epoch 4/20\n",
      "121/121 [==============================] - 1s 10ms/step - loss: 0.0105 - mae: 0.0611 - val_loss: 0.0147 - val_mae: 0.0757\n",
      "Epoch 5/20\n",
      "121/121 [==============================] - 1s 10ms/step - loss: 0.0103 - mae: 0.0601 - val_loss: 0.0152 - val_mae: 0.0774\n",
      "Epoch 6/20\n",
      "121/121 [==============================] - 1s 10ms/step - loss: 0.0098 - mae: 0.0589 - val_loss: 0.0148 - val_mae: 0.0754\n",
      "Epoch 7/20\n",
      "121/121 [==============================] - 1s 10ms/step - loss: 0.0096 - mae: 0.0579 - val_loss: 0.0152 - val_mae: 0.0786\n",
      "Epoch 8/20\n",
      "121/121 [==============================] - 1s 11ms/step - loss: 0.0095 - mae: 0.0574 - val_loss: 0.0152 - val_mae: 0.0784\n",
      "Epoch 9/20\n",
      "121/121 [==============================] - 1s 10ms/step - loss: 0.0095 - mae: 0.0574 - val_loss: 0.0148 - val_mae: 0.0763\n",
      "Epoch 10/20\n",
      "121/121 [==============================] - 1s 10ms/step - loss: 0.0093 - mae: 0.0566 - val_loss: 0.0149 - val_mae: 0.0764\n",
      "Epoch 11/20\n",
      "121/121 [==============================] - 1s 10ms/step - loss: 0.0093 - mae: 0.0567 - val_loss: 0.0150 - val_mae: 0.0784\n",
      "Epoch 12/20\n",
      "121/121 [==============================] - 1s 10ms/step - loss: 0.0092 - mae: 0.0567 - val_loss: 0.0155 - val_mae: 0.0799\n",
      "Epoch 13/20\n",
      "121/121 [==============================] - 1s 10ms/step - loss: 0.0096 - mae: 0.0576 - val_loss: 0.0149 - val_mae: 0.0770\n",
      "Epoch 14/20\n",
      "121/121 [==============================] - 1s 10ms/step - loss: 0.0093 - mae: 0.0570 - val_loss: 0.0147 - val_mae: 0.0751\n",
      "Epoch 15/20\n",
      "121/121 [==============================] - 1s 10ms/step - loss: 0.0091 - mae: 0.0559 - val_loss: 0.0150 - val_mae: 0.0795\n",
      "Epoch 16/20\n",
      "121/121 [==============================] - 1s 10ms/step - loss: 0.0090 - mae: 0.0558 - val_loss: 0.0152 - val_mae: 0.0771\n",
      "Epoch 17/20\n",
      "121/121 [==============================] - 1s 10ms/step - loss: 0.0087 - mae: 0.0541 - val_loss: 0.0152 - val_mae: 0.0773\n",
      "Epoch 18/20\n",
      "121/121 [==============================] - 1s 10ms/step - loss: 0.0085 - mae: 0.0538 - val_loss: 0.0150 - val_mae: 0.0754\n",
      "Epoch 19/20\n",
      "121/121 [==============================] - 1s 10ms/step - loss: 0.0084 - mae: 0.0535 - val_loss: 0.0154 - val_mae: 0.0783\n",
      "Epoch 20/20\n",
      "121/121 [==============================] - 1s 10ms/step - loss: 0.0081 - mae: 0.0524 - val_loss: 0.0154 - val_mae: 0.0784\n"
     ]
    },
    {
     "data": {
      "text/html": [
       "Finishing last run (ID:15af878r) before initializing another..."
      ],
      "text/plain": [
       "<IPython.core.display.HTML object>"
      ]
     },
     "metadata": {},
     "output_type": "display_data"
    },
    {
     "data": {
      "text/html": [
       "<br/>Waiting for W&B process to finish, PID 8166<br/>Program ended successfully."
      ],
      "text/plain": [
       "<IPython.core.display.HTML object>"
      ]
     },
     "metadata": {},
     "output_type": "display_data"
    },
    {
     "data": {
      "text/html": [
       "Find user logs for this run at: <code>/home/richard_stana/programing/clanok/code/wandb/run-20210126_124305-15af878r/logs/debug.log</code>"
      ],
      "text/plain": [
       "<IPython.core.display.HTML object>"
      ]
     },
     "metadata": {},
     "output_type": "display_data"
    },
    {
     "data": {
      "text/html": [
       "Find internal logs for this run at: <code>/home/richard_stana/programing/clanok/code/wandb/run-20210126_124305-15af878r/logs/debug-internal.log</code>"
      ],
      "text/plain": [
       "<IPython.core.display.HTML object>"
      ]
     },
     "metadata": {},
     "output_type": "display_data"
    },
    {
     "data": {
      "text/html": [
       "<h3>Run summary:</h3><br/><style>\n",
       "    table.wandb td:nth-child(1) { padding: 0 10px; text-align: right }\n",
       "    </style><table class=\"wandb\">\n",
       "<tr><td>epoch</td><td>19</td></tr><tr><td>loss</td><td>0.00809</td></tr><tr><td>mae</td><td>0.05244</td></tr><tr><td>val_loss</td><td>0.01537</td></tr><tr><td>val_mae</td><td>0.07839</td></tr><tr><td>_step</td><td>39</td></tr><tr><td>_runtime</td><td>55</td></tr><tr><td>_timestamp</td><td>1611665044</td></tr><tr><td>best_val_loss</td><td>0.01268</td></tr><tr><td>best_epoch</td><td>1</td></tr></table>"
      ],
      "text/plain": [
       "<IPython.core.display.HTML object>"
      ]
     },
     "metadata": {},
     "output_type": "display_data"
    },
    {
     "data": {
      "text/html": [
       "<h3>Run history:</h3><br/><style>\n",
       "    table.wandb td:nth-child(1) { padding: 0 10px; text-align: right }\n",
       "    </style><table class=\"wandb\">\n",
       "<tr><td>epoch</td><td>▁▁▂▂▂▃▃▄▄▄▅▅▅▆▆▇▇▇██▁▁▂▂▂▃▃▄▄▄▅▅▅▆▆▇▇▇██</td></tr><tr><td>loss</td><td>█▇▆▆▅▅▄▄▃▃▃▃▃▃▂▂▂▂▂▂▂▂▂▂▁▁▁▁▁▁▁▁▁▁▁▁▁▁▁▁</td></tr><tr><td>mae</td><td>█▇▇▆▆▆▅▅▅▄▄▄▄▄▃▃▃▃▃▂▂▂▂▂▂▂▂▂▂▂▂▂▂▂▁▁▁▁▁▁</td></tr><tr><td>val_loss</td><td>▂▁▃▂▄▄▄▅▅▅▄▅▆▆▆▅▅▇▆▆▅█▆▆▇▆▇▇▆▇▇█▇▆▇▇▇▇██</td></tr><tr><td>val_mae</td><td>▂▁▂▂▅▃▄▄▅▄▄▅▅▆▆▅▅▇▇▆▅█▆▅▇▅▇▇▆▆▇█▆▅█▆▆▅▇▇</td></tr><tr><td>_step</td><td>▁▁▁▂▂▂▂▂▂▃▃▃▃▃▄▄▄▄▄▄▅▅▅▅▅▅▆▆▆▆▆▇▇▇▇▇▇███</td></tr><tr><td>_runtime</td><td>▁▁▁▂▂▂▂▂▂▃▃▃▃▃▃▄▄▄▄▄▅▅▅▅▅▅▆▆▆▆▆▇▇▇▇▇▇███</td></tr><tr><td>_timestamp</td><td>▁▁▁▂▂▂▂▂▂▃▃▃▃▃▃▄▄▄▄▄▅▅▅▅▅▅▆▆▆▆▆▇▇▇▇▇▇███</td></tr></table><br/>"
      ],
      "text/plain": [
       "<IPython.core.display.HTML object>"
      ]
     },
     "metadata": {},
     "output_type": "display_data"
    },
    {
     "data": {
      "text/html": [
       "Synced 5 W&B file(s), 1 media file(s), 0 artifact file(s) and 1 other file(s)"
      ],
      "text/plain": [
       "<IPython.core.display.HTML object>"
      ]
     },
     "metadata": {},
     "output_type": "display_data"
    },
    {
     "data": {
      "text/html": [
       "\n",
       "                    <br/>Synced <strong style=\"color:#cdcd00\">dobra_cnn-30m-item692</strong>: <a href=\"https://wandb.ai/kriza/30m-item69/runs/15af878r\" target=\"_blank\">https://wandb.ai/kriza/30m-item69/runs/15af878r</a><br/>\n",
       "                "
      ],
      "text/plain": [
       "<IPython.core.display.HTML object>"
      ]
     },
     "metadata": {},
     "output_type": "display_data"
    },
    {
     "data": {
      "text/html": [
       "...Successfully finished last run (ID:15af878r). Initializing new run:<br/><br/>"
      ],
      "text/plain": [
       "<IPython.core.display.HTML object>"
      ]
     },
     "metadata": {},
     "output_type": "display_data"
    },
    {
     "name": "stderr",
     "output_type": "stream",
     "text": [
      "\u001b[34m\u001b[1mwandb\u001b[0m: wandb version 0.10.15 is available!  To upgrade, please run:\n",
      "\u001b[34m\u001b[1mwandb\u001b[0m:  $ pip install wandb --upgrade\n"
     ]
    },
    {
     "data": {
      "text/html": [
       "\n",
       "                Tracking run with wandb version 0.10.14<br/>\n",
       "                Syncing run <strong style=\"color:#cdcd00\">lstm-30m-item712</strong> to <a href=\"https://wandb.ai\" target=\"_blank\">Weights & Biases</a> <a href=\"https://docs.wandb.com/integrations/jupyter.html\" target=\"_blank\">(Documentation)</a>.<br/>\n",
       "                Project page: <a href=\"https://wandb.ai/kriza/30m-item71\" target=\"_blank\">https://wandb.ai/kriza/30m-item71</a><br/>\n",
       "                Run page: <a href=\"https://wandb.ai/kriza/30m-item71/runs/30f7rkt4\" target=\"_blank\">https://wandb.ai/kriza/30m-item71/runs/30f7rkt4</a><br/>\n",
       "                Run data is saved locally in <code>/home/richard_stana/programing/clanok/code/wandb/run-20210126_124406-30f7rkt4</code><br/><br/>\n",
       "            "
      ],
      "text/plain": [
       "<IPython.core.display.HTML object>"
      ]
     },
     "metadata": {},
     "output_type": "display_data"
    },
    {
     "name": "stdout",
     "output_type": "stream",
     "text": [
      "Epoch 1/20\n",
      "121/121 [==============================] - 20s 164ms/step - loss: 0.1499 - mae: 0.2207 - val_loss: 0.0176 - val_mae: 0.0929\n",
      "Epoch 2/20\n",
      "121/121 [==============================] - 19s 156ms/step - loss: 0.1359 - mae: 0.2106 - val_loss: 0.0184 - val_mae: 0.1004\n",
      "Epoch 3/20\n",
      "121/121 [==============================] - 19s 157ms/step - loss: 0.1323 - mae: 0.2075 - val_loss: 0.0257 - val_mae: 0.1228\n",
      "Epoch 4/20\n",
      "121/121 [==============================] - 19s 156ms/step - loss: 0.1276 - mae: 0.2033 - val_loss: 0.0198 - val_mae: 0.1027\n",
      "Epoch 5/20\n",
      "121/121 [==============================] - 19s 156ms/step - loss: 0.1283 - mae: 0.2047 - val_loss: 0.0185 - val_mae: 0.0988\n",
      "Epoch 6/20\n",
      "121/121 [==============================] - 19s 156ms/step - loss: 0.1259 - mae: 0.2043 - val_loss: 0.0197 - val_mae: 0.0993\n",
      "Epoch 7/20\n",
      "121/121 [==============================] - 19s 156ms/step - loss: 0.1224 - mae: 0.1992 - val_loss: 0.0181 - val_mae: 0.0946\n",
      "Epoch 8/20\n",
      "121/121 [==============================] - 19s 159ms/step - loss: 0.1190 - mae: 0.1945 - val_loss: 0.0170 - val_mae: 0.0858\n",
      "Epoch 9/20\n",
      "121/121 [==============================] - 19s 156ms/step - loss: 0.1191 - mae: 0.1949 - val_loss: 0.0197 - val_mae: 0.0943\n",
      "Epoch 10/20\n",
      "121/121 [==============================] - 19s 156ms/step - loss: 0.1171 - mae: 0.1923 - val_loss: 0.0186 - val_mae: 0.0986\n",
      "Epoch 11/20\n",
      "121/121 [==============================] - 19s 156ms/step - loss: 0.1173 - mae: 0.1927 - val_loss: 0.0197 - val_mae: 0.1017\n",
      "Epoch 12/20\n",
      "121/121 [==============================] - 19s 159ms/step - loss: 0.1147 - mae: 0.1907 - val_loss: 0.0154 - val_mae: 0.0805\n",
      "Epoch 13/20\n",
      "121/121 [==============================] - 19s 156ms/step - loss: 0.1263 - mae: 0.2019 - val_loss: 0.0582 - val_mae: 0.2147\n",
      "Epoch 14/20\n",
      "121/121 [==============================] - 19s 156ms/step - loss: 0.1328 - mae: 0.2085 - val_loss: 0.0205 - val_mae: 0.1045\n",
      "Epoch 15/20\n",
      "121/121 [==============================] - 19s 158ms/step - loss: 0.1143 - mae: 0.1894 - val_loss: 0.0151 - val_mae: 0.0833\n",
      "Epoch 16/20\n",
      "121/121 [==============================] - 19s 156ms/step - loss: 0.1125 - mae: 0.1861 - val_loss: 0.0204 - val_mae: 0.1043\n",
      "Epoch 17/20\n",
      "121/121 [==============================] - 19s 159ms/step - loss: 0.1105 - mae: 0.1849 - val_loss: 0.0139 - val_mae: 0.0760\n",
      "Epoch 18/20\n",
      "121/121 [==============================] - 19s 157ms/step - loss: 0.1117 - mae: 0.1849 - val_loss: 0.0198 - val_mae: 0.0943\n",
      "Epoch 19/20\n",
      "121/121 [==============================] - 19s 156ms/step - loss: 0.1103 - mae: 0.1837 - val_loss: 0.0207 - val_mae: 0.1067\n",
      "Epoch 20/20\n",
      "121/121 [==============================] - 19s 156ms/step - loss: 0.1095 - mae: 0.1838 - val_loss: 0.0140 - val_mae: 0.0768\n",
      "Epoch 1/20\n",
      "121/121 [==============================] - 19s 157ms/step - loss: 0.1206 - mae: 0.1958 - val_loss: 0.0180 - val_mae: 0.0920\n",
      "Epoch 2/20\n",
      "121/121 [==============================] - 19s 156ms/step - loss: 0.1142 - mae: 0.1877 - val_loss: 0.0329 - val_mae: 0.1405\n",
      "Epoch 3/20\n",
      "121/121 [==============================] - 19s 158ms/step - loss: 0.1121 - mae: 0.1864 - val_loss: 0.0160 - val_mae: 0.0864\n",
      "Epoch 4/20\n",
      "121/121 [==============================] - 19s 156ms/step - loss: 0.1076 - mae: 0.1826 - val_loss: 0.0184 - val_mae: 0.0961\n",
      "Epoch 5/20\n",
      "121/121 [==============================] - 19s 156ms/step - loss: 0.1083 - mae: 0.1819 - val_loss: 0.0196 - val_mae: 0.0998\n",
      "Epoch 6/20\n",
      "121/121 [==============================] - 19s 157ms/step - loss: 0.1101 - mae: 0.1855 - val_loss: 0.0166 - val_mae: 0.0861\n",
      "Epoch 7/20\n",
      "121/121 [==============================] - 19s 156ms/step - loss: 0.1061 - mae: 0.1809 - val_loss: 0.0161 - val_mae: 0.0871\n",
      "Epoch 8/20\n",
      "121/121 [==============================] - 19s 159ms/step - loss: 0.1081 - mae: 0.1832 - val_loss: 0.0134 - val_mae: 0.0748\n",
      "Epoch 9/20\n",
      "121/121 [==============================] - 19s 156ms/step - loss: 0.1050 - mae: 0.1802 - val_loss: 0.0185 - val_mae: 0.0961\n",
      "Epoch 10/20\n",
      "121/121 [==============================] - 19s 156ms/step - loss: 0.1135 - mae: 0.1866 - val_loss: 0.0289 - val_mae: 0.1268\n",
      "Epoch 11/20\n",
      "121/121 [==============================] - 19s 156ms/step - loss: 0.1129 - mae: 0.1864 - val_loss: 0.0321 - val_mae: 0.1352\n",
      "Epoch 12/20\n",
      "121/121 [==============================] - 19s 156ms/step - loss: 0.1104 - mae: 0.1849 - val_loss: 0.0160 - val_mae: 0.0868\n",
      "Epoch 13/20\n",
      "121/121 [==============================] - 19s 156ms/step - loss: 0.1034 - mae: 0.1768 - val_loss: 0.0147 - val_mae: 0.0826\n",
      "Epoch 14/20\n",
      "121/121 [==============================] - 19s 156ms/step - loss: 0.1055 - mae: 0.1788 - val_loss: 0.0347 - val_mae: 0.1337\n",
      "Epoch 15/20\n",
      "121/121 [==============================] - 19s 156ms/step - loss: 0.1097 - mae: 0.1848 - val_loss: 0.0189 - val_mae: 0.0954\n",
      "Epoch 16/20\n",
      "121/121 [==============================] - 19s 156ms/step - loss: 0.1044 - mae: 0.1801 - val_loss: 0.0164 - val_mae: 0.0924\n",
      "Epoch 17/20\n",
      "121/121 [==============================] - 19s 156ms/step - loss: 0.1024 - mae: 0.1774 - val_loss: 0.0171 - val_mae: 0.0907\n",
      "Epoch 18/20\n",
      "121/121 [==============================] - 19s 156ms/step - loss: 0.1012 - mae: 0.1757 - val_loss: 0.0159 - val_mae: 0.0877\n",
      "Epoch 19/20\n",
      "121/121 [==============================] - 19s 156ms/step - loss: 0.1042 - mae: 0.1794 - val_loss: 0.0167 - val_mae: 0.0892\n",
      "Epoch 20/20\n",
      "121/121 [==============================] - 19s 156ms/step - loss: 0.1006 - mae: 0.1745 - val_loss: 0.0178 - val_mae: 0.0925\n"
     ]
    },
    {
     "data": {
      "text/html": [
       "Finishing last run (ID:30f7rkt4) before initializing another..."
      ],
      "text/plain": [
       "<IPython.core.display.HTML object>"
      ]
     },
     "metadata": {},
     "output_type": "display_data"
    },
    {
     "data": {
      "text/html": [
       "<br/>Waiting for W&B process to finish, PID 8527<br/>Program ended successfully."
      ],
      "text/plain": [
       "<IPython.core.display.HTML object>"
      ]
     },
     "metadata": {},
     "output_type": "display_data"
    },
    {
     "data": {
      "text/html": [
       "Find user logs for this run at: <code>/home/richard_stana/programing/clanok/code/wandb/run-20210126_124406-30f7rkt4/logs/debug.log</code>"
      ],
      "text/plain": [
       "<IPython.core.display.HTML object>"
      ]
     },
     "metadata": {},
     "output_type": "display_data"
    },
    {
     "data": {
      "text/html": [
       "Find internal logs for this run at: <code>/home/richard_stana/programing/clanok/code/wandb/run-20210126_124406-30f7rkt4/logs/debug-internal.log</code>"
      ],
      "text/plain": [
       "<IPython.core.display.HTML object>"
      ]
     },
     "metadata": {},
     "output_type": "display_data"
    },
    {
     "data": {
      "text/html": [
       "<h3>Run summary:</h3><br/><style>\n",
       "    table.wandb td:nth-child(1) { padding: 0 10px; text-align: right }\n",
       "    </style><table class=\"wandb\">\n",
       "<tr><td>epoch</td><td>19</td></tr><tr><td>loss</td><td>0.10058</td></tr><tr><td>mae</td><td>0.17452</td></tr><tr><td>val_loss</td><td>0.01781</td></tr><tr><td>val_mae</td><td>0.09248</td></tr><tr><td>_step</td><td>39</td></tr><tr><td>_runtime</td><td>773</td></tr><tr><td>_timestamp</td><td>1611665823</td></tr><tr><td>best_val_loss</td><td>0.01344</td></tr><tr><td>best_epoch</td><td>7</td></tr></table>"
      ],
      "text/plain": [
       "<IPython.core.display.HTML object>"
      ]
     },
     "metadata": {},
     "output_type": "display_data"
    },
    {
     "data": {
      "text/html": [
       "<h3>Run history:</h3><br/><style>\n",
       "    table.wandb td:nth-child(1) { padding: 0 10px; text-align: right }\n",
       "    </style><table class=\"wandb\">\n",
       "<tr><td>epoch</td><td>▁▁▂▂▂▃▃▄▄▄▅▅▅▆▆▇▇▇██▁▁▂▂▂▃▃▄▄▄▅▅▅▆▆▇▇▇██</td></tr><tr><td>loss</td><td>█▆▆▅▅▅▄▄▄▃▃▃▅▆▃▃▂▃▂▂▄▃▃▂▂▂▂▂▂▃▃▂▁▂▂▂▁▁▂▁</td></tr><tr><td>mae</td><td>█▆▆▅▆▆▅▄▄▄▄▃▅▆▃▃▃▃▂▂▄▃▃▂▂▃▂▂▂▃▃▃▁▂▃▂▁▁▂▁</td></tr><tr><td>val_loss</td><td>▂▂▃▂▂▂▂▂▂▂▂▁█▂▁▂▁▂▂▁▂▄▁▂▂▁▁▁▂▃▄▁▁▄▂▁▂▁▂▂</td></tr><tr><td>val_mae</td><td>▂▂▃▂▂▂▂▂▂▂▂▁█▂▁▂▁▂▃▁▂▄▂▂▂▂▂▁▂▄▄▂▁▄▂▂▂▂▂▂</td></tr><tr><td>_step</td><td>▁▁▁▂▂▂▂▂▂▃▃▃▃▃▄▄▄▄▄▄▅▅▅▅▅▅▆▆▆▆▆▇▇▇▇▇▇███</td></tr><tr><td>_runtime</td><td>▁▁▁▂▂▂▂▂▂▃▃▃▃▃▄▄▄▄▄▄▅▅▅▅▅▅▆▆▆▆▆▇▇▇▇▇▇███</td></tr><tr><td>_timestamp</td><td>▁▁▁▂▂▂▂▂▂▃▃▃▃▃▄▄▄▄▄▄▅▅▅▅▅▅▆▆▆▆▆▇▇▇▇▇▇███</td></tr></table><br/>"
      ],
      "text/plain": [
       "<IPython.core.display.HTML object>"
      ]
     },
     "metadata": {},
     "output_type": "display_data"
    },
    {
     "data": {
      "text/html": [
       "Synced 5 W&B file(s), 1 media file(s), 0 artifact file(s) and 1 other file(s)"
      ],
      "text/plain": [
       "<IPython.core.display.HTML object>"
      ]
     },
     "metadata": {},
     "output_type": "display_data"
    },
    {
     "data": {
      "text/html": [
       "\n",
       "                    <br/>Synced <strong style=\"color:#cdcd00\">lstm-30m-item712</strong>: <a href=\"https://wandb.ai/kriza/30m-item71/runs/30f7rkt4\" target=\"_blank\">https://wandb.ai/kriza/30m-item71/runs/30f7rkt4</a><br/>\n",
       "                "
      ],
      "text/plain": [
       "<IPython.core.display.HTML object>"
      ]
     },
     "metadata": {},
     "output_type": "display_data"
    },
    {
     "data": {
      "text/html": [
       "...Successfully finished last run (ID:30f7rkt4). Initializing new run:<br/><br/>"
      ],
      "text/plain": [
       "<IPython.core.display.HTML object>"
      ]
     },
     "metadata": {},
     "output_type": "display_data"
    },
    {
     "name": "stderr",
     "output_type": "stream",
     "text": [
      "\u001b[34m\u001b[1mwandb\u001b[0m: wandb version 0.10.15 is available!  To upgrade, please run:\n",
      "\u001b[34m\u001b[1mwandb\u001b[0m:  $ pip install wandb --upgrade\n"
     ]
    },
    {
     "data": {
      "text/html": [
       "\n",
       "                Tracking run with wandb version 0.10.14<br/>\n",
       "                Syncing run <strong style=\"color:#cdcd00\">cnn-30m-item712</strong> to <a href=\"https://wandb.ai\" target=\"_blank\">Weights & Biases</a> <a href=\"https://docs.wandb.com/integrations/jupyter.html\" target=\"_blank\">(Documentation)</a>.<br/>\n",
       "                Project page: <a href=\"https://wandb.ai/kriza/30m-item71\" target=\"_blank\">https://wandb.ai/kriza/30m-item71</a><br/>\n",
       "                Run page: <a href=\"https://wandb.ai/kriza/30m-item71/runs/2ocf35pw\" target=\"_blank\">https://wandb.ai/kriza/30m-item71/runs/2ocf35pw</a><br/>\n",
       "                Run data is saved locally in <code>/home/richard_stana/programing/clanok/code/wandb/run-20210126_125703-2ocf35pw</code><br/><br/>\n",
       "            "
      ],
      "text/plain": [
       "<IPython.core.display.HTML object>"
      ]
     },
     "metadata": {},
     "output_type": "display_data"
    },
    {
     "name": "stdout",
     "output_type": "stream",
     "text": [
      "Epoch 1/20\n",
      "121/121 [==============================] - 3s 26ms/step - loss: 0.1889 - mae: 0.2281 - val_loss: 0.0291 - val_mae: 0.1284\n",
      "Epoch 2/20\n",
      "121/121 [==============================] - 3s 25ms/step - loss: 0.1889 - mae: 0.2281 - val_loss: 0.0291 - val_mae: 0.1284\n",
      "Epoch 3/20\n",
      "121/121 [==============================] - 3s 25ms/step - loss: 0.1889 - mae: 0.2279 - val_loss: 0.0291 - val_mae: 0.1284\n",
      "Epoch 4/20\n",
      "121/121 [==============================] - 3s 23ms/step - loss: 0.1889 - mae: 0.2280 - val_loss: 0.0291 - val_mae: 0.1285\n",
      "Epoch 5/20\n",
      "121/121 [==============================] - 3s 24ms/step - loss: 0.1889 - mae: 0.2279 - val_loss: 0.0291 - val_mae: 0.1284\n",
      "Epoch 6/20\n",
      "121/121 [==============================] - 3s 23ms/step - loss: 0.1889 - mae: 0.2280 - val_loss: 0.0291 - val_mae: 0.1284\n",
      "Epoch 7/20\n",
      "121/121 [==============================] - 3s 23ms/step - loss: 0.1889 - mae: 0.2280 - val_loss: 0.0291 - val_mae: 0.1285\n",
      "Epoch 8/20\n",
      "121/121 [==============================] - 3s 23ms/step - loss: 0.1889 - mae: 0.2280 - val_loss: 0.0291 - val_mae: 0.1284\n",
      "Epoch 9/20\n",
      "121/121 [==============================] - 3s 23ms/step - loss: 0.1889 - mae: 0.2280 - val_loss: 0.0291 - val_mae: 0.1284\n",
      "Epoch 10/20\n",
      "121/121 [==============================] - 3s 23ms/step - loss: 0.1889 - mae: 0.2280 - val_loss: 0.0291 - val_mae: 0.1284\n",
      "Epoch 11/20\n",
      "121/121 [==============================] - 3s 23ms/step - loss: 0.1889 - mae: 0.2280 - val_loss: 0.0291 - val_mae: 0.1284\n",
      "Epoch 12/20\n",
      "121/121 [==============================] - 3s 23ms/step - loss: 0.1889 - mae: 0.2279 - val_loss: 0.0291 - val_mae: 0.1284\n",
      "Epoch 13/20\n",
      "121/121 [==============================] - 3s 23ms/step - loss: 0.1889 - mae: 0.2280 - val_loss: 0.0291 - val_mae: 0.1284\n",
      "Epoch 14/20\n",
      "121/121 [==============================] - 3s 23ms/step - loss: 0.1889 - mae: 0.2280 - val_loss: 0.0291 - val_mae: 0.1284\n",
      "Epoch 15/20\n",
      "121/121 [==============================] - 3s 23ms/step - loss: 0.1889 - mae: 0.2280 - val_loss: 0.0291 - val_mae: 0.1284\n",
      "Epoch 16/20\n",
      "121/121 [==============================] - 3s 23ms/step - loss: 0.1889 - mae: 0.2280 - val_loss: 0.0291 - val_mae: 0.1284\n",
      "Epoch 17/20\n",
      "121/121 [==============================] - 3s 23ms/step - loss: 0.1889 - mae: 0.2281 - val_loss: 0.0291 - val_mae: 0.1285\n",
      "Epoch 18/20\n",
      "121/121 [==============================] - 3s 23ms/step - loss: 0.1889 - mae: 0.2279 - val_loss: 0.0291 - val_mae: 0.1284\n",
      "Epoch 19/20\n",
      "121/121 [==============================] - 3s 23ms/step - loss: 0.1889 - mae: 0.2279 - val_loss: 0.0291 - val_mae: 0.1284\n",
      "Epoch 20/20\n",
      "121/121 [==============================] - 3s 23ms/step - loss: 0.1889 - mae: 0.2279 - val_loss: 0.0291 - val_mae: 0.1284\n",
      "Epoch 1/20\n",
      "121/121 [==============================] - 3s 23ms/step - loss: 0.1889 - mae: 0.2279 - val_loss: 0.0291 - val_mae: 0.1284\n",
      "Epoch 2/20\n",
      "121/121 [==============================] - 3s 23ms/step - loss: 0.1889 - mae: 0.2281 - val_loss: 0.0291 - val_mae: 0.1284\n",
      "Epoch 3/20\n",
      "121/121 [==============================] - 3s 23ms/step - loss: 0.1889 - mae: 0.2281 - val_loss: 0.0291 - val_mae: 0.1284\n",
      "Epoch 4/20\n",
      "121/121 [==============================] - 3s 23ms/step - loss: 0.1889 - mae: 0.2281 - val_loss: 0.0291 - val_mae: 0.1285\n",
      "Epoch 5/20\n",
      "121/121 [==============================] - 3s 23ms/step - loss: 0.1889 - mae: 0.2280 - val_loss: 0.0291 - val_mae: 0.1284\n",
      "Epoch 6/20\n",
      "121/121 [==============================] - 3s 23ms/step - loss: 0.1889 - mae: 0.2279 - val_loss: 0.0291 - val_mae: 0.1284\n",
      "Epoch 7/20\n",
      "121/121 [==============================] - 3s 24ms/step - loss: 0.1889 - mae: 0.2280 - val_loss: 0.0291 - val_mae: 0.1284\n",
      "Epoch 8/20\n",
      "121/121 [==============================] - 3s 24ms/step - loss: 0.1889 - mae: 0.2281 - val_loss: 0.0291 - val_mae: 0.1284\n",
      "Epoch 9/20\n",
      "121/121 [==============================] - 3s 23ms/step - loss: 0.1889 - mae: 0.2280 - val_loss: 0.0291 - val_mae: 0.1284\n",
      "Epoch 10/20\n",
      "121/121 [==============================] - 3s 23ms/step - loss: 0.1889 - mae: 0.2280 - val_loss: 0.0291 - val_mae: 0.1284\n",
      "Epoch 11/20\n",
      "121/121 [==============================] - 3s 23ms/step - loss: 0.1889 - mae: 0.2279 - val_loss: 0.0291 - val_mae: 0.1284\n",
      "Epoch 12/20\n",
      "121/121 [==============================] - 3s 23ms/step - loss: 0.1889 - mae: 0.2280 - val_loss: 0.0291 - val_mae: 0.1284\n",
      "Epoch 13/20\n",
      "121/121 [==============================] - 3s 23ms/step - loss: 0.1889 - mae: 0.2278 - val_loss: 0.0291 - val_mae: 0.1284\n",
      "Epoch 14/20\n",
      "121/121 [==============================] - 3s 23ms/step - loss: 0.1889 - mae: 0.2281 - val_loss: 0.0291 - val_mae: 0.1284\n",
      "Epoch 15/20\n",
      "121/121 [==============================] - 3s 23ms/step - loss: 0.1889 - mae: 0.2279 - val_loss: 0.0291 - val_mae: 0.1284\n",
      "Epoch 16/20\n",
      "121/121 [==============================] - 3s 23ms/step - loss: 0.1889 - mae: 0.2279 - val_loss: 0.0291 - val_mae: 0.1284\n",
      "Epoch 17/20\n",
      "121/121 [==============================] - 3s 23ms/step - loss: 0.1889 - mae: 0.2281 - val_loss: 0.0291 - val_mae: 0.1284\n",
      "Epoch 18/20\n",
      "121/121 [==============================] - 3s 23ms/step - loss: 0.1889 - mae: 0.2280 - val_loss: 0.0291 - val_mae: 0.1284\n",
      "Epoch 19/20\n",
      "121/121 [==============================] - 3s 23ms/step - loss: 0.1889 - mae: 0.2279 - val_loss: 0.0291 - val_mae: 0.1284\n",
      "Epoch 20/20\n",
      "121/121 [==============================] - 3s 24ms/step - loss: 0.1889 - mae: 0.2281 - val_loss: 0.0291 - val_mae: 0.1284\n"
     ]
    },
    {
     "data": {
      "text/html": [
       "Finishing last run (ID:2ocf35pw) before initializing another..."
      ],
      "text/plain": [
       "<IPython.core.display.HTML object>"
      ]
     },
     "metadata": {},
     "output_type": "display_data"
    },
    {
     "data": {
      "text/html": [
       "<br/>Waiting for W&B process to finish, PID 11157<br/>Program ended successfully."
      ],
      "text/plain": [
       "<IPython.core.display.HTML object>"
      ]
     },
     "metadata": {},
     "output_type": "display_data"
    },
    {
     "data": {
      "text/html": [
       "Find user logs for this run at: <code>/home/richard_stana/programing/clanok/code/wandb/run-20210126_125703-2ocf35pw/logs/debug.log</code>"
      ],
      "text/plain": [
       "<IPython.core.display.HTML object>"
      ]
     },
     "metadata": {},
     "output_type": "display_data"
    },
    {
     "data": {
      "text/html": [
       "Find internal logs for this run at: <code>/home/richard_stana/programing/clanok/code/wandb/run-20210126_125703-2ocf35pw/logs/debug-internal.log</code>"
      ],
      "text/plain": [
       "<IPython.core.display.HTML object>"
      ]
     },
     "metadata": {},
     "output_type": "display_data"
    },
    {
     "data": {
      "text/html": [
       "<h3>Run summary:</h3><br/><style>\n",
       "    table.wandb td:nth-child(1) { padding: 0 10px; text-align: right }\n",
       "    </style><table class=\"wandb\">\n",
       "<tr><td>epoch</td><td>19</td></tr><tr><td>loss</td><td>0.18894</td></tr><tr><td>mae</td><td>0.22807</td></tr><tr><td>val_loss</td><td>0.02909</td></tr><tr><td>val_mae</td><td>0.1284</td></tr><tr><td>_step</td><td>39</td></tr><tr><td>_runtime</td><td>119</td></tr><tr><td>_timestamp</td><td>1611665946</td></tr><tr><td>best_val_loss</td><td>0.02908</td></tr><tr><td>best_epoch</td><td>2</td></tr></table>"
      ],
      "text/plain": [
       "<IPython.core.display.HTML object>"
      ]
     },
     "metadata": {},
     "output_type": "display_data"
    },
    {
     "data": {
      "text/html": [
       "<h3>Run history:</h3><br/><style>\n",
       "    table.wandb td:nth-child(1) { padding: 0 10px; text-align: right }\n",
       "    </style><table class=\"wandb\">\n",
       "<tr><td>epoch</td><td>▁▁▂▂▂▃▃▄▄▄▅▅▅▆▆▇▇▇██▁▁▂▂▂▃▃▄▄▄▅▅▅▆▆▇▇▇██</td></tr><tr><td>loss</td><td>▃▃▅▄▆▃▂▆▃▅▆▃▅▃▄▆▄▄▃▃▃▅▃▅▇▄▁▅▄▄▃▄▃▄▂▄▄▄▃█</td></tr><tr><td>mae</td><td>▇▇▄▆▃▆▆▅▅▅▄▂▆▄▆▆▇▂▄▄▄▇▇▇▅▃▄█▅▅▃▅▁█▁▃▇▄▂▇</td></tr><tr><td>val_loss</td><td>▂▁▁▁▂▁█▂▄▃▂▃▃▂▁▂▅▃▂▂▂▁▂█▂▅▂▂▂▂▁▁▃▁▃▂▁▃▄▂</td></tr><tr><td>val_mae</td><td>▃▂▂▄▁▂▇▁▃▃▁▂▂▁▂▂▆▃▁▁▂▂▂█▂▃▂▁▂▃▂▂▁▂▂▁▂▂▂▁</td></tr><tr><td>_step</td><td>▁▁▁▂▂▂▂▂▂▃▃▃▃▃▄▄▄▄▄▄▅▅▅▅▅▅▆▆▆▆▆▇▇▇▇▇▇███</td></tr><tr><td>_runtime</td><td>▁▁▁▂▂▂▂▂▂▃▃▃▃▃▃▄▄▄▄▄▅▅▅▅▅▅▆▆▆▆▆▇▇▇▇▇▇███</td></tr><tr><td>_timestamp</td><td>▁▁▁▂▂▂▂▂▂▃▃▃▃▃▃▄▄▄▄▄▅▅▅▅▅▅▆▆▆▆▆▇▇▇▇▇▇███</td></tr></table><br/>"
      ],
      "text/plain": [
       "<IPython.core.display.HTML object>"
      ]
     },
     "metadata": {},
     "output_type": "display_data"
    },
    {
     "data": {
      "text/html": [
       "Synced 5 W&B file(s), 1 media file(s), 0 artifact file(s) and 1 other file(s)"
      ],
      "text/plain": [
       "<IPython.core.display.HTML object>"
      ]
     },
     "metadata": {},
     "output_type": "display_data"
    },
    {
     "data": {
      "text/html": [
       "\n",
       "                    <br/>Synced <strong style=\"color:#cdcd00\">cnn-30m-item712</strong>: <a href=\"https://wandb.ai/kriza/30m-item71/runs/2ocf35pw\" target=\"_blank\">https://wandb.ai/kriza/30m-item71/runs/2ocf35pw</a><br/>\n",
       "                "
      ],
      "text/plain": [
       "<IPython.core.display.HTML object>"
      ]
     },
     "metadata": {},
     "output_type": "display_data"
    },
    {
     "data": {
      "text/html": [
       "...Successfully finished last run (ID:2ocf35pw). Initializing new run:<br/><br/>"
      ],
      "text/plain": [
       "<IPython.core.display.HTML object>"
      ]
     },
     "metadata": {},
     "output_type": "display_data"
    },
    {
     "name": "stderr",
     "output_type": "stream",
     "text": [
      "\u001b[34m\u001b[1mwandb\u001b[0m: wandb version 0.10.15 is available!  To upgrade, please run:\n",
      "\u001b[34m\u001b[1mwandb\u001b[0m:  $ pip install wandb --upgrade\n"
     ]
    },
    {
     "data": {
      "text/html": [
       "\n",
       "                Tracking run with wandb version 0.10.14<br/>\n",
       "                Syncing run <strong style=\"color:#cdcd00\">dobra_cnn-30m-item712</strong> to <a href=\"https://wandb.ai\" target=\"_blank\">Weights & Biases</a> <a href=\"https://docs.wandb.com/integrations/jupyter.html\" target=\"_blank\">(Documentation)</a>.<br/>\n",
       "                Project page: <a href=\"https://wandb.ai/kriza/30m-item71\" target=\"_blank\">https://wandb.ai/kriza/30m-item71</a><br/>\n",
       "                Run page: <a href=\"https://wandb.ai/kriza/30m-item71/runs/2nu4cahi\" target=\"_blank\">https://wandb.ai/kriza/30m-item71/runs/2nu4cahi</a><br/>\n",
       "                Run data is saved locally in <code>/home/richard_stana/programing/clanok/code/wandb/run-20210126_125906-2nu4cahi</code><br/><br/>\n",
       "            "
      ],
      "text/plain": [
       "<IPython.core.display.HTML object>"
      ]
     },
     "metadata": {},
     "output_type": "display_data"
    },
    {
     "name": "stdout",
     "output_type": "stream",
     "text": [
      "Epoch 1/20\n",
      "121/121 [==============================] - 1s 12ms/step - loss: 0.1461 - mae: 0.2146 - val_loss: 0.0182 - val_mae: 0.0936\n",
      "Epoch 2/20\n",
      "121/121 [==============================] - 1s 11ms/step - loss: 0.1235 - mae: 0.1950 - val_loss: 0.0167 - val_mae: 0.0856\n",
      "Epoch 3/20\n",
      "121/121 [==============================] - 1s 11ms/step - loss: 0.1116 - mae: 0.1864 - val_loss: 0.0157 - val_mae: 0.0837\n",
      "Epoch 4/20\n",
      "121/121 [==============================] - 1s 11ms/step - loss: 0.1001 - mae: 0.1774 - val_loss: 0.0156 - val_mae: 0.0826\n",
      "Epoch 5/20\n",
      "121/121 [==============================] - 1s 10ms/step - loss: 0.0849 - mae: 0.1640 - val_loss: 0.0158 - val_mae: 0.0888\n",
      "Epoch 6/20\n",
      "121/121 [==============================] - 1s 10ms/step - loss: 0.0695 - mae: 0.1514 - val_loss: 0.0171 - val_mae: 0.0893\n",
      "Epoch 7/20\n",
      "121/121 [==============================] - 1s 10ms/step - loss: 0.0552 - mae: 0.1355 - val_loss: 0.0190 - val_mae: 0.0966\n",
      "Epoch 8/20\n",
      "121/121 [==============================] - 1s 10ms/step - loss: 0.0435 - mae: 0.1221 - val_loss: 0.0211 - val_mae: 0.1022\n",
      "Epoch 9/20\n",
      "121/121 [==============================] - 1s 10ms/step - loss: 0.0335 - mae: 0.1069 - val_loss: 0.0219 - val_mae: 0.1051\n",
      "Epoch 10/20\n",
      "121/121 [==============================] - 1s 10ms/step - loss: 0.0272 - mae: 0.0964 - val_loss: 0.0226 - val_mae: 0.1065\n",
      "Epoch 11/20\n",
      "121/121 [==============================] - 1s 10ms/step - loss: 0.0224 - mae: 0.0868 - val_loss: 0.0239 - val_mae: 0.1100\n",
      "Epoch 12/20\n",
      "121/121 [==============================] - 1s 10ms/step - loss: 0.0195 - mae: 0.0801 - val_loss: 0.0262 - val_mae: 0.1168\n",
      "Epoch 13/20\n",
      "121/121 [==============================] - 1s 10ms/step - loss: 0.0173 - mae: 0.0745 - val_loss: 0.0263 - val_mae: 0.1169\n",
      "Epoch 14/20\n",
      "121/121 [==============================] - 1s 10ms/step - loss: 0.0159 - mae: 0.0709 - val_loss: 0.0270 - val_mae: 0.1193\n",
      "Epoch 15/20\n",
      "121/121 [==============================] - 1s 10ms/step - loss: 0.0148 - mae: 0.0675 - val_loss: 0.0274 - val_mae: 0.1202\n",
      "Epoch 16/20\n",
      "121/121 [==============================] - 1s 10ms/step - loss: 0.0143 - mae: 0.0666 - val_loss: 0.0304 - val_mae: 0.1266\n",
      "Epoch 17/20\n",
      "121/121 [==============================] - 1s 10ms/step - loss: 0.0137 - mae: 0.0656 - val_loss: 0.0284 - val_mae: 0.1224\n",
      "Epoch 18/20\n",
      "121/121 [==============================] - 1s 10ms/step - loss: 0.0131 - mae: 0.0631 - val_loss: 0.0307 - val_mae: 0.1281\n",
      "Epoch 19/20\n",
      "121/121 [==============================] - 1s 10ms/step - loss: 0.0118 - mae: 0.0595 - val_loss: 0.0280 - val_mae: 0.1222\n",
      "Epoch 20/20\n",
      "121/121 [==============================] - 1s 10ms/step - loss: 0.0113 - mae: 0.0579 - val_loss: 0.0310 - val_mae: 0.1297\n",
      "Epoch 1/20\n",
      "121/121 [==============================] - 1s 10ms/step - loss: 0.0109 - mae: 0.0571 - val_loss: 0.0314 - val_mae: 0.1321\n",
      "Epoch 2/20\n",
      "121/121 [==============================] - 1s 11ms/step - loss: 0.0108 - mae: 0.0569 - val_loss: 0.0303 - val_mae: 0.1293\n",
      "Epoch 3/20\n",
      "121/121 [==============================] - 1s 10ms/step - loss: 0.0105 - mae: 0.0559 - val_loss: 0.0311 - val_mae: 0.1308\n",
      "Epoch 4/20\n",
      "121/121 [==============================] - 1s 10ms/step - loss: 0.0102 - mae: 0.0545 - val_loss: 0.0325 - val_mae: 0.1337\n",
      "Epoch 5/20\n",
      "121/121 [==============================] - 1s 10ms/step - loss: 0.0100 - mae: 0.0540 - val_loss: 0.0318 - val_mae: 0.1333\n",
      "Epoch 6/20\n",
      "121/121 [==============================] - 1s 10ms/step - loss: 0.0097 - mae: 0.0533 - val_loss: 0.0322 - val_mae: 0.1332\n",
      "Epoch 7/20\n",
      "121/121 [==============================] - 1s 10ms/step - loss: 0.0095 - mae: 0.0524 - val_loss: 0.0331 - val_mae: 0.1359\n",
      "Epoch 8/20\n",
      "121/121 [==============================] - 1s 10ms/step - loss: 0.0094 - mae: 0.0525 - val_loss: 0.0352 - val_mae: 0.1397\n",
      "Epoch 9/20\n",
      "121/121 [==============================] - 1s 10ms/step - loss: 0.0092 - mae: 0.0519 - val_loss: 0.0314 - val_mae: 0.1308\n",
      "Epoch 10/20\n",
      "121/121 [==============================] - 1s 10ms/step - loss: 0.0089 - mae: 0.0510 - val_loss: 0.0317 - val_mae: 0.1314\n",
      "Epoch 11/20\n",
      "121/121 [==============================] - 1s 10ms/step - loss: 0.0089 - mae: 0.0517 - val_loss: 0.0328 - val_mae: 0.1372\n",
      "Epoch 12/20\n",
      "121/121 [==============================] - 1s 10ms/step - loss: 0.0086 - mae: 0.0501 - val_loss: 0.0337 - val_mae: 0.1378\n",
      "Epoch 13/20\n",
      "121/121 [==============================] - 1s 10ms/step - loss: 0.0083 - mae: 0.0488 - val_loss: 0.0328 - val_mae: 0.1367\n",
      "Epoch 14/20\n",
      "121/121 [==============================] - 1s 10ms/step - loss: 0.0079 - mae: 0.0474 - val_loss: 0.0328 - val_mae: 0.1366\n",
      "Epoch 15/20\n",
      "121/121 [==============================] - 1s 10ms/step - loss: 0.0078 - mae: 0.0475 - val_loss: 0.0335 - val_mae: 0.1369\n",
      "Epoch 16/20\n",
      "121/121 [==============================] - 1s 10ms/step - loss: 0.0076 - mae: 0.0466 - val_loss: 0.0325 - val_mae: 0.1349\n",
      "Epoch 17/20\n",
      "121/121 [==============================] - 1s 10ms/step - loss: 0.0076 - mae: 0.0466 - val_loss: 0.0369 - val_mae: 0.1450\n",
      "Epoch 18/20\n",
      "121/121 [==============================] - 1s 10ms/step - loss: 0.0078 - mae: 0.0479 - val_loss: 0.0344 - val_mae: 0.1404\n",
      "Epoch 19/20\n",
      "121/121 [==============================] - 1s 10ms/step - loss: 0.0077 - mae: 0.0477 - val_loss: 0.0317 - val_mae: 0.1332\n",
      "Epoch 20/20\n",
      "121/121 [==============================] - ETA: 0s - loss: 0.0077 - mae: 0.047 - 1s 10ms/step - loss: 0.0077 - mae: 0.0479 - val_loss: 0.0326 - val_mae: 0.1366\n"
     ]
    },
    {
     "data": {
      "text/html": [
       "Finishing last run (ID:2nu4cahi) before initializing another..."
      ],
      "text/plain": [
       "<IPython.core.display.HTML object>"
      ]
     },
     "metadata": {},
     "output_type": "display_data"
    },
    {
     "data": {
      "text/html": [
       "<br/>Waiting for W&B process to finish, PID 11722<br/>Program ended successfully."
      ],
      "text/plain": [
       "<IPython.core.display.HTML object>"
      ]
     },
     "metadata": {},
     "output_type": "display_data"
    },
    {
     "data": {
      "text/html": [
       "Find user logs for this run at: <code>/home/richard_stana/programing/clanok/code/wandb/run-20210126_125906-2nu4cahi/logs/debug.log</code>"
      ],
      "text/plain": [
       "<IPython.core.display.HTML object>"
      ]
     },
     "metadata": {},
     "output_type": "display_data"
    },
    {
     "data": {
      "text/html": [
       "Find internal logs for this run at: <code>/home/richard_stana/programing/clanok/code/wandb/run-20210126_125906-2nu4cahi/logs/debug-internal.log</code>"
      ],
      "text/plain": [
       "<IPython.core.display.HTML object>"
      ]
     },
     "metadata": {},
     "output_type": "display_data"
    },
    {
     "data": {
      "text/html": [
       "<h3>Run summary:</h3><br/><style>\n",
       "    table.wandb td:nth-child(1) { padding: 0 10px; text-align: right }\n",
       "    </style><table class=\"wandb\">\n",
       "<tr><td>epoch</td><td>19</td></tr><tr><td>loss</td><td>0.00771</td></tr><tr><td>mae</td><td>0.04795</td></tr><tr><td>val_loss</td><td>0.03264</td></tr><tr><td>val_mae</td><td>0.13663</td></tr><tr><td>_step</td><td>39</td></tr><tr><td>_runtime</td><td>55</td></tr><tr><td>_timestamp</td><td>1611666005</td></tr><tr><td>best_val_loss</td><td>0.01563</td></tr><tr><td>best_epoch</td><td>3</td></tr></table>"
      ],
      "text/plain": [
       "<IPython.core.display.HTML object>"
      ]
     },
     "metadata": {},
     "output_type": "display_data"
    },
    {
     "data": {
      "text/html": [
       "<h3>Run history:</h3><br/><style>\n",
       "    table.wandb td:nth-child(1) { padding: 0 10px; text-align: right }\n",
       "    </style><table class=\"wandb\">\n",
       "<tr><td>epoch</td><td>▁▁▂▂▂▃▃▄▄▄▅▅▅▆▆▇▇▇██▁▁▂▂▂▃▃▄▄▄▅▅▅▆▆▇▇▇██</td></tr><tr><td>loss</td><td>█▇▆▆▅▄▃▃▂▂▂▂▁▁▁▁▁▁▁▁▁▁▁▁▁▁▁▁▁▁▁▁▁▁▁▁▁▁▁▁</td></tr><tr><td>mae</td><td>█▇▇▆▆▅▅▄▄▃▃▂▂▂▂▂▂▂▂▁▁▁▁▁▁▁▁▁▁▁▁▁▁▁▁▁▁▁▁▁</td></tr><tr><td>val_loss</td><td>▂▁▁▁▁▁▂▃▃▃▄▄▅▅▅▆▅▆▅▆▆▆▆▇▆▆▇▇▆▆▇▇▇▇▇▇█▇▆▇</td></tr><tr><td>val_mae</td><td>▂▁▁▁▂▂▃▃▄▄▄▅▅▅▅▆▅▆▅▆▇▆▆▇▇▇▇▇▆▆▇▇▇▇▇▇█▇▇▇</td></tr><tr><td>_step</td><td>▁▁▁▂▂▂▂▂▂▃▃▃▃▃▄▄▄▄▄▄▅▅▅▅▅▅▆▆▆▆▆▇▇▇▇▇▇███</td></tr><tr><td>_runtime</td><td>▁▁▁▂▂▂▂▂▂▃▃▃▃▃▃▄▄▄▄▄▅▅▅▅▅▅▆▆▆▆▆▇▇▇▇▇▇███</td></tr><tr><td>_timestamp</td><td>▁▁▁▂▂▂▂▂▂▃▃▃▃▃▃▄▄▄▄▄▅▅▅▅▅▅▆▆▆▆▆▇▇▇▇▇▇███</td></tr></table><br/>"
      ],
      "text/plain": [
       "<IPython.core.display.HTML object>"
      ]
     },
     "metadata": {},
     "output_type": "display_data"
    },
    {
     "data": {
      "text/html": [
       "Synced 5 W&B file(s), 1 media file(s), 0 artifact file(s) and 1 other file(s)"
      ],
      "text/plain": [
       "<IPython.core.display.HTML object>"
      ]
     },
     "metadata": {},
     "output_type": "display_data"
    },
    {
     "data": {
      "text/html": [
       "\n",
       "                    <br/>Synced <strong style=\"color:#cdcd00\">dobra_cnn-30m-item712</strong>: <a href=\"https://wandb.ai/kriza/30m-item71/runs/2nu4cahi\" target=\"_blank\">https://wandb.ai/kriza/30m-item71/runs/2nu4cahi</a><br/>\n",
       "                "
      ],
      "text/plain": [
       "<IPython.core.display.HTML object>"
      ]
     },
     "metadata": {},
     "output_type": "display_data"
    },
    {
     "data": {
      "text/html": [
       "...Successfully finished last run (ID:2nu4cahi). Initializing new run:<br/><br/>"
      ],
      "text/plain": [
       "<IPython.core.display.HTML object>"
      ]
     },
     "metadata": {},
     "output_type": "display_data"
    },
    {
     "name": "stderr",
     "output_type": "stream",
     "text": [
      "\u001b[34m\u001b[1mwandb\u001b[0m: wandb version 0.10.15 is available!  To upgrade, please run:\n",
      "\u001b[34m\u001b[1mwandb\u001b[0m:  $ pip install wandb --upgrade\n"
     ]
    },
    {
     "data": {
      "text/html": [
       "\n",
       "                Tracking run with wandb version 0.10.14<br/>\n",
       "                Syncing run <strong style=\"color:#cdcd00\">lstm-30m-item722</strong> to <a href=\"https://wandb.ai\" target=\"_blank\">Weights & Biases</a> <a href=\"https://docs.wandb.com/integrations/jupyter.html\" target=\"_blank\">(Documentation)</a>.<br/>\n",
       "                Project page: <a href=\"https://wandb.ai/kriza/30m-item72\" target=\"_blank\">https://wandb.ai/kriza/30m-item72</a><br/>\n",
       "                Run page: <a href=\"https://wandb.ai/kriza/30m-item72/runs/2ckggw52\" target=\"_blank\">https://wandb.ai/kriza/30m-item72/runs/2ckggw52</a><br/>\n",
       "                Run data is saved locally in <code>/home/richard_stana/programing/clanok/code/wandb/run-20210126_130007-2ckggw52</code><br/><br/>\n",
       "            "
      ],
      "text/plain": [
       "<IPython.core.display.HTML object>"
      ]
     },
     "metadata": {},
     "output_type": "display_data"
    },
    {
     "name": "stdout",
     "output_type": "stream",
     "text": [
      "Epoch 1/20\n",
      "121/121 [==============================] - 20s 164ms/step - loss: 0.0165 - mae: 0.0690 - val_loss: 0.0176 - val_mae: 0.0698\n",
      "Epoch 2/20\n",
      "121/121 [==============================] - 19s 158ms/step - loss: 0.0149 - mae: 0.0676 - val_loss: 0.0161 - val_mae: 0.0674\n",
      "Epoch 3/20\n",
      "121/121 [==============================] - 19s 159ms/step - loss: 0.0146 - mae: 0.0670 - val_loss: 0.0155 - val_mae: 0.0662\n",
      "Epoch 4/20\n",
      "121/121 [==============================] - 19s 158ms/step - loss: 0.0143 - mae: 0.0668 - val_loss: 0.0158 - val_mae: 0.0655\n",
      "Epoch 5/20\n",
      "121/121 [==============================] - 19s 158ms/step - loss: 0.0145 - mae: 0.0665 - val_loss: 0.0154 - val_mae: 0.0664\n",
      "Epoch 6/20\n",
      "121/121 [==============================] - 19s 159ms/step - loss: 0.0141 - mae: 0.0662 - val_loss: 0.0147 - val_mae: 0.0648\n",
      "Epoch 7/20\n",
      "121/121 [==============================] - 19s 156ms/step - loss: 0.0141 - mae: 0.0664 - val_loss: 0.0150 - val_mae: 0.0670\n",
      "Epoch 8/20\n",
      "121/121 [==============================] - 19s 156ms/step - loss: 0.0141 - mae: 0.0667 - val_loss: 0.0150 - val_mae: 0.0684\n",
      "Epoch 9/20\n",
      "121/121 [==============================] - 19s 156ms/step - loss: 0.0140 - mae: 0.0665 - val_loss: 0.0149 - val_mae: 0.0648\n",
      "Epoch 10/20\n",
      "121/121 [==============================] - 19s 158ms/step - loss: 0.0138 - mae: 0.0656 - val_loss: 0.0148 - val_mae: 0.0642\n",
      "Epoch 11/20\n",
      "121/121 [==============================] - 19s 156ms/step - loss: 0.0142 - mae: 0.0665 - val_loss: 0.0152 - val_mae: 0.0696\n",
      "Epoch 12/20\n",
      "121/121 [==============================] - 19s 156ms/step - loss: 0.0175 - mae: 0.0714 - val_loss: 0.0158 - val_mae: 0.0704\n",
      "Epoch 13/20\n",
      "121/121 [==============================] - 19s 156ms/step - loss: 0.0164 - mae: 0.0676 - val_loss: 0.0155 - val_mae: 0.0697\n",
      "Epoch 14/20\n",
      "121/121 [==============================] - 19s 156ms/step - loss: 0.0162 - mae: 0.0671 - val_loss: 0.0154 - val_mae: 0.0683\n",
      "Epoch 15/20\n",
      "121/121 [==============================] - 19s 156ms/step - loss: 0.0160 - mae: 0.0671 - val_loss: 0.0150 - val_mae: 0.0670\n",
      "Epoch 16/20\n",
      "121/121 [==============================] - 19s 156ms/step - loss: 0.0156 - mae: 0.0675 - val_loss: 0.0151 - val_mae: 0.0688\n",
      "Epoch 17/20\n",
      "121/121 [==============================] - 19s 158ms/step - loss: 0.0143 - mae: 0.0666 - val_loss: 0.0147 - val_mae: 0.0660\n",
      "Epoch 18/20\n",
      "121/121 [==============================] - 19s 158ms/step - loss: 0.0140 - mae: 0.0656 - val_loss: 0.0146 - val_mae: 0.0648\n",
      "Epoch 19/20\n",
      "121/121 [==============================] - 19s 157ms/step - loss: 0.0139 - mae: 0.0661 - val_loss: 0.0148 - val_mae: 0.0655\n",
      "Epoch 20/20\n",
      "121/121 [==============================] - 19s 158ms/step - loss: 0.0138 - mae: 0.0663 - val_loss: 0.0146 - val_mae: 0.0647\n",
      "Epoch 1/20\n",
      "121/121 [==============================] - 19s 158ms/step - loss: 0.0239 - mae: 0.0710 - val_loss: 0.0186 - val_mae: 0.0750\n",
      "Epoch 2/20\n",
      "121/121 [==============================] - 19s 158ms/step - loss: 0.0294 - mae: 0.0721 - val_loss: 0.0181 - val_mae: 0.0723\n",
      "Epoch 3/20\n",
      "121/121 [==============================] - 19s 158ms/step - loss: 0.0286 - mae: 0.0705 - val_loss: 0.0175 - val_mae: 0.0709\n",
      "Epoch 4/20\n",
      "121/121 [==============================] - 19s 158ms/step - loss: 0.0283 - mae: 0.0699 - val_loss: 0.0172 - val_mae: 0.0695\n",
      "Epoch 5/20\n",
      "121/121 [==============================] - 19s 158ms/step - loss: 0.0283 - mae: 0.0708 - val_loss: 0.0172 - val_mae: 0.0691\n",
      "Epoch 6/20\n",
      "121/121 [==============================] - 19s 157ms/step - loss: 0.0281 - mae: 0.0714 - val_loss: 0.0212 - val_mae: 0.0948\n",
      "Epoch 7/20\n",
      "121/121 [==============================] - 19s 156ms/step - loss: 0.0280 - mae: 0.0716 - val_loss: 0.0187 - val_mae: 0.0820\n",
      "Epoch 8/20\n",
      "121/121 [==============================] - 19s 157ms/step - loss: 0.0274 - mae: 0.0706 - val_loss: 0.0170 - val_mae: 0.0716\n",
      "Epoch 9/20\n",
      "121/121 [==============================] - 19s 157ms/step - loss: 0.0271 - mae: 0.0710 - val_loss: 0.0171 - val_mae: 0.0717\n",
      "Epoch 10/20\n",
      "121/121 [==============================] - 19s 158ms/step - loss: 0.0266 - mae: 0.0703 - val_loss: 0.0166 - val_mae: 0.0687\n",
      "Epoch 11/20\n",
      "121/121 [==============================] - 19s 157ms/step - loss: 0.0262 - mae: 0.0701 - val_loss: 0.0168 - val_mae: 0.0722\n",
      "Epoch 12/20\n",
      "121/121 [==============================] - 19s 157ms/step - loss: 0.0253 - mae: 0.0703 - val_loss: 0.0183 - val_mae: 0.0777\n",
      "Epoch 13/20\n",
      "121/121 [==============================] - 19s 157ms/step - loss: 0.0241 - mae: 0.0705 - val_loss: 0.0175 - val_mae: 0.0695\n",
      "Epoch 14/20\n",
      "121/121 [==============================] - 19s 157ms/step - loss: 0.0228 - mae: 0.0705 - val_loss: 0.0198 - val_mae: 0.0822\n",
      "Epoch 15/20\n",
      "121/121 [==============================] - 19s 157ms/step - loss: 0.0216 - mae: 0.0713 - val_loss: 0.0176 - val_mae: 0.0746\n",
      "Epoch 16/20\n",
      "121/121 [==============================] - 19s 157ms/step - loss: 0.0200 - mae: 0.0702 - val_loss: 0.0165 - val_mae: 0.0702\n",
      "Epoch 17/20\n",
      "121/121 [==============================] - 19s 158ms/step - loss: 0.0185 - mae: 0.0696 - val_loss: 0.0172 - val_mae: 0.0673\n",
      "Epoch 18/20\n",
      "121/121 [==============================] - 19s 157ms/step - loss: 0.0179 - mae: 0.0725 - val_loss: 0.0176 - val_mae: 0.0714\n",
      "Epoch 19/20\n",
      "121/121 [==============================] - 19s 156ms/step - loss: 0.0167 - mae: 0.0683 - val_loss: 0.0171 - val_mae: 0.0697\n",
      "Epoch 20/20\n",
      "121/121 [==============================] - 19s 156ms/step - loss: 0.0175 - mae: 0.0728 - val_loss: 0.0179 - val_mae: 0.0790\n"
     ]
    },
    {
     "data": {
      "text/html": [
       "Finishing last run (ID:2ckggw52) before initializing another..."
      ],
      "text/plain": [
       "<IPython.core.display.HTML object>"
      ]
     },
     "metadata": {},
     "output_type": "display_data"
    },
    {
     "data": {
      "text/html": [
       "<br/>Waiting for W&B process to finish, PID 12076<br/>Program ended successfully."
      ],
      "text/plain": [
       "<IPython.core.display.HTML object>"
      ]
     },
     "metadata": {},
     "output_type": "display_data"
    },
    {
     "data": {
      "text/html": [
       "Find user logs for this run at: <code>/home/richard_stana/programing/clanok/code/wandb/run-20210126_130007-2ckggw52/logs/debug.log</code>"
      ],
      "text/plain": [
       "<IPython.core.display.HTML object>"
      ]
     },
     "metadata": {},
     "output_type": "display_data"
    },
    {
     "data": {
      "text/html": [
       "Find internal logs for this run at: <code>/home/richard_stana/programing/clanok/code/wandb/run-20210126_130007-2ckggw52/logs/debug-internal.log</code>"
      ],
      "text/plain": [
       "<IPython.core.display.HTML object>"
      ]
     },
     "metadata": {},
     "output_type": "display_data"
    },
    {
     "data": {
      "text/html": [
       "<h3>Run summary:</h3><br/><style>\n",
       "    table.wandb td:nth-child(1) { padding: 0 10px; text-align: right }\n",
       "    </style><table class=\"wandb\">\n",
       "<tr><td>epoch</td><td>19</td></tr><tr><td>loss</td><td>0.01746</td></tr><tr><td>mae</td><td>0.07279</td></tr><tr><td>val_loss</td><td>0.01791</td></tr><tr><td>val_mae</td><td>0.07902</td></tr><tr><td>_step</td><td>39</td></tr><tr><td>_runtime</td><td>775</td></tr><tr><td>_timestamp</td><td>1611666786</td></tr><tr><td>best_val_loss</td><td>0.0146</td></tr><tr><td>best_epoch</td><td>19</td></tr></table>"
      ],
      "text/plain": [
       "<IPython.core.display.HTML object>"
      ]
     },
     "metadata": {},
     "output_type": "display_data"
    },
    {
     "data": {
      "text/html": [
       "<h3>Run history:</h3><br/><style>\n",
       "    table.wandb td:nth-child(1) { padding: 0 10px; text-align: right }\n",
       "    </style><table class=\"wandb\">\n",
       "<tr><td>epoch</td><td>▁▁▂▂▂▃▃▄▄▄▅▅▅▆▆▇▇▇██▁▁▂▂▂▃▃▄▄▄▅▅▅▆▆▇▇▇██</td></tr><tr><td>loss</td><td>▂▂▁▁▁▁▁▁▁▁▁▃▂▂▂▂▁▁▁▁▆████▇▇▇▇▇▇▆▆▅▅▄▃▃▂▃</td></tr><tr><td>mae</td><td>▄▃▂▂▂▂▂▂▂▁▂▇▃▃▃▃▂▁▂▂▆▇▆▅▆▇▇▆▆▆▅▆▆▆▇▆▅█▄█</td></tr><tr><td>val_loss</td><td>▄▃▂▂▂▁▁▁▁▁▂▂▂▂▁▂▁▁▁▁▅▅▄▄▄█▅▄▄▃▃▅▄▆▄▃▄▄▄▅</td></tr><tr><td>val_mae</td><td>▂▂▁▁▂▁▂▂▁▁▂▂▂▂▂▂▁▁▁▁▃▃▃▂▂█▅▃▃▂▃▄▂▅▃▂▂▃▂▄</td></tr><tr><td>_step</td><td>▁▁▁▂▂▂▂▂▂▃▃▃▃▃▄▄▄▄▄▄▅▅▅▅▅▅▆▆▆▆▆▇▇▇▇▇▇███</td></tr><tr><td>_runtime</td><td>▁▁▁▂▂▂▂▂▂▃▃▃▃▃▄▄▄▄▄▄▅▅▅▅▅▅▆▆▆▆▆▇▇▇▇▇▇███</td></tr><tr><td>_timestamp</td><td>▁▁▁▂▂▂▂▂▂▃▃▃▃▃▄▄▄▄▄▄▅▅▅▅▅▅▆▆▆▆▆▇▇▇▇▇▇███</td></tr></table><br/>"
      ],
      "text/plain": [
       "<IPython.core.display.HTML object>"
      ]
     },
     "metadata": {},
     "output_type": "display_data"
    },
    {
     "data": {
      "text/html": [
       "Synced 5 W&B file(s), 1 media file(s), 0 artifact file(s) and 1 other file(s)"
      ],
      "text/plain": [
       "<IPython.core.display.HTML object>"
      ]
     },
     "metadata": {},
     "output_type": "display_data"
    },
    {
     "data": {
      "text/html": [
       "\n",
       "                    <br/>Synced <strong style=\"color:#cdcd00\">lstm-30m-item722</strong>: <a href=\"https://wandb.ai/kriza/30m-item72/runs/2ckggw52\" target=\"_blank\">https://wandb.ai/kriza/30m-item72/runs/2ckggw52</a><br/>\n",
       "                "
      ],
      "text/plain": [
       "<IPython.core.display.HTML object>"
      ]
     },
     "metadata": {},
     "output_type": "display_data"
    },
    {
     "data": {
      "text/html": [
       "...Successfully finished last run (ID:2ckggw52). Initializing new run:<br/><br/>"
      ],
      "text/plain": [
       "<IPython.core.display.HTML object>"
      ]
     },
     "metadata": {},
     "output_type": "display_data"
    },
    {
     "name": "stderr",
     "output_type": "stream",
     "text": [
      "\u001b[34m\u001b[1mwandb\u001b[0m: wandb version 0.10.15 is available!  To upgrade, please run:\n",
      "\u001b[34m\u001b[1mwandb\u001b[0m:  $ pip install wandb --upgrade\n"
     ]
    },
    {
     "data": {
      "text/html": [
       "\n",
       "                Tracking run with wandb version 0.10.14<br/>\n",
       "                Syncing run <strong style=\"color:#cdcd00\">cnn-30m-item722</strong> to <a href=\"https://wandb.ai\" target=\"_blank\">Weights & Biases</a> <a href=\"https://docs.wandb.com/integrations/jupyter.html\" target=\"_blank\">(Documentation)</a>.<br/>\n",
       "                Project page: <a href=\"https://wandb.ai/kriza/30m-item72\" target=\"_blank\">https://wandb.ai/kriza/30m-item72</a><br/>\n",
       "                Run page: <a href=\"https://wandb.ai/kriza/30m-item72/runs/24zl74tc\" target=\"_blank\">https://wandb.ai/kriza/30m-item72/runs/24zl74tc</a><br/>\n",
       "                Run data is saved locally in <code>/home/richard_stana/programing/clanok/code/wandb/run-20210126_131306-24zl74tc</code><br/><br/>\n",
       "            "
      ],
      "text/plain": [
       "<IPython.core.display.HTML object>"
      ]
     },
     "metadata": {},
     "output_type": "display_data"
    },
    {
     "name": "stdout",
     "output_type": "stream",
     "text": [
      "Epoch 1/20\n",
      "121/121 [==============================] - 3s 26ms/step - loss: 0.0292 - mae: 0.0697 - val_loss: 0.0182 - val_mae: 0.0707\n",
      "Epoch 2/20\n",
      "121/121 [==============================] - 3s 25ms/step - loss: 0.0292 - mae: 0.0697 - val_loss: 0.0181 - val_mae: 0.0705\n",
      "Epoch 3/20\n",
      "121/121 [==============================] - 3s 24ms/step - loss: 0.0292 - mae: 0.0697 - val_loss: 0.0181 - val_mae: 0.0705\n",
      "Epoch 4/20\n",
      "121/121 [==============================] - 3s 23ms/step - loss: 0.0292 - mae: 0.0697 - val_loss: 0.0181 - val_mae: 0.0705\n",
      "Epoch 5/20\n",
      "121/121 [==============================] - 3s 23ms/step - loss: 0.0292 - mae: 0.0698 - val_loss: 0.0181 - val_mae: 0.0705\n",
      "Epoch 6/20\n",
      "121/121 [==============================] - 3s 23ms/step - loss: 0.0292 - mae: 0.0697 - val_loss: 0.0181 - val_mae: 0.0706\n",
      "Epoch 7/20\n",
      "121/121 [==============================] - 3s 23ms/step - loss: 0.0292 - mae: 0.0698 - val_loss: 0.0181 - val_mae: 0.0705\n",
      "Epoch 8/20\n",
      "121/121 [==============================] - 3s 23ms/step - loss: 0.0292 - mae: 0.0697 - val_loss: 0.0181 - val_mae: 0.0705\n",
      "Epoch 9/20\n",
      "121/121 [==============================] - 3s 23ms/step - loss: 0.0292 - mae: 0.0697 - val_loss: 0.0181 - val_mae: 0.0705\n",
      "Epoch 10/20\n",
      "121/121 [==============================] - 3s 23ms/step - loss: 0.0292 - mae: 0.0698 - val_loss: 0.0181 - val_mae: 0.0706\n",
      "Epoch 11/20\n",
      "121/121 [==============================] - 3s 23ms/step - loss: 0.0292 - mae: 0.0697 - val_loss: 0.0181 - val_mae: 0.0705\n",
      "Epoch 12/20\n",
      "121/121 [==============================] - 3s 23ms/step - loss: 0.0292 - mae: 0.0698 - val_loss: 0.0181 - val_mae: 0.0705\n",
      "Epoch 13/20\n",
      "121/121 [==============================] - 3s 23ms/step - loss: 0.0292 - mae: 0.0697 - val_loss: 0.0181 - val_mae: 0.0705\n",
      "Epoch 14/20\n",
      "121/121 [==============================] - 3s 23ms/step - loss: 0.0292 - mae: 0.0698 - val_loss: 0.0181 - val_mae: 0.0706\n",
      "Epoch 15/20\n",
      "121/121 [==============================] - 3s 23ms/step - loss: 0.0292 - mae: 0.0698 - val_loss: 0.0182 - val_mae: 0.0706\n",
      "Epoch 16/20\n",
      "121/121 [==============================] - 3s 23ms/step - loss: 0.0292 - mae: 0.0697 - val_loss: 0.0181 - val_mae: 0.0705\n",
      "Epoch 17/20\n",
      "121/121 [==============================] - 3s 23ms/step - loss: 0.0292 - mae: 0.0698 - val_loss: 0.0182 - val_mae: 0.0706\n",
      "Epoch 18/20\n",
      "121/121 [==============================] - 3s 23ms/step - loss: 0.0292 - mae: 0.0697 - val_loss: 0.0181 - val_mae: 0.0705\n",
      "Epoch 19/20\n",
      "121/121 [==============================] - 3s 23ms/step - loss: 0.0292 - mae: 0.0697 - val_loss: 0.0181 - val_mae: 0.0706\n",
      "Epoch 20/20\n",
      "121/121 [==============================] - 3s 23ms/step - loss: 0.0292 - mae: 0.0697 - val_loss: 0.0181 - val_mae: 0.0705\n",
      "Epoch 1/20\n",
      "121/121 [==============================] - 3s 24ms/step - loss: 0.0292 - mae: 0.0697 - val_loss: 0.0181 - val_mae: 0.0705\n",
      "Epoch 2/20\n",
      "121/121 [==============================] - 3s 23ms/step - loss: 0.0292 - mae: 0.0697 - val_loss: 0.0182 - val_mae: 0.0707\n",
      "Epoch 3/20\n",
      "121/121 [==============================] - 3s 24ms/step - loss: 0.0292 - mae: 0.0698 - val_loss: 0.0181 - val_mae: 0.0705\n",
      "Epoch 4/20\n",
      "121/121 [==============================] - 3s 23ms/step - loss: 0.0292 - mae: 0.0697 - val_loss: 0.0181 - val_mae: 0.0705\n",
      "Epoch 5/20\n",
      "121/121 [==============================] - 3s 23ms/step - loss: 0.0292 - mae: 0.0697 - val_loss: 0.0181 - val_mae: 0.0705\n",
      "Epoch 6/20\n",
      "121/121 [==============================] - 3s 23ms/step - loss: 0.0292 - mae: 0.0697 - val_loss: 0.0182 - val_mae: 0.0706\n",
      "Epoch 7/20\n",
      "121/121 [==============================] - 3s 23ms/step - loss: 0.0292 - mae: 0.0697 - val_loss: 0.0181 - val_mae: 0.0705\n",
      "Epoch 8/20\n",
      "121/121 [==============================] - 3s 23ms/step - loss: 0.0292 - mae: 0.0697 - val_loss: 0.0181 - val_mae: 0.0705\n",
      "Epoch 9/20\n",
      "121/121 [==============================] - 3s 23ms/step - loss: 0.0293 - mae: 0.0698 - val_loss: 0.0181 - val_mae: 0.0706\n",
      "Epoch 10/20\n",
      "121/121 [==============================] - 3s 23ms/step - loss: 0.0292 - mae: 0.0697 - val_loss: 0.0181 - val_mae: 0.0705\n",
      "Epoch 11/20\n",
      "121/121 [==============================] - 3s 23ms/step - loss: 0.0292 - mae: 0.0697 - val_loss: 0.0181 - val_mae: 0.0706\n",
      "Epoch 12/20\n",
      "121/121 [==============================] - 3s 23ms/step - loss: 0.0292 - mae: 0.0698 - val_loss: 0.0181 - val_mae: 0.0706\n",
      "Epoch 13/20\n",
      "121/121 [==============================] - 3s 23ms/step - loss: 0.0292 - mae: 0.0697 - val_loss: 0.0181 - val_mae: 0.0705\n",
      "Epoch 14/20\n",
      "121/121 [==============================] - 3s 23ms/step - loss: 0.0292 - mae: 0.0698 - val_loss: 0.0181 - val_mae: 0.0705\n",
      "Epoch 15/20\n",
      "121/121 [==============================] - 3s 23ms/step - loss: 0.0292 - mae: 0.0697 - val_loss: 0.0181 - val_mae: 0.0705\n",
      "Epoch 16/20\n",
      "121/121 [==============================] - 3s 23ms/step - loss: 0.0292 - mae: 0.0697 - val_loss: 0.0181 - val_mae: 0.0705\n",
      "Epoch 17/20\n",
      "121/121 [==============================] - 3s 23ms/step - loss: 0.0292 - mae: 0.0697 - val_loss: 0.0181 - val_mae: 0.0705\n",
      "Epoch 18/20\n",
      "121/121 [==============================] - 3s 23ms/step - loss: 0.0292 - mae: 0.0698 - val_loss: 0.0181 - val_mae: 0.0706\n",
      "Epoch 19/20\n",
      "121/121 [==============================] - 3s 23ms/step - loss: 0.0292 - mae: 0.0697 - val_loss: 0.0181 - val_mae: 0.0705\n",
      "Epoch 20/20\n",
      "121/121 [==============================] - 3s 23ms/step - loss: 0.0292 - mae: 0.0697 - val_loss: 0.0181 - val_mae: 0.0706\n"
     ]
    },
    {
     "data": {
      "text/html": [
       "Finishing last run (ID:24zl74tc) before initializing another..."
      ],
      "text/plain": [
       "<IPython.core.display.HTML object>"
      ]
     },
     "metadata": {},
     "output_type": "display_data"
    },
    {
     "data": {
      "text/html": [
       "<br/>Waiting for W&B process to finish, PID 15025<br/>Program ended successfully."
      ],
      "text/plain": [
       "<IPython.core.display.HTML object>"
      ]
     },
     "metadata": {},
     "output_type": "display_data"
    },
    {
     "data": {
      "text/html": [
       "Find user logs for this run at: <code>/home/richard_stana/programing/clanok/code/wandb/run-20210126_131306-24zl74tc/logs/debug.log</code>"
      ],
      "text/plain": [
       "<IPython.core.display.HTML object>"
      ]
     },
     "metadata": {},
     "output_type": "display_data"
    },
    {
     "data": {
      "text/html": [
       "Find internal logs for this run at: <code>/home/richard_stana/programing/clanok/code/wandb/run-20210126_131306-24zl74tc/logs/debug-internal.log</code>"
      ],
      "text/plain": [
       "<IPython.core.display.HTML object>"
      ]
     },
     "metadata": {},
     "output_type": "display_data"
    },
    {
     "data": {
      "text/html": [
       "<h3>Run summary:</h3><br/><style>\n",
       "    table.wandb td:nth-child(1) { padding: 0 10px; text-align: right }\n",
       "    </style><table class=\"wandb\">\n",
       "<tr><td>epoch</td><td>19</td></tr><tr><td>loss</td><td>0.02923</td></tr><tr><td>mae</td><td>0.06971</td></tr><tr><td>val_loss</td><td>0.01814</td></tr><tr><td>val_mae</td><td>0.07056</td></tr><tr><td>_step</td><td>39</td></tr><tr><td>_runtime</td><td>119</td></tr><tr><td>_timestamp</td><td>1611666911</td></tr><tr><td>best_val_loss</td><td>0.01813</td></tr><tr><td>best_epoch</td><td>0</td></tr></table>"
      ],
      "text/plain": [
       "<IPython.core.display.HTML object>"
      ]
     },
     "metadata": {},
     "output_type": "display_data"
    },
    {
     "data": {
      "text/html": [
       "<h3>Run history:</h3><br/><style>\n",
       "    table.wandb td:nth-child(1) { padding: 0 10px; text-align: right }\n",
       "    </style><table class=\"wandb\">\n",
       "<tr><td>epoch</td><td>▁▁▂▂▂▃▃▄▄▄▅▅▅▆▆▇▇▇██▁▁▂▂▂▃▃▄▄▄▅▅▅▆▆▇▇▇██</td></tr><tr><td>loss</td><td>▃▃▃▃▂▃▅▃▃▂▂▄▃▂▄▃▄▄▁▂▂▁▄▂▂▄▃▂█▁▂▂▃▃▄▂▁▂▃▁</td></tr><tr><td>mae</td><td>▄▃▄▃▅▄▅▂▃▆▁▆▄▆▅▄▆▄▄▄▂▄█▂▄▄▄▄▇▂▃▅▁▅▄▃▂▆▄▂</td></tr><tr><td>val_loss</td><td>▄▁▂▂▂▃▂▁▁▃▁▃▁▁▅▁▄▁▂▁▁█▁▁▃▅▁▂▁▃▂▁▁▂▃▂▃▂▁▂</td></tr><tr><td>val_mae</td><td>█▃▁▂▂▅▁▂▁▅▂▁▁▄▅▁▄▁▅▁▂▇▁▂▂▄▂▃▄▂▄▃▃▂▂▃▂▄▂▄</td></tr><tr><td>_step</td><td>▁▁▁▂▂▂▂▂▂▃▃▃▃▃▄▄▄▄▄▄▅▅▅▅▅▅▆▆▆▆▆▇▇▇▇▇▇███</td></tr><tr><td>_runtime</td><td>▁▁▁▂▂▂▂▂▂▃▃▃▃▃▃▄▄▄▄▄▅▅▅▅▅▅▆▆▆▆▆▇▇▇▇▇▇███</td></tr><tr><td>_timestamp</td><td>▁▁▁▂▂▂▂▂▂▃▃▃▃▃▃▄▄▄▄▄▅▅▅▅▅▅▆▆▆▆▆▇▇▇▇▇▇███</td></tr></table><br/>"
      ],
      "text/plain": [
       "<IPython.core.display.HTML object>"
      ]
     },
     "metadata": {},
     "output_type": "display_data"
    },
    {
     "data": {
      "text/html": [
       "Synced 5 W&B file(s), 1 media file(s), 0 artifact file(s) and 1 other file(s)"
      ],
      "text/plain": [
       "<IPython.core.display.HTML object>"
      ]
     },
     "metadata": {},
     "output_type": "display_data"
    },
    {
     "data": {
      "text/html": [
       "\n",
       "                    <br/>Synced <strong style=\"color:#cdcd00\">cnn-30m-item722</strong>: <a href=\"https://wandb.ai/kriza/30m-item72/runs/24zl74tc\" target=\"_blank\">https://wandb.ai/kriza/30m-item72/runs/24zl74tc</a><br/>\n",
       "                "
      ],
      "text/plain": [
       "<IPython.core.display.HTML object>"
      ]
     },
     "metadata": {},
     "output_type": "display_data"
    },
    {
     "data": {
      "text/html": [
       "...Successfully finished last run (ID:24zl74tc). Initializing new run:<br/><br/>"
      ],
      "text/plain": [
       "<IPython.core.display.HTML object>"
      ]
     },
     "metadata": {},
     "output_type": "display_data"
    },
    {
     "name": "stderr",
     "output_type": "stream",
     "text": [
      "\u001b[34m\u001b[1mwandb\u001b[0m: wandb version 0.10.15 is available!  To upgrade, please run:\n",
      "\u001b[34m\u001b[1mwandb\u001b[0m:  $ pip install wandb --upgrade\n"
     ]
    },
    {
     "data": {
      "text/html": [
       "\n",
       "                Tracking run with wandb version 0.10.14<br/>\n",
       "                Syncing run <strong style=\"color:#cdcd00\">dobra_cnn-30m-item722</strong> to <a href=\"https://wandb.ai\" target=\"_blank\">Weights & Biases</a> <a href=\"https://docs.wandb.com/integrations/jupyter.html\" target=\"_blank\">(Documentation)</a>.<br/>\n",
       "                Project page: <a href=\"https://wandb.ai/kriza/30m-item72\" target=\"_blank\">https://wandb.ai/kriza/30m-item72</a><br/>\n",
       "                Run page: <a href=\"https://wandb.ai/kriza/30m-item72/runs/65zt8dat\" target=\"_blank\">https://wandb.ai/kriza/30m-item72/runs/65zt8dat</a><br/>\n",
       "                Run data is saved locally in <code>/home/richard_stana/programing/clanok/code/wandb/run-20210126_131511-65zt8dat</code><br/><br/>\n",
       "            "
      ],
      "text/plain": [
       "<IPython.core.display.HTML object>"
      ]
     },
     "metadata": {},
     "output_type": "display_data"
    },
    {
     "name": "stdout",
     "output_type": "stream",
     "text": [
      "Epoch 1/20\n",
      "121/121 [==============================] - 1s 12ms/step - loss: 0.0181 - mae: 0.0759 - val_loss: 0.0163 - val_mae: 0.0705\n",
      "Epoch 2/20\n",
      "121/121 [==============================] - 1s 11ms/step - loss: 0.0146 - mae: 0.0688 - val_loss: 0.0162 - val_mae: 0.0684\n",
      "Epoch 3/20\n",
      "121/121 [==============================] - 1s 10ms/step - loss: 0.0136 - mae: 0.0663 - val_loss: 0.0156 - val_mae: 0.0688\n",
      "Epoch 4/20\n",
      "121/121 [==============================] - 1s 11ms/step - loss: 0.0133 - mae: 0.0659 - val_loss: 0.0155 - val_mae: 0.0676\n",
      "Epoch 5/20\n",
      "121/121 [==============================] - 1s 10ms/step - loss: 0.0130 - mae: 0.0650 - val_loss: 0.0161 - val_mae: 0.0680\n",
      "Epoch 6/20\n",
      "121/121 [==============================] - 1s 10ms/step - loss: 0.0131 - mae: 0.0645 - val_loss: 0.0162 - val_mae: 0.0696\n",
      "Epoch 7/20\n",
      "121/121 [==============================] - 1s 10ms/step - loss: 0.0126 - mae: 0.0638 - val_loss: 0.0159 - val_mae: 0.0696\n",
      "Epoch 8/20\n",
      "121/121 [==============================] - 1s 10ms/step - loss: 0.0124 - mae: 0.0630 - val_loss: 0.0163 - val_mae: 0.0693\n",
      "Epoch 9/20\n",
      "121/121 [==============================] - 1s 11ms/step - loss: 0.0119 - mae: 0.0624 - val_loss: 0.0159 - val_mae: 0.0698\n",
      "Epoch 10/20\n",
      "121/121 [==============================] - 1s 10ms/step - loss: 0.0112 - mae: 0.0606 - val_loss: 0.0158 - val_mae: 0.0691\n",
      "Epoch 11/20\n",
      "121/121 [==============================] - 1s 11ms/step - loss: 0.0106 - mae: 0.0589 - val_loss: 0.0154 - val_mae: 0.0708\n",
      "Epoch 12/20\n",
      "121/121 [==============================] - 1s 10ms/step - loss: 0.0101 - mae: 0.0575 - val_loss: 0.0159 - val_mae: 0.0709\n",
      "Epoch 13/20\n",
      "121/121 [==============================] - 1s 10ms/step - loss: 0.0100 - mae: 0.0574 - val_loss: 0.0158 - val_mae: 0.0709\n",
      "Epoch 14/20\n",
      "121/121 [==============================] - 1s 10ms/step - loss: 0.0095 - mae: 0.0561 - val_loss: 0.0160 - val_mae: 0.0731\n",
      "Epoch 15/20\n",
      "121/121 [==============================] - 1s 10ms/step - loss: 0.0095 - mae: 0.0559 - val_loss: 0.0160 - val_mae: 0.0728\n",
      "Epoch 16/20\n",
      "121/121 [==============================] - 1s 10ms/step - loss: 0.0089 - mae: 0.0547 - val_loss: 0.0163 - val_mae: 0.0747\n",
      "Epoch 17/20\n",
      "121/121 [==============================] - 1s 10ms/step - loss: 0.0086 - mae: 0.0532 - val_loss: 0.0164 - val_mae: 0.0745\n",
      "Epoch 18/20\n",
      "121/121 [==============================] - 1s 10ms/step - loss: 0.0082 - mae: 0.0523 - val_loss: 0.0158 - val_mae: 0.0721\n",
      "Epoch 19/20\n",
      "121/121 [==============================] - 1s 10ms/step - loss: 0.0084 - mae: 0.0519 - val_loss: 0.0167 - val_mae: 0.0757\n",
      "Epoch 20/20\n",
      "121/121 [==============================] - 1s 10ms/step - loss: 0.0078 - mae: 0.0511 - val_loss: 0.0177 - val_mae: 0.0804\n",
      "Epoch 1/20\n",
      "121/121 [==============================] - 1s 11ms/step - loss: 0.0075 - mae: 0.0500 - val_loss: 0.0172 - val_mae: 0.0755\n",
      "Epoch 2/20\n",
      "121/121 [==============================] - 1s 10ms/step - loss: 0.0071 - mae: 0.0487 - val_loss: 0.0167 - val_mae: 0.0757\n",
      "Epoch 3/20\n",
      "121/121 [==============================] - 1s 11ms/step - loss: 0.0068 - mae: 0.0477 - val_loss: 0.0174 - val_mae: 0.0776\n",
      "Epoch 4/20\n",
      "121/121 [==============================] - 1s 11ms/step - loss: 0.0067 - mae: 0.0473 - val_loss: 0.0168 - val_mae: 0.0749\n",
      "Epoch 5/20\n",
      "121/121 [==============================] - 1s 10ms/step - loss: 0.0065 - mae: 0.0464 - val_loss: 0.0176 - val_mae: 0.0753\n",
      "Epoch 6/20\n",
      "121/121 [==============================] - 1s 11ms/step - loss: 0.0064 - mae: 0.0459 - val_loss: 0.0170 - val_mae: 0.0749\n",
      "Epoch 7/20\n",
      "121/121 [==============================] - 1s 10ms/step - loss: 0.0062 - mae: 0.0450 - val_loss: 0.0175 - val_mae: 0.0770\n",
      "Epoch 8/20\n",
      "121/121 [==============================] - 1s 10ms/step - loss: 0.0062 - mae: 0.0449 - val_loss: 0.0179 - val_mae: 0.0782\n",
      "Epoch 9/20\n",
      "121/121 [==============================] - 1s 10ms/step - loss: 0.0059 - mae: 0.0444 - val_loss: 0.0177 - val_mae: 0.0778\n",
      "Epoch 10/20\n",
      "121/121 [==============================] - 1s 10ms/step - loss: 0.0057 - mae: 0.0431 - val_loss: 0.0177 - val_mae: 0.0783\n",
      "Epoch 11/20\n",
      "121/121 [==============================] - 1s 10ms/step - loss: 0.0056 - mae: 0.0428 - val_loss: 0.0184 - val_mae: 0.0789\n",
      "Epoch 12/20\n",
      "121/121 [==============================] - 1s 10ms/step - loss: 0.0056 - mae: 0.0428 - val_loss: 0.0182 - val_mae: 0.0799\n",
      "Epoch 13/20\n",
      "121/121 [==============================] - 1s 10ms/step - loss: 0.0053 - mae: 0.0418 - val_loss: 0.0183 - val_mae: 0.0799\n",
      "Epoch 14/20\n",
      "121/121 [==============================] - 1s 10ms/step - loss: 0.0061 - mae: 0.0434 - val_loss: 0.0195 - val_mae: 0.0826\n",
      "Epoch 15/20\n",
      "121/121 [==============================] - 1s 10ms/step - loss: 0.0055 - mae: 0.0428 - val_loss: 0.0194 - val_mae: 0.0814\n",
      "Epoch 16/20\n",
      "121/121 [==============================] - 1s 10ms/step - loss: 0.0055 - mae: 0.0432 - val_loss: 0.0192 - val_mae: 0.0804\n",
      "Epoch 17/20\n",
      "121/121 [==============================] - 1s 10ms/step - loss: 0.0054 - mae: 0.0418 - val_loss: 0.0189 - val_mae: 0.0818\n",
      "Epoch 18/20\n",
      "121/121 [==============================] - 1s 10ms/step - loss: 0.0053 - mae: 0.0415 - val_loss: 0.0186 - val_mae: 0.0799\n",
      "Epoch 19/20\n",
      "121/121 [==============================] - 1s 11ms/step - loss: 0.0049 - mae: 0.0402 - val_loss: 0.0198 - val_mae: 0.0844\n",
      "Epoch 20/20\n",
      "121/121 [==============================] - 1s 10ms/step - loss: 0.0047 - mae: 0.0398 - val_loss: 0.0195 - val_mae: 0.0815\n"
     ]
    },
    {
     "data": {
      "text/html": [
       "Finishing last run (ID:65zt8dat) before initializing another..."
      ],
      "text/plain": [
       "<IPython.core.display.HTML object>"
      ]
     },
     "metadata": {},
     "output_type": "display_data"
    },
    {
     "data": {
      "text/html": [
       "<br/>Waiting for W&B process to finish, PID 15725<br/>Program ended successfully."
      ],
      "text/plain": [
       "<IPython.core.display.HTML object>"
      ]
     },
     "metadata": {},
     "output_type": "display_data"
    },
    {
     "data": {
      "text/html": [
       "Find user logs for this run at: <code>/home/richard_stana/programing/clanok/code/wandb/run-20210126_131511-65zt8dat/logs/debug.log</code>"
      ],
      "text/plain": [
       "<IPython.core.display.HTML object>"
      ]
     },
     "metadata": {},
     "output_type": "display_data"
    },
    {
     "data": {
      "text/html": [
       "Find internal logs for this run at: <code>/home/richard_stana/programing/clanok/code/wandb/run-20210126_131511-65zt8dat/logs/debug-internal.log</code>"
      ],
      "text/plain": [
       "<IPython.core.display.HTML object>"
      ]
     },
     "metadata": {},
     "output_type": "display_data"
    },
    {
     "data": {
      "text/html": [
       "<h3>Run summary:</h3><br/><style>\n",
       "    table.wandb td:nth-child(1) { padding: 0 10px; text-align: right }\n",
       "    </style><table class=\"wandb\">\n",
       "<tr><td>epoch</td><td>19</td></tr><tr><td>loss</td><td>0.00471</td></tr><tr><td>mae</td><td>0.0398</td></tr><tr><td>val_loss</td><td>0.01945</td></tr><tr><td>val_mae</td><td>0.08151</td></tr><tr><td>_step</td><td>39</td></tr><tr><td>_runtime</td><td>56</td></tr><tr><td>_timestamp</td><td>1611666970</td></tr><tr><td>best_val_loss</td><td>0.01545</td></tr><tr><td>best_epoch</td><td>10</td></tr></table>"
      ],
      "text/plain": [
       "<IPython.core.display.HTML object>"
      ]
     },
     "metadata": {},
     "output_type": "display_data"
    },
    {
     "data": {
      "text/html": [
       "<h3>Run history:</h3><br/><style>\n",
       "    table.wandb td:nth-child(1) { padding: 0 10px; text-align: right }\n",
       "    </style><table class=\"wandb\">\n",
       "<tr><td>epoch</td><td>▁▁▂▂▂▃▃▄▄▄▅▅▅▆▆▇▇▇██▁▁▂▂▂▃▃▄▄▄▅▅▅▆▆▇▇▇██</td></tr><tr><td>loss</td><td>█▆▆▅▅▅▅▅▅▄▄▄▄▃▄▃▃▃▃▃▂▂▂▂▂▂▂▂▂▂▁▁▁▂▁▁▁▁▁▁</td></tr><tr><td>mae</td><td>█▇▆▆▆▆▆▆▅▅▅▄▄▄▄▄▄▃▃▃▃▃▃▂▂▂▂▂▂▂▂▂▁▂▂▂▁▁▁▁</td></tr><tr><td>val_loss</td><td>▂▂▁▁▂▂▂▂▂▂▁▂▂▂▂▂▃▂▃▅▄▃▄▃▄▃▄▅▅▅▆▅▆▇▇▇▇▆█▇</td></tr><tr><td>val_mae</td><td>▂▁▁▁▁▂▂▂▂▂▂▂▂▃▃▄▄▃▄▆▄▄▅▄▄▄▅▅▅▅▆▆▆▇▇▆▇▆█▇</td></tr><tr><td>_step</td><td>▁▁▁▂▂▂▂▂▂▃▃▃▃▃▄▄▄▄▄▄▅▅▅▅▅▅▆▆▆▆▆▇▇▇▇▇▇███</td></tr><tr><td>_runtime</td><td>▁▁▁▂▂▂▂▂▂▃▃▃▃▃▃▄▄▄▄▄▅▅▅▅▅▆▆▆▆▆▆▇▇▇▇▇▇███</td></tr><tr><td>_timestamp</td><td>▁▁▁▂▂▂▂▂▂▃▃▃▃▃▃▄▄▄▄▄▅▅▅▅▅▆▆▆▆▆▆▇▇▇▇▇▇███</td></tr></table><br/>"
      ],
      "text/plain": [
       "<IPython.core.display.HTML object>"
      ]
     },
     "metadata": {},
     "output_type": "display_data"
    },
    {
     "data": {
      "text/html": [
       "Synced 5 W&B file(s), 1 media file(s), 0 artifact file(s) and 1 other file(s)"
      ],
      "text/plain": [
       "<IPython.core.display.HTML object>"
      ]
     },
     "metadata": {},
     "output_type": "display_data"
    },
    {
     "data": {
      "text/html": [
       "\n",
       "                    <br/>Synced <strong style=\"color:#cdcd00\">dobra_cnn-30m-item722</strong>: <a href=\"https://wandb.ai/kriza/30m-item72/runs/65zt8dat\" target=\"_blank\">https://wandb.ai/kriza/30m-item72/runs/65zt8dat</a><br/>\n",
       "                "
      ],
      "text/plain": [
       "<IPython.core.display.HTML object>"
      ]
     },
     "metadata": {},
     "output_type": "display_data"
    },
    {
     "data": {
      "text/html": [
       "...Successfully finished last run (ID:65zt8dat). Initializing new run:<br/><br/>"
      ],
      "text/plain": [
       "<IPython.core.display.HTML object>"
      ]
     },
     "metadata": {},
     "output_type": "display_data"
    },
    {
     "name": "stderr",
     "output_type": "stream",
     "text": [
      "\u001b[34m\u001b[1mwandb\u001b[0m: wandb version 0.10.15 is available!  To upgrade, please run:\n",
      "\u001b[34m\u001b[1mwandb\u001b[0m:  $ pip install wandb --upgrade\n"
     ]
    },
    {
     "data": {
      "text/html": [
       "\n",
       "                Tracking run with wandb version 0.10.14<br/>\n",
       "                Syncing run <strong style=\"color:#cdcd00\">lstm-30m-item732</strong> to <a href=\"https://wandb.ai\" target=\"_blank\">Weights & Biases</a> <a href=\"https://docs.wandb.com/integrations/jupyter.html\" target=\"_blank\">(Documentation)</a>.<br/>\n",
       "                Project page: <a href=\"https://wandb.ai/kriza/30m-item73\" target=\"_blank\">https://wandb.ai/kriza/30m-item73</a><br/>\n",
       "                Run page: <a href=\"https://wandb.ai/kriza/30m-item73/runs/2m5owiia\" target=\"_blank\">https://wandb.ai/kriza/30m-item73/runs/2m5owiia</a><br/>\n",
       "                Run data is saved locally in <code>/home/richard_stana/programing/clanok/code/wandb/run-20210126_131612-2m5owiia</code><br/><br/>\n",
       "            "
      ],
      "text/plain": [
       "<IPython.core.display.HTML object>"
      ]
     },
     "metadata": {},
     "output_type": "display_data"
    },
    {
     "name": "stdout",
     "output_type": "stream",
     "text": [
      "Epoch 1/20\n",
      "121/121 [==============================] - 20s 165ms/step - loss: 0.0218 - mae: 0.0841 - val_loss: 0.0395 - val_mae: 0.0870\n",
      "Epoch 2/20\n",
      "121/121 [==============================] - 19s 156ms/step - loss: 0.0195 - mae: 0.0832 - val_loss: 0.0768 - val_mae: 0.1013\n",
      "Epoch 3/20\n",
      "121/121 [==============================] - 19s 157ms/step - loss: 0.0176 - mae: 0.0819 - val_loss: 0.0576 - val_mae: 0.0973\n",
      "Epoch 4/20\n",
      "121/121 [==============================] - 19s 157ms/step - loss: 0.0174 - mae: 0.0817 - val_loss: 0.0636 - val_mae: 0.1000\n",
      "Epoch 5/20\n",
      "121/121 [==============================] - 19s 156ms/step - loss: 0.0175 - mae: 0.0821 - val_loss: 0.0717 - val_mae: 0.1016\n",
      "Epoch 6/20\n",
      "121/121 [==============================] - 19s 157ms/step - loss: 0.0173 - mae: 0.0813 - val_loss: 0.0547 - val_mae: 0.0958\n",
      "Epoch 7/20\n",
      "121/121 [==============================] - 19s 157ms/step - loss: 0.0175 - mae: 0.0824 - val_loss: 0.0700 - val_mae: 0.1020\n",
      "Epoch 8/20\n",
      "121/121 [==============================] - 19s 157ms/step - loss: 0.0173 - mae: 0.0813 - val_loss: 0.0572 - val_mae: 0.0950\n",
      "Epoch 9/20\n",
      "121/121 [==============================] - 19s 157ms/step - loss: 0.0173 - mae: 0.0817 - val_loss: 0.0552 - val_mae: 0.1038\n",
      "Epoch 10/20\n",
      "121/121 [==============================] - 19s 157ms/step - loss: 0.0174 - mae: 0.0821 - val_loss: 0.0429 - val_mae: 0.0901\n",
      "Epoch 11/20\n",
      "121/121 [==============================] - 19s 157ms/step - loss: 0.0172 - mae: 0.0811 - val_loss: 0.0546 - val_mae: 0.0960\n",
      "Epoch 12/20\n",
      "121/121 [==============================] - 19s 157ms/step - loss: 0.0172 - mae: 0.0814 - val_loss: 0.0640 - val_mae: 0.1007\n",
      "Epoch 13/20\n",
      "121/121 [==============================] - 19s 156ms/step - loss: 0.0171 - mae: 0.0812 - val_loss: 0.0434 - val_mae: 0.0916\n",
      "Epoch 14/20\n",
      "121/121 [==============================] - 19s 160ms/step - loss: 0.0174 - mae: 0.0823 - val_loss: 0.0393 - val_mae: 0.0853\n",
      "Epoch 15/20\n",
      "121/121 [==============================] - 19s 157ms/step - loss: 0.0188 - mae: 0.0843 - val_loss: 0.0682 - val_mae: 0.0964\n",
      "Epoch 16/20\n",
      "121/121 [==============================] - 19s 158ms/step - loss: 0.0173 - mae: 0.0821 - val_loss: 0.0756 - val_mae: 0.1014\n",
      "Epoch 17/20\n",
      "121/121 [==============================] - 19s 159ms/step - loss: 0.0173 - mae: 0.0817 - val_loss: 0.0383 - val_mae: 0.0899\n",
      "Epoch 18/20\n",
      "121/121 [==============================] - 19s 157ms/step - loss: 0.0170 - mae: 0.0810 - val_loss: 0.0766 - val_mae: 0.1003\n",
      "Epoch 19/20\n",
      "121/121 [==============================] - 19s 157ms/step - loss: 0.0173 - mae: 0.0818 - val_loss: 0.0811 - val_mae: 0.0999\n",
      "Epoch 20/20\n",
      "121/121 [==============================] - 19s 157ms/step - loss: 0.0172 - mae: 0.0818 - val_loss: 0.0830 - val_mae: 0.1031\n",
      "Epoch 1/20\n",
      "121/121 [==============================] - 19s 158ms/step - loss: 0.0170 - mae: 0.0813 - val_loss: 0.0908 - val_mae: 0.1067\n",
      "Epoch 2/20\n",
      "121/121 [==============================] - 19s 159ms/step - loss: 0.0170 - mae: 0.0814 - val_loss: 0.0727 - val_mae: 0.1016\n",
      "Epoch 3/20\n",
      "121/121 [==============================] - 19s 159ms/step - loss: 0.0171 - mae: 0.0817 - val_loss: 0.0834 - val_mae: 0.1007\n",
      "Epoch 4/20\n",
      "121/121 [==============================] - 19s 157ms/step - loss: 0.0170 - mae: 0.0813 - val_loss: 0.0881 - val_mae: 0.1038\n",
      "Epoch 5/20\n",
      "121/121 [==============================] - 19s 157ms/step - loss: 0.0169 - mae: 0.0811 - val_loss: 0.0640 - val_mae: 0.1036\n",
      "Epoch 6/20\n",
      "121/121 [==============================] - 19s 157ms/step - loss: 0.0171 - mae: 0.0820 - val_loss: 0.0603 - val_mae: 0.1039\n",
      "Epoch 7/20\n",
      "121/121 [==============================] - 19s 158ms/step - loss: 0.0170 - mae: 0.0815 - val_loss: 0.0715 - val_mae: 0.0990\n",
      "Epoch 8/20\n",
      "121/121 [==============================] - 19s 156ms/step - loss: 0.0169 - mae: 0.0810 - val_loss: 0.0919 - val_mae: 0.1064\n",
      "Epoch 9/20\n",
      "121/121 [==============================] - 19s 158ms/step - loss: 0.0170 - mae: 0.0817 - val_loss: 0.0631 - val_mae: 0.0983\n",
      "Epoch 10/20\n",
      "121/121 [==============================] - 19s 158ms/step - loss: 0.0169 - mae: 0.0814 - val_loss: 0.0530 - val_mae: 0.0956\n",
      "Epoch 11/20\n",
      "121/121 [==============================] - 19s 158ms/step - loss: 0.0170 - mae: 0.0816 - val_loss: 0.0565 - val_mae: 0.0952\n",
      "Epoch 12/20\n",
      "121/121 [==============================] - 19s 157ms/step - loss: 0.0168 - mae: 0.0811 - val_loss: 0.0642 - val_mae: 0.0972\n",
      "Epoch 13/20\n",
      "121/121 [==============================] - 19s 156ms/step - loss: 0.0169 - mae: 0.0814 - val_loss: 0.0695 - val_mae: 0.0992\n",
      "Epoch 14/20\n",
      "121/121 [==============================] - 19s 156ms/step - loss: 0.0169 - mae: 0.0816 - val_loss: 0.0797 - val_mae: 0.1006\n",
      "Epoch 15/20\n",
      "121/121 [==============================] - 19s 156ms/step - loss: 0.0178 - mae: 0.0825 - val_loss: 0.0390 - val_mae: 0.0954\n",
      "Epoch 16/20\n",
      "121/121 [==============================] - 19s 156ms/step - loss: 0.0173 - mae: 0.0823 - val_loss: 0.0983 - val_mae: 0.1046\n",
      "Epoch 17/20\n",
      "121/121 [==============================] - 19s 159ms/step - loss: 0.0170 - mae: 0.0817 - val_loss: 0.0372 - val_mae: 0.0881\n",
      "Epoch 18/20\n",
      "121/121 [==============================] - 19s 155ms/step - loss: 0.0169 - mae: 0.0814 - val_loss: 0.0387 - val_mae: 0.0886\n",
      "Epoch 19/20\n",
      "121/121 [==============================] - 19s 155ms/step - loss: 0.0168 - mae: 0.0811 - val_loss: 0.0394 - val_mae: 0.0902\n",
      "Epoch 20/20\n",
      "121/121 [==============================] - 19s 159ms/step - loss: 0.0169 - mae: 0.0815 - val_loss: 0.0362 - val_mae: 0.0866\n"
     ]
    },
    {
     "data": {
      "text/html": [
       "Finishing last run (ID:2m5owiia) before initializing another..."
      ],
      "text/plain": [
       "<IPython.core.display.HTML object>"
      ]
     },
     "metadata": {},
     "output_type": "display_data"
    },
    {
     "data": {
      "text/html": [
       "<br/>Waiting for W&B process to finish, PID 16081<br/>Program ended successfully."
      ],
      "text/plain": [
       "<IPython.core.display.HTML object>"
      ]
     },
     "metadata": {},
     "output_type": "display_data"
    },
    {
     "data": {
      "text/html": [
       "Find user logs for this run at: <code>/home/richard_stana/programing/clanok/code/wandb/run-20210126_131612-2m5owiia/logs/debug.log</code>"
      ],
      "text/plain": [
       "<IPython.core.display.HTML object>"
      ]
     },
     "metadata": {},
     "output_type": "display_data"
    },
    {
     "data": {
      "text/html": [
       "Find internal logs for this run at: <code>/home/richard_stana/programing/clanok/code/wandb/run-20210126_131612-2m5owiia/logs/debug-internal.log</code>"
      ],
      "text/plain": [
       "<IPython.core.display.HTML object>"
      ]
     },
     "metadata": {},
     "output_type": "display_data"
    },
    {
     "data": {
      "text/html": [
       "<h3>Run summary:</h3><br/><style>\n",
       "    table.wandb td:nth-child(1) { padding: 0 10px; text-align: right }\n",
       "    </style><table class=\"wandb\">\n",
       "<tr><td>epoch</td><td>19</td></tr><tr><td>loss</td><td>0.01694</td></tr><tr><td>mae</td><td>0.08149</td></tr><tr><td>val_loss</td><td>0.03616</td></tr><tr><td>val_mae</td><td>0.0866</td></tr><tr><td>_step</td><td>39</td></tr><tr><td>_runtime</td><td>776</td></tr><tr><td>_timestamp</td><td>1611667752</td></tr><tr><td>best_val_loss</td><td>0.03616</td></tr><tr><td>best_epoch</td><td>19</td></tr></table>"
      ],
      "text/plain": [
       "<IPython.core.display.HTML object>"
      ]
     },
     "metadata": {},
     "output_type": "display_data"
    },
    {
     "data": {
      "text/html": [
       "<h3>Run history:</h3><br/><style>\n",
       "    table.wandb td:nth-child(1) { padding: 0 10px; text-align: right }\n",
       "    </style><table class=\"wandb\">\n",
       "<tr><td>epoch</td><td>▁▁▂▂▂▃▃▄▄▄▅▅▅▆▆▇▇▇██▁▁▂▂▂▃▃▄▄▄▅▅▅▆▆▇▇▇██</td></tr><tr><td>loss</td><td>█▅▂▂▂▂▂▂▂▂▁▂▁▂▄▂▂▁▂▂▁▁▁▁▁▁▁▁▁▁▁▁▁▁▂▂▁▁▁▁</td></tr><tr><td>mae</td><td>█▆▃▂▃▂▄▂▃▃▁▂▁▄█▃▃▁▃▃▂▂▃▂▁▃▂▁▃▂▂▁▂▂▄▄▂▂▁▂</td></tr><tr><td>val_loss</td><td>▁▆▃▄▅▃▅▃▃▂▃▄▂▁▅▅▁▆▆▆▇▅▆▇▄▄▅▇▄▃▃▄▅▆▁█▁▁▁▁</td></tr><tr><td>val_mae</td><td>▂▆▅▆▆▄▆▄▇▃▅▆▃▁▅▆▃▆▆▇█▆▆▇▇▇▅█▅▄▄▅▆▆▄▇▂▂▃▁</td></tr><tr><td>_step</td><td>▁▁▁▂▂▂▂▂▂▃▃▃▃▃▄▄▄▄▄▄▅▅▅▅▅▅▆▆▆▆▆▇▇▇▇▇▇███</td></tr><tr><td>_runtime</td><td>▁▁▁▂▂▂▂▂▂▃▃▃▃▃▄▄▄▄▄▄▅▅▅▅▅▅▆▆▆▆▆▇▇▇▇▇▇███</td></tr><tr><td>_timestamp</td><td>▁▁▁▂▂▂▂▂▂▃▃▃▃▃▄▄▄▄▄▄▅▅▅▅▅▅▆▆▆▆▆▇▇▇▇▇▇███</td></tr></table><br/>"
      ],
      "text/plain": [
       "<IPython.core.display.HTML object>"
      ]
     },
     "metadata": {},
     "output_type": "display_data"
    },
    {
     "data": {
      "text/html": [
       "Synced 5 W&B file(s), 1 media file(s), 0 artifact file(s) and 1 other file(s)"
      ],
      "text/plain": [
       "<IPython.core.display.HTML object>"
      ]
     },
     "metadata": {},
     "output_type": "display_data"
    },
    {
     "data": {
      "text/html": [
       "\n",
       "                    <br/>Synced <strong style=\"color:#cdcd00\">lstm-30m-item732</strong>: <a href=\"https://wandb.ai/kriza/30m-item73/runs/2m5owiia\" target=\"_blank\">https://wandb.ai/kriza/30m-item73/runs/2m5owiia</a><br/>\n",
       "                "
      ],
      "text/plain": [
       "<IPython.core.display.HTML object>"
      ]
     },
     "metadata": {},
     "output_type": "display_data"
    },
    {
     "data": {
      "text/html": [
       "...Successfully finished last run (ID:2m5owiia). Initializing new run:<br/><br/>"
      ],
      "text/plain": [
       "<IPython.core.display.HTML object>"
      ]
     },
     "metadata": {},
     "output_type": "display_data"
    },
    {
     "name": "stderr",
     "output_type": "stream",
     "text": [
      "\u001b[34m\u001b[1mwandb\u001b[0m: wandb version 0.10.15 is available!  To upgrade, please run:\n",
      "\u001b[34m\u001b[1mwandb\u001b[0m:  $ pip install wandb --upgrade\n"
     ]
    },
    {
     "data": {
      "text/html": [
       "\n",
       "                Tracking run with wandb version 0.10.14<br/>\n",
       "                Syncing run <strong style=\"color:#cdcd00\">cnn-30m-item732</strong> to <a href=\"https://wandb.ai\" target=\"_blank\">Weights & Biases</a> <a href=\"https://docs.wandb.com/integrations/jupyter.html\" target=\"_blank\">(Documentation)</a>.<br/>\n",
       "                Project page: <a href=\"https://wandb.ai/kriza/30m-item73\" target=\"_blank\">https://wandb.ai/kriza/30m-item73</a><br/>\n",
       "                Run page: <a href=\"https://wandb.ai/kriza/30m-item73/runs/6d2m6i97\" target=\"_blank\">https://wandb.ai/kriza/30m-item73/runs/6d2m6i97</a><br/>\n",
       "                Run data is saved locally in <code>/home/richard_stana/programing/clanok/code/wandb/run-20210126_132912-6d2m6i97</code><br/><br/>\n",
       "            "
      ],
      "text/plain": [
       "<IPython.core.display.HTML object>"
      ]
     },
     "metadata": {},
     "output_type": "display_data"
    },
    {
     "name": "stdout",
     "output_type": "stream",
     "text": [
      "Epoch 1/20\n",
      "121/121 [==============================] - 3s 26ms/step - loss: 0.0223 - mae: 0.0833 - val_loss: 0.0390 - val_mae: 0.0822\n",
      "Epoch 2/20\n",
      "121/121 [==============================] - 3s 24ms/step - loss: 0.0223 - mae: 0.0832 - val_loss: 0.0391 - val_mae: 0.0820\n",
      "Epoch 3/20\n",
      "121/121 [==============================] - 3s 24ms/step - loss: 0.0223 - mae: 0.0833 - val_loss: 0.0390 - val_mae: 0.0822\n",
      "Epoch 4/20\n",
      "121/121 [==============================] - 3s 23ms/step - loss: 0.0223 - mae: 0.0833 - val_loss: 0.0391 - val_mae: 0.0822\n",
      "Epoch 5/20\n",
      "121/121 [==============================] - 3s 23ms/step - loss: 0.0223 - mae: 0.0833 - val_loss: 0.0391 - val_mae: 0.0821\n",
      "Epoch 6/20\n",
      "121/121 [==============================] - 3s 23ms/step - loss: 0.0223 - mae: 0.0833 - val_loss: 0.0390 - val_mae: 0.0822\n",
      "Epoch 7/20\n",
      "121/121 [==============================] - 3s 23ms/step - loss: 0.0223 - mae: 0.0833 - val_loss: 0.0391 - val_mae: 0.0822\n",
      "Epoch 8/20\n",
      "121/121 [==============================] - 3s 24ms/step - loss: 0.0223 - mae: 0.0833 - val_loss: 0.0391 - val_mae: 0.0820\n",
      "Epoch 9/20\n",
      "121/121 [==============================] - 3s 23ms/step - loss: 0.0223 - mae: 0.0833 - val_loss: 0.0391 - val_mae: 0.0820\n",
      "Epoch 10/20\n",
      "121/121 [==============================] - 3s 23ms/step - loss: 0.0223 - mae: 0.0833 - val_loss: 0.0391 - val_mae: 0.0820\n",
      "Epoch 11/20\n",
      "121/121 [==============================] - 3s 23ms/step - loss: 0.0223 - mae: 0.0833 - val_loss: 0.0391 - val_mae: 0.0820\n",
      "Epoch 12/20\n",
      "121/121 [==============================] - 3s 24ms/step - loss: 0.0223 - mae: 0.0833 - val_loss: 0.0391 - val_mae: 0.0820\n",
      "Epoch 13/20\n",
      "121/121 [==============================] - 3s 23ms/step - loss: 0.0223 - mae: 0.0833 - val_loss: 0.0390 - val_mae: 0.0821\n",
      "Epoch 14/20\n",
      "121/121 [==============================] - 3s 23ms/step - loss: 0.0223 - mae: 0.0833 - val_loss: 0.0391 - val_mae: 0.0820\n",
      "Epoch 15/20\n",
      "121/121 [==============================] - 3s 23ms/step - loss: 0.0223 - mae: 0.0833 - val_loss: 0.0390 - val_mae: 0.0821\n",
      "Epoch 16/20\n",
      "121/121 [==============================] - 3s 23ms/step - loss: 0.0223 - mae: 0.0833 - val_loss: 0.0391 - val_mae: 0.0822\n",
      "Epoch 17/20\n",
      "121/121 [==============================] - 3s 24ms/step - loss: 0.0223 - mae: 0.0833 - val_loss: 0.0390 - val_mae: 0.0822\n",
      "Epoch 18/20\n",
      "121/121 [==============================] - 3s 23ms/step - loss: 0.0223 - mae: 0.0833 - val_loss: 0.0391 - val_mae: 0.0821\n",
      "Epoch 19/20\n",
      "121/121 [==============================] - 3s 23ms/step - loss: 0.0223 - mae: 0.0833 - val_loss: 0.0391 - val_mae: 0.0820\n",
      "Epoch 20/20\n",
      "121/121 [==============================] - 3s 23ms/step - loss: 0.0223 - mae: 0.0833 - val_loss: 0.0391 - val_mae: 0.0820\n",
      "Epoch 1/20\n",
      "121/121 [==============================] - 3s 24ms/step - loss: 0.0223 - mae: 0.0833 - val_loss: 0.0390 - val_mae: 0.0822\n",
      "Epoch 2/20\n",
      "121/121 [==============================] - 3s 24ms/step - loss: 0.0223 - mae: 0.0833 - val_loss: 0.0391 - val_mae: 0.0820\n",
      "Epoch 3/20\n",
      "121/121 [==============================] - 3s 23ms/step - loss: 0.0223 - mae: 0.0833 - val_loss: 0.0391 - val_mae: 0.0821\n",
      "Epoch 4/20\n",
      "121/121 [==============================] - 3s 24ms/step - loss: 0.0223 - mae: 0.0833 - val_loss: 0.0391 - val_mae: 0.0820\n",
      "Epoch 5/20\n",
      "121/121 [==============================] - 3s 23ms/step - loss: 0.0223 - mae: 0.0833 - val_loss: 0.0391 - val_mae: 0.0820\n",
      "Epoch 6/20\n",
      "121/121 [==============================] - 3s 23ms/step - loss: 0.0223 - mae: 0.0833 - val_loss: 0.0390 - val_mae: 0.0821\n",
      "Epoch 7/20\n",
      "121/121 [==============================] - 3s 23ms/step - loss: 0.0223 - mae: 0.0833 - val_loss: 0.0391 - val_mae: 0.0823\n",
      "Epoch 8/20\n",
      "121/121 [==============================] - 3s 23ms/step - loss: 0.0223 - mae: 0.0833 - val_loss: 0.0391 - val_mae: 0.0820\n",
      "Epoch 9/20\n",
      "121/121 [==============================] - 3s 23ms/step - loss: 0.0223 - mae: 0.0832 - val_loss: 0.0390 - val_mae: 0.0822\n",
      "Epoch 10/20\n",
      "121/121 [==============================] - 3s 23ms/step - loss: 0.0223 - mae: 0.0833 - val_loss: 0.0390 - val_mae: 0.0823\n",
      "Epoch 11/20\n",
      "121/121 [==============================] - 3s 23ms/step - loss: 0.0223 - mae: 0.0833 - val_loss: 0.0390 - val_mae: 0.0822\n",
      "Epoch 12/20\n",
      "121/121 [==============================] - 3s 24ms/step - loss: 0.0223 - mae: 0.0833 - val_loss: 0.0391 - val_mae: 0.0820\n",
      "Epoch 13/20\n",
      "121/121 [==============================] - 3s 24ms/step - loss: 0.0223 - mae: 0.0833 - val_loss: 0.0390 - val_mae: 0.0823\n",
      "Epoch 14/20\n",
      "121/121 [==============================] - 3s 23ms/step - loss: 0.0223 - mae: 0.0833 - val_loss: 0.0391 - val_mae: 0.0821\n",
      "Epoch 15/20\n",
      "121/121 [==============================] - 3s 23ms/step - loss: 0.0223 - mae: 0.0833 - val_loss: 0.0391 - val_mae: 0.0821\n",
      "Epoch 16/20\n",
      "121/121 [==============================] - 3s 23ms/step - loss: 0.0223 - mae: 0.0833 - val_loss: 0.0390 - val_mae: 0.0822\n",
      "Epoch 17/20\n",
      "121/121 [==============================] - 3s 23ms/step - loss: 0.0223 - mae: 0.0833 - val_loss: 0.0390 - val_mae: 0.0822\n",
      "Epoch 18/20\n",
      "121/121 [==============================] - 3s 23ms/step - loss: 0.0223 - mae: 0.0833 - val_loss: 0.0391 - val_mae: 0.0820\n",
      "Epoch 19/20\n",
      "121/121 [==============================] - 3s 23ms/step - loss: 0.0223 - mae: 0.0833 - val_loss: 0.0391 - val_mae: 0.0820\n",
      "Epoch 20/20\n",
      "121/121 [==============================] - 3s 23ms/step - loss: 0.0223 - mae: 0.0833 - val_loss: 0.0391 - val_mae: 0.0822\n"
     ]
    },
    {
     "data": {
      "text/html": [
       "Finishing last run (ID:6d2m6i97) before initializing another..."
      ],
      "text/plain": [
       "<IPython.core.display.HTML object>"
      ]
     },
     "metadata": {},
     "output_type": "display_data"
    },
    {
     "data": {
      "text/html": [
       "<br/>Waiting for W&B process to finish, PID 18910<br/>Program ended successfully."
      ],
      "text/plain": [
       "<IPython.core.display.HTML object>"
      ]
     },
     "metadata": {},
     "output_type": "display_data"
    },
    {
     "data": {
      "text/html": [
       "Find user logs for this run at: <code>/home/richard_stana/programing/clanok/code/wandb/run-20210126_132912-6d2m6i97/logs/debug.log</code>"
      ],
      "text/plain": [
       "<IPython.core.display.HTML object>"
      ]
     },
     "metadata": {},
     "output_type": "display_data"
    },
    {
     "data": {
      "text/html": [
       "Find internal logs for this run at: <code>/home/richard_stana/programing/clanok/code/wandb/run-20210126_132912-6d2m6i97/logs/debug-internal.log</code>"
      ],
      "text/plain": [
       "<IPython.core.display.HTML object>"
      ]
     },
     "metadata": {},
     "output_type": "display_data"
    },
    {
     "data": {
      "text/html": [
       "<h3>Run summary:</h3><br/><style>\n",
       "    table.wandb td:nth-child(1) { padding: 0 10px; text-align: right }\n",
       "    </style><table class=\"wandb\">\n",
       "<tr><td>epoch</td><td>19</td></tr><tr><td>loss</td><td>0.0223</td></tr><tr><td>mae</td><td>0.08327</td></tr><tr><td>val_loss</td><td>0.03907</td></tr><tr><td>val_mae</td><td>0.08222</td></tr><tr><td>_step</td><td>39</td></tr><tr><td>_runtime</td><td>119</td></tr><tr><td>_timestamp</td><td>1611667877</td></tr><tr><td>best_val_loss</td><td>0.03902</td></tr><tr><td>best_epoch</td><td>12</td></tr></table>"
      ],
      "text/plain": [
       "<IPython.core.display.HTML object>"
      ]
     },
     "metadata": {},
     "output_type": "display_data"
    },
    {
     "data": {
      "text/html": [
       "<h3>Run history:</h3><br/><style>\n",
       "    table.wandb td:nth-child(1) { padding: 0 10px; text-align: right }\n",
       "    </style><table class=\"wandb\">\n",
       "<tr><td>epoch</td><td>▁▁▂▂▂▃▃▄▄▄▅▅▅▆▆▇▇▇██▁▁▂▂▂▃▃▄▄▄▅▅▅▆▆▇▇▇██</td></tr><tr><td>loss</td><td>▅▅▃▃▄▅▅▇▆▅▇▃▅▆▅▄▇▅▄▆█▆█▅▃▅▃█▅▄▇▄▁▃▅▄▅█▅▄</td></tr><tr><td>mae</td><td>▅▁▅▃▄▃▄▆▆▅▄▄▄▆▃▄▆▆▄▄▅▃▇▄▄▃▃█▂▅▅▅▃▄▄▃▅▅▃▃</td></tr><tr><td>val_loss</td><td>▃▆▂▄▅▃▅▅▅▅▅▆▃█▄▅▂▄▄▄▄▅▆▆▄▄▅▅▂▄▂▅▁▆▄▃▂▅▄▅</td></tr><tr><td>val_mae</td><td>▅▂▆▄▃▆▆▁▂▂▂▁▃▂▃▄▅▄▂▂▅▂▃▂▂▄▇▂▅▇▅▁█▄▃▆▅▁▂▆</td></tr><tr><td>_step</td><td>▁▁▁▂▂▂▂▂▂▃▃▃▃▃▄▄▄▄▄▄▅▅▅▅▅▅▆▆▆▆▆▇▇▇▇▇▇███</td></tr><tr><td>_runtime</td><td>▁▁▁▁▂▂▂▂▂▃▃▃▃▃▃▄▄▄▄▄▅▅▅▅▅▅▆▆▆▆▆▇▇▇▇▇▇███</td></tr><tr><td>_timestamp</td><td>▁▁▁▁▂▂▂▂▂▃▃▃▃▃▃▄▄▄▄▄▅▅▅▅▅▅▆▆▆▆▆▇▇▇▇▇▇███</td></tr></table><br/>"
      ],
      "text/plain": [
       "<IPython.core.display.HTML object>"
      ]
     },
     "metadata": {},
     "output_type": "display_data"
    },
    {
     "data": {
      "text/html": [
       "Synced 5 W&B file(s), 1 media file(s), 0 artifact file(s) and 1 other file(s)"
      ],
      "text/plain": [
       "<IPython.core.display.HTML object>"
      ]
     },
     "metadata": {},
     "output_type": "display_data"
    },
    {
     "data": {
      "text/html": [
       "\n",
       "                    <br/>Synced <strong style=\"color:#cdcd00\">cnn-30m-item732</strong>: <a href=\"https://wandb.ai/kriza/30m-item73/runs/6d2m6i97\" target=\"_blank\">https://wandb.ai/kriza/30m-item73/runs/6d2m6i97</a><br/>\n",
       "                "
      ],
      "text/plain": [
       "<IPython.core.display.HTML object>"
      ]
     },
     "metadata": {},
     "output_type": "display_data"
    },
    {
     "data": {
      "text/html": [
       "...Successfully finished last run (ID:6d2m6i97). Initializing new run:<br/><br/>"
      ],
      "text/plain": [
       "<IPython.core.display.HTML object>"
      ]
     },
     "metadata": {},
     "output_type": "display_data"
    },
    {
     "name": "stderr",
     "output_type": "stream",
     "text": [
      "\u001b[34m\u001b[1mwandb\u001b[0m: wandb version 0.10.15 is available!  To upgrade, please run:\n",
      "\u001b[34m\u001b[1mwandb\u001b[0m:  $ pip install wandb --upgrade\n"
     ]
    },
    {
     "data": {
      "text/html": [
       "\n",
       "                Tracking run with wandb version 0.10.14<br/>\n",
       "                Syncing run <strong style=\"color:#cdcd00\">dobra_cnn-30m-item732</strong> to <a href=\"https://wandb.ai\" target=\"_blank\">Weights & Biases</a> <a href=\"https://docs.wandb.com/integrations/jupyter.html\" target=\"_blank\">(Documentation)</a>.<br/>\n",
       "                Project page: <a href=\"https://wandb.ai/kriza/30m-item73\" target=\"_blank\">https://wandb.ai/kriza/30m-item73</a><br/>\n",
       "                Run page: <a href=\"https://wandb.ai/kriza/30m-item73/runs/1wtdvzku\" target=\"_blank\">https://wandb.ai/kriza/30m-item73/runs/1wtdvzku</a><br/>\n",
       "                Run data is saved locally in <code>/home/richard_stana/programing/clanok/code/wandb/run-20210126_133117-1wtdvzku</code><br/><br/>\n",
       "            "
      ],
      "text/plain": [
       "<IPython.core.display.HTML object>"
      ]
     },
     "metadata": {},
     "output_type": "display_data"
    },
    {
     "name": "stdout",
     "output_type": "stream",
     "text": [
      "Epoch 1/20\n",
      "121/121 [==============================] - 1s 11ms/step - loss: 0.0209 - mae: 0.0896 - val_loss: 0.0466 - val_mae: 0.1127\n",
      "Epoch 2/20\n",
      "121/121 [==============================] - 1s 10ms/step - loss: 0.0176 - mae: 0.0834 - val_loss: 0.0450 - val_mae: 0.1150\n",
      "Epoch 3/20\n",
      "121/121 [==============================] - 1s 11ms/step - loss: 0.0165 - mae: 0.0814 - val_loss: 0.0447 - val_mae: 0.1091\n",
      "Epoch 4/20\n",
      "121/121 [==============================] - 1s 10ms/step - loss: 0.0157 - mae: 0.0804 - val_loss: 0.0458 - val_mae: 0.1125\n",
      "Epoch 5/20\n",
      "121/121 [==============================] - 1s 10ms/step - loss: 0.0150 - mae: 0.0790 - val_loss: 0.0460 - val_mae: 0.1127\n",
      "Epoch 6/20\n",
      "121/121 [==============================] - 1s 10ms/step - loss: 0.0145 - mae: 0.0781 - val_loss: 0.0448 - val_mae: 0.1141\n",
      "Epoch 7/20\n",
      "121/121 [==============================] - 1s 10ms/step - loss: 0.0139 - mae: 0.0768 - val_loss: 0.0447 - val_mae: 0.1116\n",
      "Epoch 8/20\n",
      "121/121 [==============================] - 1s 10ms/step - loss: 0.0134 - mae: 0.0759 - val_loss: 0.0456 - val_mae: 0.1132\n",
      "Epoch 9/20\n",
      "121/121 [==============================] - 1s 10ms/step - loss: 0.0127 - mae: 0.0741 - val_loss: 0.0458 - val_mae: 0.1175\n",
      "Epoch 10/20\n",
      "121/121 [==============================] - 1s 10ms/step - loss: 0.0122 - mae: 0.0730 - val_loss: 0.0473 - val_mae: 0.1200\n",
      "Epoch 11/20\n",
      "121/121 [==============================] - 1s 10ms/step - loss: 0.0116 - mae: 0.0713 - val_loss: 0.0488 - val_mae: 0.1223\n",
      "Epoch 12/20\n",
      "121/121 [==============================] - 1s 10ms/step - loss: 0.0113 - mae: 0.0705 - val_loss: 0.0509 - val_mae: 0.1263\n",
      "Epoch 13/20\n",
      "121/121 [==============================] - 1s 10ms/step - loss: 0.0109 - mae: 0.0699 - val_loss: 0.0502 - val_mae: 0.1262\n",
      "Epoch 14/20\n",
      "121/121 [==============================] - 1s 10ms/step - loss: 0.0104 - mae: 0.0677 - val_loss: 0.0518 - val_mae: 0.1286\n",
      "Epoch 15/20\n",
      "121/121 [==============================] - 1s 10ms/step - loss: 0.0100 - mae: 0.0668 - val_loss: 0.0524 - val_mae: 0.1352\n",
      "Epoch 16/20\n",
      "121/121 [==============================] - 1s 10ms/step - loss: 0.0097 - mae: 0.0657 - val_loss: 0.0547 - val_mae: 0.1370\n",
      "Epoch 17/20\n",
      "121/121 [==============================] - 1s 10ms/step - loss: 0.0093 - mae: 0.0647 - val_loss: 0.0563 - val_mae: 0.1436\n",
      "Epoch 18/20\n",
      "121/121 [==============================] - 1s 10ms/step - loss: 0.0092 - mae: 0.0641 - val_loss: 0.0581 - val_mae: 0.1507\n",
      "Epoch 19/20\n",
      "121/121 [==============================] - 1s 10ms/step - loss: 0.0090 - mae: 0.0634 - val_loss: 0.0551 - val_mae: 0.1452\n",
      "Epoch 20/20\n",
      "121/121 [==============================] - 1s 10ms/step - loss: 0.0087 - mae: 0.0624 - val_loss: 0.0581 - val_mae: 0.1490\n",
      "Epoch 1/20\n",
      "121/121 [==============================] - 1s 10ms/step - loss: 0.0084 - mae: 0.0613 - val_loss: 0.0619 - val_mae: 0.1633\n",
      "Epoch 2/20\n",
      "121/121 [==============================] - 1s 10ms/step - loss: 0.0082 - mae: 0.0606 - val_loss: 0.0591 - val_mae: 0.1524\n",
      "Epoch 3/20\n",
      "121/121 [==============================] - 1s 10ms/step - loss: 0.0080 - mae: 0.0601 - val_loss: 0.0605 - val_mae: 0.1543\n",
      "Epoch 4/20\n",
      "121/121 [==============================] - 1s 10ms/step - loss: 0.0077 - mae: 0.0587 - val_loss: 0.0634 - val_mae: 0.1639\n",
      "Epoch 5/20\n",
      "121/121 [==============================] - 1s 10ms/step - loss: 0.0080 - mae: 0.0607 - val_loss: 0.0672 - val_mae: 0.1700\n",
      "Epoch 6/20\n",
      "121/121 [==============================] - 1s 10ms/step - loss: 0.0077 - mae: 0.0590 - val_loss: 0.0655 - val_mae: 0.1625\n",
      "Epoch 7/20\n",
      "121/121 [==============================] - 1s 10ms/step - loss: 0.0076 - mae: 0.0578 - val_loss: 0.0596 - val_mae: 0.1565\n",
      "Epoch 8/20\n",
      "121/121 [==============================] - 1s 10ms/step - loss: 0.0076 - mae: 0.0574 - val_loss: 0.0637 - val_mae: 0.1599\n",
      "Epoch 9/20\n",
      "121/121 [==============================] - 1s 10ms/step - loss: 0.0073 - mae: 0.0564 - val_loss: 0.0657 - val_mae: 0.1708\n",
      "Epoch 10/20\n",
      "121/121 [==============================] - 1s 10ms/step - loss: 0.0068 - mae: 0.0549 - val_loss: 0.0645 - val_mae: 0.1664\n",
      "Epoch 11/20\n",
      "121/121 [==============================] - 1s 10ms/step - loss: 0.0065 - mae: 0.0537 - val_loss: 0.0647 - val_mae: 0.1661\n",
      "Epoch 12/20\n",
      "121/121 [==============================] - 1s 10ms/step - loss: 0.0064 - mae: 0.0528 - val_loss: 0.0639 - val_mae: 0.1629\n",
      "Epoch 13/20\n",
      "121/121 [==============================] - 1s 10ms/step - loss: 0.0062 - mae: 0.0521 - val_loss: 0.0679 - val_mae: 0.1741\n",
      "Epoch 14/20\n",
      "121/121 [==============================] - 1s 10ms/step - loss: 0.0061 - mae: 0.0515 - val_loss: 0.0699 - val_mae: 0.1793\n",
      "Epoch 15/20\n",
      "121/121 [==============================] - 1s 10ms/step - loss: 0.0060 - mae: 0.0511 - val_loss: 0.0697 - val_mae: 0.1784\n",
      "Epoch 16/20\n",
      "121/121 [==============================] - 1s 10ms/step - loss: 0.0059 - mae: 0.0510 - val_loss: 0.0734 - val_mae: 0.1855\n",
      "Epoch 17/20\n",
      "121/121 [==============================] - 1s 10ms/step - loss: 0.0058 - mae: 0.0506 - val_loss: 0.0727 - val_mae: 0.1857\n",
      "Epoch 18/20\n",
      "121/121 [==============================] - 1s 10ms/step - loss: 0.0058 - mae: 0.0504 - val_loss: 0.0709 - val_mae: 0.1830\n",
      "Epoch 19/20\n",
      "121/121 [==============================] - 1s 10ms/step - loss: 0.0057 - mae: 0.0495 - val_loss: 0.0697 - val_mae: 0.1763\n",
      "Epoch 20/20\n",
      "121/121 [==============================] - 1s 10ms/step - loss: 0.0057 - mae: 0.0501 - val_loss: 0.0714 - val_mae: 0.1823\n"
     ]
    },
    {
     "data": {
      "text/html": [
       "Finishing last run (ID:1wtdvzku) before initializing another..."
      ],
      "text/plain": [
       "<IPython.core.display.HTML object>"
      ]
     },
     "metadata": {},
     "output_type": "display_data"
    },
    {
     "data": {
      "text/html": [
       "<br/>Waiting for W&B process to finish, PID 19627<br/>Program ended successfully."
      ],
      "text/plain": [
       "<IPython.core.display.HTML object>"
      ]
     },
     "metadata": {},
     "output_type": "display_data"
    },
    {
     "data": {
      "text/html": [
       "Find user logs for this run at: <code>/home/richard_stana/programing/clanok/code/wandb/run-20210126_133117-1wtdvzku/logs/debug.log</code>"
      ],
      "text/plain": [
       "<IPython.core.display.HTML object>"
      ]
     },
     "metadata": {},
     "output_type": "display_data"
    },
    {
     "data": {
      "text/html": [
       "Find internal logs for this run at: <code>/home/richard_stana/programing/clanok/code/wandb/run-20210126_133117-1wtdvzku/logs/debug-internal.log</code>"
      ],
      "text/plain": [
       "<IPython.core.display.HTML object>"
      ]
     },
     "metadata": {},
     "output_type": "display_data"
    },
    {
     "data": {
      "text/html": [
       "<h3>Run summary:</h3><br/><style>\n",
       "    table.wandb td:nth-child(1) { padding: 0 10px; text-align: right }\n",
       "    </style><table class=\"wandb\">\n",
       "<tr><td>epoch</td><td>19</td></tr><tr><td>loss</td><td>0.0057</td></tr><tr><td>mae</td><td>0.05014</td></tr><tr><td>val_loss</td><td>0.07144</td></tr><tr><td>val_mae</td><td>0.1823</td></tr><tr><td>_step</td><td>39</td></tr><tr><td>_runtime</td><td>54</td></tr><tr><td>_timestamp</td><td>1611667937</td></tr><tr><td>best_val_loss</td><td>0.04468</td></tr><tr><td>best_epoch</td><td>2</td></tr></table>"
      ],
      "text/plain": [
       "<IPython.core.display.HTML object>"
      ]
     },
     "metadata": {},
     "output_type": "display_data"
    },
    {
     "data": {
      "text/html": [
       "<h3>Run history:</h3><br/><style>\n",
       "    table.wandb td:nth-child(1) { padding: 0 10px; text-align: right }\n",
       "    </style><table class=\"wandb\">\n",
       "<tr><td>epoch</td><td>▁▁▂▂▂▃▃▄▄▄▅▅▅▆▆▇▇▇██▁▁▂▂▂▃▃▄▄▄▅▅▅▆▆▇▇▇██</td></tr><tr><td>loss</td><td>█▆▆▆▅▅▅▅▄▄▄▄▃▃▃▃▃▃▃▂▂▂▂▂▂▂▂▂▂▂▁▁▁▁▁▁▁▁▁▁</td></tr><tr><td>mae</td><td>█▇▇▆▆▆▆▆▅▅▅▅▅▄▄▄▄▄▃▃▃▃▃▃▃▃▂▂▂▂▂▂▁▁▁▁▁▁▁▁</td></tr><tr><td>val_loss</td><td>▁▁▁▁▁▁▁▁▁▂▂▃▂▃▃▃▄▄▄▄▅▅▅▆▆▆▅▆▆▆▆▆▇▇▇██▇▇█</td></tr><tr><td>val_mae</td><td>▁▂▁▁▁▁▁▁▂▂▂▃▃▃▃▄▄▅▄▅▆▅▅▆▇▆▅▆▇▆▆▆▇▇▇███▇█</td></tr><tr><td>_step</td><td>▁▁▁▂▂▂▂▂▂▃▃▃▃▃▄▄▄▄▄▄▅▅▅▅▅▅▆▆▆▆▆▇▇▇▇▇▇███</td></tr><tr><td>_runtime</td><td>▁▁▁▂▂▂▂▂▂▃▃▃▃▃▃▄▄▄▄▄▅▅▅▅▅▆▆▆▆▆▆▇▇▇▇▇▇███</td></tr><tr><td>_timestamp</td><td>▁▁▁▂▂▂▂▂▂▃▃▃▃▃▃▄▄▄▄▄▅▅▅▅▅▆▆▆▆▆▆▇▇▇▇▇▇███</td></tr></table><br/>"
      ],
      "text/plain": [
       "<IPython.core.display.HTML object>"
      ]
     },
     "metadata": {},
     "output_type": "display_data"
    },
    {
     "data": {
      "text/html": [
       "Synced 5 W&B file(s), 1 media file(s), 0 artifact file(s) and 1 other file(s)"
      ],
      "text/plain": [
       "<IPython.core.display.HTML object>"
      ]
     },
     "metadata": {},
     "output_type": "display_data"
    },
    {
     "data": {
      "text/html": [
       "\n",
       "                    <br/>Synced <strong style=\"color:#cdcd00\">dobra_cnn-30m-item732</strong>: <a href=\"https://wandb.ai/kriza/30m-item73/runs/1wtdvzku\" target=\"_blank\">https://wandb.ai/kriza/30m-item73/runs/1wtdvzku</a><br/>\n",
       "                "
      ],
      "text/plain": [
       "<IPython.core.display.HTML object>"
      ]
     },
     "metadata": {},
     "output_type": "display_data"
    },
    {
     "data": {
      "text/html": [
       "...Successfully finished last run (ID:1wtdvzku). Initializing new run:<br/><br/>"
      ],
      "text/plain": [
       "<IPython.core.display.HTML object>"
      ]
     },
     "metadata": {},
     "output_type": "display_data"
    },
    {
     "name": "stderr",
     "output_type": "stream",
     "text": [
      "\u001b[34m\u001b[1mwandb\u001b[0m: wandb version 0.10.15 is available!  To upgrade, please run:\n",
      "\u001b[34m\u001b[1mwandb\u001b[0m:  $ pip install wandb --upgrade\n"
     ]
    },
    {
     "data": {
      "text/html": [
       "\n",
       "                Tracking run with wandb version 0.10.14<br/>\n",
       "                Syncing run <strong style=\"color:#cdcd00\">lstm-30m-item752</strong> to <a href=\"https://wandb.ai\" target=\"_blank\">Weights & Biases</a> <a href=\"https://docs.wandb.com/integrations/jupyter.html\" target=\"_blank\">(Documentation)</a>.<br/>\n",
       "                Project page: <a href=\"https://wandb.ai/kriza/30m-item75\" target=\"_blank\">https://wandb.ai/kriza/30m-item75</a><br/>\n",
       "                Run page: <a href=\"https://wandb.ai/kriza/30m-item75/runs/1irq3csw\" target=\"_blank\">https://wandb.ai/kriza/30m-item75/runs/1irq3csw</a><br/>\n",
       "                Run data is saved locally in <code>/home/richard_stana/programing/clanok/code/wandb/run-20210126_133218-1irq3csw</code><br/><br/>\n",
       "            "
      ],
      "text/plain": [
       "<IPython.core.display.HTML object>"
      ]
     },
     "metadata": {},
     "output_type": "display_data"
    },
    {
     "name": "stdout",
     "output_type": "stream",
     "text": [
      "Epoch 1/20\n",
      "121/121 [==============================] - 20s 166ms/step - loss: 0.0239 - mae: 0.0825 - val_loss: 0.0285 - val_mae: 0.1328\n",
      "Epoch 2/20\n",
      "121/121 [==============================] - 19s 160ms/step - loss: 0.0220 - mae: 0.0802 - val_loss: 0.0281 - val_mae: 0.1312\n",
      "Epoch 3/20\n",
      "121/121 [==============================] - 19s 159ms/step - loss: 0.0215 - mae: 0.0804 - val_loss: 0.0277 - val_mae: 0.1306\n",
      "Epoch 4/20\n",
      "121/121 [==============================] - 19s 156ms/step - loss: 0.0216 - mae: 0.0800 - val_loss: 0.0284 - val_mae: 0.1316\n",
      "Epoch 5/20\n",
      "121/121 [==============================] - 19s 156ms/step - loss: 0.0210 - mae: 0.0795 - val_loss: 0.0295 - val_mae: 0.1368\n",
      "Epoch 6/20\n",
      "121/121 [==============================] - 19s 159ms/step - loss: 0.0212 - mae: 0.0806 - val_loss: 0.0277 - val_mae: 0.1303\n",
      "Epoch 7/20\n",
      "121/121 [==============================] - 19s 158ms/step - loss: 0.0205 - mae: 0.0791 - val_loss: 0.0277 - val_mae: 0.1304\n",
      "Epoch 8/20\n",
      "121/121 [==============================] - 19s 156ms/step - loss: 0.0205 - mae: 0.0800 - val_loss: 0.0289 - val_mae: 0.1330\n",
      "Epoch 9/20\n",
      "121/121 [==============================] - 19s 159ms/step - loss: 0.0199 - mae: 0.0790 - val_loss: 0.0275 - val_mae: 0.1296\n",
      "Epoch 10/20\n",
      "121/121 [==============================] - 19s 157ms/step - loss: 0.0199 - mae: 0.0788 - val_loss: 0.0285 - val_mae: 0.1319\n",
      "Epoch 11/20\n",
      "121/121 [==============================] - 19s 157ms/step - loss: 0.0206 - mae: 0.0803 - val_loss: 0.0286 - val_mae: 0.1312\n",
      "Epoch 12/20\n",
      "121/121 [==============================] - 19s 156ms/step - loss: 0.0201 - mae: 0.0796 - val_loss: 0.0276 - val_mae: 0.1304\n",
      "Epoch 13/20\n",
      "121/121 [==============================] - 19s 156ms/step - loss: 0.0197 - mae: 0.0786 - val_loss: 0.0279 - val_mae: 0.1314\n",
      "Epoch 14/20\n",
      "121/121 [==============================] - 19s 156ms/step - loss: 0.0193 - mae: 0.0783 - val_loss: 0.0297 - val_mae: 0.1361\n",
      "Epoch 15/20\n",
      "121/121 [==============================] - 19s 159ms/step - loss: 0.0199 - mae: 0.0795 - val_loss: 0.0267 - val_mae: 0.1274\n",
      "Epoch 16/20\n",
      "121/121 [==============================] - 19s 156ms/step - loss: 0.0194 - mae: 0.0779 - val_loss: 0.0269 - val_mae: 0.1285\n",
      "Epoch 17/20\n",
      "121/121 [==============================] - 19s 156ms/step - loss: 0.0193 - mae: 0.0778 - val_loss: 0.0275 - val_mae: 0.1305\n",
      "Epoch 18/20\n",
      "121/121 [==============================] - 19s 156ms/step - loss: 0.0194 - mae: 0.0783 - val_loss: 0.0294 - val_mae: 0.1334\n",
      "Epoch 19/20\n",
      "121/121 [==============================] - 19s 156ms/step - loss: 0.0194 - mae: 0.0785 - val_loss: 0.0268 - val_mae: 0.1279\n",
      "Epoch 20/20\n",
      "121/121 [==============================] - 19s 156ms/step - loss: 0.0191 - mae: 0.0770 - val_loss: 0.0288 - val_mae: 0.1319\n",
      "Epoch 1/20\n",
      "121/121 [==============================] - 19s 157ms/step - loss: 0.0193 - mae: 0.0785 - val_loss: 0.0269 - val_mae: 0.1275\n",
      "Epoch 2/20\n",
      "121/121 [==============================] - 19s 156ms/step - loss: 0.0192 - mae: 0.0778 - val_loss: 0.0272 - val_mae: 0.1299\n",
      "Epoch 3/20\n",
      "121/121 [==============================] - 19s 156ms/step - loss: 0.0192 - mae: 0.0781 - val_loss: 0.0271 - val_mae: 0.1292\n",
      "Epoch 4/20\n",
      "121/121 [==============================] - 19s 156ms/step - loss: 0.0191 - mae: 0.0775 - val_loss: 0.0284 - val_mae: 0.1333\n",
      "Epoch 5/20\n",
      "121/121 [==============================] - 19s 156ms/step - loss: 0.0191 - mae: 0.0777 - val_loss: 0.0274 - val_mae: 0.1289\n",
      "Epoch 6/20\n",
      "121/121 [==============================] - 19s 156ms/step - loss: 0.0189 - mae: 0.0769 - val_loss: 0.0273 - val_mae: 0.1296\n",
      "Epoch 7/20\n",
      "121/121 [==============================] - 19s 156ms/step - loss: 0.0190 - mae: 0.0774 - val_loss: 0.0282 - val_mae: 0.1306\n",
      "Epoch 8/20\n",
      "121/121 [==============================] - 19s 156ms/step - loss: 0.0190 - mae: 0.0778 - val_loss: 0.0286 - val_mae: 0.1322\n",
      "Epoch 9/20\n",
      "121/121 [==============================] - 19s 156ms/step - loss: 0.0189 - mae: 0.0771 - val_loss: 0.0286 - val_mae: 0.1325\n",
      "Epoch 10/20\n",
      "121/121 [==============================] - 19s 156ms/step - loss: 0.0188 - mae: 0.0771 - val_loss: 0.0271 - val_mae: 0.1288\n",
      "Epoch 11/20\n",
      "121/121 [==============================] - 19s 156ms/step - loss: 0.0192 - mae: 0.0785 - val_loss: 0.0275 - val_mae: 0.1299\n",
      "Epoch 12/20\n",
      "121/121 [==============================] - 19s 158ms/step - loss: 0.0189 - mae: 0.0772 - val_loss: 0.0266 - val_mae: 0.1270\n",
      "Epoch 13/20\n",
      "121/121 [==============================] - 19s 156ms/step - loss: 0.0187 - mae: 0.0764 - val_loss: 0.0272 - val_mae: 0.1289\n",
      "Epoch 14/20\n",
      "121/121 [==============================] - 19s 156ms/step - loss: 0.0186 - mae: 0.0763 - val_loss: 0.0277 - val_mae: 0.1290\n",
      "Epoch 15/20\n",
      "121/121 [==============================] - 19s 156ms/step - loss: 0.0186 - mae: 0.0760 - val_loss: 0.0269 - val_mae: 0.1285\n",
      "Epoch 16/20\n",
      "121/121 [==============================] - 19s 156ms/step - loss: 0.0186 - mae: 0.0762 - val_loss: 0.0272 - val_mae: 0.1286\n",
      "Epoch 17/20\n",
      "121/121 [==============================] - 19s 156ms/step - loss: 0.0185 - mae: 0.0759 - val_loss: 0.0273 - val_mae: 0.1292\n",
      "Epoch 18/20\n",
      "121/121 [==============================] - 19s 156ms/step - loss: 0.0184 - mae: 0.0758 - val_loss: 0.0271 - val_mae: 0.1281\n",
      "Epoch 19/20\n",
      "121/121 [==============================] - 19s 156ms/step - loss: 0.0184 - mae: 0.0757 - val_loss: 0.0271 - val_mae: 0.1283\n",
      "Epoch 20/20\n",
      "121/121 [==============================] - 19s 156ms/step - loss: 0.0185 - mae: 0.0761 - val_loss: 0.0269 - val_mae: 0.1282\n"
     ]
    },
    {
     "data": {
      "text/html": [
       "Finishing last run (ID:1irq3csw) before initializing another..."
      ],
      "text/plain": [
       "<IPython.core.display.HTML object>"
      ]
     },
     "metadata": {},
     "output_type": "display_data"
    },
    {
     "data": {
      "text/html": [
       "<br/>Waiting for W&B process to finish, PID 20044<br/>Program ended successfully."
      ],
      "text/plain": [
       "<IPython.core.display.HTML object>"
      ]
     },
     "metadata": {},
     "output_type": "display_data"
    },
    {
     "data": {
      "text/html": [
       "Find user logs for this run at: <code>/home/richard_stana/programing/clanok/code/wandb/run-20210126_133218-1irq3csw/logs/debug.log</code>"
      ],
      "text/plain": [
       "<IPython.core.display.HTML object>"
      ]
     },
     "metadata": {},
     "output_type": "display_data"
    },
    {
     "data": {
      "text/html": [
       "Find internal logs for this run at: <code>/home/richard_stana/programing/clanok/code/wandb/run-20210126_133218-1irq3csw/logs/debug-internal.log</code>"
      ],
      "text/plain": [
       "<IPython.core.display.HTML object>"
      ]
     },
     "metadata": {},
     "output_type": "display_data"
    },
    {
     "data": {
      "text/html": [
       "<h3>Run summary:</h3><br/><style>\n",
       "    table.wandb td:nth-child(1) { padding: 0 10px; text-align: right }\n",
       "    </style><table class=\"wandb\">\n",
       "<tr><td>epoch</td><td>19</td></tr><tr><td>loss</td><td>0.01846</td></tr><tr><td>mae</td><td>0.07607</td></tr><tr><td>val_loss</td><td>0.02687</td></tr><tr><td>val_mae</td><td>0.12817</td></tr><tr><td>_step</td><td>39</td></tr><tr><td>_runtime</td><td>774</td></tr><tr><td>_timestamp</td><td>1611668716</td></tr><tr><td>best_val_loss</td><td>0.0266</td></tr><tr><td>best_epoch</td><td>11</td></tr></table>"
      ],
      "text/plain": [
       "<IPython.core.display.HTML object>"
      ]
     },
     "metadata": {},
     "output_type": "display_data"
    },
    {
     "data": {
      "text/html": [
       "<h3>Run history:</h3><br/><style>\n",
       "    table.wandb td:nth-child(1) { padding: 0 10px; text-align: right }\n",
       "    </style><table class=\"wandb\">\n",
       "<tr><td>epoch</td><td>▁▁▂▂▂▃▃▄▄▄▅▅▅▆▆▇▇▇██▁▁▂▂▂▃▃▄▄▄▅▅▅▆▆▇▇▇██</td></tr><tr><td>loss</td><td>█▆▅▅▄▅▄▄▃▃▄▃▃▂▃▂▂▂▂▂▂▂▂▂▂▂▂▂▂▂▂▂▁▁▁▁▁▁▁▁</td></tr><tr><td>mae</td><td>█▆▆▅▅▆▅▅▄▄▆▅▄▄▅▃▃▄▄▂▄▃▄▃▃▂▃▃▃▃▄▃▂▂▁▂▁▁▁▁</td></tr><tr><td>val_loss</td><td>▅▄▃▅█▃▃▆▃▅▆▃▄█▁▂▃▇▁▆▂▂▂▅▃▂▅▅▅▂▃▁▂▃▂▂▃▂▂▂</td></tr><tr><td>val_mae</td><td>▅▄▄▄█▃▃▅▃▅▄▃▄▇▁▂▄▆▂▅▁▃▃▆▂▃▄▅▅▂▃▁▂▂▂▂▃▂▂▂</td></tr><tr><td>_step</td><td>▁▁▁▂▂▂▂▂▂▃▃▃▃▃▄▄▄▄▄▄▅▅▅▅▅▅▆▆▆▆▆▇▇▇▇▇▇███</td></tr><tr><td>_runtime</td><td>▁▁▁▂▂▂▂▂▂▃▃▃▃▃▄▄▄▄▄▄▅▅▅▅▅▆▆▆▆▆▆▇▇▇▇▇▇███</td></tr><tr><td>_timestamp</td><td>▁▁▁▂▂▂▂▂▂▃▃▃▃▃▄▄▄▄▄▄▅▅▅▅▅▆▆▆▆▆▆▇▇▇▇▇▇███</td></tr></table><br/>"
      ],
      "text/plain": [
       "<IPython.core.display.HTML object>"
      ]
     },
     "metadata": {},
     "output_type": "display_data"
    },
    {
     "data": {
      "text/html": [
       "Synced 5 W&B file(s), 1 media file(s), 0 artifact file(s) and 1 other file(s)"
      ],
      "text/plain": [
       "<IPython.core.display.HTML object>"
      ]
     },
     "metadata": {},
     "output_type": "display_data"
    },
    {
     "data": {
      "text/html": [
       "\n",
       "                    <br/>Synced <strong style=\"color:#cdcd00\">lstm-30m-item752</strong>: <a href=\"https://wandb.ai/kriza/30m-item75/runs/1irq3csw\" target=\"_blank\">https://wandb.ai/kriza/30m-item75/runs/1irq3csw</a><br/>\n",
       "                "
      ],
      "text/plain": [
       "<IPython.core.display.HTML object>"
      ]
     },
     "metadata": {},
     "output_type": "display_data"
    },
    {
     "data": {
      "text/html": [
       "...Successfully finished last run (ID:1irq3csw). Initializing new run:<br/><br/>"
      ],
      "text/plain": [
       "<IPython.core.display.HTML object>"
      ]
     },
     "metadata": {},
     "output_type": "display_data"
    },
    {
     "name": "stderr",
     "output_type": "stream",
     "text": [
      "\u001b[34m\u001b[1mwandb\u001b[0m: wandb version 0.10.15 is available!  To upgrade, please run:\n",
      "\u001b[34m\u001b[1mwandb\u001b[0m:  $ pip install wandb --upgrade\n"
     ]
    },
    {
     "data": {
      "text/html": [
       "\n",
       "                Tracking run with wandb version 0.10.14<br/>\n",
       "                Syncing run <strong style=\"color:#cdcd00\">cnn-30m-item752</strong> to <a href=\"https://wandb.ai\" target=\"_blank\">Weights & Biases</a> <a href=\"https://docs.wandb.com/integrations/jupyter.html\" target=\"_blank\">(Documentation)</a>.<br/>\n",
       "                Project page: <a href=\"https://wandb.ai/kriza/30m-item75\" target=\"_blank\">https://wandb.ai/kriza/30m-item75</a><br/>\n",
       "                Run page: <a href=\"https://wandb.ai/kriza/30m-item75/runs/3ofo5oah\" target=\"_blank\">https://wandb.ai/kriza/30m-item75/runs/3ofo5oah</a><br/>\n",
       "                Run data is saved locally in <code>/home/richard_stana/programing/clanok/code/wandb/run-20210126_134516-3ofo5oah</code><br/><br/>\n",
       "            "
      ],
      "text/plain": [
       "<IPython.core.display.HTML object>"
      ]
     },
     "metadata": {},
     "output_type": "display_data"
    },
    {
     "name": "stdout",
     "output_type": "stream",
     "text": [
      "Epoch 1/20\n",
      "121/121 [==============================] - 3s 26ms/step - loss: 0.0381 - mae: 0.0884 - val_loss: 0.0343 - val_mae: 0.1459\n",
      "Epoch 2/20\n",
      "121/121 [==============================] - 3s 25ms/step - loss: 0.0381 - mae: 0.0883 - val_loss: 0.0343 - val_mae: 0.1459\n",
      "Epoch 3/20\n",
      "121/121 [==============================] - 3s 23ms/step - loss: 0.0381 - mae: 0.0884 - val_loss: 0.0343 - val_mae: 0.1460\n",
      "Epoch 4/20\n",
      "121/121 [==============================] - 3s 25ms/step - loss: 0.0381 - mae: 0.0883 - val_loss: 0.0343 - val_mae: 0.1459\n",
      "Epoch 5/20\n",
      "121/121 [==============================] - 3s 23ms/step - loss: 0.0381 - mae: 0.0884 - val_loss: 0.0343 - val_mae: 0.1462\n",
      "Epoch 6/20\n",
      "121/121 [==============================] - 3s 24ms/step - loss: 0.0381 - mae: 0.0884 - val_loss: 0.0343 - val_mae: 0.1460\n",
      "Epoch 7/20\n",
      "121/121 [==============================] - 3s 23ms/step - loss: 0.0381 - mae: 0.0883 - val_loss: 0.0343 - val_mae: 0.1461\n",
      "Epoch 8/20\n",
      "121/121 [==============================] - 3s 24ms/step - loss: 0.0381 - mae: 0.0883 - val_loss: 0.0343 - val_mae: 0.1460\n",
      "Epoch 9/20\n",
      "121/121 [==============================] - 3s 23ms/step - loss: 0.0381 - mae: 0.0883 - val_loss: 0.0343 - val_mae: 0.1462\n",
      "Epoch 10/20\n",
      "121/121 [==============================] - 3s 23ms/step - loss: 0.0381 - mae: 0.0883 - val_loss: 0.0343 - val_mae: 0.1461\n",
      "Epoch 11/20\n",
      "121/121 [==============================] - 3s 23ms/step - loss: 0.0381 - mae: 0.0883 - val_loss: 0.0343 - val_mae: 0.1462\n",
      "Epoch 12/20\n",
      "121/121 [==============================] - 3s 23ms/step - loss: 0.0381 - mae: 0.0884 - val_loss: 0.0343 - val_mae: 0.1460\n",
      "Epoch 13/20\n",
      "121/121 [==============================] - 3s 23ms/step - loss: 0.0381 - mae: 0.0883 - val_loss: 0.0343 - val_mae: 0.1461\n",
      "Epoch 14/20\n",
      "121/121 [==============================] - 3s 23ms/step - loss: 0.0381 - mae: 0.0883 - val_loss: 0.0343 - val_mae: 0.1460\n",
      "Epoch 15/20\n",
      "121/121 [==============================] - 3s 23ms/step - loss: 0.0381 - mae: 0.0883 - val_loss: 0.0343 - val_mae: 0.1461\n",
      "Epoch 16/20\n",
      "121/121 [==============================] - 3s 23ms/step - loss: 0.0381 - mae: 0.0883 - val_loss: 0.0343 - val_mae: 0.1459\n",
      "Epoch 17/20\n",
      "121/121 [==============================] - 3s 23ms/step - loss: 0.0381 - mae: 0.0883 - val_loss: 0.0343 - val_mae: 0.1460\n",
      "Epoch 18/20\n",
      "121/121 [==============================] - 3s 23ms/step - loss: 0.0381 - mae: 0.0884 - val_loss: 0.0343 - val_mae: 0.1462\n",
      "Epoch 19/20\n",
      "121/121 [==============================] - 3s 23ms/step - loss: 0.0381 - mae: 0.0883 - val_loss: 0.0343 - val_mae: 0.1461\n",
      "Epoch 20/20\n",
      "121/121 [==============================] - 3s 23ms/step - loss: 0.0381 - mae: 0.0883 - val_loss: 0.0343 - val_mae: 0.1460\n",
      "Epoch 1/20\n",
      "121/121 [==============================] - 3s 24ms/step - loss: 0.0381 - mae: 0.0883 - val_loss: 0.0343 - val_mae: 0.1461\n",
      "Epoch 2/20\n",
      "121/121 [==============================] - 3s 24ms/step - loss: 0.0381 - mae: 0.0883 - val_loss: 0.0343 - val_mae: 0.1459\n",
      "Epoch 3/20\n",
      "121/121 [==============================] - 3s 23ms/step - loss: 0.0381 - mae: 0.0883 - val_loss: 0.0343 - val_mae: 0.1461\n",
      "Epoch 4/20\n",
      "121/121 [==============================] - 3s 23ms/step - loss: 0.0381 - mae: 0.0883 - val_loss: 0.0343 - val_mae: 0.1459\n",
      "Epoch 5/20\n",
      "121/121 [==============================] - 3s 23ms/step - loss: 0.0381 - mae: 0.0883 - val_loss: 0.0343 - val_mae: 0.1463\n",
      "Epoch 6/20\n",
      "121/121 [==============================] - 3s 23ms/step - loss: 0.0381 - mae: 0.0883 - val_loss: 0.0343 - val_mae: 0.1459\n",
      "Epoch 7/20\n",
      "121/121 [==============================] - 3s 23ms/step - loss: 0.0381 - mae: 0.0883 - val_loss: 0.0343 - val_mae: 0.1461\n",
      "Epoch 8/20\n",
      "121/121 [==============================] - 3s 23ms/step - loss: 0.0381 - mae: 0.0883 - val_loss: 0.0343 - val_mae: 0.1460\n",
      "Epoch 9/20\n",
      "121/121 [==============================] - 3s 23ms/step - loss: 0.0381 - mae: 0.0883 - val_loss: 0.0343 - val_mae: 0.1459\n",
      "Epoch 10/20\n",
      "121/121 [==============================] - 3s 23ms/step - loss: 0.0381 - mae: 0.0883 - val_loss: 0.0343 - val_mae: 0.1462\n",
      "Epoch 11/20\n",
      "121/121 [==============================] - 3s 23ms/step - loss: 0.0381 - mae: 0.0884 - val_loss: 0.0343 - val_mae: 0.1460\n",
      "Epoch 12/20\n",
      "121/121 [==============================] - 3s 23ms/step - loss: 0.0381 - mae: 0.0883 - val_loss: 0.0343 - val_mae: 0.1461\n",
      "Epoch 13/20\n",
      "121/121 [==============================] - 3s 23ms/step - loss: 0.0381 - mae: 0.0883 - val_loss: 0.0343 - val_mae: 0.1459\n",
      "Epoch 14/20\n",
      "121/121 [==============================] - 3s 23ms/step - loss: 0.0381 - mae: 0.0883 - val_loss: 0.0343 - val_mae: 0.1461\n",
      "Epoch 15/20\n",
      "121/121 [==============================] - 3s 23ms/step - loss: 0.0381 - mae: 0.0883 - val_loss: 0.0343 - val_mae: 0.1460\n",
      "Epoch 16/20\n",
      "121/121 [==============================] - 3s 23ms/step - loss: 0.0381 - mae: 0.0884 - val_loss: 0.0343 - val_mae: 0.1460\n",
      "Epoch 17/20\n",
      "121/121 [==============================] - 3s 23ms/step - loss: 0.0381 - mae: 0.0883 - val_loss: 0.0343 - val_mae: 0.1459\n",
      "Epoch 18/20\n",
      "121/121 [==============================] - 3s 23ms/step - loss: 0.0381 - mae: 0.0884 - val_loss: 0.0343 - val_mae: 0.1462\n",
      "Epoch 19/20\n",
      "121/121 [==============================] - 3s 23ms/step - loss: 0.0381 - mae: 0.0884 - val_loss: 0.0343 - val_mae: 0.1463\n",
      "Epoch 20/20\n",
      "121/121 [==============================] - 3s 24ms/step - loss: 0.0381 - mae: 0.0883 - val_loss: 0.0343 - val_mae: 0.1458\n"
     ]
    },
    {
     "data": {
      "text/html": [
       "Finishing last run (ID:3ofo5oah) before initializing another..."
      ],
      "text/plain": [
       "<IPython.core.display.HTML object>"
      ]
     },
     "metadata": {},
     "output_type": "display_data"
    },
    {
     "data": {
      "text/html": [
       "<br/>Waiting for W&B process to finish, PID 22937<br/>Program ended successfully."
      ],
      "text/plain": [
       "<IPython.core.display.HTML object>"
      ]
     },
     "metadata": {},
     "output_type": "display_data"
    },
    {
     "data": {
      "text/html": [
       "Find user logs for this run at: <code>/home/richard_stana/programing/clanok/code/wandb/run-20210126_134516-3ofo5oah/logs/debug.log</code>"
      ],
      "text/plain": [
       "<IPython.core.display.HTML object>"
      ]
     },
     "metadata": {},
     "output_type": "display_data"
    },
    {
     "data": {
      "text/html": [
       "Find internal logs for this run at: <code>/home/richard_stana/programing/clanok/code/wandb/run-20210126_134516-3ofo5oah/logs/debug-internal.log</code>"
      ],
      "text/plain": [
       "<IPython.core.display.HTML object>"
      ]
     },
     "metadata": {},
     "output_type": "display_data"
    },
    {
     "data": {
      "text/html": [
       "<h3>Run summary:</h3><br/><style>\n",
       "    table.wandb td:nth-child(1) { padding: 0 10px; text-align: right }\n",
       "    </style><table class=\"wandb\">\n",
       "<tr><td>epoch</td><td>19</td></tr><tr><td>loss</td><td>0.03811</td></tr><tr><td>mae</td><td>0.08834</td></tr><tr><td>val_loss</td><td>0.03426</td></tr><tr><td>val_mae</td><td>0.14584</td></tr><tr><td>_step</td><td>39</td></tr><tr><td>_runtime</td><td>120</td></tr><tr><td>_timestamp</td><td>1611668842</td></tr><tr><td>best_val_loss</td><td>0.03425</td></tr><tr><td>best_epoch</td><td>7</td></tr></table>"
      ],
      "text/plain": [
       "<IPython.core.display.HTML object>"
      ]
     },
     "metadata": {},
     "output_type": "display_data"
    },
    {
     "data": {
      "text/html": [
       "<h3>Run history:</h3><br/><style>\n",
       "    table.wandb td:nth-child(1) { padding: 0 10px; text-align: right }\n",
       "    </style><table class=\"wandb\">\n",
       "<tr><td>epoch</td><td>▁▁▂▂▂▃▃▄▄▄▅▅▅▆▆▇▇▇██▁▁▂▂▂▃▃▄▄▄▅▅▅▆▆▇▇▇██</td></tr><tr><td>loss</td><td>█▄▆▁▅▆▄▇▃▄▄▆▃▅▄▄▃▂▅▃▅▅▃▅▄▅▆▃▃▅▇▆▅▃▃▅▆▅▃▂</td></tr><tr><td>mae</td><td>▆▂█▃▇▅▄▅▄▂▃▆▅▂▂▂▃▅▄▃▂▃▄▃▃▃▂▂▁▃█▄▅▁▂▆▅▅▇▅</td></tr><tr><td>val_loss</td><td>▃▂▃▂▃▂█▁▅▃▆▁▅▁▂▁▆▆▃▁▃▃▄▂▆▂▂▁▁▄▃▃▂▂▃▅▃▄▆▃</td></tr><tr><td>val_mae</td><td>▂▂▃▁▆▃▅▃▆▅▇▄▄▃▅▂▃▇▅▄▆▁▅▃▇▂▄▄▃▇▄▅▂▅▃▄▂▇█▁</td></tr><tr><td>_step</td><td>▁▁▁▂▂▂▂▂▂▃▃▃▃▃▄▄▄▄▄▄▅▅▅▅▅▅▆▆▆▆▆▇▇▇▇▇▇███</td></tr><tr><td>_runtime</td><td>▁▁▁▂▂▂▂▂▂▃▃▃▃▃▄▄▄▄▄▄▅▅▅▅▅▆▆▆▆▆▆▇▇▇▇▇▇███</td></tr><tr><td>_timestamp</td><td>▁▁▁▂▂▂▂▂▂▃▃▃▃▃▄▄▄▄▄▄▅▅▅▅▅▆▆▆▆▆▆▇▇▇▇▇▇███</td></tr></table><br/>"
      ],
      "text/plain": [
       "<IPython.core.display.HTML object>"
      ]
     },
     "metadata": {},
     "output_type": "display_data"
    },
    {
     "data": {
      "text/html": [
       "Synced 5 W&B file(s), 1 media file(s), 0 artifact file(s) and 1 other file(s)"
      ],
      "text/plain": [
       "<IPython.core.display.HTML object>"
      ]
     },
     "metadata": {},
     "output_type": "display_data"
    },
    {
     "data": {
      "text/html": [
       "\n",
       "                    <br/>Synced <strong style=\"color:#cdcd00\">cnn-30m-item752</strong>: <a href=\"https://wandb.ai/kriza/30m-item75/runs/3ofo5oah\" target=\"_blank\">https://wandb.ai/kriza/30m-item75/runs/3ofo5oah</a><br/>\n",
       "                "
      ],
      "text/plain": [
       "<IPython.core.display.HTML object>"
      ]
     },
     "metadata": {},
     "output_type": "display_data"
    },
    {
     "data": {
      "text/html": [
       "...Successfully finished last run (ID:3ofo5oah). Initializing new run:<br/><br/>"
      ],
      "text/plain": [
       "<IPython.core.display.HTML object>"
      ]
     },
     "metadata": {},
     "output_type": "display_data"
    },
    {
     "name": "stderr",
     "output_type": "stream",
     "text": [
      "\u001b[34m\u001b[1mwandb\u001b[0m: wandb version 0.10.15 is available!  To upgrade, please run:\n",
      "\u001b[34m\u001b[1mwandb\u001b[0m:  $ pip install wandb --upgrade\n"
     ]
    },
    {
     "data": {
      "text/html": [
       "\n",
       "                Tracking run with wandb version 0.10.14<br/>\n",
       "                Syncing run <strong style=\"color:#cdcd00\">dobra_cnn-30m-item752</strong> to <a href=\"https://wandb.ai\" target=\"_blank\">Weights & Biases</a> <a href=\"https://docs.wandb.com/integrations/jupyter.html\" target=\"_blank\">(Documentation)</a>.<br/>\n",
       "                Project page: <a href=\"https://wandb.ai/kriza/30m-item75\" target=\"_blank\">https://wandb.ai/kriza/30m-item75</a><br/>\n",
       "                Run page: <a href=\"https://wandb.ai/kriza/30m-item75/runs/3d2nwghz\" target=\"_blank\">https://wandb.ai/kriza/30m-item75/runs/3d2nwghz</a><br/>\n",
       "                Run data is saved locally in <code>/home/richard_stana/programing/clanok/code/wandb/run-20210126_134722-3d2nwghz</code><br/><br/>\n",
       "            "
      ],
      "text/plain": [
       "<IPython.core.display.HTML object>"
      ]
     },
     "metadata": {},
     "output_type": "display_data"
    },
    {
     "name": "stdout",
     "output_type": "stream",
     "text": [
      "Epoch 1/20\n",
      "121/121 [==============================] - 1s 12ms/step - loss: 0.0245 - mae: 0.0864 - val_loss: 0.0315 - val_mae: 0.1416\n",
      "Epoch 2/20\n",
      "121/121 [==============================] - 1s 10ms/step - loss: 0.0204 - mae: 0.0798 - val_loss: 0.0327 - val_mae: 0.1434\n",
      "Epoch 3/20\n",
      "121/121 [==============================] - 1s 10ms/step - loss: 0.0190 - mae: 0.0776 - val_loss: 0.0326 - val_mae: 0.1419\n",
      "Epoch 4/20\n",
      "121/121 [==============================] - 1s 10ms/step - loss: 0.0181 - mae: 0.0760 - val_loss: 0.0331 - val_mae: 0.1430\n",
      "Epoch 5/20\n",
      "121/121 [==============================] - 1s 10ms/step - loss: 0.0176 - mae: 0.0746 - val_loss: 0.0362 - val_mae: 0.1499\n",
      "Epoch 6/20\n",
      "121/121 [==============================] - 1s 10ms/step - loss: 0.0171 - mae: 0.0740 - val_loss: 0.0341 - val_mae: 0.1452\n",
      "Epoch 7/20\n",
      "121/121 [==============================] - 1s 10ms/step - loss: 0.0166 - mae: 0.0725 - val_loss: 0.0343 - val_mae: 0.1455\n",
      "Epoch 8/20\n",
      "121/121 [==============================] - 1s 10ms/step - loss: 0.0162 - mae: 0.0715 - val_loss: 0.0368 - val_mae: 0.1504\n",
      "Epoch 9/20\n",
      "121/121 [==============================] - 1s 10ms/step - loss: 0.0159 - mae: 0.0712 - val_loss: 0.0379 - val_mae: 0.1539\n",
      "Epoch 10/20\n",
      "121/121 [==============================] - 1s 10ms/step - loss: 0.0156 - mae: 0.0701 - val_loss: 0.0374 - val_mae: 0.1525\n",
      "Epoch 11/20\n",
      "121/121 [==============================] - 1s 10ms/step - loss: 0.0153 - mae: 0.0692 - val_loss: 0.0354 - val_mae: 0.1480\n",
      "Epoch 12/20\n",
      "121/121 [==============================] - 1s 10ms/step - loss: 0.0147 - mae: 0.0683 - val_loss: 0.0375 - val_mae: 0.1540\n",
      "Epoch 13/20\n",
      "121/121 [==============================] - 1s 10ms/step - loss: 0.0143 - mae: 0.0669 - val_loss: 0.0369 - val_mae: 0.1516\n",
      "Epoch 14/20\n",
      "121/121 [==============================] - 1s 10ms/step - loss: 0.0141 - mae: 0.0663 - val_loss: 0.0414 - val_mae: 0.1630\n",
      "Epoch 15/20\n",
      "121/121 [==============================] - 1s 10ms/step - loss: 0.0138 - mae: 0.0656 - val_loss: 0.0411 - val_mae: 0.1615\n",
      "Epoch 16/20\n",
      "121/121 [==============================] - 1s 10ms/step - loss: 0.0133 - mae: 0.0645 - val_loss: 0.0399 - val_mae: 0.1596\n",
      "Epoch 17/20\n",
      "121/121 [==============================] - 1s 10ms/step - loss: 0.0130 - mae: 0.0640 - val_loss: 0.0416 - val_mae: 0.1618\n",
      "Epoch 18/20\n",
      "121/121 [==============================] - 1s 10ms/step - loss: 0.0129 - mae: 0.0637 - val_loss: 0.0420 - val_mae: 0.1633\n",
      "Epoch 19/20\n",
      "121/121 [==============================] - 1s 10ms/step - loss: 0.0126 - mae: 0.0631 - val_loss: 0.0441 - val_mae: 0.1646\n",
      "Epoch 20/20\n",
      "121/121 [==============================] - 1s 10ms/step - loss: 0.0125 - mae: 0.0622 - val_loss: 0.0419 - val_mae: 0.1630\n",
      "Epoch 1/20\n",
      "121/121 [==============================] - 1s 11ms/step - loss: 0.0123 - mae: 0.0626 - val_loss: 0.0445 - val_mae: 0.1666\n",
      "Epoch 2/20\n",
      "121/121 [==============================] - 1s 11ms/step - loss: 0.0119 - mae: 0.0613 - val_loss: 0.0431 - val_mae: 0.1635\n",
      "Epoch 3/20\n",
      "121/121 [==============================] - 1s 11ms/step - loss: 0.0118 - mae: 0.0604 - val_loss: 0.0500 - val_mae: 0.1762\n",
      "Epoch 4/20\n",
      "121/121 [==============================] - 1s 11ms/step - loss: 0.0116 - mae: 0.0603 - val_loss: 0.0481 - val_mae: 0.1734\n",
      "Epoch 5/20\n",
      "121/121 [==============================] - 1s 10ms/step - loss: 0.0111 - mae: 0.0591 - val_loss: 0.0495 - val_mae: 0.1766\n",
      "Epoch 6/20\n",
      "121/121 [==============================] - 1s 10ms/step - loss: 0.0108 - mae: 0.0580 - val_loss: 0.0559 - val_mae: 0.1878\n",
      "Epoch 7/20\n",
      "121/121 [==============================] - 1s 11ms/step - loss: 0.0107 - mae: 0.0584 - val_loss: 0.0521 - val_mae: 0.1823\n",
      "Epoch 8/20\n",
      "121/121 [==============================] - 1s 11ms/step - loss: 0.0106 - mae: 0.0576 - val_loss: 0.0506 - val_mae: 0.1784\n",
      "Epoch 9/20\n",
      "121/121 [==============================] - 1s 10ms/step - loss: 0.0103 - mae: 0.0572 - val_loss: 0.0506 - val_mae: 0.1794\n",
      "Epoch 10/20\n",
      "121/121 [==============================] - 1s 10ms/step - loss: 0.0101 - mae: 0.0564 - val_loss: 0.0573 - val_mae: 0.1902\n",
      "Epoch 11/20\n",
      "121/121 [==============================] - 1s 10ms/step - loss: 0.0111 - mae: 0.0617 - val_loss: 0.0546 - val_mae: 0.1872\n",
      "Epoch 12/20\n",
      "121/121 [==============================] - 1s 10ms/step - loss: 0.0100 - mae: 0.0567 - val_loss: 0.0553 - val_mae: 0.1880\n",
      "Epoch 13/20\n",
      "121/121 [==============================] - 1s 10ms/step - loss: 0.0098 - mae: 0.0554 - val_loss: 0.0567 - val_mae: 0.1903\n",
      "Epoch 14/20\n",
      "121/121 [==============================] - 1s 10ms/step - loss: 0.0095 - mae: 0.0547 - val_loss: 0.0583 - val_mae: 0.1937\n",
      "Epoch 15/20\n",
      "121/121 [==============================] - 1s 10ms/step - loss: 0.0092 - mae: 0.0537 - val_loss: 0.0552 - val_mae: 0.1879\n",
      "Epoch 16/20\n",
      "121/121 [==============================] - 1s 11ms/step - loss: 0.0094 - mae: 0.0541 - val_loss: 0.0565 - val_mae: 0.1900\n",
      "Epoch 17/20\n",
      "121/121 [==============================] - 1s 10ms/step - loss: 0.0092 - mae: 0.0530 - val_loss: 0.0520 - val_mae: 0.1822\n",
      "Epoch 18/20\n",
      "121/121 [==============================] - 1s 10ms/step - loss: 0.0090 - mae: 0.0527 - val_loss: 0.0566 - val_mae: 0.1901\n",
      "Epoch 19/20\n",
      "121/121 [==============================] - 1s 10ms/step - loss: 0.0090 - mae: 0.0526 - val_loss: 0.0575 - val_mae: 0.1921\n",
      "Epoch 20/20\n",
      "121/121 [==============================] - 1s 10ms/step - loss: 0.0091 - mae: 0.0526 - val_loss: 0.0584 - val_mae: 0.1944\n"
     ]
    },
    {
     "data": {
      "text/html": [
       "Finishing last run (ID:3d2nwghz) before initializing another..."
      ],
      "text/plain": [
       "<IPython.core.display.HTML object>"
      ]
     },
     "metadata": {},
     "output_type": "display_data"
    },
    {
     "data": {
      "text/html": [
       "<br/>Waiting for W&B process to finish, PID 23492<br/>Program ended successfully."
      ],
      "text/plain": [
       "<IPython.core.display.HTML object>"
      ]
     },
     "metadata": {},
     "output_type": "display_data"
    },
    {
     "data": {
      "text/html": [
       "Find user logs for this run at: <code>/home/richard_stana/programing/clanok/code/wandb/run-20210126_134722-3d2nwghz/logs/debug.log</code>"
      ],
      "text/plain": [
       "<IPython.core.display.HTML object>"
      ]
     },
     "metadata": {},
     "output_type": "display_data"
    },
    {
     "data": {
      "text/html": [
       "Find internal logs for this run at: <code>/home/richard_stana/programing/clanok/code/wandb/run-20210126_134722-3d2nwghz/logs/debug-internal.log</code>"
      ],
      "text/plain": [
       "<IPython.core.display.HTML object>"
      ]
     },
     "metadata": {},
     "output_type": "display_data"
    },
    {
     "data": {
      "text/html": [
       "<h3>Run summary:</h3><br/><style>\n",
       "    table.wandb td:nth-child(1) { padding: 0 10px; text-align: right }\n",
       "    </style><table class=\"wandb\">\n",
       "<tr><td>epoch</td><td>19</td></tr><tr><td>loss</td><td>0.00912</td></tr><tr><td>mae</td><td>0.0526</td></tr><tr><td>val_loss</td><td>0.05845</td></tr><tr><td>val_mae</td><td>0.1944</td></tr><tr><td>_step</td><td>39</td></tr><tr><td>_runtime</td><td>56</td></tr><tr><td>_timestamp</td><td>1611668904</td></tr><tr><td>best_val_loss</td><td>0.0315</td></tr><tr><td>best_epoch</td><td>0</td></tr></table>"
      ],
      "text/plain": [
       "<IPython.core.display.HTML object>"
      ]
     },
     "metadata": {},
     "output_type": "display_data"
    },
    {
     "data": {
      "text/html": [
       "<h3>Run history:</h3><br/><style>\n",
       "    table.wandb td:nth-child(1) { padding: 0 10px; text-align: right }\n",
       "    </style><table class=\"wandb\">\n",
       "<tr><td>epoch</td><td>▁▁▂▂▂▃▃▄▄▄▅▅▅▆▆▇▇▇██▁▁▂▂▂▃▃▄▄▄▅▅▅▆▆▇▇▇██</td></tr><tr><td>loss</td><td>█▆▆▅▅▅▄▄▄▄▄▄▃▃▃▃▃▃▃▃▂▂▂▂▂▂▂▂▂▁▂▁▁▁▁▁▁▁▁▁</td></tr><tr><td>mae</td><td>█▇▆▆▆▅▅▅▅▅▄▄▄▄▄▃▃▃▃▃▃▃▃▃▂▂▂▂▂▂▃▂▂▁▁▁▁▁▁▁</td></tr><tr><td>val_loss</td><td>▁▁▁▁▂▂▂▂▃▃▂▃▂▄▃▃▄▄▄▄▄▄▆▅▆▇▆▆▆█▇▇██▇▇▆███</td></tr><tr><td>val_mae</td><td>▁▁▁▁▂▁▂▂▃▂▂▃▂▄▄▃▄▄▄▄▄▄▆▅▆▇▆▆▆▇▇▇▇█▇▇▆▇██</td></tr><tr><td>_step</td><td>▁▁▁▂▂▂▂▂▂▃▃▃▃▃▄▄▄▄▄▄▅▅▅▅▅▅▆▆▆▆▆▇▇▇▇▇▇███</td></tr><tr><td>_runtime</td><td>▁▁▁▂▂▂▂▂▂▃▃▃▃▃▃▄▄▄▄▄▅▅▅▅▅▆▆▆▆▆▆▆▇▇▇▇▇███</td></tr><tr><td>_timestamp</td><td>▁▁▁▂▂▂▂▂▂▃▃▃▃▃▃▄▄▄▄▄▅▅▅▅▅▆▆▆▆▆▆▆▇▇▇▇▇███</td></tr></table><br/>"
      ],
      "text/plain": [
       "<IPython.core.display.HTML object>"
      ]
     },
     "metadata": {},
     "output_type": "display_data"
    },
    {
     "data": {
      "text/html": [
       "Synced 5 W&B file(s), 1 media file(s), 0 artifact file(s) and 1 other file(s)"
      ],
      "text/plain": [
       "<IPython.core.display.HTML object>"
      ]
     },
     "metadata": {},
     "output_type": "display_data"
    },
    {
     "data": {
      "text/html": [
       "\n",
       "                    <br/>Synced <strong style=\"color:#cdcd00\">dobra_cnn-30m-item752</strong>: <a href=\"https://wandb.ai/kriza/30m-item75/runs/3d2nwghz\" target=\"_blank\">https://wandb.ai/kriza/30m-item75/runs/3d2nwghz</a><br/>\n",
       "                "
      ],
      "text/plain": [
       "<IPython.core.display.HTML object>"
      ]
     },
     "metadata": {},
     "output_type": "display_data"
    },
    {
     "data": {
      "text/html": [
       "...Successfully finished last run (ID:3d2nwghz). Initializing new run:<br/><br/>"
      ],
      "text/plain": [
       "<IPython.core.display.HTML object>"
      ]
     },
     "metadata": {},
     "output_type": "display_data"
    },
    {
     "name": "stderr",
     "output_type": "stream",
     "text": [
      "\u001b[34m\u001b[1mwandb\u001b[0m: wandb version 0.10.15 is available!  To upgrade, please run:\n",
      "\u001b[34m\u001b[1mwandb\u001b[0m:  $ pip install wandb --upgrade\n"
     ]
    },
    {
     "data": {
      "text/html": [
       "\n",
       "                Tracking run with wandb version 0.10.14<br/>\n",
       "                Syncing run <strong style=\"color:#cdcd00\">lstm-30m-item762</strong> to <a href=\"https://wandb.ai\" target=\"_blank\">Weights & Biases</a> <a href=\"https://docs.wandb.com/integrations/jupyter.html\" target=\"_blank\">(Documentation)</a>.<br/>\n",
       "                Project page: <a href=\"https://wandb.ai/kriza/30m-item76\" target=\"_blank\">https://wandb.ai/kriza/30m-item76</a><br/>\n",
       "                Run page: <a href=\"https://wandb.ai/kriza/30m-item76/runs/3ozcddag\" target=\"_blank\">https://wandb.ai/kriza/30m-item76/runs/3ozcddag</a><br/>\n",
       "                Run data is saved locally in <code>/home/richard_stana/programing/clanok/code/wandb/run-20210126_134826-3ozcddag</code><br/><br/>\n",
       "            "
      ],
      "text/plain": [
       "<IPython.core.display.HTML object>"
      ]
     },
     "metadata": {},
     "output_type": "display_data"
    },
    {
     "name": "stdout",
     "output_type": "stream",
     "text": [
      "Epoch 1/20\n",
      "121/121 [==============================] - 20s 165ms/step - loss: 0.0161 - mae: 0.0485 - val_loss: 0.0034 - val_mae: 0.0373\n",
      "Epoch 2/20\n",
      "121/121 [==============================] - 19s 159ms/step - loss: 0.0141 - mae: 0.0468 - val_loss: 0.0033 - val_mae: 0.0366\n",
      "Epoch 3/20\n",
      "121/121 [==============================] - 19s 156ms/step - loss: 0.0135 - mae: 0.0467 - val_loss: 0.0034 - val_mae: 0.0373\n",
      "Epoch 4/20\n",
      "121/121 [==============================] - 19s 157ms/step - loss: 0.0136 - mae: 0.0466 - val_loss: 0.0033 - val_mae: 0.0370\n",
      "Epoch 5/20\n",
      "121/121 [==============================] - 19s 156ms/step - loss: 0.0144 - mae: 0.0469 - val_loss: 0.0036 - val_mae: 0.0392\n",
      "Epoch 6/20\n",
      "121/121 [==============================] - 19s 156ms/step - loss: 0.0135 - mae: 0.0462 - val_loss: 0.0036 - val_mae: 0.0387\n",
      "Epoch 7/20\n",
      "121/121 [==============================] - 19s 156ms/step - loss: 0.0136 - mae: 0.0472 - val_loss: 0.0037 - val_mae: 0.0402\n",
      "Epoch 8/20\n",
      "121/121 [==============================] - 19s 156ms/step - loss: 0.0137 - mae: 0.0474 - val_loss: 0.0035 - val_mae: 0.0380\n",
      "Epoch 9/20\n",
      "121/121 [==============================] - 19s 156ms/step - loss: 0.0129 - mae: 0.0464 - val_loss: 0.0037 - val_mae: 0.0402\n",
      "Epoch 10/20\n",
      "121/121 [==============================] - 19s 157ms/step - loss: 0.0128 - mae: 0.0468 - val_loss: 0.0034 - val_mae: 0.0370\n",
      "Epoch 11/20\n",
      "121/121 [==============================] - 19s 156ms/step - loss: 0.0125 - mae: 0.0469 - val_loss: 0.0034 - val_mae: 0.0368\n",
      "Epoch 12/20\n",
      "121/121 [==============================] - 19s 157ms/step - loss: 0.0153 - mae: 0.0477 - val_loss: 0.0035 - val_mae: 0.0382\n",
      "Epoch 13/20\n",
      "121/121 [==============================] - 19s 157ms/step - loss: 0.0247 - mae: 0.0489 - val_loss: 0.0038 - val_mae: 0.0410\n",
      "Epoch 14/20\n",
      "121/121 [==============================] - 19s 157ms/step - loss: 0.0247 - mae: 0.0502 - val_loss: 0.0036 - val_mae: 0.0394\n",
      "Epoch 15/20\n",
      "121/121 [==============================] - 19s 156ms/step - loss: 0.0247 - mae: 0.0492 - val_loss: 0.0066 - val_mae: 0.0625\n",
      "Epoch 16/20\n",
      "121/121 [==============================] - 19s 156ms/step - loss: 0.0250 - mae: 0.0509 - val_loss: 0.0037 - val_mae: 0.0399\n",
      "Epoch 17/20\n",
      "121/121 [==============================] - 19s 156ms/step - loss: 0.0244 - mae: 0.0500 - val_loss: 0.0035 - val_mae: 0.0382\n",
      "Epoch 18/20\n",
      "121/121 [==============================] - 19s 156ms/step - loss: 0.0228 - mae: 0.0498 - val_loss: 0.0059 - val_mae: 0.0567\n",
      "Epoch 19/20\n",
      "121/121 [==============================] - 19s 157ms/step - loss: 0.0184 - mae: 0.0502 - val_loss: 0.0039 - val_mae: 0.0419\n",
      "Epoch 20/20\n",
      "121/121 [==============================] - 19s 157ms/step - loss: 0.0150 - mae: 0.0478 - val_loss: 0.0035 - val_mae: 0.0378\n",
      "Epoch 1/20\n",
      "121/121 [==============================] - 19s 158ms/step - loss: 0.0178 - mae: 0.0494 - val_loss: 0.0035 - val_mae: 0.0382\n",
      "Epoch 2/20\n",
      "121/121 [==============================] - 19s 157ms/step - loss: 0.0135 - mae: 0.0464 - val_loss: 0.0034 - val_mae: 0.0370\n",
      "Epoch 3/20\n",
      "121/121 [==============================] - 19s 157ms/step - loss: 0.0128 - mae: 0.0463 - val_loss: 0.0034 - val_mae: 0.0367\n",
      "Epoch 4/20\n",
      "121/121 [==============================] - 19s 156ms/step - loss: 0.0128 - mae: 0.0462 - val_loss: 0.0034 - val_mae: 0.0368\n",
      "Epoch 5/20\n",
      "121/121 [==============================] - 19s 156ms/step - loss: 0.0127 - mae: 0.0465 - val_loss: 0.0033 - val_mae: 0.0367\n",
      "Epoch 6/20\n",
      "121/121 [==============================] - 19s 156ms/step - loss: 0.0126 - mae: 0.0468 - val_loss: 0.0035 - val_mae: 0.0378\n",
      "Epoch 7/20\n",
      "121/121 [==============================] - 19s 156ms/step - loss: 0.0123 - mae: 0.0466 - val_loss: 0.0033 - val_mae: 0.0370\n",
      "Epoch 8/20\n",
      "121/121 [==============================] - 19s 157ms/step - loss: 0.0123 - mae: 0.0464 - val_loss: 0.0033 - val_mae: 0.0366\n",
      "Epoch 9/20\n",
      "121/121 [==============================] - 19s 156ms/step - loss: 0.0128 - mae: 0.0472 - val_loss: 0.0033 - val_mae: 0.0368\n",
      "Epoch 10/20\n",
      "121/121 [==============================] - 19s 156ms/step - loss: 0.0132 - mae: 0.0469 - val_loss: 0.0034 - val_mae: 0.0373\n",
      "Epoch 11/20\n",
      "121/121 [==============================] - 19s 157ms/step - loss: 0.0126 - mae: 0.0465 - val_loss: 0.0034 - val_mae: 0.0378\n",
      "Epoch 12/20\n",
      "121/121 [==============================] - 19s 156ms/step - loss: 0.0121 - mae: 0.0461 - val_loss: 0.0054 - val_mae: 0.0534\n",
      "Epoch 13/20\n",
      "121/121 [==============================] - 19s 156ms/step - loss: 0.0127 - mae: 0.0488 - val_loss: 0.0034 - val_mae: 0.0368\n",
      "Epoch 14/20\n",
      "121/121 [==============================] - 19s 156ms/step - loss: 0.0125 - mae: 0.0468 - val_loss: 0.0035 - val_mae: 0.0380\n",
      "Epoch 15/20\n",
      "121/121 [==============================] - 19s 156ms/step - loss: 0.0124 - mae: 0.0466 - val_loss: 0.0034 - val_mae: 0.0372\n",
      "Epoch 16/20\n",
      "121/121 [==============================] - 19s 155ms/step - loss: 0.0116 - mae: 0.0454 - val_loss: 0.0036 - val_mae: 0.0385\n",
      "Epoch 17/20\n",
      "121/121 [==============================] - 19s 155ms/step - loss: 0.0115 - mae: 0.0463 - val_loss: 0.0034 - val_mae: 0.0371\n",
      "Epoch 18/20\n",
      "121/121 [==============================] - 19s 156ms/step - loss: 0.0113 - mae: 0.0458 - val_loss: 0.0033 - val_mae: 0.0370\n",
      "Epoch 19/20\n",
      "121/121 [==============================] - 19s 155ms/step - loss: 0.0111 - mae: 0.0459 - val_loss: 0.0035 - val_mae: 0.0386\n",
      "Epoch 20/20\n",
      "121/121 [==============================] - 19s 156ms/step - loss: 0.0113 - mae: 0.0466 - val_loss: 0.0035 - val_mae: 0.0386\n"
     ]
    },
    {
     "data": {
      "text/html": [
       "Finishing last run (ID:3ozcddag) before initializing another..."
      ],
      "text/plain": [
       "<IPython.core.display.HTML object>"
      ]
     },
     "metadata": {},
     "output_type": "display_data"
    },
    {
     "data": {
      "text/html": [
       "<br/>Waiting for W&B process to finish, PID 23842<br/>Program ended successfully."
      ],
      "text/plain": [
       "<IPython.core.display.HTML object>"
      ]
     },
     "metadata": {},
     "output_type": "display_data"
    },
    {
     "data": {
      "text/html": [
       "Find user logs for this run at: <code>/home/richard_stana/programing/clanok/code/wandb/run-20210126_134826-3ozcddag/logs/debug.log</code>"
      ],
      "text/plain": [
       "<IPython.core.display.HTML object>"
      ]
     },
     "metadata": {},
     "output_type": "display_data"
    },
    {
     "data": {
      "text/html": [
       "Find internal logs for this run at: <code>/home/richard_stana/programing/clanok/code/wandb/run-20210126_134826-3ozcddag/logs/debug-internal.log</code>"
      ],
      "text/plain": [
       "<IPython.core.display.HTML object>"
      ]
     },
     "metadata": {},
     "output_type": "display_data"
    },
    {
     "data": {
      "text/html": [
       "<h3>Run summary:</h3><br/><style>\n",
       "    table.wandb td:nth-child(1) { padding: 0 10px; text-align: right }\n",
       "    </style><table class=\"wandb\">\n",
       "<tr><td>epoch</td><td>19</td></tr><tr><td>loss</td><td>0.01134</td></tr><tr><td>mae</td><td>0.04665</td></tr><tr><td>val_loss</td><td>0.00349</td></tr><tr><td>val_mae</td><td>0.03865</td></tr><tr><td>_step</td><td>39</td></tr><tr><td>_runtime</td><td>773</td></tr><tr><td>_timestamp</td><td>1611669684</td></tr><tr><td>best_val_loss</td><td>0.00332</td></tr><tr><td>best_epoch</td><td>1</td></tr></table>"
      ],
      "text/plain": [
       "<IPython.core.display.HTML object>"
      ]
     },
     "metadata": {},
     "output_type": "display_data"
    },
    {
     "data": {
      "text/html": [
       "<h3>Run history:</h3><br/><style>\n",
       "    table.wandb td:nth-child(1) { padding: 0 10px; text-align: right }\n",
       "    </style><table class=\"wandb\">\n",
       "<tr><td>epoch</td><td>▁▁▂▂▂▃▃▄▄▄▅▅▅▆▆▇▇▇██▁▁▂▂▂▃▃▄▄▄▅▅▅▆▆▇▇▇██</td></tr><tr><td>loss</td><td>▄▃▂▂▃▂▂▂▂▂▂▃█████▇▅▃▄▂▂▂▂▂▂▂▂▂▂▂▂▂▂▁▁▁▁▁</td></tr><tr><td>mae</td><td>▅▃▃▃▃▂▃▄▂▃▃▄▅▇▆█▇▇▇▄▆▂▂▂▂▃▃▂▃▃▂▂▅▃▂▁▂▁▂▃</td></tr><tr><td>val_loss</td><td>▁▁▁▁▂▂▂▁▂▁▁▁▂▂█▂▁▆▂▁▁▁▁▁▁▁▁▁▁▁▁▅▁▁▁▂▁▁▁▁</td></tr><tr><td>val_mae</td><td>▁▁▁▁▂▂▂▁▂▁▁▁▂▂█▂▁▆▂▁▁▁▁▁▁▁▁▁▁▁▁▆▁▁▁▂▁▁▂▂</td></tr><tr><td>_step</td><td>▁▁▁▂▂▂▂▂▂▃▃▃▃▃▄▄▄▄▄▄▅▅▅▅▅▅▆▆▆▆▆▇▇▇▇▇▇███</td></tr><tr><td>_runtime</td><td>▁▁▁▂▂▂▂▂▂▃▃▃▃▃▄▄▄▄▄▄▅▅▅▅▅▅▆▆▆▆▆▇▇▇▇▇▇███</td></tr><tr><td>_timestamp</td><td>▁▁▁▂▂▂▂▂▂▃▃▃▃▃▄▄▄▄▄▄▅▅▅▅▅▅▆▆▆▆▆▇▇▇▇▇▇███</td></tr></table><br/>"
      ],
      "text/plain": [
       "<IPython.core.display.HTML object>"
      ]
     },
     "metadata": {},
     "output_type": "display_data"
    },
    {
     "data": {
      "text/html": [
       "Synced 5 W&B file(s), 1 media file(s), 0 artifact file(s) and 1 other file(s)"
      ],
      "text/plain": [
       "<IPython.core.display.HTML object>"
      ]
     },
     "metadata": {},
     "output_type": "display_data"
    },
    {
     "data": {
      "text/html": [
       "\n",
       "                    <br/>Synced <strong style=\"color:#cdcd00\">lstm-30m-item762</strong>: <a href=\"https://wandb.ai/kriza/30m-item76/runs/3ozcddag\" target=\"_blank\">https://wandb.ai/kriza/30m-item76/runs/3ozcddag</a><br/>\n",
       "                "
      ],
      "text/plain": [
       "<IPython.core.display.HTML object>"
      ]
     },
     "metadata": {},
     "output_type": "display_data"
    },
    {
     "data": {
      "text/html": [
       "...Successfully finished last run (ID:3ozcddag). Initializing new run:<br/><br/>"
      ],
      "text/plain": [
       "<IPython.core.display.HTML object>"
      ]
     },
     "metadata": {},
     "output_type": "display_data"
    },
    {
     "name": "stderr",
     "output_type": "stream",
     "text": [
      "\u001b[34m\u001b[1mwandb\u001b[0m: wandb version 0.10.15 is available!  To upgrade, please run:\n",
      "\u001b[34m\u001b[1mwandb\u001b[0m:  $ pip install wandb --upgrade\n"
     ]
    },
    {
     "data": {
      "text/html": [
       "\n",
       "                Tracking run with wandb version 0.10.14<br/>\n",
       "                Syncing run <strong style=\"color:#cdcd00\">cnn-30m-item762</strong> to <a href=\"https://wandb.ai\" target=\"_blank\">Weights & Biases</a> <a href=\"https://docs.wandb.com/integrations/jupyter.html\" target=\"_blank\">(Documentation)</a>.<br/>\n",
       "                Project page: <a href=\"https://wandb.ai/kriza/30m-item76\" target=\"_blank\">https://wandb.ai/kriza/30m-item76</a><br/>\n",
       "                Run page: <a href=\"https://wandb.ai/kriza/30m-item76/runs/euak7z05\" target=\"_blank\">https://wandb.ai/kriza/30m-item76/runs/euak7z05</a><br/>\n",
       "                Run data is saved locally in <code>/home/richard_stana/programing/clanok/code/wandb/run-20210126_140124-euak7z05</code><br/><br/>\n",
       "            "
      ],
      "text/plain": [
       "<IPython.core.display.HTML object>"
      ]
     },
     "metadata": {},
     "output_type": "display_data"
    },
    {
     "name": "stdout",
     "output_type": "stream",
     "text": [
      "Epoch 1/20\n",
      "121/121 [==============================] - 3s 26ms/step - loss: 0.0247 - mae: 0.0474 - val_loss: 0.0033 - val_mae: 0.0367\n",
      "Epoch 2/20\n",
      "121/121 [==============================] - 3s 24ms/step - loss: 0.0247 - mae: 0.0474 - val_loss: 0.0034 - val_mae: 0.0366\n",
      "Epoch 3/20\n",
      "121/121 [==============================] - 3s 24ms/step - loss: 0.0247 - mae: 0.0474 - val_loss: 0.0033 - val_mae: 0.0367\n",
      "Epoch 4/20\n",
      "121/121 [==============================] - 3s 24ms/step - loss: 0.0247 - mae: 0.0474 - val_loss: 0.0033 - val_mae: 0.0367\n",
      "Epoch 5/20\n",
      "121/121 [==============================] - 3s 23ms/step - loss: 0.0247 - mae: 0.0474 - val_loss: 0.0033 - val_mae: 0.0367\n",
      "Epoch 6/20\n",
      "121/121 [==============================] - 3s 23ms/step - loss: 0.0247 - mae: 0.0474 - val_loss: 0.0033 - val_mae: 0.0367\n",
      "Epoch 7/20\n",
      "121/121 [==============================] - 3s 23ms/step - loss: 0.0247 - mae: 0.0475 - val_loss: 0.0033 - val_mae: 0.0367\n",
      "Epoch 8/20\n",
      "121/121 [==============================] - 3s 23ms/step - loss: 0.0247 - mae: 0.0474 - val_loss: 0.0034 - val_mae: 0.0370\n",
      "Epoch 9/20\n",
      "121/121 [==============================] - 3s 23ms/step - loss: 0.0247 - mae: 0.0474 - val_loss: 0.0034 - val_mae: 0.0367\n",
      "Epoch 10/20\n",
      "121/121 [==============================] - 3s 24ms/step - loss: 0.0247 - mae: 0.0474 - val_loss: 0.0033 - val_mae: 0.0367\n",
      "Epoch 11/20\n",
      "121/121 [==============================] - 3s 23ms/step - loss: 0.0247 - mae: 0.0474 - val_loss: 0.0034 - val_mae: 0.0367\n",
      "Epoch 12/20\n",
      "121/121 [==============================] - 3s 23ms/step - loss: 0.0247 - mae: 0.0474 - val_loss: 0.0033 - val_mae: 0.0367\n",
      "Epoch 13/20\n",
      "121/121 [==============================] - 3s 23ms/step - loss: 0.0247 - mae: 0.0474 - val_loss: 0.0034 - val_mae: 0.0369\n",
      "Epoch 14/20\n",
      "121/121 [==============================] - 3s 23ms/step - loss: 0.0247 - mae: 0.0475 - val_loss: 0.0034 - val_mae: 0.0367\n",
      "Epoch 15/20\n",
      "121/121 [==============================] - 3s 23ms/step - loss: 0.0247 - mae: 0.0474 - val_loss: 0.0033 - val_mae: 0.0367\n",
      "Epoch 16/20\n",
      "121/121 [==============================] - 3s 23ms/step - loss: 0.0247 - mae: 0.0474 - val_loss: 0.0034 - val_mae: 0.0367\n",
      "Epoch 17/20\n",
      "121/121 [==============================] - 3s 24ms/step - loss: 0.0247 - mae: 0.0474 - val_loss: 0.0033 - val_mae: 0.0367\n",
      "Epoch 18/20\n",
      "121/121 [==============================] - 3s 23ms/step - loss: 0.0247 - mae: 0.0474 - val_loss: 0.0033 - val_mae: 0.0368\n",
      "Epoch 19/20\n",
      "121/121 [==============================] - 3s 23ms/step - loss: 0.0247 - mae: 0.0474 - val_loss: 0.0033 - val_mae: 0.0368\n",
      "Epoch 20/20\n",
      "121/121 [==============================] - 3s 23ms/step - loss: 0.0247 - mae: 0.0474 - val_loss: 0.0033 - val_mae: 0.0367\n",
      "Epoch 1/20\n",
      "121/121 [==============================] - 3s 24ms/step - loss: 0.0247 - mae: 0.0474 - val_loss: 0.0034 - val_mae: 0.0369\n",
      "Epoch 2/20\n",
      "121/121 [==============================] - 3s 24ms/step - loss: 0.0247 - mae: 0.0474 - val_loss: 0.0034 - val_mae: 0.0367\n",
      "Epoch 3/20\n",
      "121/121 [==============================] - 3s 24ms/step - loss: 0.0247 - mae: 0.0474 - val_loss: 0.0033 - val_mae: 0.0367\n",
      "Epoch 4/20\n",
      "121/121 [==============================] - 3s 24ms/step - loss: 0.0247 - mae: 0.0474 - val_loss: 0.0033 - val_mae: 0.0367\n",
      "Epoch 5/20\n",
      "121/121 [==============================] - 3s 23ms/step - loss: 0.0247 - mae: 0.0474 - val_loss: 0.0033 - val_mae: 0.0367\n",
      "Epoch 6/20\n",
      "121/121 [==============================] - 3s 23ms/step - loss: 0.0247 - mae: 0.0475 - val_loss: 0.0033 - val_mae: 0.0368\n",
      "Epoch 7/20\n",
      "121/121 [==============================] - 3s 24ms/step - loss: 0.0247 - mae: 0.0474 - val_loss: 0.0033 - val_mae: 0.0367\n",
      "Epoch 8/20\n",
      "121/121 [==============================] - 3s 23ms/step - loss: 0.0247 - mae: 0.0474 - val_loss: 0.0033 - val_mae: 0.0368\n",
      "Epoch 9/20\n",
      "121/121 [==============================] - 3s 23ms/step - loss: 0.0247 - mae: 0.0474 - val_loss: 0.0034 - val_mae: 0.0367\n",
      "Epoch 10/20\n",
      "121/121 [==============================] - 3s 23ms/step - loss: 0.0247 - mae: 0.0474 - val_loss: 0.0033 - val_mae: 0.0367\n",
      "Epoch 11/20\n",
      "121/121 [==============================] - 3s 24ms/step - loss: 0.0247 - mae: 0.0474 - val_loss: 0.0033 - val_mae: 0.0367\n",
      "Epoch 12/20\n",
      "121/121 [==============================] - 3s 23ms/step - loss: 0.0247 - mae: 0.0474 - val_loss: 0.0033 - val_mae: 0.0367\n",
      "Epoch 13/20\n",
      "121/121 [==============================] - 3s 23ms/step - loss: 0.0247 - mae: 0.0474 - val_loss: 0.0033 - val_mae: 0.0367\n",
      "Epoch 14/20\n",
      "121/121 [==============================] - 3s 23ms/step - loss: 0.0247 - mae: 0.0475 - val_loss: 0.0034 - val_mae: 0.0368\n",
      "Epoch 15/20\n",
      "121/121 [==============================] - 3s 23ms/step - loss: 0.0247 - mae: 0.0474 - val_loss: 0.0033 - val_mae: 0.0367\n",
      "Epoch 16/20\n",
      "121/121 [==============================] - 3s 23ms/step - loss: 0.0247 - mae: 0.0475 - val_loss: 0.0034 - val_mae: 0.0368\n",
      "Epoch 17/20\n",
      "121/121 [==============================] - 3s 23ms/step - loss: 0.0247 - mae: 0.0474 - val_loss: 0.0033 - val_mae: 0.0367\n",
      "Epoch 18/20\n",
      "121/121 [==============================] - 3s 23ms/step - loss: 0.0247 - mae: 0.0474 - val_loss: 0.0033 - val_mae: 0.0367\n",
      "Epoch 19/20\n",
      "121/121 [==============================] - 3s 23ms/step - loss: 0.0247 - mae: 0.0474 - val_loss: 0.0034 - val_mae: 0.0367\n",
      "Epoch 20/20\n",
      "121/121 [==============================] - 3s 23ms/step - loss: 0.0247 - mae: 0.0474 - val_loss: 0.0033 - val_mae: 0.0367\n"
     ]
    },
    {
     "data": {
      "text/html": [
       "Finishing last run (ID:euak7z05) before initializing another..."
      ],
      "text/plain": [
       "<IPython.core.display.HTML object>"
      ]
     },
     "metadata": {},
     "output_type": "display_data"
    },
    {
     "data": {
      "text/html": [
       "<br/>Waiting for W&B process to finish, PID 26797<br/>Program ended successfully."
      ],
      "text/plain": [
       "<IPython.core.display.HTML object>"
      ]
     },
     "metadata": {},
     "output_type": "display_data"
    },
    {
     "data": {
      "text/html": [
       "Find user logs for this run at: <code>/home/richard_stana/programing/clanok/code/wandb/run-20210126_140124-euak7z05/logs/debug.log</code>"
      ],
      "text/plain": [
       "<IPython.core.display.HTML object>"
      ]
     },
     "metadata": {},
     "output_type": "display_data"
    },
    {
     "data": {
      "text/html": [
       "Find internal logs for this run at: <code>/home/richard_stana/programing/clanok/code/wandb/run-20210126_140124-euak7z05/logs/debug-internal.log</code>"
      ],
      "text/plain": [
       "<IPython.core.display.HTML object>"
      ]
     },
     "metadata": {},
     "output_type": "display_data"
    },
    {
     "data": {
      "text/html": [
       "<h3>Run summary:</h3><br/><style>\n",
       "    table.wandb td:nth-child(1) { padding: 0 10px; text-align: right }\n",
       "    </style><table class=\"wandb\">\n",
       "<tr><td>epoch</td><td>19</td></tr><tr><td>loss</td><td>0.02469</td></tr><tr><td>mae</td><td>0.04741</td></tr><tr><td>val_loss</td><td>0.00334</td></tr><tr><td>val_mae</td><td>0.03669</td></tr><tr><td>_step</td><td>39</td></tr><tr><td>_runtime</td><td>120</td></tr><tr><td>_timestamp</td><td>1611669811</td></tr><tr><td>best_val_loss</td><td>0.00334</td></tr><tr><td>best_epoch</td><td>6</td></tr></table>"
      ],
      "text/plain": [
       "<IPython.core.display.HTML object>"
      ]
     },
     "metadata": {},
     "output_type": "display_data"
    },
    {
     "data": {
      "text/html": [
       "<h3>Run history:</h3><br/><style>\n",
       "    table.wandb td:nth-child(1) { padding: 0 10px; text-align: right }\n",
       "    </style><table class=\"wandb\">\n",
       "<tr><td>epoch</td><td>▁▁▂▂▂▃▃▄▄▄▅▅▅▆▆▇▇▇██▁▁▂▂▂▃▃▄▄▄▅▅▅▆▆▇▇▇██</td></tr><tr><td>loss</td><td>▄█▄▃▃▃▄▁▃▃▃▅▃▂▄▄▄▃▆▄▄▁▅▄▅▅▄▃▃▂▄▃▃▄▇▁▅▂▄▆</td></tr><tr><td>mae</td><td>▅▅▂▂▁▂▇▂▆▁▃▂▁▇▂▃▆▃▃▂▂▅▄▂▅█▂▂▃▃▁▃▃▇▃▇▅▁▃▄</td></tr><tr><td>val_loss</td><td>▂▄▂▂▃▃▃▇▆▂▆▃▇▄▂▄▁▂▂▁▇█▃▂▁▂▁▃▇▁▃▁▂▆▃▆▂▂▄▁</td></tr><tr><td>val_mae</td><td>▃▁▂▁▃▂▂█▂▂▂▃█▁▁▂▃▅▃▃▇▃▂▁▂▅▃▄▂▃▁▃▁▄▃▅▂▁▁▂</td></tr><tr><td>_step</td><td>▁▁▁▂▂▂▂▂▂▃▃▃▃▃▄▄▄▄▄▄▅▅▅▅▅▅▆▆▆▆▆▇▇▇▇▇▇███</td></tr><tr><td>_runtime</td><td>▁▁▁▂▂▂▂▂▂▃▃▃▃▃▄▄▄▄▄▄▅▅▅▅▅▆▆▆▆▆▆▇▇▇▇▇████</td></tr><tr><td>_timestamp</td><td>▁▁▁▂▂▂▂▂▂▃▃▃▃▃▄▄▄▄▄▄▅▅▅▅▅▆▆▆▆▆▆▇▇▇▇▇████</td></tr></table><br/>"
      ],
      "text/plain": [
       "<IPython.core.display.HTML object>"
      ]
     },
     "metadata": {},
     "output_type": "display_data"
    },
    {
     "data": {
      "text/html": [
       "Synced 5 W&B file(s), 1 media file(s), 0 artifact file(s) and 1 other file(s)"
      ],
      "text/plain": [
       "<IPython.core.display.HTML object>"
      ]
     },
     "metadata": {},
     "output_type": "display_data"
    },
    {
     "data": {
      "text/html": [
       "\n",
       "                    <br/>Synced <strong style=\"color:#cdcd00\">cnn-30m-item762</strong>: <a href=\"https://wandb.ai/kriza/30m-item76/runs/euak7z05\" target=\"_blank\">https://wandb.ai/kriza/30m-item76/runs/euak7z05</a><br/>\n",
       "                "
      ],
      "text/plain": [
       "<IPython.core.display.HTML object>"
      ]
     },
     "metadata": {},
     "output_type": "display_data"
    },
    {
     "data": {
      "text/html": [
       "...Successfully finished last run (ID:euak7z05). Initializing new run:<br/><br/>"
      ],
      "text/plain": [
       "<IPython.core.display.HTML object>"
      ]
     },
     "metadata": {},
     "output_type": "display_data"
    },
    {
     "name": "stderr",
     "output_type": "stream",
     "text": [
      "\u001b[34m\u001b[1mwandb\u001b[0m: wandb version 0.10.15 is available!  To upgrade, please run:\n",
      "\u001b[34m\u001b[1mwandb\u001b[0m:  $ pip install wandb --upgrade\n"
     ]
    },
    {
     "data": {
      "text/html": [
       "\n",
       "                Tracking run with wandb version 0.10.14<br/>\n",
       "                Syncing run <strong style=\"color:#cdcd00\">dobra_cnn-30m-item762</strong> to <a href=\"https://wandb.ai\" target=\"_blank\">Weights & Biases</a> <a href=\"https://docs.wandb.com/integrations/jupyter.html\" target=\"_blank\">(Documentation)</a>.<br/>\n",
       "                Project page: <a href=\"https://wandb.ai/kriza/30m-item76\" target=\"_blank\">https://wandb.ai/kriza/30m-item76</a><br/>\n",
       "                Run page: <a href=\"https://wandb.ai/kriza/30m-item76/runs/1ssfto9s\" target=\"_blank\">https://wandb.ai/kriza/30m-item76/runs/1ssfto9s</a><br/>\n",
       "                Run data is saved locally in <code>/home/richard_stana/programing/clanok/code/wandb/run-20210126_140331-1ssfto9s</code><br/><br/>\n",
       "            "
      ],
      "text/plain": [
       "<IPython.core.display.HTML object>"
      ]
     },
     "metadata": {},
     "output_type": "display_data"
    },
    {
     "name": "stdout",
     "output_type": "stream",
     "text": [
      "Epoch 1/20\n",
      "121/121 [==============================] - 1s 12ms/step - loss: 0.0147 - mae: 0.0543 - val_loss: 0.0040 - val_mae: 0.0409\n",
      "Epoch 2/20\n",
      "121/121 [==============================] - 1s 11ms/step - loss: 0.0121 - mae: 0.0481 - val_loss: 0.0037 - val_mae: 0.0389\n",
      "Epoch 3/20\n",
      "121/121 [==============================] - 1s 11ms/step - loss: 0.0117 - mae: 0.0476 - val_loss: 0.0035 - val_mae: 0.0380\n",
      "Epoch 4/20\n",
      "121/121 [==============================] - 1s 10ms/step - loss: 0.0109 - mae: 0.0466 - val_loss: 0.0036 - val_mae: 0.0383\n",
      "Epoch 5/20\n",
      "121/121 [==============================] - 1s 10ms/step - loss: 0.0099 - mae: 0.0459 - val_loss: 0.0036 - val_mae: 0.0387\n",
      "Epoch 6/20\n",
      "121/121 [==============================] - 1s 10ms/step - loss: 0.0096 - mae: 0.0458 - val_loss: 0.0036 - val_mae: 0.0390\n",
      "Epoch 7/20\n",
      "121/121 [==============================] - 1s 10ms/step - loss: 0.0090 - mae: 0.0454 - val_loss: 0.0037 - val_mae: 0.0393\n",
      "Epoch 8/20\n",
      "121/121 [==============================] - 1s 11ms/step - loss: 0.0094 - mae: 0.0457 - val_loss: 0.0035 - val_mae: 0.0374\n",
      "Epoch 9/20\n",
      "121/121 [==============================] - 1s 10ms/step - loss: 0.0086 - mae: 0.0448 - val_loss: 0.0036 - val_mae: 0.0379\n",
      "Epoch 10/20\n",
      "121/121 [==============================] - 1s 10ms/step - loss: 0.0082 - mae: 0.0443 - val_loss: 0.0036 - val_mae: 0.0385\n",
      "Epoch 11/20\n",
      "121/121 [==============================] - 1s 10ms/step - loss: 0.0078 - mae: 0.0435 - val_loss: 0.0036 - val_mae: 0.0397\n",
      "Epoch 12/20\n",
      "121/121 [==============================] - 1s 10ms/step - loss: 0.0076 - mae: 0.0432 - val_loss: 0.0036 - val_mae: 0.0393\n",
      "Epoch 13/20\n",
      "121/121 [==============================] - 1s 10ms/step - loss: 0.0077 - mae: 0.0431 - val_loss: 0.0036 - val_mae: 0.0389\n",
      "Epoch 14/20\n",
      "121/121 [==============================] - 1s 10ms/step - loss: 0.0075 - mae: 0.0427 - val_loss: 0.0036 - val_mae: 0.0386\n",
      "Epoch 15/20\n",
      "121/121 [==============================] - 1s 10ms/step - loss: 0.0073 - mae: 0.0422 - val_loss: 0.0035 - val_mae: 0.0380\n",
      "Epoch 16/20\n",
      "121/121 [==============================] - 1s 10ms/step - loss: 0.0073 - mae: 0.0422 - val_loss: 0.0037 - val_mae: 0.0400\n",
      "Epoch 17/20\n",
      "121/121 [==============================] - 1s 10ms/step - loss: 0.0076 - mae: 0.0426 - val_loss: 0.0037 - val_mae: 0.0389\n",
      "Epoch 18/20\n",
      "121/121 [==============================] - 1s 10ms/step - loss: 0.0079 - mae: 0.0432 - val_loss: 0.0035 - val_mae: 0.0382\n",
      "Epoch 19/20\n",
      "121/121 [==============================] - 1s 10ms/step - loss: 0.0073 - mae: 0.0419 - val_loss: 0.0035 - val_mae: 0.0386\n",
      "Epoch 20/20\n",
      "121/121 [==============================] - 1s 10ms/step - loss: 0.0072 - mae: 0.0414 - val_loss: 0.0037 - val_mae: 0.0401\n",
      "Epoch 1/20\n",
      "121/121 [==============================] - 1s 11ms/step - loss: 0.0071 - mae: 0.0409 - val_loss: 0.0037 - val_mae: 0.0400\n",
      "Epoch 2/20\n",
      "121/121 [==============================] - 1s 11ms/step - loss: 0.0071 - mae: 0.0413 - val_loss: 0.0036 - val_mae: 0.0394\n",
      "Epoch 3/20\n",
      "121/121 [==============================] - 1s 10ms/step - loss: 0.0071 - mae: 0.0409 - val_loss: 0.0036 - val_mae: 0.0393\n",
      "Epoch 4/20\n",
      "121/121 [==============================] - 1s 10ms/step - loss: 0.0069 - mae: 0.0403 - val_loss: 0.0038 - val_mae: 0.0400\n",
      "Epoch 5/20\n",
      "121/121 [==============================] - 1s 10ms/step - loss: 0.0069 - mae: 0.0405 - val_loss: 0.0039 - val_mae: 0.0410\n",
      "Epoch 6/20\n",
      "121/121 [==============================] - 1s 11ms/step - loss: 0.0069 - mae: 0.0402 - val_loss: 0.0036 - val_mae: 0.0385\n",
      "Epoch 7/20\n",
      "121/121 [==============================] - 1s 10ms/step - loss: 0.0069 - mae: 0.0397 - val_loss: 0.0038 - val_mae: 0.0412\n",
      "Epoch 8/20\n",
      "121/121 [==============================] - 1s 10ms/step - loss: 0.0067 - mae: 0.0395 - val_loss: 0.0036 - val_mae: 0.0385\n",
      "Epoch 9/20\n",
      "121/121 [==============================] - 1s 10ms/step - loss: 0.0067 - mae: 0.0394 - val_loss: 0.0036 - val_mae: 0.0390\n",
      "Epoch 10/20\n",
      "121/121 [==============================] - 1s 10ms/step - loss: 0.0068 - mae: 0.0397 - val_loss: 0.0038 - val_mae: 0.0398\n",
      "Epoch 11/20\n",
      "121/121 [==============================] - 1s 10ms/step - loss: 0.0068 - mae: 0.0398 - val_loss: 0.0037 - val_mae: 0.0393\n",
      "Epoch 12/20\n",
      "121/121 [==============================] - 1s 10ms/step - loss: 0.0068 - mae: 0.0396 - val_loss: 0.0036 - val_mae: 0.0386\n",
      "Epoch 13/20\n",
      "121/121 [==============================] - 1s 10ms/step - loss: 0.0070 - mae: 0.0399 - val_loss: 0.0036 - val_mae: 0.0385\n",
      "Epoch 14/20\n",
      "121/121 [==============================] - 1s 10ms/step - loss: 0.0070 - mae: 0.0397 - val_loss: 0.0037 - val_mae: 0.0390\n",
      "Epoch 15/20\n",
      "121/121 [==============================] - 1s 10ms/step - loss: 0.0072 - mae: 0.0397 - val_loss: 0.0037 - val_mae: 0.0392\n",
      "Epoch 16/20\n",
      "121/121 [==============================] - 1s 10ms/step - loss: 0.0069 - mae: 0.0393 - val_loss: 0.0037 - val_mae: 0.0394\n",
      "Epoch 17/20\n",
      "121/121 [==============================] - 1s 10ms/step - loss: 0.0068 - mae: 0.0391 - val_loss: 0.0036 - val_mae: 0.0389\n",
      "Epoch 18/20\n",
      "121/121 [==============================] - 1s 10ms/step - loss: 0.0066 - mae: 0.0382 - val_loss: 0.0038 - val_mae: 0.0397\n",
      "Epoch 19/20\n",
      "121/121 [==============================] - 1s 10ms/step - loss: 0.0067 - mae: 0.0393 - val_loss: 0.0040 - val_mae: 0.0414\n",
      "Epoch 20/20\n",
      "121/121 [==============================] - 1s 11ms/step - loss: 0.0068 - mae: 0.0393 - val_loss: 0.0036 - val_mae: 0.0383\n"
     ]
    },
    {
     "data": {
      "text/html": [
       "Finishing last run (ID:1ssfto9s) before initializing another..."
      ],
      "text/plain": [
       "<IPython.core.display.HTML object>"
      ]
     },
     "metadata": {},
     "output_type": "display_data"
    },
    {
     "data": {
      "text/html": [
       "<br/>Waiting for W&B process to finish, PID 27357<br/>Program ended successfully."
      ],
      "text/plain": [
       "<IPython.core.display.HTML object>"
      ]
     },
     "metadata": {},
     "output_type": "display_data"
    },
    {
     "data": {
      "text/html": [
       "Find user logs for this run at: <code>/home/richard_stana/programing/clanok/code/wandb/run-20210126_140331-1ssfto9s/logs/debug.log</code>"
      ],
      "text/plain": [
       "<IPython.core.display.HTML object>"
      ]
     },
     "metadata": {},
     "output_type": "display_data"
    },
    {
     "data": {
      "text/html": [
       "Find internal logs for this run at: <code>/home/richard_stana/programing/clanok/code/wandb/run-20210126_140331-1ssfto9s/logs/debug-internal.log</code>"
      ],
      "text/plain": [
       "<IPython.core.display.HTML object>"
      ]
     },
     "metadata": {},
     "output_type": "display_data"
    },
    {
     "data": {
      "text/html": [
       "<h3>Run summary:</h3><br/><style>\n",
       "    table.wandb td:nth-child(1) { padding: 0 10px; text-align: right }\n",
       "    </style><table class=\"wandb\">\n",
       "<tr><td>epoch</td><td>19</td></tr><tr><td>loss</td><td>0.00676</td></tr><tr><td>mae</td><td>0.03933</td></tr><tr><td>val_loss</td><td>0.00358</td></tr><tr><td>val_mae</td><td>0.03827</td></tr><tr><td>_step</td><td>39</td></tr><tr><td>_runtime</td><td>55</td></tr><tr><td>_timestamp</td><td>1611669872</td></tr><tr><td>best_val_loss</td><td>0.00347</td></tr><tr><td>best_epoch</td><td>7</td></tr></table>"
      ],
      "text/plain": [
       "<IPython.core.display.HTML object>"
      ]
     },
     "metadata": {},
     "output_type": "display_data"
    },
    {
     "data": {
      "text/html": [
       "<h3>Run history:</h3><br/><style>\n",
       "    table.wandb td:nth-child(1) { padding: 0 10px; text-align: right }\n",
       "    </style><table class=\"wandb\">\n",
       "<tr><td>epoch</td><td>▁▁▂▂▂▃▃▄▄▄▅▅▅▆▆▇▇▇██▁▁▂▂▂▃▃▄▄▄▅▅▅▆▆▇▇▇██</td></tr><tr><td>loss</td><td>█▆▅▅▄▄▃▃▃▂▂▂▂▂▂▂▂▂▂▁▁▁▁▁▁▁▁▁▁▁▁▁▁▁▂▁▁▁▁▁</td></tr><tr><td>mae</td><td>█▅▅▅▄▄▄▄▄▄▃▃▃▃▃▃▃▃▃▂▂▂▂▂▂▂▂▂▂▂▂▂▂▂▂▂▁▁▁▂</td></tr><tr><td>val_loss</td><td>█▃▂▂▃▃▄▁▂▃▃▃▃▃▁▃▄▂▂▄▅▃▃▅▇▃▅▃▃▅▄▃▃▄▄▄▃▅█▂</td></tr><tr><td>val_mae</td><td>▇▄▂▃▃▄▄▁▂▃▅▄▄▃▂▅▄▂▃▆▆▅▄▅▇▃█▃▄▅▄▃▃▄▄▄▄▅█▂</td></tr><tr><td>_step</td><td>▁▁▁▂▂▂▂▂▂▃▃▃▃▃▄▄▄▄▄▄▅▅▅▅▅▅▆▆▆▆▆▇▇▇▇▇▇███</td></tr><tr><td>_runtime</td><td>▁▁▁▂▂▂▂▂▃▃▃▃▃▃▄▄▄▄▄▄▅▅▅▅▅▆▆▆▆▆▆▇▇▇▇▇▇███</td></tr><tr><td>_timestamp</td><td>▁▁▁▂▂▂▂▂▃▃▃▃▃▃▄▄▄▄▄▄▅▅▅▅▅▆▆▆▆▆▆▇▇▇▇▇▇███</td></tr></table><br/>"
      ],
      "text/plain": [
       "<IPython.core.display.HTML object>"
      ]
     },
     "metadata": {},
     "output_type": "display_data"
    },
    {
     "data": {
      "text/html": [
       "Synced 5 W&B file(s), 1 media file(s), 0 artifact file(s) and 1 other file(s)"
      ],
      "text/plain": [
       "<IPython.core.display.HTML object>"
      ]
     },
     "metadata": {},
     "output_type": "display_data"
    },
    {
     "data": {
      "text/html": [
       "\n",
       "                    <br/>Synced <strong style=\"color:#cdcd00\">dobra_cnn-30m-item762</strong>: <a href=\"https://wandb.ai/kriza/30m-item76/runs/1ssfto9s\" target=\"_blank\">https://wandb.ai/kriza/30m-item76/runs/1ssfto9s</a><br/>\n",
       "                "
      ],
      "text/plain": [
       "<IPython.core.display.HTML object>"
      ]
     },
     "metadata": {},
     "output_type": "display_data"
    },
    {
     "data": {
      "text/html": [
       "...Successfully finished last run (ID:1ssfto9s). Initializing new run:<br/><br/>"
      ],
      "text/plain": [
       "<IPython.core.display.HTML object>"
      ]
     },
     "metadata": {},
     "output_type": "display_data"
    },
    {
     "name": "stderr",
     "output_type": "stream",
     "text": [
      "\u001b[34m\u001b[1mwandb\u001b[0m: wandb version 0.10.15 is available!  To upgrade, please run:\n",
      "\u001b[34m\u001b[1mwandb\u001b[0m:  $ pip install wandb --upgrade\n"
     ]
    },
    {
     "data": {
      "text/html": [
       "\n",
       "                Tracking run with wandb version 0.10.14<br/>\n",
       "                Syncing run <strong style=\"color:#cdcd00\">lstm-30m-item772</strong> to <a href=\"https://wandb.ai\" target=\"_blank\">Weights & Biases</a> <a href=\"https://docs.wandb.com/integrations/jupyter.html\" target=\"_blank\">(Documentation)</a>.<br/>\n",
       "                Project page: <a href=\"https://wandb.ai/kriza/30m-item77\" target=\"_blank\">https://wandb.ai/kriza/30m-item77</a><br/>\n",
       "                Run page: <a href=\"https://wandb.ai/kriza/30m-item77/runs/1gfh7j0l\" target=\"_blank\">https://wandb.ai/kriza/30m-item77/runs/1gfh7j0l</a><br/>\n",
       "                Run data is saved locally in <code>/home/richard_stana/programing/clanok/code/wandb/run-20210126_140433-1gfh7j0l</code><br/><br/>\n",
       "            "
      ],
      "text/plain": [
       "<IPython.core.display.HTML object>"
      ]
     },
     "metadata": {},
     "output_type": "display_data"
    },
    {
     "name": "stdout",
     "output_type": "stream",
     "text": [
      "Epoch 1/20\n",
      "121/121 [==============================] - 20s 166ms/step - loss: 0.0439 - mae: 0.1293 - val_loss: 0.0444 - val_mae: 0.1635\n",
      "Epoch 2/20\n",
      "121/121 [==============================] - 19s 159ms/step - loss: 0.0427 - mae: 0.1285 - val_loss: 0.0443 - val_mae: 0.1627\n",
      "Epoch 3/20\n",
      "121/121 [==============================] - 19s 159ms/step - loss: 0.0416 - mae: 0.1272 - val_loss: 0.0440 - val_mae: 0.1627\n",
      "Epoch 4/20\n",
      "121/121 [==============================] - 19s 159ms/step - loss: 0.0411 - mae: 0.1270 - val_loss: 0.0435 - val_mae: 0.1617\n",
      "Epoch 5/20\n",
      "121/121 [==============================] - 19s 156ms/step - loss: 0.0413 - mae: 0.1270 - val_loss: 0.0443 - val_mae: 0.1637\n",
      "Epoch 6/20\n",
      "121/121 [==============================] - 19s 156ms/step - loss: 0.0410 - mae: 0.1274 - val_loss: 0.0438 - val_mae: 0.1627\n",
      "Epoch 7/20\n",
      "121/121 [==============================] - 19s 156ms/step - loss: 0.0405 - mae: 0.1268 - val_loss: 0.0440 - val_mae: 0.1628\n",
      "Epoch 8/20\n",
      "121/121 [==============================] - 19s 156ms/step - loss: 0.0407 - mae: 0.1277 - val_loss: 0.0448 - val_mae: 0.1654\n",
      "Epoch 9/20\n",
      "121/121 [==============================] - 19s 156ms/step - loss: 0.0443 - mae: 0.1282 - val_loss: 0.0437 - val_mae: 0.1623\n",
      "Epoch 10/20\n",
      "121/121 [==============================] - 19s 157ms/step - loss: 0.0495 - mae: 0.1290 - val_loss: 0.0434 - val_mae: 0.1623\n",
      "Epoch 11/20\n",
      "121/121 [==============================] - 19s 156ms/step - loss: 0.0415 - mae: 0.1274 - val_loss: 0.0437 - val_mae: 0.1623\n",
      "Epoch 12/20\n",
      " 46/121 [==========>...................] - ETA: 11s - loss: 0.0411 - mae: 0.1267"
     ]
    }
   ],
   "source": [
    "for i in items:\n",
    "    actual_item = i\n",
    "    train_x, train_y = predspracovanie.create_x_y(train_df[actual_item], n_inputs, n_outputs)\n",
    "    train_x1, train_y1 = predspracovanie.create_x_y(train1_df[actual_item], n_inputs, n_outputs)\n",
    "    val_x, val_y = predspracovanie.create_x_y(val_df[actual_item], n_inputs, n_outputs)\n",
    "\n",
    "    compile_and_fit(actual_item, model_lstm, \"lstm-\" + actual_item, train_x = train_x, train_y = train_y, train_x1 = train_x1, train_y1 = train_y1, val_x = val_x, val_y = val_y, compile=True, epochs=20)\n",
    "    compile_and_fit(actual_item, model_cnn, \"cnn-\" + actual_item, train_x = train_x, train_y = train_y, train_x1 = train_x1, train_y1 = train_y1, val_x = val_x, val_y = val_y, compile=True, epochs=20)\n",
    "    compile_and_fit(actual_item, dobra_model_cnn, \"dobra_cnn-\" + actual_item, train_x = train_x, train_y = train_y, train_x1 = train_x1, train_y1 = train_y1, val_x = val_x, val_y = val_y, compile=True, epochs=20)\n",
    "\n",
    "#     compile_and_fit(actual_item, down_up_model_cnn, \"down_up_cnn-\" + actual_item, train_x = train_x, train_y = train_y, train_x1 = train_x1, train_y1 = train_y1, val_x = val_x, val_y = val_y, compile=True, epochs=20)\n",
    "#     compile_and_fit(actual_item, by_lstm_model, \"by_lstm-\" + actual_item, train_x = train_x, train_y = train_y, train_x1 = train_x1, train_y1 = train_y1, val_x = val_x, val_y = val_y, compile=True, epochs=20)\n",
    "#     compile_and_fit(actual_item, gru_model, \"gru-\" + actual_item, train_x = train_x, train_y = train_y, train_x1 = train_x1, train_y1 = train_y1, val_x = val_x, val_y = val_y, compile=True, epochs=20)\n",
    "#     compile_and_fit(actual_item, model_e1d1, \"e1d1-\" + actual_item, train_x = train_x, train_y = train_y, train_x1 = train_x1, train_y1 = train_y1, val_x = val_x, val_y = val_y, compile=True, epochs=20)\n",
    "#     compile_and_fit(actual_item, model_dense, \"dense-\" + actual_item, train_x = train_x, train_y = train_y, train_x1 = train_x1, train_y1 = train_y1, val_x = val_x, val_y = val_y, compile=True, epochs=20)\n"
   ]
  },
  {
   "cell_type": "code",
   "execution_count": null,
   "metadata": {},
   "outputs": [],
   "source": []
  },
  {
   "cell_type": "code",
   "execution_count": null,
   "metadata": {},
   "outputs": [],
   "source": []
  },
  {
   "cell_type": "code",
   "execution_count": null,
   "metadata": {},
   "outputs": [],
   "source": []
  },
  {
   "cell_type": "code",
   "execution_count": null,
   "metadata": {},
   "outputs": [],
   "source": []
  },
  {
   "cell_type": "code",
   "execution_count": null,
   "metadata": {},
   "outputs": [],
   "source": []
  },
  {
   "cell_type": "code",
   "execution_count": null,
   "metadata": {},
   "outputs": [],
   "source": []
  },
  {
   "cell_type": "code",
   "execution_count": null,
   "metadata": {},
   "outputs": [],
   "source": []
  }
 ],
 "metadata": {
  "kernelspec": {
   "display_name": "pipTF2.3-gpu",
   "language": "python",
   "name": "piptf2.3-gpu"
  },
  "language_info": {
   "codemirror_mode": {
    "name": "ipython",
    "version": 3
   },
   "file_extension": ".py",
   "mimetype": "text/x-python",
   "name": "python",
   "nbconvert_exporter": "python",
   "pygments_lexer": "ipython3",
   "version": "3.7.9"
  }
 },
 "nbformat": 4,
 "nbformat_minor": 4
}
